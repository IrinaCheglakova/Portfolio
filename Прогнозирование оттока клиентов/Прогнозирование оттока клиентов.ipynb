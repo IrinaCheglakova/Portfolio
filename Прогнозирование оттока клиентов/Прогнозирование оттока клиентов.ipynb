{
 "cells": [
  {
   "cell_type": "markdown",
   "id": "0c8013d9",
   "metadata": {},
   "source": [
    "# Прогнозирование оттока клиентов"
   ]
  },
  {
   "cell_type": "markdown",
   "id": "7534d05c",
   "metadata": {},
   "source": [
    "Оператор связи «Ниединогоразрыва.ком» хочет научиться прогнозировать отток клиентов. Если выяснится, что пользователь планирует уйти, ему будут предложены промокоды и специальные условия. Команда оператора собрала персональные данные о некоторых клиентах, информацию об их тарифах и договорах. Цель работы - необходимо предсказать, уйдёт ли клиент.\n",
    "Для этого выполним следующие шаги:\n",
    "1. Предобработка данных\n",
    "\n",
    "   1.1. Импорт библиотек\n",
    "   \n",
    "   1.2. Загрузка датасетов\n",
    "   \n",
    "   1.3. Предварительный анализ данных\n",
    "   \n",
    "   1.4. Обработка данных\n",
    "\n",
    "   1.5. Разделение на выборки\n",
    "   \n",
    "   1.6. Стандартизация численных признаков\n",
    "   \n",
    "   1.7. Кодирование категориальных признаков\n",
    "   \n",
    "\n",
    "2. Исследовательский анализ данных\n",
    "\n",
    "   2.1. Исследование баланса классов\n",
    "   \n",
    "   2.2. Изучение распределения признаков\n",
    "   \n",
    "   2.3. Исследование корреляции признаков\n",
    "   \n",
    "\n",
    "3. Обучение моделей\n",
    "\n",
    "   3.1. Light GBM\n",
    "   \n",
    "   3.2. Cat Boost\n",
    "\n",
    "   3.3. Random Forest\n",
    "\n",
    "   3.4. Logistic Regression\n",
    "   \n",
    "   3.5. Изучение важности признаков\n",
    "   \n",
    "   \n",
    "4. Тестирование модели\n",
    "\n",
    "\n",
    "5. Вывод"
   ]
  },
  {
   "cell_type": "markdown",
   "id": "05e428fe",
   "metadata": {},
   "source": [
    "## Предобработка данных"
   ]
  },
  {
   "cell_type": "markdown",
   "id": "744af7c7",
   "metadata": {},
   "source": [
    "### Импорт библиотек"
   ]
  },
  {
   "cell_type": "code",
   "execution_count": 1,
   "id": "fdf116b9",
   "metadata": {
    "scrolled": true
   },
   "outputs": [],
   "source": [
    "#!pip install phik\n",
    "#!pip install scikit-learn\n",
    "#!pip install matplotlib\n",
    "#!pip install seaborn\n",
    "import os\n",
    "import pandas as pd\n",
    "\n",
    "from sklearn.model_selection import train_test_split, GridSearchCV, RandomizedSearchCV, cross_val_score\n",
    "from sklearn.preprocessing import OrdinalEncoder, OneHotEncoder\n",
    "from sklearn.preprocessing import StandardScaler\n",
    "from sklearn.compose import make_column_transformer\n",
    "from sklearn.pipeline import make_pipeline\n",
    "from sklearn.metrics import roc_auc_score, roc_curve, auc\n",
    "from sklearn.ensemble import RandomForestClassifier\n",
    "from sklearn.linear_model import LogisticRegression\n",
    "import lightgbm as lgb\n",
    "from catboost import CatBoostClassifier\n",
    "import matplotlib.pyplot as plt\n",
    "import numpy as np\n",
    "import seaborn as sns\n",
    "import time\n",
    "import phik\n",
    "from phik.report import plot_correlation_matrix\n",
    "from phik import report\n",
    "from tqdm import tqdm"
   ]
  },
  {
   "cell_type": "code",
   "execution_count": 2,
   "id": "39d1c438",
   "metadata": {
    "scrolled": false
   },
   "outputs": [],
   "source": [
    "RANDOM_STATE = 80523"
   ]
  },
  {
   "cell_type": "markdown",
   "id": "91b4c56c",
   "metadata": {},
   "source": [
    "### Загрузка датасетов"
   ]
  },
  {
   "cell_type": "code",
   "execution_count": 3,
   "id": "7f9f452f",
   "metadata": {
    "scrolled": false
   },
   "outputs": [],
   "source": [
    "def import_df(pth1, pth2):\n",
    "\n",
    "    if os.path.exists(pth1):\n",
    "        df = pd.read_csv(pth1)\n",
    "    elif os.path.exists(pth2):\n",
    "        df = pd.read_csv(pth2)\n",
    "    else:\n",
    "        print('Something is wrong')\n",
    "    return df"
   ]
  },
  {
   "cell_type": "code",
   "execution_count": 4,
   "id": "3a8234b8",
   "metadata": {
    "scrolled": false
   },
   "outputs": [],
   "source": [
    "contract = import_df('contract_new.csv', '/datasets/contract_new.csv')\n",
    "personal = import_df('personal_new.csv', '/datasets/personal_new.csv')\n",
    "internet = import_df('internet_new.csv', '/datasets/internet_new.csv')\n",
    "phone = import_df('phone_new.csv', '/datasets/phone_new.csv')"
   ]
  },
  {
   "cell_type": "markdown",
   "id": "83a31b0e",
   "metadata": {},
   "source": [
    "### Предварительный анализ данных"
   ]
  },
  {
   "cell_type": "code",
   "execution_count": 5,
   "id": "333d9cc1",
   "metadata": {
    "scrolled": false
   },
   "outputs": [],
   "source": [
    "df_list = [contract, personal, internet, phone]\n",
    "df_names = ['contract', 'personal', 'internet', 'phone']"
   ]
  },
  {
   "cell_type": "code",
   "execution_count": 6,
   "id": "fbeab3e0",
   "metadata": {
    "scrolled": true
   },
   "outputs": [
    {
     "name": "stdout",
     "output_type": "stream",
     "text": [
      "contract\n",
      "\n",
      "Размер датафрейма:\n"
     ]
    },
    {
     "data": {
      "text/plain": [
       "(7043, 8)"
      ]
     },
     "metadata": {},
     "output_type": "display_data"
    },
    {
     "name": "stdout",
     "output_type": "stream",
     "text": [
      "<class 'pandas.core.frame.DataFrame'>\n",
      "RangeIndex: 7043 entries, 0 to 7042\n",
      "Data columns (total 8 columns):\n",
      " #   Column            Non-Null Count  Dtype  \n",
      "---  ------            --------------  -----  \n",
      " 0   customerID        7043 non-null   object \n",
      " 1   BeginDate         7043 non-null   object \n",
      " 2   EndDate           7043 non-null   object \n",
      " 3   Type              7043 non-null   object \n",
      " 4   PaperlessBilling  7043 non-null   object \n",
      " 5   PaymentMethod     7043 non-null   object \n",
      " 6   MonthlyCharges    7043 non-null   float64\n",
      " 7   TotalCharges      7043 non-null   object \n",
      "dtypes: float64(1), object(7)\n",
      "memory usage: 440.3+ KB\n"
     ]
    },
    {
     "data": {
      "text/plain": [
       "None"
      ]
     },
     "metadata": {},
     "output_type": "display_data"
    },
    {
     "data": {
      "text/html": [
       "<div>\n",
       "<style scoped>\n",
       "    .dataframe tbody tr th:only-of-type {\n",
       "        vertical-align: middle;\n",
       "    }\n",
       "\n",
       "    .dataframe tbody tr th {\n",
       "        vertical-align: top;\n",
       "    }\n",
       "\n",
       "    .dataframe thead th {\n",
       "        text-align: right;\n",
       "    }\n",
       "</style>\n",
       "<table border=\"1\" class=\"dataframe\">\n",
       "  <thead>\n",
       "    <tr style=\"text-align: right;\">\n",
       "      <th></th>\n",
       "      <th>customerID</th>\n",
       "      <th>BeginDate</th>\n",
       "      <th>EndDate</th>\n",
       "      <th>Type</th>\n",
       "      <th>PaperlessBilling</th>\n",
       "      <th>PaymentMethod</th>\n",
       "      <th>MonthlyCharges</th>\n",
       "      <th>TotalCharges</th>\n",
       "    </tr>\n",
       "  </thead>\n",
       "  <tbody>\n",
       "    <tr>\n",
       "      <th>0</th>\n",
       "      <td>7590-VHVEG</td>\n",
       "      <td>2020-01-01</td>\n",
       "      <td>No</td>\n",
       "      <td>Month-to-month</td>\n",
       "      <td>Yes</td>\n",
       "      <td>Electronic check</td>\n",
       "      <td>29.85</td>\n",
       "      <td>31.04</td>\n",
       "    </tr>\n",
       "    <tr>\n",
       "      <th>1</th>\n",
       "      <td>5575-GNVDE</td>\n",
       "      <td>2017-04-01</td>\n",
       "      <td>No</td>\n",
       "      <td>One year</td>\n",
       "      <td>No</td>\n",
       "      <td>Mailed check</td>\n",
       "      <td>56.95</td>\n",
       "      <td>2071.84</td>\n",
       "    </tr>\n",
       "    <tr>\n",
       "      <th>2</th>\n",
       "      <td>3668-QPYBK</td>\n",
       "      <td>2019-10-01</td>\n",
       "      <td>No</td>\n",
       "      <td>Month-to-month</td>\n",
       "      <td>Yes</td>\n",
       "      <td>Mailed check</td>\n",
       "      <td>53.85</td>\n",
       "      <td>226.17</td>\n",
       "    </tr>\n",
       "    <tr>\n",
       "      <th>3</th>\n",
       "      <td>7795-CFOCW</td>\n",
       "      <td>2016-05-01</td>\n",
       "      <td>No</td>\n",
       "      <td>One year</td>\n",
       "      <td>No</td>\n",
       "      <td>Bank transfer (automatic)</td>\n",
       "      <td>42.30</td>\n",
       "      <td>1960.6</td>\n",
       "    </tr>\n",
       "    <tr>\n",
       "      <th>4</th>\n",
       "      <td>9237-HQITU</td>\n",
       "      <td>2019-09-01</td>\n",
       "      <td>No</td>\n",
       "      <td>Month-to-month</td>\n",
       "      <td>Yes</td>\n",
       "      <td>Electronic check</td>\n",
       "      <td>70.70</td>\n",
       "      <td>353.5</td>\n",
       "    </tr>\n",
       "  </tbody>\n",
       "</table>\n",
       "</div>"
      ],
      "text/plain": [
       "   customerID   BeginDate EndDate            Type PaperlessBilling  \\\n",
       "0  7590-VHVEG  2020-01-01      No  Month-to-month              Yes   \n",
       "1  5575-GNVDE  2017-04-01      No        One year               No   \n",
       "2  3668-QPYBK  2019-10-01      No  Month-to-month              Yes   \n",
       "3  7795-CFOCW  2016-05-01      No        One year               No   \n",
       "4  9237-HQITU  2019-09-01      No  Month-to-month              Yes   \n",
       "\n",
       "               PaymentMethod  MonthlyCharges TotalCharges  \n",
       "0           Electronic check           29.85        31.04  \n",
       "1               Mailed check           56.95      2071.84  \n",
       "2               Mailed check           53.85       226.17  \n",
       "3  Bank transfer (automatic)           42.30       1960.6  \n",
       "4           Electronic check           70.70        353.5  "
      ]
     },
     "metadata": {},
     "output_type": "display_data"
    },
    {
     "data": {
      "text/html": [
       "<div>\n",
       "<style scoped>\n",
       "    .dataframe tbody tr th:only-of-type {\n",
       "        vertical-align: middle;\n",
       "    }\n",
       "\n",
       "    .dataframe tbody tr th {\n",
       "        vertical-align: top;\n",
       "    }\n",
       "\n",
       "    .dataframe thead th {\n",
       "        text-align: right;\n",
       "    }\n",
       "</style>\n",
       "<table border=\"1\" class=\"dataframe\">\n",
       "  <thead>\n",
       "    <tr style=\"text-align: right;\">\n",
       "      <th></th>\n",
       "      <th>MonthlyCharges</th>\n",
       "    </tr>\n",
       "  </thead>\n",
       "  <tbody>\n",
       "    <tr>\n",
       "      <th>count</th>\n",
       "      <td>7043.000000</td>\n",
       "    </tr>\n",
       "    <tr>\n",
       "      <th>mean</th>\n",
       "      <td>64.761692</td>\n",
       "    </tr>\n",
       "    <tr>\n",
       "      <th>std</th>\n",
       "      <td>30.090047</td>\n",
       "    </tr>\n",
       "    <tr>\n",
       "      <th>min</th>\n",
       "      <td>18.250000</td>\n",
       "    </tr>\n",
       "    <tr>\n",
       "      <th>25%</th>\n",
       "      <td>35.500000</td>\n",
       "    </tr>\n",
       "    <tr>\n",
       "      <th>50%</th>\n",
       "      <td>70.350000</td>\n",
       "    </tr>\n",
       "    <tr>\n",
       "      <th>75%</th>\n",
       "      <td>89.850000</td>\n",
       "    </tr>\n",
       "    <tr>\n",
       "      <th>max</th>\n",
       "      <td>118.750000</td>\n",
       "    </tr>\n",
       "  </tbody>\n",
       "</table>\n",
       "</div>"
      ],
      "text/plain": [
       "       MonthlyCharges\n",
       "count     7043.000000\n",
       "mean        64.761692\n",
       "std         30.090047\n",
       "min         18.250000\n",
       "25%         35.500000\n",
       "50%         70.350000\n",
       "75%         89.850000\n",
       "max        118.750000"
      ]
     },
     "metadata": {},
     "output_type": "display_data"
    },
    {
     "name": "stdout",
     "output_type": "stream",
     "text": [
      "Количество пропусков:\n",
      "customerID          0\n",
      "BeginDate           0\n",
      "EndDate             0\n",
      "Type                0\n",
      "PaperlessBilling    0\n",
      "PaymentMethod       0\n",
      "MonthlyCharges      0\n",
      "TotalCharges        0\n",
      "dtype: int64\n",
      "Количество дубликатов: 0\n",
      "\n",
      "personal\n",
      "\n",
      "Размер датафрейма:\n"
     ]
    },
    {
     "data": {
      "text/plain": [
       "(7043, 5)"
      ]
     },
     "metadata": {},
     "output_type": "display_data"
    },
    {
     "name": "stdout",
     "output_type": "stream",
     "text": [
      "<class 'pandas.core.frame.DataFrame'>\n",
      "RangeIndex: 7043 entries, 0 to 7042\n",
      "Data columns (total 5 columns):\n",
      " #   Column         Non-Null Count  Dtype \n",
      "---  ------         --------------  ----- \n",
      " 0   customerID     7043 non-null   object\n",
      " 1   gender         7043 non-null   object\n",
      " 2   SeniorCitizen  7043 non-null   int64 \n",
      " 3   Partner        7043 non-null   object\n",
      " 4   Dependents     7043 non-null   object\n",
      "dtypes: int64(1), object(4)\n",
      "memory usage: 275.2+ KB\n"
     ]
    },
    {
     "data": {
      "text/plain": [
       "None"
      ]
     },
     "metadata": {},
     "output_type": "display_data"
    },
    {
     "data": {
      "text/html": [
       "<div>\n",
       "<style scoped>\n",
       "    .dataframe tbody tr th:only-of-type {\n",
       "        vertical-align: middle;\n",
       "    }\n",
       "\n",
       "    .dataframe tbody tr th {\n",
       "        vertical-align: top;\n",
       "    }\n",
       "\n",
       "    .dataframe thead th {\n",
       "        text-align: right;\n",
       "    }\n",
       "</style>\n",
       "<table border=\"1\" class=\"dataframe\">\n",
       "  <thead>\n",
       "    <tr style=\"text-align: right;\">\n",
       "      <th></th>\n",
       "      <th>customerID</th>\n",
       "      <th>gender</th>\n",
       "      <th>SeniorCitizen</th>\n",
       "      <th>Partner</th>\n",
       "      <th>Dependents</th>\n",
       "    </tr>\n",
       "  </thead>\n",
       "  <tbody>\n",
       "    <tr>\n",
       "      <th>0</th>\n",
       "      <td>7590-VHVEG</td>\n",
       "      <td>Female</td>\n",
       "      <td>0</td>\n",
       "      <td>Yes</td>\n",
       "      <td>No</td>\n",
       "    </tr>\n",
       "    <tr>\n",
       "      <th>1</th>\n",
       "      <td>5575-GNVDE</td>\n",
       "      <td>Male</td>\n",
       "      <td>0</td>\n",
       "      <td>No</td>\n",
       "      <td>No</td>\n",
       "    </tr>\n",
       "    <tr>\n",
       "      <th>2</th>\n",
       "      <td>3668-QPYBK</td>\n",
       "      <td>Male</td>\n",
       "      <td>0</td>\n",
       "      <td>No</td>\n",
       "      <td>No</td>\n",
       "    </tr>\n",
       "    <tr>\n",
       "      <th>3</th>\n",
       "      <td>7795-CFOCW</td>\n",
       "      <td>Male</td>\n",
       "      <td>0</td>\n",
       "      <td>No</td>\n",
       "      <td>No</td>\n",
       "    </tr>\n",
       "    <tr>\n",
       "      <th>4</th>\n",
       "      <td>9237-HQITU</td>\n",
       "      <td>Female</td>\n",
       "      <td>0</td>\n",
       "      <td>No</td>\n",
       "      <td>No</td>\n",
       "    </tr>\n",
       "  </tbody>\n",
       "</table>\n",
       "</div>"
      ],
      "text/plain": [
       "   customerID  gender  SeniorCitizen Partner Dependents\n",
       "0  7590-VHVEG  Female              0     Yes         No\n",
       "1  5575-GNVDE    Male              0      No         No\n",
       "2  3668-QPYBK    Male              0      No         No\n",
       "3  7795-CFOCW    Male              0      No         No\n",
       "4  9237-HQITU  Female              0      No         No"
      ]
     },
     "metadata": {},
     "output_type": "display_data"
    },
    {
     "data": {
      "text/html": [
       "<div>\n",
       "<style scoped>\n",
       "    .dataframe tbody tr th:only-of-type {\n",
       "        vertical-align: middle;\n",
       "    }\n",
       "\n",
       "    .dataframe tbody tr th {\n",
       "        vertical-align: top;\n",
       "    }\n",
       "\n",
       "    .dataframe thead th {\n",
       "        text-align: right;\n",
       "    }\n",
       "</style>\n",
       "<table border=\"1\" class=\"dataframe\">\n",
       "  <thead>\n",
       "    <tr style=\"text-align: right;\">\n",
       "      <th></th>\n",
       "      <th>SeniorCitizen</th>\n",
       "    </tr>\n",
       "  </thead>\n",
       "  <tbody>\n",
       "    <tr>\n",
       "      <th>count</th>\n",
       "      <td>7043.000000</td>\n",
       "    </tr>\n",
       "    <tr>\n",
       "      <th>mean</th>\n",
       "      <td>0.162147</td>\n",
       "    </tr>\n",
       "    <tr>\n",
       "      <th>std</th>\n",
       "      <td>0.368612</td>\n",
       "    </tr>\n",
       "    <tr>\n",
       "      <th>min</th>\n",
       "      <td>0.000000</td>\n",
       "    </tr>\n",
       "    <tr>\n",
       "      <th>25%</th>\n",
       "      <td>0.000000</td>\n",
       "    </tr>\n",
       "    <tr>\n",
       "      <th>50%</th>\n",
       "      <td>0.000000</td>\n",
       "    </tr>\n",
       "    <tr>\n",
       "      <th>75%</th>\n",
       "      <td>0.000000</td>\n",
       "    </tr>\n",
       "    <tr>\n",
       "      <th>max</th>\n",
       "      <td>1.000000</td>\n",
       "    </tr>\n",
       "  </tbody>\n",
       "</table>\n",
       "</div>"
      ],
      "text/plain": [
       "       SeniorCitizen\n",
       "count    7043.000000\n",
       "mean        0.162147\n",
       "std         0.368612\n",
       "min         0.000000\n",
       "25%         0.000000\n",
       "50%         0.000000\n",
       "75%         0.000000\n",
       "max         1.000000"
      ]
     },
     "metadata": {},
     "output_type": "display_data"
    },
    {
     "name": "stdout",
     "output_type": "stream",
     "text": [
      "Количество пропусков:\n",
      "customerID       0\n",
      "gender           0\n",
      "SeniorCitizen    0\n",
      "Partner          0\n",
      "Dependents       0\n",
      "dtype: int64\n",
      "Количество дубликатов: 0\n",
      "\n",
      "internet\n",
      "\n",
      "Размер датафрейма:\n"
     ]
    },
    {
     "data": {
      "text/plain": [
       "(5517, 8)"
      ]
     },
     "metadata": {},
     "output_type": "display_data"
    },
    {
     "name": "stdout",
     "output_type": "stream",
     "text": [
      "<class 'pandas.core.frame.DataFrame'>\n",
      "RangeIndex: 5517 entries, 0 to 5516\n",
      "Data columns (total 8 columns):\n",
      " #   Column            Non-Null Count  Dtype \n",
      "---  ------            --------------  ----- \n",
      " 0   customerID        5517 non-null   object\n",
      " 1   InternetService   5517 non-null   object\n",
      " 2   OnlineSecurity    5517 non-null   object\n",
      " 3   OnlineBackup      5517 non-null   object\n",
      " 4   DeviceProtection  5517 non-null   object\n",
      " 5   TechSupport       5517 non-null   object\n",
      " 6   StreamingTV       5517 non-null   object\n",
      " 7   StreamingMovies   5517 non-null   object\n",
      "dtypes: object(8)\n",
      "memory usage: 344.9+ KB\n"
     ]
    },
    {
     "data": {
      "text/plain": [
       "None"
      ]
     },
     "metadata": {},
     "output_type": "display_data"
    },
    {
     "data": {
      "text/html": [
       "<div>\n",
       "<style scoped>\n",
       "    .dataframe tbody tr th:only-of-type {\n",
       "        vertical-align: middle;\n",
       "    }\n",
       "\n",
       "    .dataframe tbody tr th {\n",
       "        vertical-align: top;\n",
       "    }\n",
       "\n",
       "    .dataframe thead th {\n",
       "        text-align: right;\n",
       "    }\n",
       "</style>\n",
       "<table border=\"1\" class=\"dataframe\">\n",
       "  <thead>\n",
       "    <tr style=\"text-align: right;\">\n",
       "      <th></th>\n",
       "      <th>customerID</th>\n",
       "      <th>InternetService</th>\n",
       "      <th>OnlineSecurity</th>\n",
       "      <th>OnlineBackup</th>\n",
       "      <th>DeviceProtection</th>\n",
       "      <th>TechSupport</th>\n",
       "      <th>StreamingTV</th>\n",
       "      <th>StreamingMovies</th>\n",
       "    </tr>\n",
       "  </thead>\n",
       "  <tbody>\n",
       "    <tr>\n",
       "      <th>0</th>\n",
       "      <td>7590-VHVEG</td>\n",
       "      <td>DSL</td>\n",
       "      <td>No</td>\n",
       "      <td>Yes</td>\n",
       "      <td>No</td>\n",
       "      <td>No</td>\n",
       "      <td>No</td>\n",
       "      <td>No</td>\n",
       "    </tr>\n",
       "    <tr>\n",
       "      <th>1</th>\n",
       "      <td>5575-GNVDE</td>\n",
       "      <td>DSL</td>\n",
       "      <td>Yes</td>\n",
       "      <td>No</td>\n",
       "      <td>Yes</td>\n",
       "      <td>No</td>\n",
       "      <td>No</td>\n",
       "      <td>No</td>\n",
       "    </tr>\n",
       "    <tr>\n",
       "      <th>2</th>\n",
       "      <td>3668-QPYBK</td>\n",
       "      <td>DSL</td>\n",
       "      <td>Yes</td>\n",
       "      <td>Yes</td>\n",
       "      <td>No</td>\n",
       "      <td>No</td>\n",
       "      <td>No</td>\n",
       "      <td>No</td>\n",
       "    </tr>\n",
       "    <tr>\n",
       "      <th>3</th>\n",
       "      <td>7795-CFOCW</td>\n",
       "      <td>DSL</td>\n",
       "      <td>Yes</td>\n",
       "      <td>No</td>\n",
       "      <td>Yes</td>\n",
       "      <td>Yes</td>\n",
       "      <td>No</td>\n",
       "      <td>No</td>\n",
       "    </tr>\n",
       "    <tr>\n",
       "      <th>4</th>\n",
       "      <td>9237-HQITU</td>\n",
       "      <td>Fiber optic</td>\n",
       "      <td>No</td>\n",
       "      <td>No</td>\n",
       "      <td>No</td>\n",
       "      <td>No</td>\n",
       "      <td>No</td>\n",
       "      <td>No</td>\n",
       "    </tr>\n",
       "  </tbody>\n",
       "</table>\n",
       "</div>"
      ],
      "text/plain": [
       "   customerID InternetService OnlineSecurity OnlineBackup DeviceProtection  \\\n",
       "0  7590-VHVEG             DSL             No          Yes               No   \n",
       "1  5575-GNVDE             DSL            Yes           No              Yes   \n",
       "2  3668-QPYBK             DSL            Yes          Yes               No   \n",
       "3  7795-CFOCW             DSL            Yes           No              Yes   \n",
       "4  9237-HQITU     Fiber optic             No           No               No   \n",
       "\n",
       "  TechSupport StreamingTV StreamingMovies  \n",
       "0          No          No              No  \n",
       "1          No          No              No  \n",
       "2          No          No              No  \n",
       "3         Yes          No              No  \n",
       "4          No          No              No  "
      ]
     },
     "metadata": {},
     "output_type": "display_data"
    },
    {
     "data": {
      "text/html": [
       "<div>\n",
       "<style scoped>\n",
       "    .dataframe tbody tr th:only-of-type {\n",
       "        vertical-align: middle;\n",
       "    }\n",
       "\n",
       "    .dataframe tbody tr th {\n",
       "        vertical-align: top;\n",
       "    }\n",
       "\n",
       "    .dataframe thead th {\n",
       "        text-align: right;\n",
       "    }\n",
       "</style>\n",
       "<table border=\"1\" class=\"dataframe\">\n",
       "  <thead>\n",
       "    <tr style=\"text-align: right;\">\n",
       "      <th></th>\n",
       "      <th>customerID</th>\n",
       "      <th>InternetService</th>\n",
       "      <th>OnlineSecurity</th>\n",
       "      <th>OnlineBackup</th>\n",
       "      <th>DeviceProtection</th>\n",
       "      <th>TechSupport</th>\n",
       "      <th>StreamingTV</th>\n",
       "      <th>StreamingMovies</th>\n",
       "    </tr>\n",
       "  </thead>\n",
       "  <tbody>\n",
       "    <tr>\n",
       "      <th>count</th>\n",
       "      <td>5517</td>\n",
       "      <td>5517</td>\n",
       "      <td>5517</td>\n",
       "      <td>5517</td>\n",
       "      <td>5517</td>\n",
       "      <td>5517</td>\n",
       "      <td>5517</td>\n",
       "      <td>5517</td>\n",
       "    </tr>\n",
       "    <tr>\n",
       "      <th>unique</th>\n",
       "      <td>5517</td>\n",
       "      <td>2</td>\n",
       "      <td>2</td>\n",
       "      <td>2</td>\n",
       "      <td>2</td>\n",
       "      <td>2</td>\n",
       "      <td>2</td>\n",
       "      <td>2</td>\n",
       "    </tr>\n",
       "    <tr>\n",
       "      <th>top</th>\n",
       "      <td>7590-VHVEG</td>\n",
       "      <td>Fiber optic</td>\n",
       "      <td>No</td>\n",
       "      <td>No</td>\n",
       "      <td>No</td>\n",
       "      <td>No</td>\n",
       "      <td>No</td>\n",
       "      <td>No</td>\n",
       "    </tr>\n",
       "    <tr>\n",
       "      <th>freq</th>\n",
       "      <td>1</td>\n",
       "      <td>3096</td>\n",
       "      <td>3498</td>\n",
       "      <td>3088</td>\n",
       "      <td>3095</td>\n",
       "      <td>3473</td>\n",
       "      <td>2810</td>\n",
       "      <td>2785</td>\n",
       "    </tr>\n",
       "  </tbody>\n",
       "</table>\n",
       "</div>"
      ],
      "text/plain": [
       "        customerID InternetService OnlineSecurity OnlineBackup  \\\n",
       "count         5517            5517           5517         5517   \n",
       "unique        5517               2              2            2   \n",
       "top     7590-VHVEG     Fiber optic             No           No   \n",
       "freq             1            3096           3498         3088   \n",
       "\n",
       "       DeviceProtection TechSupport StreamingTV StreamingMovies  \n",
       "count              5517        5517        5517            5517  \n",
       "unique                2           2           2               2  \n",
       "top                  No          No          No              No  \n",
       "freq               3095        3473        2810            2785  "
      ]
     },
     "metadata": {},
     "output_type": "display_data"
    },
    {
     "name": "stdout",
     "output_type": "stream",
     "text": [
      "Количество пропусков:\n",
      "customerID          0\n",
      "InternetService     0\n",
      "OnlineSecurity      0\n",
      "OnlineBackup        0\n",
      "DeviceProtection    0\n",
      "TechSupport         0\n",
      "StreamingTV         0\n",
      "StreamingMovies     0\n",
      "dtype: int64\n",
      "Количество дубликатов: 0\n",
      "\n",
      "phone\n",
      "\n",
      "Размер датафрейма:\n"
     ]
    },
    {
     "data": {
      "text/plain": [
       "(6361, 2)"
      ]
     },
     "metadata": {},
     "output_type": "display_data"
    },
    {
     "name": "stdout",
     "output_type": "stream",
     "text": [
      "<class 'pandas.core.frame.DataFrame'>\n",
      "RangeIndex: 6361 entries, 0 to 6360\n",
      "Data columns (total 2 columns):\n",
      " #   Column         Non-Null Count  Dtype \n",
      "---  ------         --------------  ----- \n",
      " 0   customerID     6361 non-null   object\n",
      " 1   MultipleLines  6361 non-null   object\n",
      "dtypes: object(2)\n",
      "memory usage: 99.5+ KB\n"
     ]
    },
    {
     "data": {
      "text/plain": [
       "None"
      ]
     },
     "metadata": {},
     "output_type": "display_data"
    },
    {
     "data": {
      "text/html": [
       "<div>\n",
       "<style scoped>\n",
       "    .dataframe tbody tr th:only-of-type {\n",
       "        vertical-align: middle;\n",
       "    }\n",
       "\n",
       "    .dataframe tbody tr th {\n",
       "        vertical-align: top;\n",
       "    }\n",
       "\n",
       "    .dataframe thead th {\n",
       "        text-align: right;\n",
       "    }\n",
       "</style>\n",
       "<table border=\"1\" class=\"dataframe\">\n",
       "  <thead>\n",
       "    <tr style=\"text-align: right;\">\n",
       "      <th></th>\n",
       "      <th>customerID</th>\n",
       "      <th>MultipleLines</th>\n",
       "    </tr>\n",
       "  </thead>\n",
       "  <tbody>\n",
       "    <tr>\n",
       "      <th>0</th>\n",
       "      <td>5575-GNVDE</td>\n",
       "      <td>No</td>\n",
       "    </tr>\n",
       "    <tr>\n",
       "      <th>1</th>\n",
       "      <td>3668-QPYBK</td>\n",
       "      <td>No</td>\n",
       "    </tr>\n",
       "    <tr>\n",
       "      <th>2</th>\n",
       "      <td>9237-HQITU</td>\n",
       "      <td>No</td>\n",
       "    </tr>\n",
       "    <tr>\n",
       "      <th>3</th>\n",
       "      <td>9305-CDSKC</td>\n",
       "      <td>Yes</td>\n",
       "    </tr>\n",
       "    <tr>\n",
       "      <th>4</th>\n",
       "      <td>1452-KIOVK</td>\n",
       "      <td>Yes</td>\n",
       "    </tr>\n",
       "  </tbody>\n",
       "</table>\n",
       "</div>"
      ],
      "text/plain": [
       "   customerID MultipleLines\n",
       "0  5575-GNVDE            No\n",
       "1  3668-QPYBK            No\n",
       "2  9237-HQITU            No\n",
       "3  9305-CDSKC           Yes\n",
       "4  1452-KIOVK           Yes"
      ]
     },
     "metadata": {},
     "output_type": "display_data"
    },
    {
     "data": {
      "text/html": [
       "<div>\n",
       "<style scoped>\n",
       "    .dataframe tbody tr th:only-of-type {\n",
       "        vertical-align: middle;\n",
       "    }\n",
       "\n",
       "    .dataframe tbody tr th {\n",
       "        vertical-align: top;\n",
       "    }\n",
       "\n",
       "    .dataframe thead th {\n",
       "        text-align: right;\n",
       "    }\n",
       "</style>\n",
       "<table border=\"1\" class=\"dataframe\">\n",
       "  <thead>\n",
       "    <tr style=\"text-align: right;\">\n",
       "      <th></th>\n",
       "      <th>customerID</th>\n",
       "      <th>MultipleLines</th>\n",
       "    </tr>\n",
       "  </thead>\n",
       "  <tbody>\n",
       "    <tr>\n",
       "      <th>count</th>\n",
       "      <td>6361</td>\n",
       "      <td>6361</td>\n",
       "    </tr>\n",
       "    <tr>\n",
       "      <th>unique</th>\n",
       "      <td>6361</td>\n",
       "      <td>2</td>\n",
       "    </tr>\n",
       "    <tr>\n",
       "      <th>top</th>\n",
       "      <td>5575-GNVDE</td>\n",
       "      <td>No</td>\n",
       "    </tr>\n",
       "    <tr>\n",
       "      <th>freq</th>\n",
       "      <td>1</td>\n",
       "      <td>3390</td>\n",
       "    </tr>\n",
       "  </tbody>\n",
       "</table>\n",
       "</div>"
      ],
      "text/plain": [
       "        customerID MultipleLines\n",
       "count         6361          6361\n",
       "unique        6361             2\n",
       "top     5575-GNVDE            No\n",
       "freq             1          3390"
      ]
     },
     "metadata": {},
     "output_type": "display_data"
    },
    {
     "name": "stdout",
     "output_type": "stream",
     "text": [
      "Количество пропусков:\n",
      "customerID       0\n",
      "MultipleLines    0\n",
      "dtype: int64\n",
      "Количество дубликатов: 0\n",
      "\n"
     ]
    }
   ],
   "source": [
    "for i, df in enumerate(df_list):\n",
    "    print(df_names[i])\n",
    "    print()    \n",
    "    print('Размер датафрейма:')\n",
    "    display(df.shape)\n",
    "    display(df.info())\n",
    "    display(df.head())\n",
    "    display(df.describe())\n",
    "    print('Количество пропусков:')\n",
    "    print(df.isna().sum())\n",
    "    print('Количество дубликатов:', df.duplicated().sum())\n",
    "    print()"
   ]
  },
  {
   "cell_type": "markdown",
   "id": "670a677d",
   "metadata": {},
   "source": [
    "### Обработка данных"
   ]
  },
  {
   "cell_type": "markdown",
   "id": "cbe72ce8",
   "metadata": {},
   "source": [
    "Объединим датасеты по общему столбцу customerID."
   ]
  },
  {
   "cell_type": "code",
   "execution_count": 7,
   "id": "644f6d9e",
   "metadata": {
    "scrolled": true
   },
   "outputs": [
    {
     "name": "stdout",
     "output_type": "stream",
     "text": [
      "   customerID   BeginDate EndDate            Type PaperlessBilling  \\\n",
      "0  7590-VHVEG  2020-01-01      No  Month-to-month              Yes   \n",
      "1  5575-GNVDE  2017-04-01      No        One year               No   \n",
      "2  3668-QPYBK  2019-10-01      No  Month-to-month              Yes   \n",
      "3  7795-CFOCW  2016-05-01      No        One year               No   \n",
      "4  9237-HQITU  2019-09-01      No  Month-to-month              Yes   \n",
      "\n",
      "               PaymentMethod  MonthlyCharges TotalCharges  gender  \\\n",
      "0           Electronic check           29.85        31.04  Female   \n",
      "1               Mailed check           56.95      2071.84    Male   \n",
      "2               Mailed check           53.85       226.17    Male   \n",
      "3  Bank transfer (automatic)           42.30       1960.6    Male   \n",
      "4           Electronic check           70.70        353.5  Female   \n",
      "\n",
      "   SeniorCitizen Partner Dependents InternetService OnlineSecurity  \\\n",
      "0              0     Yes         No             DSL             No   \n",
      "1              0      No         No             DSL            Yes   \n",
      "2              0      No         No             DSL            Yes   \n",
      "3              0      No         No             DSL            Yes   \n",
      "4              0      No         No     Fiber optic             No   \n",
      "\n",
      "  OnlineBackup DeviceProtection TechSupport StreamingTV StreamingMovies  \\\n",
      "0          Yes               No          No          No              No   \n",
      "1           No              Yes          No          No              No   \n",
      "2          Yes               No          No          No              No   \n",
      "3           No              Yes         Yes          No              No   \n",
      "4           No               No          No          No              No   \n",
      "\n",
      "  MultipleLines  \n",
      "0           NaN  \n",
      "1            No  \n",
      "2            No  \n",
      "3           NaN  \n",
      "4            No  \n"
     ]
    }
   ],
   "source": [
    "df = contract.merge(personal, on='customerID', how='outer')\n",
    "df = df.merge(internet, on='customerID', how='outer')\n",
    "df = df.merge(phone, on='customerID', how='outer')\n",
    "print(df.head()) "
   ]
  },
  {
   "cell_type": "code",
   "execution_count": 8,
   "id": "43fb6601",
   "metadata": {
    "scrolled": false
   },
   "outputs": [
    {
     "name": "stdout",
     "output_type": "stream",
     "text": [
      "Размер таблицы: (7043, 20)\n"
     ]
    }
   ],
   "source": [
    "shape = df.shape\n",
    "print('Размер таблицы:', df.shape)"
   ]
  },
  {
   "cell_type": "markdown",
   "id": "e8de106a",
   "metadata": {},
   "source": [
    "Приведем названия признаков к нижнему регистру."
   ]
  },
  {
   "cell_type": "code",
   "execution_count": 9,
   "id": "133eeaf1",
   "metadata": {
    "scrolled": false
   },
   "outputs": [],
   "source": [
    "df.columns = df.columns.str.lower()"
   ]
  },
  {
   "cell_type": "markdown",
   "id": "35a628f0",
   "metadata": {},
   "source": [
    "Переименуем названия признаков."
   ]
  },
  {
   "cell_type": "code",
   "execution_count": 10,
   "id": "798c8516",
   "metadata": {
    "scrolled": false
   },
   "outputs": [],
   "source": [
    "df = df.rename(\n",
    "    columns = {\n",
    "        'customerid': 'customer_id', 'begindate': 'begin_date', 'enddate': 'end_date',\n",
    "        'paperlessbilling': 'paper_lessbilling','paymentmethod': 'payment_method',\n",
    "        'monthlycharges': 'monthly_charges', 'totalcharges': 'total_charges',\n",
    "        'seniorcitizen': 'senior_citizen', 'internetservice': 'internet_service',\n",
    "        'onlinesecurity': 'online_security', 'onlinebackup': 'online_backup',\n",
    "        'deviceprotection': 'device_protection', 'techsupport': 'tech_support',\n",
    "        'streamingtv': 'streaming_tv', 'streamingmovies': 'streaming_movies', \n",
    "        'multiplelines': 'multiple_lines'\n",
    "    }\n",
    ")"
   ]
  },
  {
   "cell_type": "markdown",
   "id": "7764335f",
   "metadata": {},
   "source": [
    "По действующим договорам в столбце 'end_date' укажем дату выгрузки датасета."
   ]
  },
  {
   "cell_type": "code",
   "execution_count": 11,
   "id": "8ce7efe2",
   "metadata": {
    "scrolled": false
   },
   "outputs": [],
   "source": [
    "df.loc[df['end_date']=='No', 'end_date'] = '2020-02-01'"
   ]
  },
  {
   "cell_type": "markdown",
   "id": "b44a341e",
   "metadata": {},
   "source": [
    "Добавим новый признак - длительность контракта."
   ]
  },
  {
   "cell_type": "code",
   "execution_count": 12,
   "id": "19468043",
   "metadata": {
    "scrolled": false
   },
   "outputs": [],
   "source": [
    "df[['begin_date', 'end_date']] = df[['begin_date', 'end_date']].apply(pd.to_datetime)\n",
    "df['contract_duration'] = (df['end_date'] - df['begin_date'])"
   ]
  },
  {
   "cell_type": "code",
   "execution_count": 13,
   "id": "e4cb57a1",
   "metadata": {
    "scrolled": false
   },
   "outputs": [],
   "source": [
    "df['contract_duration'] = df['contract_duration'].astype('timedelta64[D]').astype(np.int64)"
   ]
  },
  {
   "cell_type": "markdown",
   "id": "1a89387d",
   "metadata": {},
   "source": [
    "Создадим столбец с целевым признаком 'exited', где 0 - лояльный клиент, 1 - клиент, расторгнувший договор."
   ]
  },
  {
   "cell_type": "code",
   "execution_count": 14,
   "id": "f7da0078",
   "metadata": {
    "scrolled": false
   },
   "outputs": [],
   "source": [
    "df.loc[df['end_date']=='2020-02-01', 'exited'] = 0\n",
    "df.loc[df['end_date']!='2020-02-01', 'exited'] = 1\n",
    "df['exited'] = df['exited'].astype(np.int64)"
   ]
  },
  {
   "cell_type": "markdown",
   "id": "7ab3a86b",
   "metadata": {},
   "source": [
    "Удалим неинформативные признаки: 'customer_id', 'begin_date', 'end_date'."
   ]
  },
  {
   "cell_type": "code",
   "execution_count": 15,
   "id": "2389c74b",
   "metadata": {
    "scrolled": false
   },
   "outputs": [],
   "source": [
    "df = df.drop(['customer_id', 'begin_date', 'end_date'], axis=1)"
   ]
  },
  {
   "cell_type": "markdown",
   "id": "064a3436",
   "metadata": {},
   "source": [
    "Проверим количество пропусков в %."
   ]
  },
  {
   "cell_type": "code",
   "execution_count": 16,
   "id": "aa00e87c",
   "metadata": {
    "scrolled": true
   },
   "outputs": [
    {
     "data": {
      "text/html": [
       "<style type=\"text/css\">\n",
       "#T_54e41_row0_col0, #T_54e41_row1_col0, #T_54e41_row2_col0, #T_54e41_row3_col0, #T_54e41_row4_col0, #T_54e41_row5_col0, #T_54e41_row6_col0, #T_54e41_row7_col0, #T_54e41_row8_col0, #T_54e41_row17_col0, #T_54e41_row18_col0 {\n",
       "  background-color: #3b4cc0;\n",
       "  color: #f1f1f1;\n",
       "}\n",
       "#T_54e41_row9_col0, #T_54e41_row10_col0, #T_54e41_row11_col0, #T_54e41_row12_col0, #T_54e41_row13_col0, #T_54e41_row14_col0, #T_54e41_row15_col0 {\n",
       "  background-color: #b40426;\n",
       "  color: #f1f1f1;\n",
       "}\n",
       "#T_54e41_row16_col0 {\n",
       "  background-color: #cedaeb;\n",
       "  color: #000000;\n",
       "}\n",
       "</style>\n",
       "<table id=\"T_54e41\">\n",
       "  <thead>\n",
       "    <tr>\n",
       "      <th class=\"blank level0\" >&nbsp;</th>\n",
       "      <th id=\"T_54e41_level0_col0\" class=\"col_heading level0 col0\" >0</th>\n",
       "    </tr>\n",
       "  </thead>\n",
       "  <tbody>\n",
       "    <tr>\n",
       "      <th id=\"T_54e41_level0_row0\" class=\"row_heading level0 row0\" >type</th>\n",
       "      <td id=\"T_54e41_row0_col0\" class=\"data row0 col0\" >0.000000</td>\n",
       "    </tr>\n",
       "    <tr>\n",
       "      <th id=\"T_54e41_level0_row1\" class=\"row_heading level0 row1\" >paper_lessbilling</th>\n",
       "      <td id=\"T_54e41_row1_col0\" class=\"data row1 col0\" >0.000000</td>\n",
       "    </tr>\n",
       "    <tr>\n",
       "      <th id=\"T_54e41_level0_row2\" class=\"row_heading level0 row2\" >payment_method</th>\n",
       "      <td id=\"T_54e41_row2_col0\" class=\"data row2 col0\" >0.000000</td>\n",
       "    </tr>\n",
       "    <tr>\n",
       "      <th id=\"T_54e41_level0_row3\" class=\"row_heading level0 row3\" >monthly_charges</th>\n",
       "      <td id=\"T_54e41_row3_col0\" class=\"data row3 col0\" >0.000000</td>\n",
       "    </tr>\n",
       "    <tr>\n",
       "      <th id=\"T_54e41_level0_row4\" class=\"row_heading level0 row4\" >total_charges</th>\n",
       "      <td id=\"T_54e41_row4_col0\" class=\"data row4 col0\" >0.000000</td>\n",
       "    </tr>\n",
       "    <tr>\n",
       "      <th id=\"T_54e41_level0_row5\" class=\"row_heading level0 row5\" >gender</th>\n",
       "      <td id=\"T_54e41_row5_col0\" class=\"data row5 col0\" >0.000000</td>\n",
       "    </tr>\n",
       "    <tr>\n",
       "      <th id=\"T_54e41_level0_row6\" class=\"row_heading level0 row6\" >senior_citizen</th>\n",
       "      <td id=\"T_54e41_row6_col0\" class=\"data row6 col0\" >0.000000</td>\n",
       "    </tr>\n",
       "    <tr>\n",
       "      <th id=\"T_54e41_level0_row7\" class=\"row_heading level0 row7\" >partner</th>\n",
       "      <td id=\"T_54e41_row7_col0\" class=\"data row7 col0\" >0.000000</td>\n",
       "    </tr>\n",
       "    <tr>\n",
       "      <th id=\"T_54e41_level0_row8\" class=\"row_heading level0 row8\" >dependents</th>\n",
       "      <td id=\"T_54e41_row8_col0\" class=\"data row8 col0\" >0.000000</td>\n",
       "    </tr>\n",
       "    <tr>\n",
       "      <th id=\"T_54e41_level0_row9\" class=\"row_heading level0 row9\" >internet_service</th>\n",
       "      <td id=\"T_54e41_row9_col0\" class=\"data row9 col0\" >21.667000</td>\n",
       "    </tr>\n",
       "    <tr>\n",
       "      <th id=\"T_54e41_level0_row10\" class=\"row_heading level0 row10\" >online_security</th>\n",
       "      <td id=\"T_54e41_row10_col0\" class=\"data row10 col0\" >21.667000</td>\n",
       "    </tr>\n",
       "    <tr>\n",
       "      <th id=\"T_54e41_level0_row11\" class=\"row_heading level0 row11\" >online_backup</th>\n",
       "      <td id=\"T_54e41_row11_col0\" class=\"data row11 col0\" >21.667000</td>\n",
       "    </tr>\n",
       "    <tr>\n",
       "      <th id=\"T_54e41_level0_row12\" class=\"row_heading level0 row12\" >device_protection</th>\n",
       "      <td id=\"T_54e41_row12_col0\" class=\"data row12 col0\" >21.667000</td>\n",
       "    </tr>\n",
       "    <tr>\n",
       "      <th id=\"T_54e41_level0_row13\" class=\"row_heading level0 row13\" >tech_support</th>\n",
       "      <td id=\"T_54e41_row13_col0\" class=\"data row13 col0\" >21.667000</td>\n",
       "    </tr>\n",
       "    <tr>\n",
       "      <th id=\"T_54e41_level0_row14\" class=\"row_heading level0 row14\" >streaming_tv</th>\n",
       "      <td id=\"T_54e41_row14_col0\" class=\"data row14 col0\" >21.667000</td>\n",
       "    </tr>\n",
       "    <tr>\n",
       "      <th id=\"T_54e41_level0_row15\" class=\"row_heading level0 row15\" >streaming_movies</th>\n",
       "      <td id=\"T_54e41_row15_col0\" class=\"data row15 col0\" >21.667000</td>\n",
       "    </tr>\n",
       "    <tr>\n",
       "      <th id=\"T_54e41_level0_row16\" class=\"row_heading level0 row16\" >multiple_lines</th>\n",
       "      <td id=\"T_54e41_row16_col0\" class=\"data row16 col0\" >9.683000</td>\n",
       "    </tr>\n",
       "    <tr>\n",
       "      <th id=\"T_54e41_level0_row17\" class=\"row_heading level0 row17\" >contract_duration</th>\n",
       "      <td id=\"T_54e41_row17_col0\" class=\"data row17 col0\" >0.000000</td>\n",
       "    </tr>\n",
       "    <tr>\n",
       "      <th id=\"T_54e41_level0_row18\" class=\"row_heading level0 row18\" >exited</th>\n",
       "      <td id=\"T_54e41_row18_col0\" class=\"data row18 col0\" >0.000000</td>\n",
       "    </tr>\n",
       "  </tbody>\n",
       "</table>\n"
      ],
      "text/plain": [
       "<pandas.io.formats.style.Styler at 0x21b364a7cd0>"
      ]
     },
     "execution_count": 16,
     "metadata": {},
     "output_type": "execute_result"
    }
   ],
   "source": [
    "pd.DataFrame(round(df.isna().mean()*100,3)).style.background_gradient('coolwarm')"
   ]
  },
  {
   "cell_type": "markdown",
   "id": "e7f41dc4",
   "metadata": {},
   "source": [
    "Если нет данных о подключенной услуге, то, скорее всего, эта услуга не подключена. Поэтому заменим пропуски значениями No."
   ]
  },
  {
   "cell_type": "code",
   "execution_count": 17,
   "id": "f9177ee0",
   "metadata": {
    "scrolled": false
   },
   "outputs": [],
   "source": [
    "#список признаков, где нужно заменить значения на No\n",
    "list = ('internet_service', 'online_security', 'online_backup', 'device_protection', 'tech_support', 'streaming_tv', \n",
    "        'streaming_movies', 'multiple_lines')"
   ]
  },
  {
   "cell_type": "code",
   "execution_count": 18,
   "id": "d510e1b0",
   "metadata": {
    "scrolled": false
   },
   "outputs": [],
   "source": [
    "for i in list:\n",
    "    df[i] = df[i].fillna('No')"
   ]
  },
  {
   "cell_type": "markdown",
   "id": "093513b3",
   "metadata": {},
   "source": [
    "Изучим количество строк, где не заполнено поле 'total_charges'."
   ]
  },
  {
   "cell_type": "code",
   "execution_count": 19,
   "id": "4e5f7ad4",
   "metadata": {
    "scrolled": false
   },
   "outputs": [
    {
     "data": {
      "text/plain": [
       "11"
      ]
     },
     "execution_count": 19,
     "metadata": {},
     "output_type": "execute_result"
    }
   ],
   "source": [
    "\n",
    "len(df[df['total_charges']==' '])"
   ]
  },
  {
   "cell_type": "markdown",
   "id": "5189520b",
   "metadata": {},
   "source": [
    "Удалим строки, где не заполнено поле 'total_charges'."
   ]
  },
  {
   "cell_type": "code",
   "execution_count": 20,
   "id": "1969cb34",
   "metadata": {
    "scrolled": false
   },
   "outputs": [],
   "source": [
    "df = df[df['total_charges']!=' ']\n",
    "df['total_charges'] = df['total_charges'].astype(np.float64)"
   ]
  },
  {
   "cell_type": "code",
   "execution_count": 21,
   "id": "ba62aaea",
   "metadata": {
    "scrolled": false
   },
   "outputs": [],
   "source": [
    "df['senior_citizen'] = df['senior_citizen'].astype(object) "
   ]
  },
  {
   "cell_type": "code",
   "execution_count": 22,
   "id": "6099f3e9",
   "metadata": {
    "scrolled": true
   },
   "outputs": [],
   "source": [
    "df_full = df.copy()"
   ]
  },
  {
   "cell_type": "code",
   "execution_count": 23,
   "id": "98f3cbfa",
   "metadata": {},
   "outputs": [],
   "source": [
    "df_full.loc[df_full['senior_citizen']==0, 'senior_citizen'] = 'No'\n",
    "df_full.loc[df_full['senior_citizen']==1, 'senior_citizen'] = 'Yes'"
   ]
  },
  {
   "cell_type": "markdown",
   "id": "0f84e2a1",
   "metadata": {},
   "source": [
    "Удалим признак 'monthly_charges' для устранения мультиколлинеарности, изученной в следующем разделе."
   ]
  },
  {
   "cell_type": "raw",
   "id": "09c3a8f1",
   "metadata": {},
   "source": [
    "df = df.drop(['monthly_charges'], axis=1)"
   ]
  },
  {
   "cell_type": "code",
   "execution_count": 24,
   "id": "3491b0db",
   "metadata": {},
   "outputs": [
    {
     "name": "stdout",
     "output_type": "stream",
     "text": [
      "Размер преобразованной таблицы: (7032, 19)\n"
     ]
    }
   ],
   "source": [
    "print('Размер преобразованной таблицы:', df.shape)"
   ]
  },
  {
   "cell_type": "code",
   "execution_count": 25,
   "id": "4454f9b7",
   "metadata": {
    "scrolled": false
   },
   "outputs": [
    {
     "name": "stdout",
     "output_type": "stream",
     "text": [
      "Удалено: 0.16 % строк\n"
     ]
    }
   ],
   "source": [
    "print('Удалено:', round((df.shape[0]/shape[0]-1)*(-100), 2), '% строк')"
   ]
  },
  {
   "cell_type": "markdown",
   "id": "97215994",
   "metadata": {},
   "source": [
    "### Разделение на выборки"
   ]
  },
  {
   "cell_type": "markdown",
   "id": "d8e370d7",
   "metadata": {},
   "source": [
    "Извлечем признаки."
   ]
  },
  {
   "cell_type": "code",
   "execution_count": 26,
   "id": "0e6f8552",
   "metadata": {
    "scrolled": false
   },
   "outputs": [],
   "source": [
    "target = df['exited'] #извлечем целевой признак\n",
    "features = df.drop(['exited'] , axis=1) #извлечем признаки "
   ]
  },
  {
   "cell_type": "markdown",
   "id": "27178f0a",
   "metadata": {},
   "source": [
    "Разделим данные на обучающую и тестовую выборки в соотношении 75% и 25% соответственно, применяя стратификацию."
   ]
  },
  {
   "cell_type": "code",
   "execution_count": 27,
   "id": "9c5fdb39",
   "metadata": {
    "scrolled": false
   },
   "outputs": [],
   "source": [
    "features_train, features_test, target_train, target_test = train_test_split(features, target, \n",
    "                                                    train_size=0.75, \n",
    "                                                    random_state=RANDOM_STATE,\n",
    "                                                    stratify=target)"
   ]
  },
  {
   "cell_type": "code",
   "execution_count": 28,
   "id": "d8d9f4fc",
   "metadata": {
    "scrolled": false
   },
   "outputs": [
    {
     "name": "stdout",
     "output_type": "stream",
     "text": [
      "Строк в тренировочной выборке: 5274\n",
      "Строк в тестовой выборке: 1758\n"
     ]
    }
   ],
   "source": [
    "print('Строк в тренировочной выборке:', target_train.shape[0])\n",
    "print('Строк в тестовой выборке:', target_test.shape[0])"
   ]
  },
  {
   "cell_type": "code",
   "execution_count": 29,
   "id": "3f0cc8be",
   "metadata": {
    "scrolled": false
   },
   "outputs": [
    {
     "data": {
      "text/plain": [
       "0.25"
      ]
     },
     "execution_count": 29,
     "metadata": {},
     "output_type": "execute_result"
    }
   ],
   "source": [
    "round(target_test.shape[0]/df.shape[0], 2)"
   ]
  },
  {
   "cell_type": "markdown",
   "id": "e82fecc7",
   "metadata": {},
   "source": [
    "### Стандартизация численных признаков"
   ]
  },
  {
   "cell_type": "markdown",
   "id": "44a88bdc",
   "metadata": {},
   "source": [
    "Выделим числовые признаки в список."
   ]
  },
  {
   "cell_type": "code",
   "execution_count": 30,
   "id": "cc412006",
   "metadata": {},
   "outputs": [],
   "source": [
    "numeric = ['total_charges', 'contract_duration', 'monthly_charges']"
   ]
  },
  {
   "cell_type": "code",
   "execution_count": 31,
   "id": "afb1b88e",
   "metadata": {
    "scrolled": false
   },
   "outputs": [],
   "source": [
    "features_train_lr = features_train.copy()\n",
    "features_test_lr = features_test.copy()\n",
    "\n",
    "scaler = StandardScaler()\n",
    "scaler.fit(features_train[numeric]) \n",
    "features_train_lr[numeric] = scaler.transform(features_train[numeric])\n",
    "features_test_lr[numeric] = scaler.transform(features_test[numeric])"
   ]
  },
  {
   "cell_type": "markdown",
   "id": "86c9ae1a",
   "metadata": {},
   "source": [
    "### Кодирование категориальных признаков"
   ]
  },
  {
   "cell_type": "markdown",
   "id": "d641099b",
   "metadata": {},
   "source": [
    "Выделим категориальные признаки в список."
   ]
  },
  {
   "cell_type": "code",
   "execution_count": 32,
   "id": "1e42e02c",
   "metadata": {
    "scrolled": false
   },
   "outputs": [],
   "source": [
    "cat_features = features_train.select_dtypes(include='object').columns.to_list() "
   ]
  },
  {
   "cell_type": "markdown",
   "id": "ac66f877",
   "metadata": {},
   "source": [
    "Закодируем категориальные признаки методом OrdinalEncoder для LightGBM, CatBoost и случайного леса."
   ]
  },
  {
   "cell_type": "code",
   "execution_count": 33,
   "id": "d0748549",
   "metadata": {
    "scrolled": false
   },
   "outputs": [],
   "source": [
    "encoder_oe = OrdinalEncoder()"
   ]
  },
  {
   "cell_type": "code",
   "execution_count": 34,
   "id": "1a7cb3a0",
   "metadata": {
    "scrolled": false
   },
   "outputs": [
    {
     "data": {
      "text/html": [
       "<div>\n",
       "<style scoped>\n",
       "    .dataframe tbody tr th:only-of-type {\n",
       "        vertical-align: middle;\n",
       "    }\n",
       "\n",
       "    .dataframe tbody tr th {\n",
       "        vertical-align: top;\n",
       "    }\n",
       "\n",
       "    .dataframe thead th {\n",
       "        text-align: right;\n",
       "    }\n",
       "</style>\n",
       "<table border=\"1\" class=\"dataframe\">\n",
       "  <thead>\n",
       "    <tr style=\"text-align: right;\">\n",
       "      <th></th>\n",
       "      <th>type</th>\n",
       "      <th>paper_lessbilling</th>\n",
       "      <th>payment_method</th>\n",
       "      <th>monthly_charges</th>\n",
       "      <th>total_charges</th>\n",
       "      <th>gender</th>\n",
       "      <th>senior_citizen</th>\n",
       "      <th>partner</th>\n",
       "      <th>dependents</th>\n",
       "      <th>internet_service</th>\n",
       "      <th>online_security</th>\n",
       "      <th>online_backup</th>\n",
       "      <th>device_protection</th>\n",
       "      <th>tech_support</th>\n",
       "      <th>streaming_tv</th>\n",
       "      <th>streaming_movies</th>\n",
       "      <th>multiple_lines</th>\n",
       "      <th>contract_duration</th>\n",
       "    </tr>\n",
       "  </thead>\n",
       "  <tbody>\n",
       "    <tr>\n",
       "      <th>4333</th>\n",
       "      <td>0.0</td>\n",
       "      <td>1.0</td>\n",
       "      <td>1.0</td>\n",
       "      <td>90.55</td>\n",
       "      <td>2947.40</td>\n",
       "      <td>1.0</td>\n",
       "      <td>0.0</td>\n",
       "      <td>1.0</td>\n",
       "      <td>0.0</td>\n",
       "      <td>1.0</td>\n",
       "      <td>1.0</td>\n",
       "      <td>1.0</td>\n",
       "      <td>0.0</td>\n",
       "      <td>1.0</td>\n",
       "      <td>0.0</td>\n",
       "      <td>0.0</td>\n",
       "      <td>1.0</td>\n",
       "      <td>945</td>\n",
       "    </tr>\n",
       "    <tr>\n",
       "      <th>151</th>\n",
       "      <td>0.0</td>\n",
       "      <td>0.0</td>\n",
       "      <td>3.0</td>\n",
       "      <td>95.00</td>\n",
       "      <td>790.40</td>\n",
       "      <td>1.0</td>\n",
       "      <td>0.0</td>\n",
       "      <td>0.0</td>\n",
       "      <td>0.0</td>\n",
       "      <td>1.0</td>\n",
       "      <td>0.0</td>\n",
       "      <td>0.0</td>\n",
       "      <td>0.0</td>\n",
       "      <td>0.0</td>\n",
       "      <td>1.0</td>\n",
       "      <td>1.0</td>\n",
       "      <td>1.0</td>\n",
       "      <td>245</td>\n",
       "    </tr>\n",
       "    <tr>\n",
       "      <th>1385</th>\n",
       "      <td>2.0</td>\n",
       "      <td>1.0</td>\n",
       "      <td>1.0</td>\n",
       "      <td>102.50</td>\n",
       "      <td>5313.60</td>\n",
       "      <td>0.0</td>\n",
       "      <td>0.0</td>\n",
       "      <td>0.0</td>\n",
       "      <td>0.0</td>\n",
       "      <td>1.0</td>\n",
       "      <td>1.0</td>\n",
       "      <td>0.0</td>\n",
       "      <td>1.0</td>\n",
       "      <td>1.0</td>\n",
       "      <td>1.0</td>\n",
       "      <td>1.0</td>\n",
       "      <td>0.0</td>\n",
       "      <td>1461</td>\n",
       "    </tr>\n",
       "    <tr>\n",
       "      <th>1883</th>\n",
       "      <td>0.0</td>\n",
       "      <td>1.0</td>\n",
       "      <td>0.0</td>\n",
       "      <td>100.50</td>\n",
       "      <td>2542.65</td>\n",
       "      <td>0.0</td>\n",
       "      <td>1.0</td>\n",
       "      <td>1.0</td>\n",
       "      <td>0.0</td>\n",
       "      <td>1.0</td>\n",
       "      <td>1.0</td>\n",
       "      <td>1.0</td>\n",
       "      <td>0.0</td>\n",
       "      <td>1.0</td>\n",
       "      <td>1.0</td>\n",
       "      <td>0.0</td>\n",
       "      <td>1.0</td>\n",
       "      <td>699</td>\n",
       "    </tr>\n",
       "    <tr>\n",
       "      <th>4838</th>\n",
       "      <td>1.0</td>\n",
       "      <td>1.0</td>\n",
       "      <td>1.0</td>\n",
       "      <td>109.70</td>\n",
       "      <td>8011.39</td>\n",
       "      <td>0.0</td>\n",
       "      <td>0.0</td>\n",
       "      <td>1.0</td>\n",
       "      <td>0.0</td>\n",
       "      <td>1.0</td>\n",
       "      <td>0.0</td>\n",
       "      <td>1.0</td>\n",
       "      <td>1.0</td>\n",
       "      <td>1.0</td>\n",
       "      <td>1.0</td>\n",
       "      <td>1.0</td>\n",
       "      <td>1.0</td>\n",
       "      <td>2041</td>\n",
       "    </tr>\n",
       "  </tbody>\n",
       "</table>\n",
       "</div>"
      ],
      "text/plain": [
       "      type  paper_lessbilling  payment_method  monthly_charges  total_charges  \\\n",
       "4333   0.0                1.0             1.0            90.55        2947.40   \n",
       "151    0.0                0.0             3.0            95.00         790.40   \n",
       "1385   2.0                1.0             1.0           102.50        5313.60   \n",
       "1883   0.0                1.0             0.0           100.50        2542.65   \n",
       "4838   1.0                1.0             1.0           109.70        8011.39   \n",
       "\n",
       "      gender  senior_citizen  partner  dependents  internet_service  \\\n",
       "4333     1.0             0.0      1.0         0.0               1.0   \n",
       "151      1.0             0.0      0.0         0.0               1.0   \n",
       "1385     0.0             0.0      0.0         0.0               1.0   \n",
       "1883     0.0             1.0      1.0         0.0               1.0   \n",
       "4838     0.0             0.0      1.0         0.0               1.0   \n",
       "\n",
       "      online_security  online_backup  device_protection  tech_support  \\\n",
       "4333              1.0            1.0                0.0           1.0   \n",
       "151               0.0            0.0                0.0           0.0   \n",
       "1385              1.0            0.0                1.0           1.0   \n",
       "1883              1.0            1.0                0.0           1.0   \n",
       "4838              0.0            1.0                1.0           1.0   \n",
       "\n",
       "      streaming_tv  streaming_movies  multiple_lines  contract_duration  \n",
       "4333           0.0               0.0             1.0                945  \n",
       "151            1.0               1.0             1.0                245  \n",
       "1385           1.0               1.0             0.0               1461  \n",
       "1883           1.0               0.0             1.0                699  \n",
       "4838           1.0               1.0             1.0               2041  "
      ]
     },
     "execution_count": 34,
     "metadata": {},
     "output_type": "execute_result"
    }
   ],
   "source": [
    "features_train_oe = features_train.copy()\n",
    "encoder_oe.fit(features[cat_features])\n",
    "features_train_oe[cat_features] = encoder_oe.transform(features_train[cat_features])\n",
    "features_train_oe.head()"
   ]
  },
  {
   "cell_type": "code",
   "execution_count": 35,
   "id": "0869f1eb",
   "metadata": {
    "scrolled": false
   },
   "outputs": [
    {
     "data": {
      "text/html": [
       "<div>\n",
       "<style scoped>\n",
       "    .dataframe tbody tr th:only-of-type {\n",
       "        vertical-align: middle;\n",
       "    }\n",
       "\n",
       "    .dataframe tbody tr th {\n",
       "        vertical-align: top;\n",
       "    }\n",
       "\n",
       "    .dataframe thead th {\n",
       "        text-align: right;\n",
       "    }\n",
       "</style>\n",
       "<table border=\"1\" class=\"dataframe\">\n",
       "  <thead>\n",
       "    <tr style=\"text-align: right;\">\n",
       "      <th></th>\n",
       "      <th>type</th>\n",
       "      <th>paper_lessbilling</th>\n",
       "      <th>payment_method</th>\n",
       "      <th>monthly_charges</th>\n",
       "      <th>total_charges</th>\n",
       "      <th>gender</th>\n",
       "      <th>senior_citizen</th>\n",
       "      <th>partner</th>\n",
       "      <th>dependents</th>\n",
       "      <th>internet_service</th>\n",
       "      <th>online_security</th>\n",
       "      <th>online_backup</th>\n",
       "      <th>device_protection</th>\n",
       "      <th>tech_support</th>\n",
       "      <th>streaming_tv</th>\n",
       "      <th>streaming_movies</th>\n",
       "      <th>multiple_lines</th>\n",
       "      <th>contract_duration</th>\n",
       "    </tr>\n",
       "  </thead>\n",
       "  <tbody>\n",
       "    <tr>\n",
       "      <th>6098</th>\n",
       "      <td>1.0</td>\n",
       "      <td>1.0</td>\n",
       "      <td>0.0</td>\n",
       "      <td>75.90</td>\n",
       "      <td>1593.90</td>\n",
       "      <td>1.0</td>\n",
       "      <td>0.0</td>\n",
       "      <td>1.0</td>\n",
       "      <td>1.0</td>\n",
       "      <td>0.0</td>\n",
       "      <td>1.0</td>\n",
       "      <td>0.0</td>\n",
       "      <td>0.0</td>\n",
       "      <td>0.0</td>\n",
       "      <td>1.0</td>\n",
       "      <td>1.0</td>\n",
       "      <td>1.0</td>\n",
       "      <td>641</td>\n",
       "    </tr>\n",
       "    <tr>\n",
       "      <th>995</th>\n",
       "      <td>0.0</td>\n",
       "      <td>0.0</td>\n",
       "      <td>1.0</td>\n",
       "      <td>85.30</td>\n",
       "      <td>511.80</td>\n",
       "      <td>0.0</td>\n",
       "      <td>0.0</td>\n",
       "      <td>0.0</td>\n",
       "      <td>0.0</td>\n",
       "      <td>1.0</td>\n",
       "      <td>0.0</td>\n",
       "      <td>1.0</td>\n",
       "      <td>0.0</td>\n",
       "      <td>1.0</td>\n",
       "      <td>0.0</td>\n",
       "      <td>0.0</td>\n",
       "      <td>1.0</td>\n",
       "      <td>181</td>\n",
       "    </tr>\n",
       "    <tr>\n",
       "      <th>5209</th>\n",
       "      <td>2.0</td>\n",
       "      <td>1.0</td>\n",
       "      <td>1.0</td>\n",
       "      <td>109.95</td>\n",
       "      <td>8153.89</td>\n",
       "      <td>1.0</td>\n",
       "      <td>0.0</td>\n",
       "      <td>1.0</td>\n",
       "      <td>0.0</td>\n",
       "      <td>1.0</td>\n",
       "      <td>1.0</td>\n",
       "      <td>1.0</td>\n",
       "      <td>0.0</td>\n",
       "      <td>1.0</td>\n",
       "      <td>1.0</td>\n",
       "      <td>1.0</td>\n",
       "      <td>1.0</td>\n",
       "      <td>2191</td>\n",
       "    </tr>\n",
       "    <tr>\n",
       "      <th>6596</th>\n",
       "      <td>1.0</td>\n",
       "      <td>0.0</td>\n",
       "      <td>2.0</td>\n",
       "      <td>81.25</td>\n",
       "      <td>5200.00</td>\n",
       "      <td>1.0</td>\n",
       "      <td>0.0</td>\n",
       "      <td>0.0</td>\n",
       "      <td>0.0</td>\n",
       "      <td>0.0</td>\n",
       "      <td>1.0</td>\n",
       "      <td>1.0</td>\n",
       "      <td>1.0</td>\n",
       "      <td>1.0</td>\n",
       "      <td>1.0</td>\n",
       "      <td>0.0</td>\n",
       "      <td>1.0</td>\n",
       "      <td>1949</td>\n",
       "    </tr>\n",
       "    <tr>\n",
       "      <th>1443</th>\n",
       "      <td>0.0</td>\n",
       "      <td>1.0</td>\n",
       "      <td>3.0</td>\n",
       "      <td>55.80</td>\n",
       "      <td>167.40</td>\n",
       "      <td>1.0</td>\n",
       "      <td>0.0</td>\n",
       "      <td>1.0</td>\n",
       "      <td>0.0</td>\n",
       "      <td>0.0</td>\n",
       "      <td>0.0</td>\n",
       "      <td>0.0</td>\n",
       "      <td>1.0</td>\n",
       "      <td>1.0</td>\n",
       "      <td>0.0</td>\n",
       "      <td>0.0</td>\n",
       "      <td>0.0</td>\n",
       "      <td>92</td>\n",
       "    </tr>\n",
       "  </tbody>\n",
       "</table>\n",
       "</div>"
      ],
      "text/plain": [
       "      type  paper_lessbilling  payment_method  monthly_charges  total_charges  \\\n",
       "6098   1.0                1.0             0.0            75.90        1593.90   \n",
       "995    0.0                0.0             1.0            85.30         511.80   \n",
       "5209   2.0                1.0             1.0           109.95        8153.89   \n",
       "6596   1.0                0.0             2.0            81.25        5200.00   \n",
       "1443   0.0                1.0             3.0            55.80         167.40   \n",
       "\n",
       "      gender  senior_citizen  partner  dependents  internet_service  \\\n",
       "6098     1.0             0.0      1.0         1.0               0.0   \n",
       "995      0.0             0.0      0.0         0.0               1.0   \n",
       "5209     1.0             0.0      1.0         0.0               1.0   \n",
       "6596     1.0             0.0      0.0         0.0               0.0   \n",
       "1443     1.0             0.0      1.0         0.0               0.0   \n",
       "\n",
       "      online_security  online_backup  device_protection  tech_support  \\\n",
       "6098              1.0            0.0                0.0           0.0   \n",
       "995               0.0            1.0                0.0           1.0   \n",
       "5209              1.0            1.0                0.0           1.0   \n",
       "6596              1.0            1.0                1.0           1.0   \n",
       "1443              0.0            0.0                1.0           1.0   \n",
       "\n",
       "      streaming_tv  streaming_movies  multiple_lines  contract_duration  \n",
       "6098           1.0               1.0             1.0                641  \n",
       "995            0.0               0.0             1.0                181  \n",
       "5209           1.0               1.0             1.0               2191  \n",
       "6596           1.0               0.0             1.0               1949  \n",
       "1443           0.0               0.0             0.0                 92  "
      ]
     },
     "execution_count": 35,
     "metadata": {},
     "output_type": "execute_result"
    }
   ],
   "source": [
    "features_test_oe = features_test.copy()\n",
    "features_test_oe[cat_features] = encoder_oe.transform(features_test[cat_features])\n",
    "features_test_oe.head()"
   ]
  },
  {
   "cell_type": "markdown",
   "id": "09ecaf27",
   "metadata": {},
   "source": [
    "Закодируем категориальные признаки методом OHE для логистической регрессии."
   ]
  },
  {
   "cell_type": "code",
   "execution_count": 36,
   "id": "45fbe966",
   "metadata": {
    "scrolled": false
   },
   "outputs": [],
   "source": [
    "column_trans = make_column_transformer((OneHotEncoder(handle_unknown='ignore'),\n",
    "                                        cat_features),\n",
    "                                        remainder='passthrough')"
   ]
  },
  {
   "cell_type": "markdown",
   "id": "c3726cf4",
   "metadata": {},
   "source": [
    "<b>ВЫВОД.</b> \n",
    "Датасеты размерами (7043, 8), (7043, 5), (5517, 8), (6361, 2) были исследованы, данные подготовлены для дальнейшего обучения: произведено объединение таблиц, обработаны пропуски, проверены дубликаты, рассчитан дополнительный признак, удалены неинформативные столбцы. Размер преобразованной таблицы: (7032, 18), удалено 0.16 % строк.\n",
    "Произведено разделение на выборки, произведено масштабирование численных признаков, закодированы категориальные признаки методом OHE для логистической регрессии. Методом OrdinalEncoder закодированы категориальные признаки для остальных моделей."
   ]
  },
  {
   "cell_type": "markdown",
   "id": "e0adda18",
   "metadata": {},
   "source": [
    "## Исследовательский анализ данных"
   ]
  },
  {
   "cell_type": "markdown",
   "id": "03354670",
   "metadata": {},
   "source": [
    "### Исследование баланса классов"
   ]
  },
  {
   "cell_type": "markdown",
   "id": "fc96e0ba",
   "metadata": {},
   "source": [
    "Проверим баланс классов целевого признака."
   ]
  },
  {
   "cell_type": "code",
   "execution_count": 37,
   "id": "3875e0a2",
   "metadata": {
    "scrolled": false
   },
   "outputs": [
    {
     "data": {
      "text/plain": [
       "0    0.84343\n",
       "1    0.15657\n",
       "Name: exited, dtype: float64"
      ]
     },
     "metadata": {},
     "output_type": "display_data"
    },
    {
     "data": {
      "image/png": "[encoded data removed]",
      "text/plain": [
       "<Figure size 432x288 with 1 Axes>"
      ]
     },
     "metadata": {
      "needs_background": "light"
     },
     "output_type": "display_data"
    }
   ],
   "source": [
    "class_frequency = df['exited'].value_counts(normalize=True)\n",
    "display(class_frequency)\n",
    "class_frequency.plot(kind='bar', title='Распределение классов целевого признака');"
   ]
  },
  {
   "cell_type": "markdown",
   "id": "b570f6a8",
   "metadata": {},
   "source": [
    "Классы не сбалансированы. Исследуем модели как с балансировкой классов, так и без."
   ]
  },
  {
   "cell_type": "markdown",
   "id": "acf507c2",
   "metadata": {},
   "source": [
    "### Изучение распределения признаков"
   ]
  },
  {
   "cell_type": "markdown",
   "id": "d6b07e42",
   "metadata": {},
   "source": [
    "Изучим распределение признака 'monthly_charges'."
   ]
  },
  {
   "cell_type": "raw",
   "id": "e27a1e04",
   "metadata": {},
   "source": [
    "df_full['monthly_charges'].hist(figsize=(15, 4), bins=150)\n",
    "plt.xlabel('Ежемесячный платеж, у.е.')\n",
    "plt.ylabel('Количество клиентов')\n",
    "plt.title('Распределение сумм ежемесячного платежа')\n",
    "df_full['monthly_charges'].describe()"
   ]
  },
  {
   "cell_type": "markdown",
   "id": "451b44ee",
   "metadata": {},
   "source": [
    "Чаще всего сумма ежемесячного платежа составляет около 20 у.е."
   ]
  },
  {
   "cell_type": "markdown",
   "id": "6c26babf",
   "metadata": {},
   "source": [
    "Изучим распределение признака 'total_charges'."
   ]
  },
  {
   "cell_type": "raw",
   "id": "e1f7f448",
   "metadata": {},
   "source": [
    "df_full['total_charges'].hist(figsize=(15, 4), bins=200, range = [0,2000])\n",
    "plt.xlabel('Сумма трат, у.е.')\n",
    "plt.ylabel('Количество клиентов')\n",
    "plt.title('Распределение суммарных трат')\n",
    "df_full['total_charges'].describe()"
   ]
  },
  {
   "cell_type": "markdown",
   "id": "bacfc9a2",
   "metadata": {},
   "source": [
    "Гораздо больше клиентов, чьи суммарные траты составляют до 100 у.е. С увеличением суммы трат количество клиентов постепенно уменьшается. Максимальная сумма трат - 9221.38 у.е."
   ]
  },
  {
   "cell_type": "markdown",
   "id": "244138bd",
   "metadata": {},
   "source": [
    "Изучим распределение признака 'contract_duration', переведенного в количество лет."
   ]
  },
  {
   "cell_type": "raw",
   "id": "cf9f808d",
   "metadata": {},
   "source": [
    "(df['contract_duration']/30/12).hist(figsize=(15, 4), bins=70)\n",
    "plt.xlabel('Длительность контракта, количество лет')\n",
    "plt.ylabel('Количество контрактов')\n",
    "plt.title('Распределение длительности контрактов')\n",
    "df['contract_duration'].describe()"
   ]
  },
  {
   "cell_type": "markdown",
   "id": "89d9f223",
   "metadata": {},
   "source": [
    "Чаще всего встречаются клиенты с длительностью контрактов до полугода. Так же можно заметить большое количество очень длительных контрактов: более 6 лет."
   ]
  },
  {
   "cell_type": "code",
   "execution_count": 38,
   "id": "12244864",
   "metadata": {
    "scrolled": true
   },
   "outputs": [
    {
     "data": {
      "image/png": "[encoded data removed]",
      "text/plain": [
       "<Figure size 1296x2160 with 15 Axes>"
      ]
     },
     "metadata": {},
     "output_type": "display_data"
    }
   ],
   "source": [
    "num_rows = 5\n",
    "num_cols = 3\n",
    "\n",
    "#cоздание сетки подграфиков\n",
    "fig, axes = plt.subplots(num_rows, num_cols, figsize=(18, 30))\n",
    "\n",
    "#итерация по категориальным признакам и размещение диаграмм в сетке подграфиков\n",
    "for i, col in enumerate(cat_features):\n",
    "    if i < num_rows * num_cols:\n",
    "        ax = axes[i // num_cols, i % num_cols]\n",
    "        df[col].value_counts().plot(kind='pie', autopct='%1.1f%%', ax=ax)"
   ]
  },
  {
   "cell_type": "markdown",
   "id": "59ce8b31",
   "metadata": {},
   "source": [
    "Если рассмотреть, как распределены категориальные признаки, то можно сделать следующие выводы: типичный клиент заключает договор с ежемесячной оплатой, пользуется безналичным расчетом с помощью электронный платежной системы, не имеет пенсионного статуса, без иждивенцев, пользуется услугами оптоволокна и не использует другие дополнительные услуги."
   ]
  },
  {
   "cell_type": "markdown",
   "id": "be87aed6",
   "metadata": {},
   "source": [
    "Изучим распределение признаков по лояльным и ушедшим клиентам."
   ]
  },
  {
   "cell_type": "code",
   "execution_count": 39,
   "id": "736d8089",
   "metadata": {},
   "outputs": [
    {
     "data": {
      "image/png": "[encoded data removed]",
      "text/plain": [
       "<Figure size 1296x2160 with 15 Axes>"
      ]
     },
     "metadata": {
      "needs_background": "light"
     },
     "output_type": "display_data"
    }
   ],
   "source": [
    "num_rows = 5\n",
    "num_cols = 3\n",
    "\n",
    "#cоздание сетки подграфиков\n",
    "fig, axes = plt.subplots(num_rows, num_cols, figsize=(18, 30))\n",
    "\n",
    "#итерация по признакам и размещение диаграмм в сетке подграфиков\n",
    "for i, col in enumerate(cat_features):\n",
    "    if i < num_rows * num_cols:\n",
    "        ax = axes[i // num_cols, i % num_cols]\n",
    "        sns.histplot(df_full, x = col, hue = 'exited', multiple = 'stack', ax=ax)"
   ]
  },
  {
   "cell_type": "markdown",
   "id": "24ca81a5",
   "metadata": {},
   "source": [
    "Если рассмотреть, как распределены категориальные признаки, то можно сделать следующие выводы для лояльного типичного клиента: \n",
    "заключает договор с ежемесячной оплатой, пользуется безналичным расчетом с помощью электронный платежной системы, не имеет пенсионного статуса, без иждивенцев, пользуется услугами оптоволокна и не использует другие дополнительные услуги.\n",
    "\n",
    "Клиенты, склонные к расторжению договора, пользуются безналичным расчетом, реже отправляют чек по почте, не являются пенсионерами, имеют партнера, не имеют иждивенцев, пользуются технологиями оптоволокна, не пользуются услугами безопасности,  тех.поддержки, но имеют многоканальную линию."
   ]
  },
  {
   "cell_type": "code",
   "execution_count": 40,
   "id": "f575988c",
   "metadata": {},
   "outputs": [
    {
     "data": {
      "image/png": "[encoded data removed]",
      "text/plain": [
       "<Figure size 1080x288 with 1 Axes>"
      ]
     },
     "metadata": {
      "needs_background": "light"
     },
     "output_type": "display_data"
    },
    {
     "data": {
      "image/png": "[encoded data removed]",
      "text/plain": [
       "<Figure size 1080x288 with 1 Axes>"
      ]
     },
     "metadata": {
      "needs_background": "light"
     },
     "output_type": "display_data"
    },
    {
     "data": {
      "image/png": "[encoded data removed]",
      "text/plain": [
       "<Figure size 1080x288 with 1 Axes>"
      ]
     },
     "metadata": {
      "needs_background": "light"
     },
     "output_type": "display_data"
    }
   ],
   "source": [
    "num_list = ['monthly_charges', 'total_charges', 'contract_duration']\n",
    "for i in num_list:\n",
    "    plt.figure(figsize=(15, 4))\n",
    "    sns.histplot(df_full, x = i, hue = 'exited', multiple = 'stack')\n",
    "    plt.title('Распределение признака '+i)\n",
    "    plt.show()"
   ]
  },
  {
   "cell_type": "markdown",
   "id": "7e8b8d48",
   "metadata": {},
   "source": [
    "У лояльных клиентов чаще всего сумма ежемесячного платежа составляет около 20 у.е.\n",
    "Гораздо больше клиентов, чьи суммарные траты составляют до 100 у.е. С увеличением суммы трат количество клиентов постепенно уменьшается. Максимальная сумма трат - 9221.38 у.е. Чаще всего встречаются клиенты с длительностью контрактов до полугода. Так же можно заметить большое количество очень длительных контрактов: более 6 лет. \n",
    "\n",
    "Для типичного клиента, который планирует уйти, ежемесячные расходы соствляют около 100 у.е., реже - около 20 у.е., суммарные расходы около 800-900 у.е., длительность контракта от года до 1,5 лет."
   ]
  },
  {
   "cell_type": "markdown",
   "id": "633383d5",
   "metadata": {},
   "source": [
    "### Исследование корреляции признаков"
   ]
  },
  {
   "cell_type": "code",
   "execution_count": 41,
   "id": "bf628a4f",
   "metadata": {
    "scrolled": false
   },
   "outputs": [
    {
     "name": "stdout",
     "output_type": "stream",
     "text": [
      "interval columns not set, guessing: ['monthly_charges', 'total_charges', 'contract_duration', 'exited']\n"
     ]
    }
   ],
   "source": [
    "phik_overview = df_full.phik_matrix().round(2)"
   ]
  },
  {
   "cell_type": "code",
   "execution_count": 42,
   "id": "79118a30",
   "metadata": {
    "scrolled": false
   },
   "outputs": [
    {
     "data": {
      "image/png": "[encoded data removed]",
      "text/plain": [
       "<Figure size 1440x720 with 2 Axes>"
      ]
     },
     "metadata": {
      "needs_background": "light"
     },
     "output_type": "display_data"
    }
   ],
   "source": [
    "plt.figure(figsize=(20, 10))\n",
    "sns.heatmap(phik_overview, annot=True,cmap='Blues')\n",
    "plt.title('Корреляция признаков')\n",
    "plt.show()"
   ]
  },
  {
   "cell_type": "markdown",
   "id": "37674694",
   "metadata": {},
   "source": [
    "Между целевым признаком exited и остальными признаками нет сильной корреляции.\n",
    "\n",
    "Наибольшую зависимость можно отметить между признаками:\n",
    "monthly_charges-internet_service;\n",
    "monthly_charges-streaming_tv;\n",
    "monthly_charges-streaming_movies,\n",
    "total_charges-contract_duration.\n",
    "Таким образом, на ежемесячные расходы клиентов больше всего оказывают влияние услуги internet_service, streaming_tv, streaming_movies, на суммарные расходы - длительность контракта. \n",
    "\n",
    "Для устранения мультиколлинеарности удалили признак monthly_charges из датасета в разделе обработки данных."
   ]
  },
  {
   "cell_type": "markdown",
   "id": "778807a9",
   "metadata": {},
   "source": [
    "<b>ВЫВОД.</b> Проведен исследовательских анализ данных. Классы целевого признака не сбалансированы. Исследована корреляция между признаками.\n",
    "У лояльных клиентов чаще всего сумма ежемесячного платежа составляет около 20 у.е.\n",
    "Гораздо больше клиентов, чьи суммарные траты составляют до 100 у.е. С увеличением суммы трат количество клиентов постепенно уменьшается. Максимальная сумма трат - 9221.38 у.е. Чаще всего встречаются клиенты с длительностью контрактов до полугода. Так же можно заметить большое количество очень длительных контрактов: более 6 лет, заключает договор с ежемесячной оплатой, пользуется безналичным расчетом с помощью электронный платежной системы, не имеет пенсионного статуса, без иждивенцев, пользуется услугами оптоволокна и не использует другие дополнительные услуги.\n",
    "\n",
    "Клиенты, склонные к расторжению договора, имеют ежемесячные расходы около 100 у.е., реже - около 20 у.е., суммарные расходы около 800-900 у.е., длительность контракта от года до 1,5 лет, пользуются безналичным расчетом, реже отправляют чек по почте, не являются пенсионерами, имеют партнера, не имеют иждивенцев, пользуются технологиями оптоволокна, не пользуются услугами безопасности, тех.поддержки, но имеют многоканальную линию, \n",
    "\n",
    "Между целевым признаком exited и остальными признаками нет сильной корреляции, но присутствует сильная связь между другими признаками: monthly_charges-internet_service;\n",
    "monthly_charges-streaming_tv;\n",
    "monthly_charges-streaming_movies,\n",
    "total_charges-contract_duration."
   ]
  },
  {
   "cell_type": "markdown",
   "id": "474b0445",
   "metadata": {},
   "source": [
    "## Обучение моделей"
   ]
  },
  {
   "cell_type": "markdown",
   "id": "2d8779ff",
   "metadata": {},
   "source": [
    "### Light GBM"
   ]
  },
  {
   "cell_type": "code",
   "execution_count": 43,
   "id": "adc3c645",
   "metadata": {},
   "outputs": [
    {
     "name": "stdout",
     "output_type": "stream",
     "text": [
      "Fitting 5 folds for each of 405 candidates, totalling 2025 fits\n",
      "Время обучения LightGBM: 77\n",
      "CPU times: total: 11.7 s\n",
      "Wall time: 1min 17s\n"
     ]
    }
   ],
   "source": [
    "%%time\n",
    "\n",
    "gbm = lgb.LGBMClassifier(random_state=RANDOM_STATE)\n",
    "\n",
    "gbm_parametrs = {'learning_rate': [0.01, 0.05, 0.1, 0.2, 0.3], \n",
    "               'max_depth': range(2, 11),\n",
    "               'num_leaves': [30, 40, 50],\n",
    "               'n_estimators': [100, 200, 300]\n",
    "             }\n",
    "\n",
    "gbm_grid = GridSearchCV(gbm, gbm_parametrs, scoring='roc_auc', cv=5, n_jobs=-1, verbose=10)\n",
    "begin = time.time()\n",
    "gbm_grid.fit(features_train_oe, target_train)\n",
    "end = time.time()\n",
    "time_gbm = round(end-begin)\n",
    "print('Время обучения LightGBM:',time_gbm)"
   ]
  },
  {
   "cell_type": "code",
   "execution_count": 44,
   "id": "6e6f1cae",
   "metadata": {},
   "outputs": [
    {
     "name": "stdout",
     "output_type": "stream",
     "text": [
      "{'learning_rate': 0.3, 'max_depth': 2, 'n_estimators': 300, 'num_leaves': 30}\n"
     ]
    }
   ],
   "source": [
    "gbm_params = gbm_grid.best_params_\n",
    "print(gbm_params)"
   ]
  },
  {
   "cell_type": "code",
   "execution_count": 45,
   "id": "0fc6437b",
   "metadata": {
    "scrolled": false
   },
   "outputs": [
    {
     "name": "stdout",
     "output_type": "stream",
     "text": [
      "AUC-ROC LightGBM: 0.896\n"
     ]
    }
   ],
   "source": [
    "gbm_scores = gbm_grid.best_score_.round(4)\n",
    "print('AUC-ROC LightGBM:', gbm_scores)"
   ]
  },
  {
   "cell_type": "markdown",
   "id": "01b8a7f3",
   "metadata": {},
   "source": [
    "### Cat Boost"
   ]
  },
  {
   "cell_type": "code",
   "execution_count": 46,
   "id": "3e79e43e",
   "metadata": {},
   "outputs": [
    {
     "name": "stdout",
     "output_type": "stream",
     "text": [
      "Fitting 5 folds for each of 600 candidates, totalling 3000 fits\n",
      "0:\tlearn: 0.5357295\ttotal: 146ms\tremaining: 1m 27s\n",
      "1:\tlearn: 0.4473351\ttotal: 148ms\tremaining: 44.4s\n",
      "2:\tlearn: 0.4159787\ttotal: 150ms\tremaining: 29.9s\n",
      "3:\tlearn: 0.3919305\ttotal: 153ms\tremaining: 22.8s\n",
      "4:\tlearn: 0.3748402\ttotal: 155ms\tremaining: 18.5s\n",
      "5:\tlearn: 0.3658519\ttotal: 158ms\tremaining: 15.6s\n",
      "6:\tlearn: 0.3589250\ttotal: 160ms\tremaining: 13.5s\n",
      "7:\tlearn: 0.3529680\ttotal: 162ms\tremaining: 12s\n",
      "8:\tlearn: 0.3470586\ttotal: 165ms\tremaining: 10.8s\n",
      "9:\tlearn: 0.3445898\ttotal: 167ms\tremaining: 9.84s\n",
      "10:\tlearn: 0.3418674\ttotal: 169ms\tremaining: 9.05s\n",
      "11:\tlearn: 0.3384277\ttotal: 171ms\tremaining: 8.39s\n",
      "12:\tlearn: 0.3321652\ttotal: 174ms\tremaining: 7.83s\n",
      "13:\tlearn: 0.3306482\ttotal: 176ms\tremaining: 7.35s\n",
      "14:\tlearn: 0.3289037\ttotal: 178ms\tremaining: 6.96s\n",
      "15:\tlearn: 0.3273787\ttotal: 181ms\tremaining: 6.59s\n",
      "16:\tlearn: 0.3265542\ttotal: 183ms\tremaining: 6.27s\n",
      "17:\tlearn: 0.3233036\ttotal: 186ms\tremaining: 6s\n",
      "18:\tlearn: 0.3214219\ttotal: 188ms\tremaining: 5.74s\n",
      "19:\tlearn: 0.3206171\ttotal: 190ms\tremaining: 5.51s\n",
      "20:\tlearn: 0.3194582\ttotal: 192ms\tremaining: 5.3s\n",
      "21:\tlearn: 0.3186992\ttotal: 195ms\tremaining: 5.11s\n",
      "22:\tlearn: 0.3177826\ttotal: 197ms\tremaining: 4.93s\n",
      "23:\tlearn: 0.3167944\ttotal: 199ms\tremaining: 4.78s\n",
      "24:\tlearn: 0.3160163\ttotal: 201ms\tremaining: 4.63s\n",
      "25:\tlearn: 0.3153255\ttotal: 204ms\tremaining: 4.5s\n",
      "26:\tlearn: 0.3149349\ttotal: 206ms\tremaining: 4.38s\n",
      "27:\tlearn: 0.3142293\ttotal: 209ms\tremaining: 4.26s\n",
      "28:\tlearn: 0.3137667\ttotal: 211ms\tremaining: 4.15s\n",
      "29:\tlearn: 0.3132532\ttotal: 213ms\tremaining: 4.04s\n",
      "30:\tlearn: 0.3128822\ttotal: 215ms\tremaining: 3.94s\n",
      "31:\tlearn: 0.3124412\ttotal: 217ms\tremaining: 3.85s\n",
      "32:\tlearn: 0.3111022\ttotal: 220ms\tremaining: 3.77s\n",
      "33:\tlearn: 0.3103746\ttotal: 222ms\tremaining: 3.69s\n",
      "34:\tlearn: 0.3093437\ttotal: 224ms\tremaining: 3.62s\n",
      "35:\tlearn: 0.3089550\ttotal: 226ms\tremaining: 3.54s\n",
      "36:\tlearn: 0.3084294\ttotal: 229ms\tremaining: 3.48s\n",
      "37:\tlearn: 0.3080145\ttotal: 231ms\tremaining: 3.41s\n",
      "38:\tlearn: 0.3075576\ttotal: 233ms\tremaining: 3.35s\n",
      "39:\tlearn: 0.3072438\ttotal: 235ms\tremaining: 3.29s\n",
      "40:\tlearn: 0.3069927\ttotal: 237ms\tremaining: 3.23s\n",
      "41:\tlearn: 0.3065234\ttotal: 239ms\tremaining: 3.17s\n",
      "42:\tlearn: 0.3059402\ttotal: 241ms\tremaining: 3.12s\n",
      "43:\tlearn: 0.3055919\ttotal: 243ms\tremaining: 3.07s\n",
      "44:\tlearn: 0.3052075\ttotal: 245ms\tremaining: 3.02s\n",
      "45:\tlearn: 0.3049150\ttotal: 247ms\tremaining: 2.97s\n",
      "46:\tlearn: 0.3022499\ttotal: 249ms\tremaining: 2.93s\n",
      "47:\tlearn: 0.3020520\ttotal: 251ms\tremaining: 2.88s\n",
      "48:\tlearn: 0.3017445\ttotal: 253ms\tremaining: 2.84s\n",
      "49:\tlearn: 0.3014060\ttotal: 254ms\tremaining: 2.8s\n",
      "50:\tlearn: 0.3011850\ttotal: 257ms\tremaining: 2.76s\n",
      "51:\tlearn: 0.2993759\ttotal: 259ms\tremaining: 2.73s\n",
      "52:\tlearn: 0.2970279\ttotal: 261ms\tremaining: 2.69s\n",
      "53:\tlearn: 0.2967466\ttotal: 263ms\tremaining: 2.66s\n",
      "54:\tlearn: 0.2961832\ttotal: 265ms\tremaining: 2.62s\n",
      "55:\tlearn: 0.2944703\ttotal: 267ms\tremaining: 2.59s\n",
      "56:\tlearn: 0.2942192\ttotal: 269ms\tremaining: 2.56s\n",
      "57:\tlearn: 0.2914011\ttotal: 271ms\tremaining: 2.53s\n",
      "58:\tlearn: 0.2911236\ttotal: 273ms\tremaining: 2.5s\n",
      "59:\tlearn: 0.2909176\ttotal: 275ms\tremaining: 2.47s\n",
      "60:\tlearn: 0.2905727\ttotal: 277ms\tremaining: 2.44s\n",
      "61:\tlearn: 0.2887879\ttotal: 279ms\tremaining: 2.42s\n",
      "62:\tlearn: 0.2878677\ttotal: 282ms\tremaining: 2.4s\n",
      "63:\tlearn: 0.2857681\ttotal: 285ms\tremaining: 2.38s\n",
      "64:\tlearn: 0.2847564\ttotal: 286ms\tremaining: 2.36s\n",
      "65:\tlearn: 0.2822586\ttotal: 289ms\tremaining: 2.33s\n",
      "66:\tlearn: 0.2811906\ttotal: 291ms\tremaining: 2.32s\n",
      "67:\tlearn: 0.2788624\ttotal: 293ms\tremaining: 2.29s\n",
      "68:\tlearn: 0.2776147\ttotal: 296ms\tremaining: 2.27s\n",
      "69:\tlearn: 0.2747280\ttotal: 298ms\tremaining: 2.25s\n",
      "70:\tlearn: 0.2745744\ttotal: 300ms\tremaining: 2.23s\n",
      "71:\tlearn: 0.2741089\ttotal: 301ms\tremaining: 2.21s\n",
      "72:\tlearn: 0.2737529\ttotal: 304ms\tremaining: 2.19s\n",
      "73:\tlearn: 0.2734459\ttotal: 306ms\tremaining: 2.17s\n",
      "74:\tlearn: 0.2726397\ttotal: 308ms\tremaining: 2.15s\n",
      "75:\tlearn: 0.2722954\ttotal: 310ms\tremaining: 2.14s\n",
      "76:\tlearn: 0.2720189\ttotal: 312ms\tremaining: 2.12s\n",
      "77:\tlearn: 0.2717950\ttotal: 313ms\tremaining: 2.1s\n",
      "78:\tlearn: 0.2715882\ttotal: 315ms\tremaining: 2.08s\n",
      "79:\tlearn: 0.2684916\ttotal: 318ms\tremaining: 2.06s\n",
      "80:\tlearn: 0.2681534\ttotal: 320ms\tremaining: 2.05s\n",
      "81:\tlearn: 0.2667489\ttotal: 323ms\tremaining: 2.04s\n",
      "82:\tlearn: 0.2652545\ttotal: 325ms\tremaining: 2.02s\n",
      "83:\tlearn: 0.2650537\ttotal: 328ms\tremaining: 2.01s\n",
      "84:\tlearn: 0.2628507\ttotal: 330ms\tremaining: 2s\n",
      "85:\tlearn: 0.2605440\ttotal: 333ms\tremaining: 1.99s\n",
      "86:\tlearn: 0.2602323\ttotal: 335ms\tremaining: 1.98s\n",
      "87:\tlearn: 0.2573630\ttotal: 337ms\tremaining: 1.96s\n",
      "88:\tlearn: 0.2554606\ttotal: 340ms\tremaining: 1.95s\n",
      "89:\tlearn: 0.2521582\ttotal: 343ms\tremaining: 1.94s\n",
      "90:\tlearn: 0.2502833\ttotal: 345ms\tremaining: 1.93s\n",
      "91:\tlearn: 0.2490536\ttotal: 348ms\tremaining: 1.92s\n",
      "92:\tlearn: 0.2469743\ttotal: 351ms\tremaining: 1.91s\n",
      "93:\tlearn: 0.2458602\ttotal: 353ms\tremaining: 1.9s\n",
      "94:\tlearn: 0.2434390\ttotal: 356ms\tremaining: 1.89s\n",
      "95:\tlearn: 0.2430621\ttotal: 358ms\tremaining: 1.88s\n",
      "96:\tlearn: 0.2422242\ttotal: 361ms\tremaining: 1.87s\n",
      "97:\tlearn: 0.2417673\ttotal: 363ms\tremaining: 1.86s\n",
      "98:\tlearn: 0.2410257\ttotal: 365ms\tremaining: 1.85s\n",
      "99:\tlearn: 0.2407759\ttotal: 367ms\tremaining: 1.84s\n",
      "100:\tlearn: 0.2406057\ttotal: 370ms\tremaining: 1.83s\n",
      "101:\tlearn: 0.2396112\ttotal: 372ms\tremaining: 1.82s\n",
      "102:\tlearn: 0.2386902\ttotal: 374ms\tremaining: 1.81s\n",
      "103:\tlearn: 0.2384856\ttotal: 377ms\tremaining: 1.79s\n",
      "104:\tlearn: 0.2380561\ttotal: 379ms\tremaining: 1.78s\n",
      "105:\tlearn: 0.2359556\ttotal: 381ms\tremaining: 1.77s\n",
      "106:\tlearn: 0.2342339\ttotal: 383ms\tremaining: 1.77s\n",
      "107:\tlearn: 0.2332889\ttotal: 386ms\tremaining: 1.76s\n",
      "108:\tlearn: 0.2324877\ttotal: 388ms\tremaining: 1.75s\n",
      "109:\tlearn: 0.2322358\ttotal: 390ms\tremaining: 1.74s\n",
      "110:\tlearn: 0.2311135\ttotal: 392ms\tremaining: 1.73s\n",
      "111:\tlearn: 0.2308882\ttotal: 394ms\tremaining: 1.72s\n",
      "112:\tlearn: 0.2307336\ttotal: 396ms\tremaining: 1.71s\n",
      "113:\tlearn: 0.2292476\ttotal: 399ms\tremaining: 1.7s\n",
      "114:\tlearn: 0.2278127\ttotal: 401ms\tremaining: 1.69s\n",
      "115:\tlearn: 0.2276004\ttotal: 403ms\tremaining: 1.68s\n",
      "116:\tlearn: 0.2260439\ttotal: 406ms\tremaining: 1.67s\n",
      "117:\tlearn: 0.2258974\ttotal: 408ms\tremaining: 1.67s\n",
      "118:\tlearn: 0.2256604\ttotal: 410ms\tremaining: 1.66s\n",
      "119:\tlearn: 0.2255589\ttotal: 412ms\tremaining: 1.65s\n",
      "120:\tlearn: 0.2253730\ttotal: 414ms\tremaining: 1.64s\n",
      "121:\tlearn: 0.2243958\ttotal: 417ms\tremaining: 1.63s\n",
      "122:\tlearn: 0.2240760\ttotal: 418ms\tremaining: 1.62s\n",
      "123:\tlearn: 0.2234256\ttotal: 421ms\tremaining: 1.61s\n",
      "124:\tlearn: 0.2231186\ttotal: 423ms\tremaining: 1.61s\n",
      "125:\tlearn: 0.2220843\ttotal: 425ms\tremaining: 1.6s\n",
      "126:\tlearn: 0.2214873\ttotal: 428ms\tremaining: 1.59s\n",
      "127:\tlearn: 0.2208149\ttotal: 430ms\tremaining: 1.59s\n",
      "128:\tlearn: 0.2206423\ttotal: 432ms\tremaining: 1.58s\n",
      "129:\tlearn: 0.2204054\ttotal: 434ms\tremaining: 1.57s\n",
      "130:\tlearn: 0.2202103\ttotal: 437ms\tremaining: 1.56s\n",
      "131:\tlearn: 0.2176738\ttotal: 439ms\tremaining: 1.56s\n",
      "132:\tlearn: 0.2174556\ttotal: 442ms\tremaining: 1.55s\n",
      "133:\tlearn: 0.2167109\ttotal: 444ms\tremaining: 1.54s\n",
      "134:\tlearn: 0.2165619\ttotal: 446ms\tremaining: 1.54s\n",
      "135:\tlearn: 0.2154267\ttotal: 449ms\tremaining: 1.53s\n",
      "136:\tlearn: 0.2146595\ttotal: 451ms\tremaining: 1.52s\n",
      "137:\tlearn: 0.2143988\ttotal: 453ms\tremaining: 1.51s\n",
      "138:\tlearn: 0.2132833\ttotal: 455ms\tremaining: 1.51s\n",
      "139:\tlearn: 0.2119339\ttotal: 458ms\tremaining: 1.5s\n",
      "140:\tlearn: 0.2116950\ttotal: 459ms\tremaining: 1.5s\n",
      "141:\tlearn: 0.2108198\ttotal: 462ms\tremaining: 1.49s\n",
      "142:\tlearn: 0.2101090\ttotal: 464ms\tremaining: 1.48s\n",
      "143:\tlearn: 0.2099920\ttotal: 466ms\tremaining: 1.48s\n",
      "144:\tlearn: 0.2096948\ttotal: 468ms\tremaining: 1.47s\n",
      "145:\tlearn: 0.2091268\ttotal: 471ms\tremaining: 1.46s\n",
      "146:\tlearn: 0.2090087\ttotal: 473ms\tremaining: 1.46s\n",
      "147:\tlearn: 0.2082853\ttotal: 476ms\tremaining: 1.45s\n",
      "148:\tlearn: 0.2080859\ttotal: 478ms\tremaining: 1.45s\n",
      "149:\tlearn: 0.2056705\ttotal: 480ms\tremaining: 1.44s\n",
      "150:\tlearn: 0.2055298\ttotal: 482ms\tremaining: 1.43s\n",
      "151:\tlearn: 0.2054446\ttotal: 485ms\tremaining: 1.43s\n",
      "152:\tlearn: 0.2052937\ttotal: 487ms\tremaining: 1.42s\n",
      "153:\tlearn: 0.2052023\ttotal: 489ms\tremaining: 1.42s\n",
      "154:\tlearn: 0.2038047\ttotal: 492ms\tremaining: 1.41s\n",
      "155:\tlearn: 0.2036321\ttotal: 494ms\tremaining: 1.41s\n",
      "156:\tlearn: 0.2018483\ttotal: 496ms\tremaining: 1.4s\n",
      "157:\tlearn: 0.2017739\ttotal: 499ms\tremaining: 1.4s\n",
      "158:\tlearn: 0.2015599\ttotal: 501ms\tremaining: 1.39s\n",
      "159:\tlearn: 0.2012765\ttotal: 504ms\tremaining: 1.39s\n",
      "160:\tlearn: 0.2011036\ttotal: 506ms\tremaining: 1.38s\n",
      "161:\tlearn: 0.2001824\ttotal: 508ms\tremaining: 1.37s\n",
      "162:\tlearn: 0.2000223\ttotal: 511ms\tremaining: 1.37s\n",
      "163:\tlearn: 0.1994387\ttotal: 514ms\tremaining: 1.37s\n",
      "164:\tlearn: 0.1991845\ttotal: 516ms\tremaining: 1.36s\n",
      "165:\tlearn: 0.1989718\ttotal: 519ms\tremaining: 1.36s\n",
      "166:\tlearn: 0.1988049\ttotal: 521ms\tremaining: 1.35s\n",
      "167:\tlearn: 0.1976000\ttotal: 524ms\tremaining: 1.35s\n",
      "168:\tlearn: 0.1975033\ttotal: 526ms\tremaining: 1.34s\n",
      "169:\tlearn: 0.1973628\ttotal: 529ms\tremaining: 1.34s\n",
      "170:\tlearn: 0.1971813\ttotal: 531ms\tremaining: 1.33s\n",
      "171:\tlearn: 0.1970264\ttotal: 533ms\tremaining: 1.33s\n",
      "172:\tlearn: 0.1966825\ttotal: 535ms\tremaining: 1.32s\n",
      "173:\tlearn: 0.1966223\ttotal: 537ms\tremaining: 1.31s\n",
      "174:\tlearn: 0.1956443\ttotal: 540ms\tremaining: 1.31s\n",
      "175:\tlearn: 0.1954839\ttotal: 542ms\tremaining: 1.31s\n",
      "176:\tlearn: 0.1949053\ttotal: 545ms\tremaining: 1.3s\n",
      "177:\tlearn: 0.1946460\ttotal: 547ms\tremaining: 1.3s\n",
      "178:\tlearn: 0.1944164\ttotal: 549ms\tremaining: 1.29s\n",
      "179:\tlearn: 0.1942564\ttotal: 552ms\tremaining: 1.29s\n",
      "180:\tlearn: 0.1940683\ttotal: 554ms\tremaining: 1.28s\n",
      "181:\tlearn: 0.1939236\ttotal: 556ms\tremaining: 1.28s\n",
      "182:\tlearn: 0.1938435\ttotal: 558ms\tremaining: 1.27s\n",
      "183:\tlearn: 0.1937357\ttotal: 561ms\tremaining: 1.27s\n",
      "184:\tlearn: 0.1925288\ttotal: 563ms\tremaining: 1.26s\n",
      "185:\tlearn: 0.1922699\ttotal: 565ms\tremaining: 1.26s\n",
      "186:\tlearn: 0.1906881\ttotal: 568ms\tremaining: 1.25s\n",
      "187:\tlearn: 0.1905485\ttotal: 570ms\tremaining: 1.25s\n",
      "188:\tlearn: 0.1891426\ttotal: 572ms\tremaining: 1.24s\n",
      "189:\tlearn: 0.1889373\ttotal: 574ms\tremaining: 1.24s\n",
      "190:\tlearn: 0.1888064\ttotal: 577ms\tremaining: 1.24s\n",
      "191:\tlearn: 0.1885953\ttotal: 579ms\tremaining: 1.23s\n",
      "192:\tlearn: 0.1884455\ttotal: 581ms\tremaining: 1.23s\n",
      "193:\tlearn: 0.1883601\ttotal: 583ms\tremaining: 1.22s\n",
      "194:\tlearn: 0.1882047\ttotal: 585ms\tremaining: 1.22s\n",
      "195:\tlearn: 0.1880396\ttotal: 588ms\tremaining: 1.21s\n",
      "196:\tlearn: 0.1878881\ttotal: 590ms\tremaining: 1.21s\n",
      "197:\tlearn: 0.1877316\ttotal: 592ms\tremaining: 1.2s\n",
      "198:\tlearn: 0.1876672\ttotal: 594ms\tremaining: 1.2s\n",
      "199:\tlearn: 0.1865486\ttotal: 597ms\tremaining: 1.19s\n",
      "200:\tlearn: 0.1857619\ttotal: 599ms\tremaining: 1.19s\n",
      "201:\tlearn: 0.1851678\ttotal: 602ms\tremaining: 1.19s\n",
      "202:\tlearn: 0.1850889\ttotal: 603ms\tremaining: 1.18s\n",
      "203:\tlearn: 0.1846830\ttotal: 606ms\tremaining: 1.18s\n",
      "204:\tlearn: 0.1845254\ttotal: 608ms\tremaining: 1.17s\n",
      "205:\tlearn: 0.1844219\ttotal: 610ms\tremaining: 1.17s\n",
      "206:\tlearn: 0.1842205\ttotal: 613ms\tremaining: 1.16s\n",
      "207:\tlearn: 0.1840932\ttotal: 615ms\tremaining: 1.16s\n",
      "208:\tlearn: 0.1840263\ttotal: 617ms\tremaining: 1.15s\n",
      "209:\tlearn: 0.1838599\ttotal: 619ms\tremaining: 1.15s\n",
      "210:\tlearn: 0.1837771\ttotal: 621ms\tremaining: 1.15s\n",
      "211:\tlearn: 0.1836423\ttotal: 624ms\tremaining: 1.14s\n",
      "212:\tlearn: 0.1821176\ttotal: 627ms\tremaining: 1.14s\n",
      "213:\tlearn: 0.1819512\ttotal: 628ms\tremaining: 1.13s\n",
      "214:\tlearn: 0.1818785\ttotal: 630ms\tremaining: 1.13s\n",
      "215:\tlearn: 0.1813956\ttotal: 633ms\tremaining: 1.13s\n",
      "216:\tlearn: 0.1813233\ttotal: 635ms\tremaining: 1.12s\n",
      "217:\tlearn: 0.1811979\ttotal: 637ms\tremaining: 1.12s\n",
      "218:\tlearn: 0.1807193\ttotal: 640ms\tremaining: 1.11s\n",
      "219:\tlearn: 0.1805711\ttotal: 642ms\tremaining: 1.11s\n",
      "220:\tlearn: 0.1797778\ttotal: 644ms\tremaining: 1.1s\n",
      "221:\tlearn: 0.1792928\ttotal: 647ms\tremaining: 1.1s\n",
      "222:\tlearn: 0.1791671\ttotal: 649ms\tremaining: 1.1s\n",
      "223:\tlearn: 0.1790988\ttotal: 651ms\tremaining: 1.09s\n",
      "224:\tlearn: 0.1785621\ttotal: 654ms\tremaining: 1.09s\n",
      "225:\tlearn: 0.1783907\ttotal: 656ms\tremaining: 1.08s\n",
      "226:\tlearn: 0.1782943\ttotal: 658ms\tremaining: 1.08s\n",
      "227:\tlearn: 0.1780702\ttotal: 660ms\tremaining: 1.08s\n",
      "228:\tlearn: 0.1780126\ttotal: 662ms\tremaining: 1.07s\n",
      "229:\tlearn: 0.1778657\ttotal: 665ms\tremaining: 1.07s\n",
      "230:\tlearn: 0.1776001\ttotal: 667ms\tremaining: 1.06s\n",
      "231:\tlearn: 0.1774709\ttotal: 669ms\tremaining: 1.06s\n",
      "232:\tlearn: 0.1772519\ttotal: 672ms\tremaining: 1.06s\n",
      "233:\tlearn: 0.1766740\ttotal: 675ms\tremaining: 1.05s\n",
      "234:\tlearn: 0.1765932\ttotal: 677ms\tremaining: 1.05s\n",
      "235:\tlearn: 0.1760413\ttotal: 679ms\tremaining: 1.05s\n",
      "236:\tlearn: 0.1758934\ttotal: 682ms\tremaining: 1.04s\n",
      "237:\tlearn: 0.1753482\ttotal: 685ms\tremaining: 1.04s\n",
      "238:\tlearn: 0.1749375\ttotal: 687ms\tremaining: 1.04s\n",
      "239:\tlearn: 0.1748328\ttotal: 690ms\tremaining: 1.03s\n",
      "240:\tlearn: 0.1746827\ttotal: 693ms\tremaining: 1.03s\n",
      "241:\tlearn: 0.1739034\ttotal: 695ms\tremaining: 1.03s\n",
      "242:\tlearn: 0.1737935\ttotal: 697ms\tremaining: 1.02s\n",
      "243:\tlearn: 0.1736780\ttotal: 699ms\tremaining: 1.02s\n",
      "244:\tlearn: 0.1727899\ttotal: 702ms\tremaining: 1.02s\n",
      "245:\tlearn: 0.1726859\ttotal: 704ms\tremaining: 1.01s\n",
      "246:\tlearn: 0.1724672\ttotal: 707ms\tremaining: 1.01s\n",
      "247:\tlearn: 0.1722413\ttotal: 709ms\tremaining: 1.01s\n",
      "248:\tlearn: 0.1713509\ttotal: 711ms\tremaining: 1s\n",
      "249:\tlearn: 0.1710074\ttotal: 714ms\tremaining: 999ms\n",
      "250:\tlearn: 0.1705197\ttotal: 716ms\tremaining: 996ms\n",
      "251:\tlearn: 0.1703600\ttotal: 718ms\tremaining: 992ms\n",
      "252:\tlearn: 0.1700219\ttotal: 721ms\tremaining: 989ms\n",
      "253:\tlearn: 0.1698139\ttotal: 723ms\tremaining: 985ms\n",
      "254:\tlearn: 0.1695438\ttotal: 726ms\tremaining: 982ms\n",
      "255:\tlearn: 0.1694254\ttotal: 728ms\tremaining: 978ms\n",
      "256:\tlearn: 0.1693393\ttotal: 730ms\tremaining: 974ms\n",
      "257:\tlearn: 0.1692530\ttotal: 732ms\tremaining: 970ms\n",
      "258:\tlearn: 0.1690270\ttotal: 734ms\tremaining: 966ms\n",
      "259:\tlearn: 0.1689124\ttotal: 736ms\tremaining: 963ms\n",
      "260:\tlearn: 0.1686929\ttotal: 738ms\tremaining: 959ms\n",
      "261:\tlearn: 0.1685457\ttotal: 740ms\tremaining: 955ms\n",
      "262:\tlearn: 0.1684856\ttotal: 742ms\tremaining: 951ms\n",
      "263:\tlearn: 0.1682978\ttotal: 744ms\tremaining: 947ms\n",
      "264:\tlearn: 0.1681500\ttotal: 747ms\tremaining: 944ms\n",
      "265:\tlearn: 0.1678978\ttotal: 749ms\tremaining: 940ms\n",
      "266:\tlearn: 0.1677855\ttotal: 751ms\tremaining: 936ms\n",
      "267:\tlearn: 0.1676821\ttotal: 753ms\tremaining: 932ms\n",
      "268:\tlearn: 0.1675338\ttotal: 755ms\tremaining: 929ms\n",
      "269:\tlearn: 0.1674574\ttotal: 757ms\tremaining: 925ms\n",
      "270:\tlearn: 0.1669664\ttotal: 759ms\tremaining: 922ms\n",
      "271:\tlearn: 0.1667618\ttotal: 762ms\tremaining: 919ms\n",
      "272:\tlearn: 0.1664294\ttotal: 764ms\tremaining: 915ms\n",
      "273:\tlearn: 0.1662691\ttotal: 766ms\tremaining: 911ms\n",
      "274:\tlearn: 0.1661566\ttotal: 768ms\tremaining: 908ms\n",
      "275:\tlearn: 0.1660042\ttotal: 770ms\tremaining: 904ms\n",
      "276:\tlearn: 0.1654770\ttotal: 772ms\tremaining: 901ms\n",
      "277:\tlearn: 0.1654093\ttotal: 774ms\tremaining: 897ms\n",
      "278:\tlearn: 0.1641780\ttotal: 777ms\tremaining: 893ms\n",
      "279:\tlearn: 0.1638638\ttotal: 779ms\tremaining: 890ms\n",
      "280:\tlearn: 0.1637007\ttotal: 781ms\tremaining: 887ms\n",
      "281:\tlearn: 0.1626143\ttotal: 784ms\tremaining: 884ms\n",
      "282:\tlearn: 0.1619470\ttotal: 786ms\tremaining: 881ms\n",
      "283:\tlearn: 0.1615905\ttotal: 788ms\tremaining: 877ms\n",
      "284:\tlearn: 0.1611790\ttotal: 791ms\tremaining: 874ms\n",
      "285:\tlearn: 0.1610704\ttotal: 793ms\tremaining: 870ms\n",
      "286:\tlearn: 0.1607234\ttotal: 795ms\tremaining: 867ms\n",
      "287:\tlearn: 0.1606007\ttotal: 797ms\tremaining: 863ms\n",
      "288:\tlearn: 0.1596441\ttotal: 799ms\tremaining: 860ms\n",
      "289:\tlearn: 0.1594804\ttotal: 802ms\tremaining: 857ms\n",
      "290:\tlearn: 0.1594172\ttotal: 804ms\tremaining: 853ms\n",
      "291:\tlearn: 0.1592997\ttotal: 805ms\tremaining: 850ms\n",
      "292:\tlearn: 0.1591653\ttotal: 808ms\tremaining: 847ms\n",
      "293:\tlearn: 0.1590697\ttotal: 811ms\tremaining: 844ms\n",
      "294:\tlearn: 0.1584104\ttotal: 813ms\tremaining: 841ms\n",
      "295:\tlearn: 0.1583121\ttotal: 815ms\tremaining: 837ms\n",
      "296:\tlearn: 0.1581677\ttotal: 817ms\tremaining: 834ms\n",
      "297:\tlearn: 0.1576127\ttotal: 820ms\tremaining: 831ms\n",
      "298:\tlearn: 0.1575574\ttotal: 822ms\tremaining: 827ms\n",
      "299:\tlearn: 0.1571280\ttotal: 825ms\tremaining: 825ms\n",
      "300:\tlearn: 0.1570733\ttotal: 826ms\tremaining: 821ms\n",
      "301:\tlearn: 0.1569461\ttotal: 829ms\tremaining: 818ms\n",
      "302:\tlearn: 0.1568929\ttotal: 831ms\tremaining: 814ms\n",
      "303:\tlearn: 0.1567881\ttotal: 833ms\tremaining: 811ms\n",
      "304:\tlearn: 0.1564722\ttotal: 835ms\tremaining: 808ms\n",
      "305:\tlearn: 0.1563522\ttotal: 838ms\tremaining: 805ms\n",
      "306:\tlearn: 0.1562380\ttotal: 840ms\tremaining: 802ms\n",
      "307:\tlearn: 0.1556683\ttotal: 843ms\tremaining: 799ms\n",
      "308:\tlearn: 0.1555523\ttotal: 845ms\tremaining: 796ms\n",
      "309:\tlearn: 0.1553911\ttotal: 848ms\tremaining: 793ms\n",
      "310:\tlearn: 0.1552856\ttotal: 850ms\tremaining: 790ms\n",
      "311:\tlearn: 0.1551422\ttotal: 852ms\tremaining: 787ms\n",
      "312:\tlearn: 0.1545550\ttotal: 855ms\tremaining: 784ms\n",
      "313:\tlearn: 0.1543964\ttotal: 858ms\tremaining: 781ms\n",
      "314:\tlearn: 0.1543471\ttotal: 860ms\tremaining: 778ms\n",
      "315:\tlearn: 0.1542799\ttotal: 862ms\tremaining: 775ms\n",
      "316:\tlearn: 0.1541333\ttotal: 865ms\tremaining: 772ms\n",
      "317:\tlearn: 0.1540597\ttotal: 867ms\tremaining: 769ms\n",
      "318:\tlearn: 0.1539461\ttotal: 869ms\tremaining: 766ms\n",
      "319:\tlearn: 0.1538484\ttotal: 871ms\tremaining: 762ms\n",
      "320:\tlearn: 0.1537871\ttotal: 874ms\tremaining: 759ms\n",
      "321:\tlearn: 0.1535123\ttotal: 876ms\tremaining: 757ms\n",
      "322:\tlearn: 0.1534607\ttotal: 878ms\tremaining: 753ms\n",
      "323:\tlearn: 0.1531622\ttotal: 881ms\tremaining: 750ms\n",
      "324:\tlearn: 0.1529810\ttotal: 883ms\tremaining: 748ms\n",
      "325:\tlearn: 0.1528971\ttotal: 886ms\tremaining: 744ms\n",
      "326:\tlearn: 0.1527681\ttotal: 888ms\tremaining: 741ms\n",
      "327:\tlearn: 0.1527113\ttotal: 891ms\tremaining: 738ms\n",
      "328:\tlearn: 0.1526309\ttotal: 893ms\tremaining: 735ms\n",
      "329:\tlearn: 0.1525582\ttotal: 895ms\tremaining: 732ms\n",
      "330:\tlearn: 0.1520965\ttotal: 897ms\tremaining: 729ms\n",
      "331:\tlearn: 0.1519637\ttotal: 899ms\tremaining: 726ms\n",
      "332:\tlearn: 0.1518955\ttotal: 902ms\tremaining: 723ms\n",
      "333:\tlearn: 0.1518227\ttotal: 904ms\tremaining: 720ms\n",
      "334:\tlearn: 0.1516725\ttotal: 906ms\tremaining: 717ms\n",
      "335:\tlearn: 0.1516081\ttotal: 908ms\tremaining: 714ms\n",
      "336:\tlearn: 0.1515482\ttotal: 911ms\tremaining: 711ms\n",
      "337:\tlearn: 0.1514681\ttotal: 914ms\tremaining: 708ms\n",
      "338:\tlearn: 0.1513979\ttotal: 916ms\tremaining: 705ms\n",
      "339:\tlearn: 0.1512414\ttotal: 918ms\tremaining: 702ms\n",
      "340:\tlearn: 0.1511691\ttotal: 920ms\tremaining: 699ms\n",
      "341:\tlearn: 0.1508614\ttotal: 923ms\tremaining: 696ms\n",
      "342:\tlearn: 0.1505841\ttotal: 925ms\tremaining: 693ms\n",
      "343:\tlearn: 0.1504829\ttotal: 928ms\tremaining: 690ms\n",
      "344:\tlearn: 0.1503910\ttotal: 930ms\tremaining: 687ms\n",
      "345:\tlearn: 0.1503495\ttotal: 932ms\tremaining: 684ms\n",
      "346:\tlearn: 0.1503297\ttotal: 934ms\tremaining: 681ms\n",
      "347:\tlearn: 0.1502601\ttotal: 937ms\tremaining: 679ms\n",
      "348:\tlearn: 0.1501883\ttotal: 939ms\tremaining: 676ms\n",
      "349:\tlearn: 0.1501098\ttotal: 942ms\tremaining: 673ms\n",
      "350:\tlearn: 0.1500307\ttotal: 944ms\tremaining: 670ms\n",
      "351:\tlearn: 0.1499695\ttotal: 947ms\tremaining: 667ms\n",
      "352:\tlearn: 0.1496309\ttotal: 949ms\tremaining: 664ms\n",
      "353:\tlearn: 0.1495825\ttotal: 951ms\tremaining: 661ms\n",
      "354:\tlearn: 0.1494826\ttotal: 953ms\tremaining: 658ms\n",
      "355:\tlearn: 0.1492509\ttotal: 956ms\tremaining: 655ms\n",
      "356:\tlearn: 0.1486928\ttotal: 958ms\tremaining: 652ms\n",
      "357:\tlearn: 0.1486105\ttotal: 960ms\tremaining: 649ms\n",
      "358:\tlearn: 0.1484576\ttotal: 963ms\tremaining: 646ms\n",
      "359:\tlearn: 0.1482631\ttotal: 965ms\tremaining: 643ms\n",
      "360:\tlearn: 0.1481934\ttotal: 968ms\tremaining: 641ms\n",
      "361:\tlearn: 0.1481567\ttotal: 970ms\tremaining: 638ms\n",
      "362:\tlearn: 0.1479524\ttotal: 973ms\tremaining: 635ms\n",
      "363:\tlearn: 0.1479106\ttotal: 975ms\tremaining: 632ms\n",
      "364:\tlearn: 0.1477071\ttotal: 978ms\tremaining: 630ms\n",
      "365:\tlearn: 0.1476468\ttotal: 981ms\tremaining: 627ms\n",
      "366:\tlearn: 0.1475474\ttotal: 984ms\tremaining: 625ms\n",
      "367:\tlearn: 0.1474840\ttotal: 987ms\tremaining: 622ms\n",
      "368:\tlearn: 0.1471203\ttotal: 989ms\tremaining: 619ms\n",
      "369:\tlearn: 0.1469060\ttotal: 992ms\tremaining: 617ms\n",
      "370:\tlearn: 0.1464065\ttotal: 995ms\tremaining: 614ms\n",
      "371:\tlearn: 0.1463336\ttotal: 998ms\tremaining: 612ms\n",
      "372:\tlearn: 0.1461315\ttotal: 1s\tremaining: 609ms\n",
      "373:\tlearn: 0.1460591\ttotal: 1s\tremaining: 606ms\n",
      "374:\tlearn: 0.1459975\ttotal: 1s\tremaining: 603ms\n",
      "375:\tlearn: 0.1458570\ttotal: 1.01s\tremaining: 601ms\n",
      "376:\tlearn: 0.1458326\ttotal: 1.01s\tremaining: 598ms\n",
      "377:\tlearn: 0.1455177\ttotal: 1.01s\tremaining: 596ms\n",
      "378:\tlearn: 0.1454650\ttotal: 1.02s\tremaining: 593ms\n",
      "379:\tlearn: 0.1452780\ttotal: 1.02s\tremaining: 591ms\n",
      "380:\tlearn: 0.1451633\ttotal: 1.02s\tremaining: 588ms\n",
      "381:\tlearn: 0.1450412\ttotal: 1.02s\tremaining: 585ms\n",
      "382:\tlearn: 0.1448983\ttotal: 1.03s\tremaining: 582ms\n",
      "383:\tlearn: 0.1447075\ttotal: 1.03s\tremaining: 580ms\n",
      "384:\tlearn: 0.1445835\ttotal: 1.03s\tremaining: 577ms\n",
      "385:\tlearn: 0.1444948\ttotal: 1.04s\tremaining: 574ms\n",
      "386:\tlearn: 0.1443901\ttotal: 1.04s\tremaining: 572ms\n",
      "387:\tlearn: 0.1443183\ttotal: 1.04s\tremaining: 569ms\n",
      "388:\tlearn: 0.1442190\ttotal: 1.04s\tremaining: 566ms\n",
      "389:\tlearn: 0.1441081\ttotal: 1.05s\tremaining: 564ms\n",
      "390:\tlearn: 0.1440604\ttotal: 1.05s\tremaining: 561ms\n",
      "391:\tlearn: 0.1440023\ttotal: 1.05s\tremaining: 558ms\n",
      "392:\tlearn: 0.1439183\ttotal: 1.05s\tremaining: 555ms\n",
      "393:\tlearn: 0.1438487\ttotal: 1.06s\tremaining: 553ms\n",
      "394:\tlearn: 0.1437759\ttotal: 1.06s\tremaining: 550ms\n",
      "395:\tlearn: 0.1436118\ttotal: 1.06s\tremaining: 548ms\n",
      "396:\tlearn: 0.1435610\ttotal: 1.07s\tremaining: 546ms\n",
      "397:\tlearn: 0.1432282\ttotal: 1.07s\tremaining: 543ms\n",
      "398:\tlearn: 0.1431720\ttotal: 1.07s\tremaining: 540ms\n",
      "399:\tlearn: 0.1431067\ttotal: 1.07s\tremaining: 537ms\n",
      "400:\tlearn: 0.1430532\ttotal: 1.08s\tremaining: 535ms\n",
      "401:\tlearn: 0.1429847\ttotal: 1.08s\tremaining: 532ms\n",
      "402:\tlearn: 0.1426855\ttotal: 1.08s\tremaining: 530ms\n",
      "403:\tlearn: 0.1425603\ttotal: 1.09s\tremaining: 527ms\n",
      "404:\tlearn: 0.1424693\ttotal: 1.09s\tremaining: 524ms\n",
      "405:\tlearn: 0.1424094\ttotal: 1.09s\tremaining: 522ms\n",
      "406:\tlearn: 0.1423042\ttotal: 1.09s\tremaining: 519ms\n",
      "407:\tlearn: 0.1422070\ttotal: 1.1s\tremaining: 516ms\n",
      "408:\tlearn: 0.1420592\ttotal: 1.1s\tremaining: 513ms\n",
      "409:\tlearn: 0.1418387\ttotal: 1.1s\tremaining: 511ms\n",
      "410:\tlearn: 0.1417326\ttotal: 1.1s\tremaining: 508ms\n",
      "411:\tlearn: 0.1416367\ttotal: 1.11s\tremaining: 505ms\n",
      "412:\tlearn: 0.1415750\ttotal: 1.11s\tremaining: 502ms\n",
      "413:\tlearn: 0.1414705\ttotal: 1.11s\tremaining: 499ms\n",
      "414:\tlearn: 0.1413886\ttotal: 1.11s\tremaining: 497ms\n",
      "415:\tlearn: 0.1413381\ttotal: 1.12s\tremaining: 494ms\n",
      "416:\tlearn: 0.1413003\ttotal: 1.12s\tremaining: 491ms\n",
      "417:\tlearn: 0.1412399\ttotal: 1.12s\tremaining: 488ms\n",
      "418:\tlearn: 0.1411589\ttotal: 1.12s\tremaining: 486ms\n",
      "419:\tlearn: 0.1411108\ttotal: 1.13s\tremaining: 483ms\n",
      "420:\tlearn: 0.1407992\ttotal: 1.13s\tremaining: 480ms\n",
      "421:\tlearn: 0.1407446\ttotal: 1.13s\tremaining: 478ms\n",
      "422:\tlearn: 0.1406993\ttotal: 1.14s\tremaining: 475ms\n",
      "423:\tlearn: 0.1406351\ttotal: 1.14s\tremaining: 472ms\n",
      "424:\tlearn: 0.1405782\ttotal: 1.14s\tremaining: 470ms\n",
      "425:\tlearn: 0.1397180\ttotal: 1.14s\tremaining: 467ms\n",
      "426:\tlearn: 0.1395918\ttotal: 1.15s\tremaining: 465ms\n",
      "427:\tlearn: 0.1394267\ttotal: 1.15s\tremaining: 462ms\n",
      "428:\tlearn: 0.1393673\ttotal: 1.15s\tremaining: 459ms\n",
      "429:\tlearn: 0.1392991\ttotal: 1.16s\tremaining: 457ms\n",
      "430:\tlearn: 0.1388716\ttotal: 1.16s\tremaining: 454ms\n",
      "431:\tlearn: 0.1388047\ttotal: 1.16s\tremaining: 452ms\n",
      "432:\tlearn: 0.1387639\ttotal: 1.16s\tremaining: 449ms\n",
      "433:\tlearn: 0.1386693\ttotal: 1.17s\tremaining: 446ms\n",
      "434:\tlearn: 0.1385227\ttotal: 1.17s\tremaining: 444ms\n",
      "435:\tlearn: 0.1384775\ttotal: 1.17s\tremaining: 441ms\n",
      "436:\tlearn: 0.1384037\ttotal: 1.18s\tremaining: 438ms\n",
      "437:\tlearn: 0.1383253\ttotal: 1.18s\tremaining: 436ms\n",
      "438:\tlearn: 0.1381194\ttotal: 1.18s\tremaining: 433ms\n",
      "439:\tlearn: 0.1380037\ttotal: 1.18s\tremaining: 431ms\n",
      "440:\tlearn: 0.1378884\ttotal: 1.19s\tremaining: 428ms\n",
      "441:\tlearn: 0.1378274\ttotal: 1.19s\tremaining: 425ms\n",
      "442:\tlearn: 0.1377764\ttotal: 1.19s\tremaining: 423ms\n",
      "443:\tlearn: 0.1377376\ttotal: 1.2s\tremaining: 420ms\n",
      "444:\tlearn: 0.1376868\ttotal: 1.2s\tremaining: 418ms\n",
      "445:\tlearn: 0.1369423\ttotal: 1.2s\tremaining: 415ms\n",
      "446:\tlearn: 0.1368818\ttotal: 1.2s\tremaining: 412ms\n",
      "447:\tlearn: 0.1368258\ttotal: 1.21s\tremaining: 410ms\n",
      "448:\tlearn: 0.1364376\ttotal: 1.21s\tremaining: 407ms\n",
      "449:\tlearn: 0.1363663\ttotal: 1.21s\tremaining: 404ms\n",
      "450:\tlearn: 0.1358292\ttotal: 1.22s\tremaining: 402ms\n",
      "451:\tlearn: 0.1355383\ttotal: 1.22s\tremaining: 399ms\n",
      "452:\tlearn: 0.1353912\ttotal: 1.22s\tremaining: 396ms\n",
      "453:\tlearn: 0.1353519\ttotal: 1.22s\tremaining: 394ms\n",
      "454:\tlearn: 0.1353165\ttotal: 1.23s\tremaining: 391ms\n",
      "455:\tlearn: 0.1351258\ttotal: 1.23s\tremaining: 388ms\n",
      "456:\tlearn: 0.1350765\ttotal: 1.23s\tremaining: 386ms\n",
      "457:\tlearn: 0.1349181\ttotal: 1.24s\tremaining: 383ms\n",
      "458:\tlearn: 0.1348977\ttotal: 1.24s\tremaining: 380ms\n",
      "459:\tlearn: 0.1348308\ttotal: 1.24s\tremaining: 378ms\n",
      "460:\tlearn: 0.1347699\ttotal: 1.24s\tremaining: 375ms\n",
      "461:\tlearn: 0.1347074\ttotal: 1.25s\tremaining: 372ms\n",
      "462:\tlearn: 0.1346201\ttotal: 1.25s\tremaining: 369ms\n",
      "463:\tlearn: 0.1345780\ttotal: 1.25s\tremaining: 367ms\n",
      "464:\tlearn: 0.1341241\ttotal: 1.25s\tremaining: 364ms\n",
      "465:\tlearn: 0.1340464\ttotal: 1.25s\tremaining: 361ms\n",
      "466:\tlearn: 0.1339732\ttotal: 1.26s\tremaining: 358ms\n",
      "467:\tlearn: 0.1338595\ttotal: 1.26s\tremaining: 355ms\n",
      "468:\tlearn: 0.1337191\ttotal: 1.26s\tremaining: 353ms\n",
      "469:\tlearn: 0.1336693\ttotal: 1.26s\tremaining: 350ms\n",
      "470:\tlearn: 0.1335180\ttotal: 1.27s\tremaining: 347ms\n",
      "471:\tlearn: 0.1333906\ttotal: 1.27s\tremaining: 344ms\n",
      "472:\tlearn: 0.1333443\ttotal: 1.27s\tremaining: 341ms\n",
      "473:\tlearn: 0.1331885\ttotal: 1.27s\tremaining: 338ms\n",
      "474:\tlearn: 0.1331720\ttotal: 1.27s\tremaining: 335ms\n",
      "475:\tlearn: 0.1331222\ttotal: 1.28s\tremaining: 332ms\n",
      "476:\tlearn: 0.1330717\ttotal: 1.28s\tremaining: 330ms\n",
      "477:\tlearn: 0.1327403\ttotal: 1.28s\tremaining: 327ms\n",
      "478:\tlearn: 0.1326457\ttotal: 1.28s\tremaining: 324ms\n",
      "479:\tlearn: 0.1326013\ttotal: 1.28s\tremaining: 321ms\n",
      "480:\tlearn: 0.1325245\ttotal: 1.28s\tremaining: 318ms\n",
      "481:\tlearn: 0.1324748\ttotal: 1.29s\tremaining: 315ms\n",
      "482:\tlearn: 0.1324676\ttotal: 1.29s\tremaining: 313ms\n",
      "483:\tlearn: 0.1324185\ttotal: 1.29s\tremaining: 310ms\n",
      "484:\tlearn: 0.1323412\ttotal: 1.29s\tremaining: 307ms\n",
      "485:\tlearn: 0.1322058\ttotal: 1.29s\tremaining: 304ms\n",
      "486:\tlearn: 0.1321232\ttotal: 1.3s\tremaining: 301ms\n",
      "487:\tlearn: 0.1321150\ttotal: 1.3s\tremaining: 298ms\n",
      "488:\tlearn: 0.1315546\ttotal: 1.3s\tremaining: 296ms\n",
      "489:\tlearn: 0.1314237\ttotal: 1.3s\tremaining: 293ms\n",
      "490:\tlearn: 0.1313718\ttotal: 1.31s\tremaining: 290ms\n",
      "491:\tlearn: 0.1312866\ttotal: 1.31s\tremaining: 287ms\n",
      "492:\tlearn: 0.1312412\ttotal: 1.31s\tremaining: 284ms\n",
      "493:\tlearn: 0.1312096\ttotal: 1.31s\tremaining: 282ms\n",
      "494:\tlearn: 0.1311529\ttotal: 1.31s\tremaining: 279ms\n",
      "495:\tlearn: 0.1311244\ttotal: 1.32s\tremaining: 276ms\n",
      "496:\tlearn: 0.1310906\ttotal: 1.32s\tremaining: 273ms\n",
      "497:\tlearn: 0.1310469\ttotal: 1.32s\tremaining: 271ms\n",
      "498:\tlearn: 0.1309667\ttotal: 1.32s\tremaining: 268ms\n",
      "499:\tlearn: 0.1309340\ttotal: 1.33s\tremaining: 265ms\n",
      "500:\tlearn: 0.1308631\ttotal: 1.33s\tremaining: 263ms\n",
      "501:\tlearn: 0.1308075\ttotal: 1.33s\tremaining: 260ms\n",
      "502:\tlearn: 0.1307507\ttotal: 1.33s\tremaining: 257ms\n",
      "503:\tlearn: 0.1306505\ttotal: 1.33s\tremaining: 254ms\n",
      "504:\tlearn: 0.1302594\ttotal: 1.34s\tremaining: 252ms\n",
      "505:\tlearn: 0.1299972\ttotal: 1.34s\tremaining: 249ms\n",
      "506:\tlearn: 0.1299458\ttotal: 1.34s\tremaining: 246ms\n",
      "507:\tlearn: 0.1299071\ttotal: 1.34s\tremaining: 244ms\n",
      "508:\tlearn: 0.1298582\ttotal: 1.35s\tremaining: 241ms\n",
      "509:\tlearn: 0.1295484\ttotal: 1.35s\tremaining: 238ms\n",
      "510:\tlearn: 0.1294927\ttotal: 1.35s\tremaining: 235ms\n",
      "511:\tlearn: 0.1294569\ttotal: 1.35s\tremaining: 233ms\n",
      "512:\tlearn: 0.1293765\ttotal: 1.35s\tremaining: 230ms\n",
      "513:\tlearn: 0.1292946\ttotal: 1.36s\tremaining: 227ms\n",
      "514:\tlearn: 0.1291899\ttotal: 1.36s\tremaining: 224ms\n",
      "515:\tlearn: 0.1291535\ttotal: 1.36s\tremaining: 222ms\n",
      "516:\tlearn: 0.1290782\ttotal: 1.36s\tremaining: 219ms\n",
      "517:\tlearn: 0.1290318\ttotal: 1.37s\tremaining: 216ms\n",
      "518:\tlearn: 0.1289281\ttotal: 1.37s\tremaining: 214ms\n",
      "519:\tlearn: 0.1288802\ttotal: 1.37s\tremaining: 211ms\n",
      "520:\tlearn: 0.1288425\ttotal: 1.37s\tremaining: 208ms\n",
      "521:\tlearn: 0.1287666\ttotal: 1.38s\tremaining: 206ms\n",
      "522:\tlearn: 0.1287111\ttotal: 1.38s\tremaining: 203ms\n",
      "523:\tlearn: 0.1286470\ttotal: 1.38s\tremaining: 200ms\n",
      "524:\tlearn: 0.1285976\ttotal: 1.38s\tremaining: 198ms\n",
      "525:\tlearn: 0.1285170\ttotal: 1.39s\tremaining: 195ms\n",
      "526:\tlearn: 0.1284515\ttotal: 1.39s\tremaining: 192ms\n",
      "527:\tlearn: 0.1283720\ttotal: 1.39s\tremaining: 190ms\n",
      "528:\tlearn: 0.1282614\ttotal: 1.39s\tremaining: 187ms\n",
      "529:\tlearn: 0.1282337\ttotal: 1.4s\tremaining: 184ms\n",
      "530:\tlearn: 0.1281887\ttotal: 1.4s\tremaining: 182ms\n",
      "531:\tlearn: 0.1279783\ttotal: 1.4s\tremaining: 179ms\n",
      "532:\tlearn: 0.1279142\ttotal: 1.4s\tremaining: 176ms\n",
      "533:\tlearn: 0.1278791\ttotal: 1.41s\tremaining: 174ms\n",
      "534:\tlearn: 0.1278119\ttotal: 1.41s\tremaining: 171ms\n",
      "535:\tlearn: 0.1277584\ttotal: 1.41s\tremaining: 168ms\n",
      "536:\tlearn: 0.1277052\ttotal: 1.41s\tremaining: 166ms\n",
      "537:\tlearn: 0.1276559\ttotal: 1.41s\tremaining: 163ms\n",
      "538:\tlearn: 0.1276165\ttotal: 1.42s\tremaining: 160ms\n",
      "539:\tlearn: 0.1275850\ttotal: 1.42s\tremaining: 158ms\n",
      "540:\tlearn: 0.1273915\ttotal: 1.42s\tremaining: 155ms\n",
      "541:\tlearn: 0.1273259\ttotal: 1.42s\tremaining: 152ms\n",
      "542:\tlearn: 0.1272294\ttotal: 1.43s\tremaining: 150ms\n",
      "543:\tlearn: 0.1271978\ttotal: 1.43s\tremaining: 147ms\n",
      "544:\tlearn: 0.1271684\ttotal: 1.43s\tremaining: 145ms\n",
      "545:\tlearn: 0.1271268\ttotal: 1.43s\tremaining: 142ms\n",
      "546:\tlearn: 0.1270807\ttotal: 1.44s\tremaining: 139ms\n",
      "547:\tlearn: 0.1270257\ttotal: 1.44s\tremaining: 137ms\n",
      "548:\tlearn: 0.1269474\ttotal: 1.44s\tremaining: 134ms\n",
      "549:\tlearn: 0.1268350\ttotal: 1.44s\tremaining: 131ms\n",
      "550:\tlearn: 0.1266204\ttotal: 1.45s\tremaining: 129ms\n",
      "551:\tlearn: 0.1263891\ttotal: 1.45s\tremaining: 126ms\n",
      "552:\tlearn: 0.1263122\ttotal: 1.45s\tremaining: 123ms\n",
      "553:\tlearn: 0.1262756\ttotal: 1.45s\tremaining: 121ms\n",
      "554:\tlearn: 0.1262507\ttotal: 1.46s\tremaining: 118ms\n",
      "555:\tlearn: 0.1261922\ttotal: 1.46s\tremaining: 115ms\n",
      "556:\tlearn: 0.1261259\ttotal: 1.46s\tremaining: 113ms\n",
      "557:\tlearn: 0.1260195\ttotal: 1.46s\tremaining: 110ms\n",
      "558:\tlearn: 0.1258330\ttotal: 1.46s\tremaining: 107ms\n",
      "559:\tlearn: 0.1258054\ttotal: 1.47s\tremaining: 105ms\n",
      "560:\tlearn: 0.1257791\ttotal: 1.47s\tremaining: 102ms\n",
      "561:\tlearn: 0.1257163\ttotal: 1.47s\tremaining: 99.5ms\n",
      "562:\tlearn: 0.1256537\ttotal: 1.47s\tremaining: 96.8ms\n",
      "563:\tlearn: 0.1255971\ttotal: 1.48s\tremaining: 94.2ms\n",
      "564:\tlearn: 0.1255224\ttotal: 1.48s\tremaining: 91.5ms\n",
      "565:\tlearn: 0.1254521\ttotal: 1.48s\tremaining: 88.9ms\n",
      "566:\tlearn: 0.1253682\ttotal: 1.48s\tremaining: 86.3ms\n",
      "567:\tlearn: 0.1253040\ttotal: 1.48s\tremaining: 83.6ms\n",
      "568:\tlearn: 0.1252504\ttotal: 1.49s\tremaining: 81ms\n",
      "569:\tlearn: 0.1251880\ttotal: 1.49s\tremaining: 78.4ms\n",
      "570:\tlearn: 0.1251233\ttotal: 1.49s\tremaining: 75.8ms\n",
      "571:\tlearn: 0.1250534\ttotal: 1.49s\tremaining: 73.1ms\n",
      "572:\tlearn: 0.1250041\ttotal: 1.5s\tremaining: 70.5ms\n",
      "573:\tlearn: 0.1249290\ttotal: 1.5s\tremaining: 67.9ms\n",
      "574:\tlearn: 0.1248995\ttotal: 1.5s\tremaining: 65.3ms\n",
      "575:\tlearn: 0.1248420\ttotal: 1.5s\tremaining: 62.7ms\n",
      "576:\tlearn: 0.1246132\ttotal: 1.5s\tremaining: 60ms\n",
      "577:\tlearn: 0.1245635\ttotal: 1.51s\tremaining: 57.4ms\n",
      "578:\tlearn: 0.1245132\ttotal: 1.51s\tremaining: 54.8ms\n",
      "579:\tlearn: 0.1244803\ttotal: 1.51s\tremaining: 52.2ms\n",
      "580:\tlearn: 0.1244306\ttotal: 1.51s\tremaining: 49.6ms\n",
      "581:\tlearn: 0.1243698\ttotal: 1.52s\tremaining: 46.9ms\n",
      "582:\tlearn: 0.1243095\ttotal: 1.52s\tremaining: 44.3ms\n",
      "583:\tlearn: 0.1241115\ttotal: 1.52s\tremaining: 41.7ms\n",
      "584:\tlearn: 0.1240668\ttotal: 1.52s\tremaining: 39.1ms\n",
      "585:\tlearn: 0.1239244\ttotal: 1.53s\tremaining: 36.5ms\n",
      "586:\tlearn: 0.1239196\ttotal: 1.53s\tremaining: 33.9ms\n",
      "587:\tlearn: 0.1238727\ttotal: 1.53s\tremaining: 31.3ms\n",
      "588:\tlearn: 0.1237732\ttotal: 1.54s\tremaining: 28.7ms\n",
      "589:\tlearn: 0.1236895\ttotal: 1.54s\tremaining: 26.1ms\n",
      "590:\tlearn: 0.1236400\ttotal: 1.54s\tremaining: 23.5ms\n",
      "591:\tlearn: 0.1235880\ttotal: 1.54s\tremaining: 20.9ms\n",
      "592:\tlearn: 0.1235423\ttotal: 1.54s\tremaining: 18.2ms\n",
      "593:\tlearn: 0.1234603\ttotal: 1.55s\tremaining: 15.6ms\n",
      "594:\tlearn: 0.1234255\ttotal: 1.55s\tremaining: 13ms\n",
      "595:\tlearn: 0.1232829\ttotal: 1.55s\tremaining: 10.4ms\n",
      "596:\tlearn: 0.1232333\ttotal: 1.55s\tremaining: 7.82ms\n",
      "597:\tlearn: 0.1231805\ttotal: 1.56s\tremaining: 5.21ms\n",
      "598:\tlearn: 0.1231431\ttotal: 1.56s\tremaining: 2.6ms\n",
      "599:\tlearn: 0.1227608\ttotal: 1.56s\tremaining: 0us\n",
      "Время обучения CatBoost: 1464\n",
      "CPU times: total: 23.3 s\n",
      "Wall time: 24min 24s\n"
     ]
    }
   ],
   "source": [
    "%%time\n",
    "\n",
    "cb = CatBoostClassifier(random_state=RANDOM_STATE)\n",
    "\n",
    "cb_parametrs = {'learning_rate': [0.1, 0.2, 0.3], \n",
    "                'max_depth': range(1, 6),\n",
    "                'iterations': [400, 500, 600, 700, 800],\n",
    "                'l2_leaf_reg': [1, 10],\n",
    "                'bagging_temperature': [0.5, 1],\n",
    "                'border_count': [100, 200]\n",
    "                }\n",
    "\n",
    "cb_grid = GridSearchCV(cb, cb_parametrs, scoring='roc_auc', cv=5, n_jobs=-1, verbose=10)\n",
    "begin = time.time()\n",
    "cb_grid.fit(features_train_oe, target_train, verbose=True)\n",
    "end = time.time()\n",
    "time_cb = round(end-begin)\n",
    "print('Время обучения CatBoost:', time_cb)"
   ]
  },
  {
   "cell_type": "code",
   "execution_count": 47,
   "id": "a831a7a7",
   "metadata": {
    "scrolled": false
   },
   "outputs": [
    {
     "name": "stdout",
     "output_type": "stream",
     "text": [
      "{'bagging_temperature': 0.5, 'border_count': 200, 'iterations': 600, 'l2_leaf_reg': 1, 'learning_rate': 0.3, 'max_depth': 2}\n"
     ]
    }
   ],
   "source": [
    "cb_params = cb_grid.best_params_\n",
    "print(cb_params)"
   ]
  },
  {
   "cell_type": "code",
   "execution_count": 48,
   "id": "cf7519dd",
   "metadata": {
    "scrolled": false
   },
   "outputs": [
    {
     "name": "stdout",
     "output_type": "stream",
     "text": [
      "AUC-ROC CatBoost: 0.9253\n"
     ]
    }
   ],
   "source": [
    "cb_scores = cb_grid.best_score_.round(4)\n",
    "print('AUC-ROC CatBoost:', cb_scores)"
   ]
  },
  {
   "cell_type": "raw",
   "id": "e1764456",
   "metadata": {},
   "source": [
    "#проверим качество модели CatBoost на тестовой выборке\n",
    "test_pred_cb = cb_grid.predict(features_test_oe)\n",
    "print(\"AUC-ROC CatBoost на тестовой выборке:\", round(roc_auc_score(target_test, test_pred_cb),4))"
   ]
  },
  {
   "cell_type": "markdown",
   "id": "5491e1d3",
   "metadata": {},
   "source": [
    "### Random Forest"
   ]
  },
  {
   "cell_type": "code",
   "execution_count": 49,
   "id": "921c2b5a",
   "metadata": {
    "scrolled": false
   },
   "outputs": [
    {
     "name": "stdout",
     "output_type": "stream",
     "text": [
      "Fitting 3 folds for each of 130 candidates, totalling 390 fits\n",
      "19.15566897392273\n",
      "CPU times: total: 2.67 s\n",
      "Wall time: 19.2 s\n"
     ]
    }
   ],
   "source": [
    "%%time\n",
    "\n",
    "rf = RandomForestClassifier(random_state=RANDOM_STATE)\n",
    "rf_parametrs = {'n_estimators': range(5, 150, 30),\n",
    "                'max_depth': range(2, 15),\n",
    "                'class_weight' : ['balanced', None]\n",
    "                }\n",
    "\n",
    "rf_grid = GridSearchCV(rf, rf_parametrs, scoring='roc_auc', cv=3, n_jobs=-1, verbose=10)\n",
    "begin = time.time()\n",
    "rf_grid.fit(features_train_oe, target_train)\n",
    "end = time.time()\n",
    "time_rf = end-begin\n",
    "print(time_rf)"
   ]
  },
  {
   "cell_type": "code",
   "execution_count": 50,
   "id": "b24ab5ab",
   "metadata": {
    "scrolled": false
   },
   "outputs": [
    {
     "name": "stdout",
     "output_type": "stream",
     "text": [
      "{'learning_rate': 0.3, 'max_depth': 2, 'n_estimators': 300, 'num_leaves': 30}\n"
     ]
    }
   ],
   "source": [
    "rf_params = rf_grid.best_params_\n",
    "print(gbm_params)"
   ]
  },
  {
   "cell_type": "code",
   "execution_count": 51,
   "id": "96e78922",
   "metadata": {
    "scrolled": false
   },
   "outputs": [
    {
     "name": "stdout",
     "output_type": "stream",
     "text": [
      "F1 AUC-ROC RandomForest: 0.8294\n"
     ]
    }
   ],
   "source": [
    "rf_scores = rf_grid.best_score_.round(4)\n",
    "print('F1 AUC-ROC RandomForest:', rf_scores)"
   ]
  },
  {
   "cell_type": "markdown",
   "id": "d03d58ea",
   "metadata": {},
   "source": [
    "### Logistic Regression"
   ]
  },
  {
   "cell_type": "code",
   "execution_count": 52,
   "id": "39d3fe62",
   "metadata": {
    "scrolled": false
   },
   "outputs": [
    {
     "name": "stdout",
     "output_type": "stream",
     "text": [
      "Fitting 3 folds for each of 6 candidates, totalling 18 fits\n"
     ]
    },
    {
     "name": "stderr",
     "output_type": "stream",
     "text": [
      "C:\\Users\\iliny\\anaconda3\\lib\\site-packages\\sklearn\\model_selection\\_search.py:292: UserWarning: The total space of parameters 6 is smaller than n_iter=10. Running 6 iterations. For exhaustive searches, use GridSearchCV.\n",
      "  warnings.warn(\n"
     ]
    },
    {
     "name": "stdout",
     "output_type": "stream",
     "text": [
      "0.5183658599853516\n",
      "CPU times: total: 359 ms\n",
      "Wall time: 519 ms\n"
     ]
    }
   ],
   "source": [
    "%%time\n",
    "\n",
    "lr = LogisticRegression(random_state=RANDOM_STATE)\n",
    "pipe = make_pipeline(column_trans, lr)\n",
    "parameters = {\n",
    "    'logisticregression__C': [1,2,6],\n",
    "    'logisticregression__class_weight':['balanced', None],\n",
    "}\n",
    "\n",
    "lr_grid = RandomizedSearchCV(pipe, parameters, cv=3, n_jobs=-1, scoring='roc_auc', verbose=3)\n",
    "begin = time.time()\n",
    "lr_grid.fit(features_train_lr, target_train)\n",
    "end = time.time()\n",
    "time_lr = end-begin\n",
    "print(time_lr)"
   ]
  },
  {
   "cell_type": "code",
   "execution_count": 53,
   "id": "5dd83b88",
   "metadata": {
    "scrolled": false
   },
   "outputs": [
    {
     "name": "stdout",
     "output_type": "stream",
     "text": [
      "{'logisticregression__class_weight': None, 'logisticregression__C': 1}\n"
     ]
    }
   ],
   "source": [
    "lr_params = lr_grid.best_params_\n",
    "print(lr_params)"
   ]
  },
  {
   "cell_type": "code",
   "execution_count": 54,
   "id": "aa9dbc06",
   "metadata": {
    "scrolled": false
   },
   "outputs": [
    {
     "name": "stdout",
     "output_type": "stream",
     "text": [
      "AUC-ROC LinearRegression: 0.7749\n"
     ]
    }
   ],
   "source": [
    "lr_scores = lr_grid.best_score_.round(4)\n",
    "print('AUC-ROC LinearRegression:', lr_scores)"
   ]
  },
  {
   "cell_type": "code",
   "execution_count": 55,
   "id": "d84d36b9",
   "metadata": {
    "scrolled": false
   },
   "outputs": [
    {
     "data": {
      "text/html": [
       "<div>\n",
       "<style scoped>\n",
       "    .dataframe tbody tr th:only-of-type {\n",
       "        vertical-align: middle;\n",
       "    }\n",
       "\n",
       "    .dataframe tbody tr th {\n",
       "        vertical-align: top;\n",
       "    }\n",
       "\n",
       "    .dataframe thead th {\n",
       "        text-align: right;\n",
       "    }\n",
       "</style>\n",
       "<table border=\"1\" class=\"dataframe\">\n",
       "  <thead>\n",
       "    <tr style=\"text-align: right;\">\n",
       "      <th></th>\n",
       "      <th>Модель</th>\n",
       "      <th>Время обучения модели</th>\n",
       "      <th>AUC-ROC</th>\n",
       "    </tr>\n",
       "  </thead>\n",
       "  <tbody>\n",
       "    <tr>\n",
       "      <th>0</th>\n",
       "      <td>LightGBM</td>\n",
       "      <td>77.000000</td>\n",
       "      <td>0.8960</td>\n",
       "    </tr>\n",
       "    <tr>\n",
       "      <th>1</th>\n",
       "      <td>CatBoost</td>\n",
       "      <td>1464.000000</td>\n",
       "      <td>0.9253</td>\n",
       "    </tr>\n",
       "    <tr>\n",
       "      <th>2</th>\n",
       "      <td>RandomForest</td>\n",
       "      <td>19.155669</td>\n",
       "      <td>0.8294</td>\n",
       "    </tr>\n",
       "    <tr>\n",
       "      <th>3</th>\n",
       "      <td>LogisticRegression</td>\n",
       "      <td>0.518366</td>\n",
       "      <td>0.7749</td>\n",
       "    </tr>\n",
       "  </tbody>\n",
       "</table>\n",
       "</div>"
      ],
      "text/plain": [
       "               Модель  Время обучения модели  AUC-ROC\n",
       "0            LightGBM              77.000000   0.8960\n",
       "1            CatBoost            1464.000000   0.9253\n",
       "2        RandomForest              19.155669   0.8294\n",
       "3  LogisticRegression               0.518366   0.7749"
      ]
     },
     "metadata": {},
     "output_type": "display_data"
    }
   ],
   "source": [
    "columns = ['Модель', 'Время обучения модели', 'AUC-ROC']\n",
    "gbm = ['LightGBM', time_gbm, gbm_scores]\n",
    "cb = ['CatBoost', time_cb, cb_scores]\n",
    "rf = ['RandomForest', time_rf, rf_scores]\n",
    "lr = ['LogisticRegression', time_lr, lr_scores]\n",
    "\n",
    "table = pd.DataFrame([gbm, cb, rf, lr], columns = columns)\n",
    "display(table)"
   ]
  },
  {
   "cell_type": "markdown",
   "id": "50e3f221",
   "metadata": {},
   "source": [
    "### Изучение важности признаков"
   ]
  },
  {
   "cell_type": "markdown",
   "id": "5dd197da",
   "metadata": {},
   "source": [
    "Обучим лучшую модель с подобранными параметрами."
   ]
  },
  {
   "cell_type": "code",
   "execution_count": 56,
   "id": "c1049890",
   "metadata": {},
   "outputs": [
    {
     "name": "stdout",
     "output_type": "stream",
     "text": [
      "              feature  importance\n",
      "17  contract_duration   73.350660\n",
      "4       total_charges    7.406253\n",
      "3     monthly_charges    6.042795\n",
      "0                type    3.421129\n",
      "7             partner    1.736292\n",
      "2      payment_method    1.513304\n",
      "16     multiple_lines    1.502302\n",
      "11      online_backup    0.810129\n",
      "12  device_protection    0.795317\n",
      "15   streaming_movies    0.668179\n",
      "6      senior_citizen    0.666321\n",
      "8          dependents    0.465611\n",
      "14       streaming_tv    0.361711\n",
      "1   paper_lessbilling    0.338521\n",
      "5              gender    0.332120\n",
      "10    online_security    0.304700\n",
      "13       tech_support    0.231895\n",
      "9    internet_service    0.052761\n"
     ]
    }
   ],
   "source": [
    "final_model_cb = CatBoostClassifier(\n",
    "    bagging_temperature=0.5,\n",
    "    border_count=200,\n",
    "    iterations=600,\n",
    "    l2_leaf_reg=1,\n",
    "    learning_rate=0.3,\n",
    "    max_depth=2,\n",
    "    random_state=RANDOM_STATE,\n",
    "    verbose=False\n",
    ")\n",
    "final_model_cb.fit(features_train_oe, target_train)\n",
    "\n",
    "#получим важность признаков\n",
    "importances = final_model_cb.feature_importances_\n",
    "feature_importances = pd.DataFrame({'feature': features_train.columns, 'importance': importances})\n",
    "feature_importances = feature_importances.sort_values('importance', ascending=False)\n",
    "\n",
    "print(feature_importances)"
   ]
  },
  {
   "cell_type": "code",
   "execution_count": 57,
   "id": "aa3ddcdc",
   "metadata": {},
   "outputs": [
    {
     "data": {
      "image/png": "[encoded data removed]",
      "text/plain": [
       "<Figure size 864x432 with 1 Axes>"
      ]
     },
     "metadata": {
      "needs_background": "light"
     },
     "output_type": "display_data"
    }
   ],
   "source": [
    "plt.rcParams['figure.figsize']=(12,6)\n",
    "feature_importances_barplot = sns.barplot(y= 'feature', x = 'importance', data = feature_importances)\n",
    "feature_importances_barplot.set_title('Важность признаков');"
   ]
  },
  {
   "cell_type": "markdown",
   "id": "583e328a",
   "metadata": {},
   "source": [
    "<b>ВЫВОД.</b> Исследованы модели LightGBM, CatBoost, RandomForest и LogisticRegression. В моделях рассмотрены варианты в том числе с балансировкой классов. Лучшей по метрике AUC-ROC является модель CatBoost с параметрами: {'bagging_temperature': 0.5, 'border_count': 200, 'iterations': 600, 'l2_leaf_reg': 1, 'learning_rate': 0.3, 'max_depth': 2}. AUC-ROC на кросс-валидации составляет 0.9253.\n",
    "Наиболее важным признаком модели является признак 'contract_duration'."
   ]
  },
  {
   "cell_type": "markdown",
   "id": "f4782c2f",
   "metadata": {},
   "source": [
    "## Тестирование модели"
   ]
  },
  {
   "cell_type": "markdown",
   "id": "e6d70d73",
   "metadata": {},
   "source": [
    "Проверим качество модели CatBoost на тестовой выборке."
   ]
  },
  {
   "cell_type": "code",
   "execution_count": 58,
   "id": "ed8715de",
   "metadata": {},
   "outputs": [
    {
     "name": "stdout",
     "output_type": "stream",
     "text": [
      "AUC-ROC CatBoost на тестовой выборке: 0.9222\n"
     ]
    }
   ],
   "source": [
    "test_proba_cb = cb_grid.predict_proba(features_test_oe)\n",
    "print(\"AUC-ROC CatBoost на тестовой выборке:\", round(roc_auc_score(target_test, test_proba_cb[:, 1]),4))"
   ]
  },
  {
   "cell_type": "markdown",
   "id": "59688589",
   "metadata": {},
   "source": [
    "На тестовой выборке AUC-ROC обученной модели CatBoostClassifier с параметрами {'bagging_temperature': 0.5, 'border_count': 200, 'iterations': 600, 'l2_leaf_reg': 1, 'learning_rate': 0.3, 'max_depth': 2} составляет 0.9222, что удовлетворяет условию\n",
    "задачи. "
   ]
  },
  {
   "cell_type": "code",
   "execution_count": 59,
   "id": "8a741e29",
   "metadata": {},
   "outputs": [
    {
     "data": {
      "image/png": "[encoded data removed]",
      "text/plain": [
       "<Figure size 576x432 with 1 Axes>"
      ]
     },
     "metadata": {
      "needs_background": "light"
     },
     "output_type": "display_data"
    }
   ],
   "source": [
    "probas = cb_grid.predict_proba(features_test_oe)[:, 1]\n",
    "fpr, tpr, thresholds = roc_curve(target_test, probas)\n",
    "roc_auc = auc(fpr, tpr)\n",
    "\n",
    "#построение ROC-кривой\n",
    "plt.figure(figsize=(8, 6))\n",
    "plt.plot(fpr, tpr, label='ROC curve (area = %0.2f)' % roc_auc)\n",
    "plt.plot([0, 1], [0, 1], 'k--')\n",
    "plt.xlim([0, 1])\n",
    "plt.ylim([0, 1.05])\n",
    "plt.xlabel('False Positive Rate')\n",
    "plt.ylabel('True Positive Rate')\n",
    "plt.title('ROC curve')\n",
    "plt.legend(loc='lower right')\n",
    "plt.show()"
   ]
  },
  {
   "cell_type": "markdown",
   "id": "98629771",
   "metadata": {},
   "source": [
    "## Вывод"
   ]
  },
  {
   "cell_type": "markdown",
   "id": "ffecc639",
   "metadata": {},
   "source": [
    "Для решения задачи бинарной классификации в телекоммуникационной компании - предсказания уйдет ли клиент или нет- были предоставлены датасеты размерами (7043, 8), (7043, 5), (5517, 8), (6361, 2). Они были исследованы, данные подготовлены для дальнейшего обучения: \n",
    "- произведено объединение таблиц методом merge; \n",
    "- пропуски в признаках, обозначающих наличие дополнительных услуг, заполнены значением 'No'; отсутствующие значения в признаке 'total_charges', были удалены, т.к. их количество незначительно (11 строк- 0.16%);\n",
    "- проверены дубликаты;\n",
    "- рассчитан дополнительный признак 'contract_duration';\n",
    "- удалены столбцы с датой начала и окончания действия договора, 'customer_id' как неинформативные.\n",
    "\n",
    "Размер преобразованной таблицы: (7032, 19), удалено 0.16 % строк. Произведено разделение на выборки в отношении 25% - тестовая выборка и 75% - тренировочная, масштабирование численных признаков, закодированы категориальные признаки методом OHE для логистической регрессии. Методом OrdinalEncoder закодированы категориальные признаки для остальных моделей.\n",
    "\n",
    "Проведен исследовательских анализ данных. Классы целевого признака не сбалансированы. Исследована корреляция между признаками. \n",
    "Между целевым признаком exited и остальными признаками нет сильной корреляции, но присутствует сильная связь между другими признаками: monthly_charges-internet_service; monthly_charges-streaming_tv; monthly_charges-streaming_movies, total_charges-contract_duration.\n",
    "\n",
    "Портрет типичного клиента: сумма ежемесячного платежа составляет около 20 у.е., суммарные траты составляют до 100 у.е., с длительностью контрактов до полугода, заключает договор с ежемесячной оплатой, пользуется безналичным расчетом с помощью электронный платежной системы, не имеет пенсионного статуса, без иждивенцев, пользуется услугами проведения оптоволокна и не использует другие дополнительные услуги.\n",
    "\n",
    "Исследованы модели LightGBM, CatBoost, RandomForest и LogisticRegression. В моделях рассмотрены варианты в том числе с балансировкой классов. \n",
    "Лучшей по метрике AUC-ROC является модель CatBoost с параметрами: {'bagging_temperature': 0.5, 'border_count': 200, 'iterations': 600, 'l2_leaf_reg': 1, 'learning_rate': 0.3, 'max_depth': 2}. Наиболее важным признаком модели является признак 'contract_duration'. Метрика AUC-ROC на кросс-валидации составила 0.9253, на тестовой выборке - 0.9222, что удовлетворяет ТЗ.\n",
    "\n"
   ]
  },
  {
   "cell_type": "markdown",
   "id": "3e2b0ae4",
   "metadata": {},
   "source": [
    "## Отчет"
   ]
  },
  {
   "cell_type": "markdown",
   "id": "11a313ae",
   "metadata": {},
   "source": [
    "### Введение"
   ]
  },
  {
   "cell_type": "markdown",
   "id": "672e13b3",
   "metadata": {},
   "source": [
    "Сохранение лояльности клиентов является важным аспектом для бизнеса, т.к. это напрямую влияет на прибыль, ведь привлекать новых клиентов - горазо дороже. \n",
    "Для предотвращения оттока необходимо определить клиентов, которые могут в скором времени расторгнуть договор и произвести действия , например, отправить промокод, предложить новые услуги, новые условия и т.п. "
   ]
  },
  {
   "cell_type": "markdown",
   "id": "f6bd8a82",
   "metadata": {},
   "source": [
    "### Данные и предобработка"
   ]
  },
  {
   "cell_type": "markdown",
   "id": "6c7e85a2",
   "metadata": {},
   "source": [
    "Для решения задачи были предоставлены датасеты:\n",
    "1. contract размером (7043, 8) с информацией о контрактах;\n",
    "2. personal размером (7043, 5) с персональной информацией;\n",
    "3. internet размером (5517, 8) с информацией об интернет-услугах;\n",
    "4. phone размером (6361, 2) с информацией о телефонных услугах.\n",
    " \n",
    "Они были исследованы, данные подготовлены для дальнейшего обучения:\n",
    "- произведено объединение таблиц методом merge;\n",
    "- пропуски в признаках, обозначающих наличие дополнительных услуг, заполнены значением 'No'; отсутствующие значения в признаке 'total_charges', были удалены, т.к. их количество незначительно (11 строк- 0.16%);\n",
    "проверены дубликаты;\n",
    "- рассчитан дополнительный признак 'contract_duration' как разница между датой окончания и датой начала действия контракта;\n",
    "- создан столбец с целевым признаком 'exited', где 0 - лояльный клиент, 1 - клиент, расторгнувший договор.\n",
    "- удалены столбцы с датой начала и окончания действия договора, 'customer_id' как неинформативные.\n",
    "\n",
    "Размер преобразованной таблицы: (7032, 19).\n",
    " \n",
    "Исследовательский анализ данных показал, что классы целевого признака не сбалансированы. \n",
    "Между целевым признаком exited и остальными признаками нет сильной корреляции, но присутствует сильная связь между другими признаками: monthly_charges-internet_service; monthly_charges-streaming_tv; monthly_charges-streaming_movies, total_charges-contract_duration.\n",
    " \n",
    "Произведено разделение на выборки в отношении 25% - тестовая выборка и 75% - тренировочная.\n",
    "Для логистической регрессии  было произведено масштабирование численных признаков, закодированы категориальные признаки методом OHE. Методом OrdinalEncoder закодированы категориальные признаки для остальных моделей."
   ]
  },
  {
   "cell_type": "markdown",
   "id": "24c678c6",
   "metadata": {},
   "source": [
    "### Признаки"
   ]
  },
  {
   "cell_type": "markdown",
   "id": "96b6dbf8",
   "metadata": {},
   "source": [
    "Для обучения модели были использованы признаки: ['type',\n",
    " 'paper_lessbilling',\n",
    " 'payment_method',\n",
    " 'monthly_charges',\n",
    " 'total_charges',\n",
    " 'gender',\n",
    " 'senior_citizen',\n",
    " 'partner',\n",
    " 'dependents',\n",
    " 'internet_service',\n",
    " 'online_security',\n",
    " 'online_backup',\n",
    " 'device_protection',\n",
    " 'tech_support',\n",
    " 'streaming_tv',\n",
    " 'streaming_movies',\n",
    " 'multiple_lines',\n",
    " 'contract_duration']\n",
    "\n",
    "Наиболее важным признаком модели является признак 'contract_duration'."
   ]
  },
  {
   "cell_type": "markdown",
   "id": "a3c3be19",
   "metadata": {},
   "source": [
    "### Модели"
   ]
  },
  {
   "cell_type": "markdown",
   "id": "b499fa57",
   "metadata": {},
   "source": [
    "Исследованы модели LightGBM, CatBoost, RandomForest и LogisticRegression с параметром random_state = 80523.\n",
    "В моделях исследованы различные параметры, в том числе с балансировкой классов.\n",
    "Лучшей по метрике AUC-ROC является модель CatBoost с параметрами:"
   ]
  },
  {
   "cell_type": "markdown",
   "id": "4105a6b2",
   "metadata": {},
   "source": [
    "CatBoostClassifier(\n",
    "    bagging_temperature=0.5,\n",
    "    border_count=200,\n",
    "    iterations=600,\n",
    "    l2_leaf_reg=1,\n",
    "    learning_rate=0.3,\n",
    "    max_depth=2,\n",
    "    random_state=80523\n",
    ")"
   ]
  },
  {
   "cell_type": "markdown",
   "id": "b26d3a71",
   "metadata": {},
   "source": [
    "### Результаты"
   ]
  },
  {
   "cell_type": "markdown",
   "id": "0cac20e7",
   "metadata": {},
   "source": [
    "Метрика AUC-ROC на кросс-валидации составила 0.9253, на тестовой выборке - 0.9292, что удовлетворяет ТЗ.\n",
    "\n",
    "\n",
    "Все пункты плана были выполнены. В отличие от исходного плана работ было добавлено исследование модели Cat Boost, т.к. изначально модели Light GBM, Random Forest, Logistic Regression не давали требуемого уровня метрики, а так же дополнительно изучена важность признаков. Трудностями в работе считаю изучение распределения признаков в разрезе уровня лояльности клиентов. Ключевыми считаю все проделанные этапы."
   ]
  }
 ],
 "metadata": {
  "ExecuteTimeLog": [
   {
    "duration": 428,
    "start_time": "2023-05-09T11:55:21.001Z"
   },
   {
    "duration": 2,
    "start_time": "2023-05-09T11:55:21.431Z"
   },
   {
    "duration": 4,
    "start_time": "2023-05-09T11:55:21.906Z"
   },
   {
    "duration": 611,
    "start_time": "2023-05-09T11:55:22.120Z"
   },
   {
    "duration": 3,
    "start_time": "2023-05-09T11:55:22.734Z"
   },
   {
    "duration": 227,
    "start_time": "2023-05-09T11:55:22.739Z"
   },
   {
    "duration": 75,
    "start_time": "2023-05-09T11:56:28.265Z"
   },
   {
    "duration": 4,
    "start_time": "2023-05-09T11:57:01.973Z"
   },
   {
    "duration": 2,
    "start_time": "2023-05-09T11:57:08.575Z"
   },
   {
    "duration": 2,
    "start_time": "2023-05-09T11:57:08.797Z"
   },
   {
    "duration": 3,
    "start_time": "2023-05-09T11:57:09.228Z"
   },
   {
    "duration": 309,
    "start_time": "2023-05-09T11:57:09.436Z"
   },
   {
    "duration": 3,
    "start_time": "2023-05-09T11:57:09.884Z"
   },
   {
    "duration": 225,
    "start_time": "2023-05-09T11:57:10.087Z"
   },
   {
    "duration": 43,
    "start_time": "2023-05-16T17:19:39.019Z"
   },
   {
    "duration": 2473,
    "start_time": "2023-05-16T17:23:58.668Z"
   },
   {
    "duration": 0,
    "start_time": "2023-05-16T17:24:01.143Z"
   },
   {
    "duration": 11467,
    "start_time": "2023-05-16T17:24:12.969Z"
   },
   {
    "duration": 2,
    "start_time": "2023-05-16T17:24:24.441Z"
   },
   {
    "duration": 3,
    "start_time": "2023-05-16T17:24:43.435Z"
   },
   {
    "duration": 587,
    "start_time": "2023-05-16T17:24:44.246Z"
   },
   {
    "duration": 2,
    "start_time": "2023-05-16T17:24:46.389Z"
   },
   {
    "duration": 177,
    "start_time": "2023-05-16T17:24:46.718Z"
   },
   {
    "duration": 31,
    "start_time": "2023-05-16T17:24:52.389Z"
   },
   {
    "duration": 3,
    "start_time": "2023-05-16T17:24:54.213Z"
   },
   {
    "duration": 4,
    "start_time": "2023-05-16T17:24:56.598Z"
   },
   {
    "duration": 5,
    "start_time": "2023-05-16T17:24:58.590Z"
   },
   {
    "duration": 5,
    "start_time": "2023-05-16T17:24:59.158Z"
   },
   {
    "duration": 13,
    "start_time": "2023-05-16T17:25:00.910Z"
   },
   {
    "duration": 5,
    "start_time": "2023-05-16T17:25:01.054Z"
   },
   {
    "duration": 7,
    "start_time": "2023-05-16T17:25:01.539Z"
   },
   {
    "duration": 5,
    "start_time": "2023-05-16T17:25:02.488Z"
   },
   {
    "duration": 49,
    "start_time": "2023-05-16T17:25:04.199Z"
   },
   {
    "duration": 2,
    "start_time": "2023-05-16T17:25:04.518Z"
   },
   {
    "duration": 9,
    "start_time": "2023-05-16T17:25:06.488Z"
   },
   {
    "duration": 5,
    "start_time": "2023-05-16T17:25:06.499Z"
   },
   {
    "duration": 31,
    "start_time": "2023-05-16T17:25:06.505Z"
   },
   {
    "duration": 6,
    "start_time": "2023-05-16T17:25:06.538Z"
   },
   {
    "duration": 3,
    "start_time": "2023-05-16T17:25:06.549Z"
   },
   {
    "duration": 6,
    "start_time": "2023-05-16T17:25:07.253Z"
   },
   {
    "duration": 6,
    "start_time": "2023-05-16T17:25:07.888Z"
   },
   {
    "duration": 2,
    "start_time": "2023-05-16T17:25:09.186Z"
   },
   {
    "duration": 4,
    "start_time": "2023-05-16T17:25:09.350Z"
   },
   {
    "duration": 4,
    "start_time": "2023-05-16T17:25:10.902Z"
   },
   {
    "duration": 8,
    "start_time": "2023-05-16T17:25:11.741Z"
   },
   {
    "duration": 4,
    "start_time": "2023-05-16T17:25:12.137Z"
   },
   {
    "duration": 4,
    "start_time": "2023-05-16T17:25:12.438Z"
   },
   {
    "duration": 2,
    "start_time": "2023-05-16T17:25:13.353Z"
   },
   {
    "duration": 15,
    "start_time": "2023-05-16T17:25:13.510Z"
   },
   {
    "duration": 5,
    "start_time": "2023-05-16T17:25:14.125Z"
   },
   {
    "duration": 3,
    "start_time": "2023-05-16T17:25:14.540Z"
   },
   {
    "duration": 73,
    "start_time": "2023-05-16T17:25:14.737Z"
   },
   {
    "duration": 34,
    "start_time": "2023-05-16T17:25:14.927Z"
   },
   {
    "duration": 3,
    "start_time": "2023-05-16T17:25:15.992Z"
   },
   {
    "duration": 119,
    "start_time": "2023-05-16T17:25:17.646Z"
   },
   {
    "duration": 415,
    "start_time": "2023-05-16T17:25:18.943Z"
   },
   {
    "duration": 373,
    "start_time": "2023-05-16T17:25:21.758Z"
   },
   {
    "duration": 209,
    "start_time": "2023-05-16T17:25:22.909Z"
   },
   {
    "duration": 1238,
    "start_time": "2023-05-16T17:25:23.385Z"
   },
   {
    "duration": 2118,
    "start_time": "2023-05-16T17:34:19.300Z"
   },
   {
    "duration": 2,
    "start_time": "2023-05-16T17:34:21.420Z"
   },
   {
    "duration": 14,
    "start_time": "2023-05-16T17:34:21.424Z"
   },
   {
    "duration": 255,
    "start_time": "2023-05-16T17:34:24.035Z"
   },
   {
    "duration": 2,
    "start_time": "2023-05-16T17:34:24.446Z"
   },
   {
    "duration": 191,
    "start_time": "2023-05-16T17:34:24.606Z"
   },
   {
    "duration": 28,
    "start_time": "2023-05-16T17:34:25.846Z"
   },
   {
    "duration": 3,
    "start_time": "2023-05-16T17:34:25.999Z"
   },
   {
    "duration": 3,
    "start_time": "2023-05-16T17:34:26.735Z"
   },
   {
    "duration": 5,
    "start_time": "2023-05-16T17:34:27.451Z"
   },
   {
    "duration": 5,
    "start_time": "2023-05-16T17:34:27.792Z"
   },
   {
    "duration": 14,
    "start_time": "2023-05-16T17:34:28.245Z"
   },
   {
    "duration": 4,
    "start_time": "2023-05-16T17:34:28.401Z"
   },
   {
    "duration": 6,
    "start_time": "2023-05-16T17:34:28.706Z"
   },
   {
    "duration": 5,
    "start_time": "2023-05-16T17:34:29.150Z"
   },
   {
    "duration": 47,
    "start_time": "2023-05-16T17:34:29.603Z"
   },
   {
    "duration": 3,
    "start_time": "2023-05-16T17:34:29.901Z"
   },
   {
    "duration": 9,
    "start_time": "2023-05-16T17:34:30.240Z"
   },
   {
    "duration": 5,
    "start_time": "2023-05-16T17:34:30.558Z"
   },
   {
    "duration": 6,
    "start_time": "2023-05-16T17:34:31.046Z"
   },
   {
    "duration": 4,
    "start_time": "2023-05-16T17:34:31.235Z"
   },
   {
    "duration": 3,
    "start_time": "2023-05-16T17:34:31.402Z"
   },
   {
    "duration": 6,
    "start_time": "2023-05-16T17:34:31.550Z"
   },
   {
    "duration": 5,
    "start_time": "2023-05-16T17:34:31.897Z"
   },
   {
    "duration": 4,
    "start_time": "2023-05-16T17:34:32.558Z"
   },
   {
    "duration": 4,
    "start_time": "2023-05-16T17:34:32.742Z"
   },
   {
    "duration": 5,
    "start_time": "2023-05-16T17:34:33.288Z"
   },
   {
    "duration": 7,
    "start_time": "2023-05-16T17:34:33.644Z"
   },
   {
    "duration": 3,
    "start_time": "2023-05-16T17:34:33.806Z"
   },
   {
    "duration": 4,
    "start_time": "2023-05-16T17:34:33.998Z"
   },
   {
    "duration": 3,
    "start_time": "2023-05-16T17:34:34.785Z"
   },
   {
    "duration": 14,
    "start_time": "2023-05-16T17:34:34.957Z"
   },
   {
    "duration": 6,
    "start_time": "2023-05-16T17:34:35.471Z"
   },
   {
    "duration": 2,
    "start_time": "2023-05-16T17:34:35.855Z"
   },
   {
    "duration": 57,
    "start_time": "2023-05-16T17:34:36.039Z"
   },
   {
    "duration": 33,
    "start_time": "2023-05-16T17:34:36.214Z"
   },
   {
    "duration": 3,
    "start_time": "2023-05-16T17:34:37.453Z"
   },
   {
    "duration": 111,
    "start_time": "2023-05-16T17:34:39.422Z"
   },
   {
    "duration": 1326,
    "start_time": "2023-05-16T17:34:43.486Z"
   }
  ],
  "kernelspec": {
   "display_name": "Python 3 (ipykernel)",
   "language": "python",
   "name": "python3"
  },
  "language_info": {
   "codemirror_mode": {
    "name": "ipython",
    "version": 3
   },
   "file_extension": ".py",
   "mimetype": "text/x-python",
   "name": "python",
   "nbconvert_exporter": "python",
   "pygments_lexer": "ipython3",
   "version": "3.9.12"
  },
  "toc": {
   "base_numbering": 1,
   "nav_menu": {},
   "number_sections": true,
   "sideBar": true,
   "skip_h1_title": true,
   "title_cell": "Table of Contents",
   "title_sidebar": "Contents",
   "toc_cell": false,
   "toc_position": {},
   "toc_section_display": true,
   "toc_window_display": false
  }
 },
 "nbformat": 4,
 "nbformat_minor": 5
}
