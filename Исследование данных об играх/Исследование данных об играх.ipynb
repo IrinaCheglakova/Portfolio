{
 "cells": [
  {
   "cell_type": "markdown",
   "id": "51fcf132",
   "metadata": {},
   "source": [
    "# Исследование данных об играх"
   ]
  },
  {
   "cell_type": "markdown",
   "id": "50f65c9b",
   "metadata": {},
   "source": [
    "Из открытых источников доступны исторические данные до 2016 года о продажах игр, оценки пользователей и экспертов, жанры и платформы. Нужно выявить определяющие успешность игры закономерности. Это позволит сделать ставку на потенциально популярный продукт и спланировать рекламные кампании интернет-магазина «Стримчик», который продаёт по всему миру компьютерные игры. \n",
    "\n",
    "Цель проекта - выявить определяющие успешность игры закономерности.\n",
    "Этапы:\n",
    "1. Обзор данных\n",
    "2. Предобработка данных\n",
    "3. Исследовательский анализ данных\n",
    "4. Составление портрета пользователя каждого региона\n",
    "5. Проверка гипотез\n",
    "6. Общий вывод"
   ]
  },
  {
   "cell_type": "markdown",
   "id": "b9231485",
   "metadata": {},
   "source": [
    "###  Обзор данных"
   ]
  },
  {
   "cell_type": "code",
   "execution_count": 1,
   "id": "10d43736",
   "metadata": {
    "scrolled": true
   },
   "outputs": [],
   "source": [
    "import pandas as pd\n",
    "import matplotlib.pyplot as plt\n",
    "import numpy as np\n",
    "import seaborn as sns\n",
    "from scipy import stats as st"
   ]
  },
  {
   "cell_type": "code",
   "execution_count": 2,
   "id": "2bc94574",
   "metadata": {},
   "outputs": [],
   "source": [
    "try:\n",
    "    df = pd.read_csv('games.csv')\n",
    "except:\n",
    "    df = pd.read_csv('/datasets/games.csv')"
   ]
  },
  {
   "cell_type": "code",
   "execution_count": 3,
   "id": "4d44438b",
   "metadata": {
    "scrolled": true
   },
   "outputs": [
    {
     "data": {
      "text/html": [
       "<div>\n",
       "<style scoped>\n",
       "    .dataframe tbody tr th:only-of-type {\n",
       "        vertical-align: middle;\n",
       "    }\n",
       "\n",
       "    .dataframe tbody tr th {\n",
       "        vertical-align: top;\n",
       "    }\n",
       "\n",
       "    .dataframe thead th {\n",
       "        text-align: right;\n",
       "    }\n",
       "</style>\n",
       "<table border=\"1\" class=\"dataframe\">\n",
       "  <thead>\n",
       "    <tr style=\"text-align: right;\">\n",
       "      <th></th>\n",
       "      <th>Name</th>\n",
       "      <th>Platform</th>\n",
       "      <th>Year_of_Release</th>\n",
       "      <th>Genre</th>\n",
       "      <th>NA_sales</th>\n",
       "      <th>EU_sales</th>\n",
       "      <th>JP_sales</th>\n",
       "      <th>Other_sales</th>\n",
       "      <th>Critic_Score</th>\n",
       "      <th>User_Score</th>\n",
       "      <th>Rating</th>\n",
       "    </tr>\n",
       "  </thead>\n",
       "  <tbody>\n",
       "    <tr>\n",
       "      <th>0</th>\n",
       "      <td>Wii Sports</td>\n",
       "      <td>Wii</td>\n",
       "      <td>2006.0</td>\n",
       "      <td>Sports</td>\n",
       "      <td>41.36</td>\n",
       "      <td>28.96</td>\n",
       "      <td>3.77</td>\n",
       "      <td>8.45</td>\n",
       "      <td>76.0</td>\n",
       "      <td>8</td>\n",
       "      <td>E</td>\n",
       "    </tr>\n",
       "    <tr>\n",
       "      <th>1</th>\n",
       "      <td>Super Mario Bros.</td>\n",
       "      <td>NES</td>\n",
       "      <td>1985.0</td>\n",
       "      <td>Platform</td>\n",
       "      <td>29.08</td>\n",
       "      <td>3.58</td>\n",
       "      <td>6.81</td>\n",
       "      <td>0.77</td>\n",
       "      <td>NaN</td>\n",
       "      <td>NaN</td>\n",
       "      <td>NaN</td>\n",
       "    </tr>\n",
       "    <tr>\n",
       "      <th>2</th>\n",
       "      <td>Mario Kart Wii</td>\n",
       "      <td>Wii</td>\n",
       "      <td>2008.0</td>\n",
       "      <td>Racing</td>\n",
       "      <td>15.68</td>\n",
       "      <td>12.76</td>\n",
       "      <td>3.79</td>\n",
       "      <td>3.29</td>\n",
       "      <td>82.0</td>\n",
       "      <td>8.3</td>\n",
       "      <td>E</td>\n",
       "    </tr>\n",
       "    <tr>\n",
       "      <th>3</th>\n",
       "      <td>Wii Sports Resort</td>\n",
       "      <td>Wii</td>\n",
       "      <td>2009.0</td>\n",
       "      <td>Sports</td>\n",
       "      <td>15.61</td>\n",
       "      <td>10.93</td>\n",
       "      <td>3.28</td>\n",
       "      <td>2.95</td>\n",
       "      <td>80.0</td>\n",
       "      <td>8</td>\n",
       "      <td>E</td>\n",
       "    </tr>\n",
       "    <tr>\n",
       "      <th>4</th>\n",
       "      <td>Pokemon Red/Pokemon Blue</td>\n",
       "      <td>GB</td>\n",
       "      <td>1996.0</td>\n",
       "      <td>Role-Playing</td>\n",
       "      <td>11.27</td>\n",
       "      <td>8.89</td>\n",
       "      <td>10.22</td>\n",
       "      <td>1.00</td>\n",
       "      <td>NaN</td>\n",
       "      <td>NaN</td>\n",
       "      <td>NaN</td>\n",
       "    </tr>\n",
       "    <tr>\n",
       "      <th>5</th>\n",
       "      <td>Tetris</td>\n",
       "      <td>GB</td>\n",
       "      <td>1989.0</td>\n",
       "      <td>Puzzle</td>\n",
       "      <td>23.20</td>\n",
       "      <td>2.26</td>\n",
       "      <td>4.22</td>\n",
       "      <td>0.58</td>\n",
       "      <td>NaN</td>\n",
       "      <td>NaN</td>\n",
       "      <td>NaN</td>\n",
       "    </tr>\n",
       "    <tr>\n",
       "      <th>6</th>\n",
       "      <td>New Super Mario Bros.</td>\n",
       "      <td>DS</td>\n",
       "      <td>2006.0</td>\n",
       "      <td>Platform</td>\n",
       "      <td>11.28</td>\n",
       "      <td>9.14</td>\n",
       "      <td>6.50</td>\n",
       "      <td>2.88</td>\n",
       "      <td>89.0</td>\n",
       "      <td>8.5</td>\n",
       "      <td>E</td>\n",
       "    </tr>\n",
       "    <tr>\n",
       "      <th>7</th>\n",
       "      <td>Wii Play</td>\n",
       "      <td>Wii</td>\n",
       "      <td>2006.0</td>\n",
       "      <td>Misc</td>\n",
       "      <td>13.96</td>\n",
       "      <td>9.18</td>\n",
       "      <td>2.93</td>\n",
       "      <td>2.84</td>\n",
       "      <td>58.0</td>\n",
       "      <td>6.6</td>\n",
       "      <td>E</td>\n",
       "    </tr>\n",
       "    <tr>\n",
       "      <th>8</th>\n",
       "      <td>New Super Mario Bros. Wii</td>\n",
       "      <td>Wii</td>\n",
       "      <td>2009.0</td>\n",
       "      <td>Platform</td>\n",
       "      <td>14.44</td>\n",
       "      <td>6.94</td>\n",
       "      <td>4.70</td>\n",
       "      <td>2.24</td>\n",
       "      <td>87.0</td>\n",
       "      <td>8.4</td>\n",
       "      <td>E</td>\n",
       "    </tr>\n",
       "    <tr>\n",
       "      <th>9</th>\n",
       "      <td>Duck Hunt</td>\n",
       "      <td>NES</td>\n",
       "      <td>1984.0</td>\n",
       "      <td>Shooter</td>\n",
       "      <td>26.93</td>\n",
       "      <td>0.63</td>\n",
       "      <td>0.28</td>\n",
       "      <td>0.47</td>\n",
       "      <td>NaN</td>\n",
       "      <td>NaN</td>\n",
       "      <td>NaN</td>\n",
       "    </tr>\n",
       "  </tbody>\n",
       "</table>\n",
       "</div>"
      ],
      "text/plain": [
       "                        Name Platform  Year_of_Release         Genre  \\\n",
       "0                 Wii Sports      Wii           2006.0        Sports   \n",
       "1          Super Mario Bros.      NES           1985.0      Platform   \n",
       "2             Mario Kart Wii      Wii           2008.0        Racing   \n",
       "3          Wii Sports Resort      Wii           2009.0        Sports   \n",
       "4   Pokemon Red/Pokemon Blue       GB           1996.0  Role-Playing   \n",
       "5                     Tetris       GB           1989.0        Puzzle   \n",
       "6      New Super Mario Bros.       DS           2006.0      Platform   \n",
       "7                   Wii Play      Wii           2006.0          Misc   \n",
       "8  New Super Mario Bros. Wii      Wii           2009.0      Platform   \n",
       "9                  Duck Hunt      NES           1984.0       Shooter   \n",
       "\n",
       "   NA_sales  EU_sales  JP_sales  Other_sales  Critic_Score User_Score Rating  \n",
       "0     41.36     28.96      3.77         8.45          76.0          8      E  \n",
       "1     29.08      3.58      6.81         0.77           NaN        NaN    NaN  \n",
       "2     15.68     12.76      3.79         3.29          82.0        8.3      E  \n",
       "3     15.61     10.93      3.28         2.95          80.0          8      E  \n",
       "4     11.27      8.89     10.22         1.00           NaN        NaN    NaN  \n",
       "5     23.20      2.26      4.22         0.58           NaN        NaN    NaN  \n",
       "6     11.28      9.14      6.50         2.88          89.0        8.5      E  \n",
       "7     13.96      9.18      2.93         2.84          58.0        6.6      E  \n",
       "8     14.44      6.94      4.70         2.24          87.0        8.4      E  \n",
       "9     26.93      0.63      0.28         0.47           NaN        NaN    NaN  "
      ]
     },
     "execution_count": 3,
     "metadata": {},
     "output_type": "execute_result"
    }
   ],
   "source": [
    "df.head(10)"
   ]
  },
  {
   "cell_type": "code",
   "execution_count": 4,
   "id": "9b94adf8",
   "metadata": {},
   "outputs": [
    {
     "name": "stdout",
     "output_type": "stream",
     "text": [
      "Размер таблицы: (16715, 11)\n"
     ]
    }
   ],
   "source": [
    "#узнаем размер таблицы\n",
    "print('Размер таблицы:', df.shape)"
   ]
  },
  {
   "cell_type": "code",
   "execution_count": 5,
   "id": "86f2f82c",
   "metadata": {
    "scrolled": true
   },
   "outputs": [
    {
     "name": "stdout",
     "output_type": "stream",
     "text": [
      "<class 'pandas.core.frame.DataFrame'>\n",
      "RangeIndex: 16715 entries, 0 to 16714\n",
      "Data columns (total 11 columns):\n",
      " #   Column           Non-Null Count  Dtype  \n",
      "---  ------           --------------  -----  \n",
      " 0   Name             16713 non-null  object \n",
      " 1   Platform         16715 non-null  object \n",
      " 2   Year_of_Release  16446 non-null  float64\n",
      " 3   Genre            16713 non-null  object \n",
      " 4   NA_sales         16715 non-null  float64\n",
      " 5   EU_sales         16715 non-null  float64\n",
      " 6   JP_sales         16715 non-null  float64\n",
      " 7   Other_sales      16715 non-null  float64\n",
      " 8   Critic_Score     8137 non-null   float64\n",
      " 9   User_Score       10014 non-null  object \n",
      " 10  Rating           9949 non-null   object \n",
      "dtypes: float64(6), object(5)\n",
      "memory usage: 1.4+ MB\n"
     ]
    }
   ],
   "source": [
    "df.info()"
   ]
  },
  {
   "cell_type": "markdown",
   "id": "d174eb11",
   "metadata": {},
   "source": [
    "Во многих столбцах присутствуют пропуски. Тип данных Year_of_Release и User_Score является некорректным."
   ]
  },
  {
   "cell_type": "markdown",
   "id": "059c908e",
   "metadata": {},
   "source": [
    "Посчитаем количество пропусков в %."
   ]
  },
  {
   "cell_type": "code",
   "execution_count": 6,
   "id": "008725f9",
   "metadata": {},
   "outputs": [
    {
     "name": "stdout",
     "output_type": "stream",
     "text": [
      "Name - 0.012%\n",
      "Platform - 0.0%\n",
      "Year_of_Release - 1.609%\n",
      "Genre - 0.012%\n",
      "NA_sales - 0.0%\n",
      "EU_sales - 0.0%\n",
      "JP_sales - 0.0%\n",
      "Other_sales - 0.0%\n",
      "Critic_Score - 51.319%\n",
      "User_Score - 40.09%\n",
      "Rating - 40.479%\n"
     ]
    }
   ],
   "source": [
    "for col in df.columns:  \n",
    "    pct_missing = np.mean(df[col].isna())  \n",
    "    print('{} - {}%'.format(col, round(pct_missing*100,3)))"
   ]
  },
  {
   "cell_type": "code",
   "execution_count": 7,
   "id": "005804bd",
   "metadata": {},
   "outputs": [
    {
     "name": "stdout",
     "output_type": "stream",
     "text": [
      "Количество явных дубликатов: 0\n"
     ]
    }
   ],
   "source": [
    "print('Количество явных дубликатов:', df.duplicated().sum())"
   ]
  },
  {
   "cell_type": "markdown",
   "id": "d10dce22",
   "metadata": {},
   "source": [
    "__Вывод.__ \n",
    "Датасет состоит из 16715 строк и 11 столбцов. Названия столбцов написаны с заглавных букв, заменим их на прописные.\n",
    "Во многих столбцах присутствуют пропуски. \n",
    "На следующем этапе займемся обработкой пропусков,где возможно, изменим типы данных, где он является некорректным (в столбцах Year_of_Release и User_Score).\n",
    "Явных дубликатов нет, исследуем неявные."
   ]
  },
  {
   "cell_type": "markdown",
   "id": "6b68f218",
   "metadata": {},
   "source": [
    "### Предобработка данных"
   ]
  },
  {
   "cell_type": "markdown",
   "id": "ab8a44ed",
   "metadata": {},
   "source": [
    "Приведем названия столбцов к нижнему регистру."
   ]
  },
  {
   "cell_type": "code",
   "execution_count": 8,
   "id": "88829343",
   "metadata": {
    "scrolled": true
   },
   "outputs": [],
   "source": [
    "df.columns = df.columns.str.lower()"
   ]
  },
  {
   "cell_type": "markdown",
   "id": "6be952ff",
   "metadata": {},
   "source": [
    "Проверим количество пропусков в %."
   ]
  },
  {
   "cell_type": "code",
   "execution_count": 9,
   "id": "acc47b6a",
   "metadata": {
    "scrolled": true
   },
   "outputs": [
    {
     "data": {
      "text/html": [
       "<style type=\"text/css\">\n",
       "#T_2a26e_row0_col0, #T_2a26e_row1_col0, #T_2a26e_row3_col0, #T_2a26e_row4_col0, #T_2a26e_row5_col0, #T_2a26e_row6_col0, #T_2a26e_row7_col0 {\n",
       "  background-color: #3b4cc0;\n",
       "  color: #f1f1f1;\n",
       "}\n",
       "#T_2a26e_row2_col0 {\n",
       "  background-color: #445acc;\n",
       "  color: #f1f1f1;\n",
       "}\n",
       "#T_2a26e_row8_col0 {\n",
       "  background-color: #b40426;\n",
       "  color: #f1f1f1;\n",
       "}\n",
       "#T_2a26e_row9_col0 {\n",
       "  background-color: #f18d6f;\n",
       "  color: #f1f1f1;\n",
       "}\n",
       "#T_2a26e_row10_col0 {\n",
       "  background-color: #f08a6c;\n",
       "  color: #f1f1f1;\n",
       "}\n",
       "</style>\n",
       "<table id=\"T_2a26e\">\n",
       "  <thead>\n",
       "    <tr>\n",
       "      <th class=\"blank level0\" >&nbsp;</th>\n",
       "      <th id=\"T_2a26e_level0_col0\" class=\"col_heading level0 col0\" >0</th>\n",
       "    </tr>\n",
       "  </thead>\n",
       "  <tbody>\n",
       "    <tr>\n",
       "      <th id=\"T_2a26e_level0_row0\" class=\"row_heading level0 row0\" >name</th>\n",
       "      <td id=\"T_2a26e_row0_col0\" class=\"data row0 col0\" >0.012000</td>\n",
       "    </tr>\n",
       "    <tr>\n",
       "      <th id=\"T_2a26e_level0_row1\" class=\"row_heading level0 row1\" >platform</th>\n",
       "      <td id=\"T_2a26e_row1_col0\" class=\"data row1 col0\" >0.000000</td>\n",
       "    </tr>\n",
       "    <tr>\n",
       "      <th id=\"T_2a26e_level0_row2\" class=\"row_heading level0 row2\" >year_of_release</th>\n",
       "      <td id=\"T_2a26e_row2_col0\" class=\"data row2 col0\" >1.609000</td>\n",
       "    </tr>\n",
       "    <tr>\n",
       "      <th id=\"T_2a26e_level0_row3\" class=\"row_heading level0 row3\" >genre</th>\n",
       "      <td id=\"T_2a26e_row3_col0\" class=\"data row3 col0\" >0.012000</td>\n",
       "    </tr>\n",
       "    <tr>\n",
       "      <th id=\"T_2a26e_level0_row4\" class=\"row_heading level0 row4\" >na_sales</th>\n",
       "      <td id=\"T_2a26e_row4_col0\" class=\"data row4 col0\" >0.000000</td>\n",
       "    </tr>\n",
       "    <tr>\n",
       "      <th id=\"T_2a26e_level0_row5\" class=\"row_heading level0 row5\" >eu_sales</th>\n",
       "      <td id=\"T_2a26e_row5_col0\" class=\"data row5 col0\" >0.000000</td>\n",
       "    </tr>\n",
       "    <tr>\n",
       "      <th id=\"T_2a26e_level0_row6\" class=\"row_heading level0 row6\" >jp_sales</th>\n",
       "      <td id=\"T_2a26e_row6_col0\" class=\"data row6 col0\" >0.000000</td>\n",
       "    </tr>\n",
       "    <tr>\n",
       "      <th id=\"T_2a26e_level0_row7\" class=\"row_heading level0 row7\" >other_sales</th>\n",
       "      <td id=\"T_2a26e_row7_col0\" class=\"data row7 col0\" >0.000000</td>\n",
       "    </tr>\n",
       "    <tr>\n",
       "      <th id=\"T_2a26e_level0_row8\" class=\"row_heading level0 row8\" >critic_score</th>\n",
       "      <td id=\"T_2a26e_row8_col0\" class=\"data row8 col0\" >51.319000</td>\n",
       "    </tr>\n",
       "    <tr>\n",
       "      <th id=\"T_2a26e_level0_row9\" class=\"row_heading level0 row9\" >user_score</th>\n",
       "      <td id=\"T_2a26e_row9_col0\" class=\"data row9 col0\" >40.090000</td>\n",
       "    </tr>\n",
       "    <tr>\n",
       "      <th id=\"T_2a26e_level0_row10\" class=\"row_heading level0 row10\" >rating</th>\n",
       "      <td id=\"T_2a26e_row10_col0\" class=\"data row10 col0\" >40.479000</td>\n",
       "    </tr>\n",
       "  </tbody>\n",
       "</table>\n"
      ],
      "text/plain": [
       "<pandas.io.formats.style.Styler at 0x13a75892250>"
      ]
     },
     "execution_count": 9,
     "metadata": {},
     "output_type": "execute_result"
    }
   ],
   "source": [
    "pd.DataFrame(round(df.isna().mean()*100,3)).style.background_gradient('coolwarm')"
   ]
  },
  {
   "cell_type": "markdown",
   "id": "0b0ec44d",
   "metadata": {},
   "source": [
    "Пропуски в столбце name могли возникнуть из-за технической ошибки, отсутсвия данных, человеческого фактора. Пропуски в столбце year_of_release могли появиться из-за того, что создатель базы данных не нашел год выпуска игры. Если бы пропусков было единичное количество, можно было бы поискать эти данные самостоятельно и заполнить.\n",
    "Пропуски critic_score, user_score могли возникнуть из-за отсутствия оценок на платформе, пропуски в стообце rating - из-за того, что рейтинг не был присвоен. "
   ]
  },
  {
   "cell_type": "markdown",
   "id": "e08af124",
   "metadata": {},
   "source": [
    "Изучим строки с пропусками в столбце name."
   ]
  },
  {
   "cell_type": "code",
   "execution_count": 10,
   "id": "fb4405be",
   "metadata": {},
   "outputs": [
    {
     "data": {
      "text/html": [
       "<div>\n",
       "<style scoped>\n",
       "    .dataframe tbody tr th:only-of-type {\n",
       "        vertical-align: middle;\n",
       "    }\n",
       "\n",
       "    .dataframe tbody tr th {\n",
       "        vertical-align: top;\n",
       "    }\n",
       "\n",
       "    .dataframe thead th {\n",
       "        text-align: right;\n",
       "    }\n",
       "</style>\n",
       "<table border=\"1\" class=\"dataframe\">\n",
       "  <thead>\n",
       "    <tr style=\"text-align: right;\">\n",
       "      <th></th>\n",
       "      <th>name</th>\n",
       "      <th>platform</th>\n",
       "      <th>year_of_release</th>\n",
       "      <th>genre</th>\n",
       "      <th>na_sales</th>\n",
       "      <th>eu_sales</th>\n",
       "      <th>jp_sales</th>\n",
       "      <th>other_sales</th>\n",
       "      <th>critic_score</th>\n",
       "      <th>user_score</th>\n",
       "      <th>rating</th>\n",
       "    </tr>\n",
       "  </thead>\n",
       "  <tbody>\n",
       "    <tr>\n",
       "      <th>659</th>\n",
       "      <td>NaN</td>\n",
       "      <td>GEN</td>\n",
       "      <td>1993.0</td>\n",
       "      <td>NaN</td>\n",
       "      <td>1.78</td>\n",
       "      <td>0.53</td>\n",
       "      <td>0.00</td>\n",
       "      <td>0.08</td>\n",
       "      <td>NaN</td>\n",
       "      <td>NaN</td>\n",
       "      <td>NaN</td>\n",
       "    </tr>\n",
       "    <tr>\n",
       "      <th>14244</th>\n",
       "      <td>NaN</td>\n",
       "      <td>GEN</td>\n",
       "      <td>1993.0</td>\n",
       "      <td>NaN</td>\n",
       "      <td>0.00</td>\n",
       "      <td>0.00</td>\n",
       "      <td>0.03</td>\n",
       "      <td>0.00</td>\n",
       "      <td>NaN</td>\n",
       "      <td>NaN</td>\n",
       "      <td>NaN</td>\n",
       "    </tr>\n",
       "  </tbody>\n",
       "</table>\n",
       "</div>"
      ],
      "text/plain": [
       "      name platform  year_of_release genre  na_sales  eu_sales  jp_sales  \\\n",
       "659    NaN      GEN           1993.0   NaN      1.78      0.53      0.00   \n",
       "14244  NaN      GEN           1993.0   NaN      0.00      0.00      0.03   \n",
       "\n",
       "       other_sales  critic_score user_score rating  \n",
       "659           0.08           NaN        NaN    NaN  \n",
       "14244         0.00           NaN        NaN    NaN  "
      ]
     },
     "execution_count": 10,
     "metadata": {},
     "output_type": "execute_result"
    }
   ],
   "source": [
    "df[df['name'].isna() == True]"
   ]
  },
  {
   "cell_type": "markdown",
   "id": "e7addf98",
   "metadata": {},
   "source": [
    "Эти пропуски можно удалить, т.к. составляют всего 0.012% и данные не являюся актуальными. В столбце year_of_release пропусков меньше 2%, поэтому можем так же удалить эти строки."
   ]
  },
  {
   "cell_type": "code",
   "execution_count": 11,
   "id": "00a670e7",
   "metadata": {},
   "outputs": [],
   "source": [
    "df = df.dropna(subset = ['name', 'year_of_release'])"
   ]
  },
  {
   "cell_type": "markdown",
   "id": "42ef7cf2",
   "metadata": {},
   "source": [
    "В столбцах critic_score, user_score, rating слишком большой % пропусков, их удалять нельзя. "
   ]
  },
  {
   "cell_type": "code",
   "execution_count": 12,
   "id": "ae5746d0",
   "metadata": {},
   "outputs": [
    {
     "data": {
      "text/plain": [
       "count    7983.000000\n",
       "mean       68.994363\n",
       "std        13.920060\n",
       "min        13.000000\n",
       "25%        60.000000\n",
       "50%        71.000000\n",
       "75%        79.000000\n",
       "max        98.000000\n",
       "Name: critic_score, dtype: float64"
      ]
     },
     "execution_count": 12,
     "metadata": {},
     "output_type": "execute_result"
    }
   ],
   "source": [
    "df['critic_score'].describe()"
   ]
  },
  {
   "cell_type": "code",
   "execution_count": 13,
   "id": "9b01a449",
   "metadata": {},
   "outputs": [
    {
     "data": {
      "text/plain": [
       "count     9839\n",
       "unique      96\n",
       "top        tbd\n",
       "freq      2376\n",
       "Name: user_score, dtype: object"
      ]
     },
     "execution_count": 13,
     "metadata": {},
     "output_type": "execute_result"
    }
   ],
   "source": [
    "df['user_score'].describe()"
   ]
  },
  {
   "cell_type": "markdown",
   "id": "37f9ff4a",
   "metadata": {},
   "source": [
    "Пропуски в столбцах сritic_score и user_score обработывать не будем т.к. замена на медиану будет искажать результаты анализа из-за их большой доли."
   ]
  },
  {
   "cell_type": "code",
   "execution_count": 14,
   "id": "15ec0bb2",
   "metadata": {},
   "outputs": [
    {
     "data": {
      "text/plain": [
       "array(['E', nan, 'M', 'T', 'E10+', 'K-A', 'AO', 'EC', 'RP'], dtype=object)"
      ]
     },
     "metadata": {},
     "output_type": "display_data"
    }
   ],
   "source": [
    "display(df['rating'].unique())"
   ]
  },
  {
   "cell_type": "markdown",
   "id": "736844d0",
   "metadata": {},
   "source": [
    "Заменим пропуски в столбце rating значениями 'unknown'."
   ]
  },
  {
   "cell_type": "code",
   "execution_count": 15,
   "id": "250dc13c",
   "metadata": {},
   "outputs": [],
   "source": [
    "df['rating'] = df['rating'].fillna('unknown')"
   ]
  },
  {
   "cell_type": "markdown",
   "id": "9805c641",
   "metadata": {},
   "source": [
    "Изменим тип данных в столбце year_of_release на int, т.к. год не может быть вещественным числом"
   ]
  },
  {
   "cell_type": "code",
   "execution_count": 16,
   "id": "ae66f5b8",
   "metadata": {},
   "outputs": [],
   "source": [
    "df['year_of_release'] = np.floor(pd.to_numeric(df['year_of_release'], errors='coerce')).astype('Int64')"
   ]
  },
  {
   "cell_type": "markdown",
   "id": "44438241",
   "metadata": {},
   "source": [
    "Изучим уникальные значения в столбце critic_score."
   ]
  },
  {
   "cell_type": "code",
   "execution_count": 17,
   "id": "ced48f23",
   "metadata": {},
   "outputs": [
    {
     "data": {
      "text/plain": [
       "array([76., nan, 82., 80., 89., 58., 87., 91., 61., 97., 95., 77., 88.,\n",
       "       83., 94., 93., 85., 86., 98., 96., 90., 84., 73., 74., 78., 92.,\n",
       "       71., 72., 68., 62., 49., 67., 81., 66., 56., 79., 70., 59., 64.,\n",
       "       75., 60., 63., 69., 50., 25., 42., 44., 55., 48., 57., 29., 47.,\n",
       "       65., 54., 20., 53., 37., 38., 33., 52., 30., 32., 43., 45., 51.,\n",
       "       40., 46., 39., 34., 41., 36., 31., 27., 35., 26., 19., 28., 23.,\n",
       "       24., 21., 17., 13.])"
      ]
     },
     "execution_count": 17,
     "metadata": {},
     "output_type": "execute_result"
    }
   ],
   "source": [
    "df['critic_score'].unique()"
   ]
  },
  {
   "cell_type": "markdown",
   "id": "9f3988da",
   "metadata": {},
   "source": [
    "Изучим уникальные значения user_score."
   ]
  },
  {
   "cell_type": "code",
   "execution_count": 18,
   "id": "54ee7577",
   "metadata": {},
   "outputs": [
    {
     "data": {
      "text/plain": [
       "array(['8', nan, '8.3', '8.5', '6.6', '8.4', '8.6', '7.7', '6.3', '7.4',\n",
       "       '8.2', '9', '7.9', '8.1', '8.7', '7.1', '3.4', '5.3', '4.8', '3.2',\n",
       "       '8.9', '6.4', '7.8', '7.5', '2.6', '7.2', '9.2', '7', '7.3', '4.3',\n",
       "       '7.6', '5.7', '5', '9.1', '6.5', 'tbd', '8.8', '6.9', '9.4', '6.8',\n",
       "       '6.1', '6.7', '5.4', '4', '4.9', '4.5', '9.3', '6.2', '4.2', '6',\n",
       "       '3.7', '4.1', '5.8', '5.6', '5.5', '4.4', '4.6', '5.9', '3.9',\n",
       "       '3.1', '2.9', '5.2', '3.3', '4.7', '5.1', '3.5', '2.5', '1.9', '3',\n",
       "       '2.7', '2.2', '2', '9.5', '2.1', '3.6', '2.8', '1.8', '3.8', '0',\n",
       "       '1.6', '9.6', '2.4', '1.7', '1.1', '0.3', '1.5', '0.7', '1.2',\n",
       "       '2.3', '0.5', '1.3', '0.2', '0.6', '1.4', '0.9', '1', '9.7'],\n",
       "      dtype=object)"
      ]
     },
     "execution_count": 18,
     "metadata": {},
     "output_type": "execute_result"
    }
   ],
   "source": [
    "df['user_score'].unique()"
   ]
  },
  {
   "cell_type": "markdown",
   "id": "dc423b67",
   "metadata": {},
   "source": [
    "Среди оценок пользователей есть значение 'tbd'- рейтинг ещё не известен, то есть эти значения фактически являются пропусками. Заменим tbd на nan и приведем значения в user_score к типу float."
   ]
  },
  {
   "cell_type": "code",
   "execution_count": 19,
   "id": "9db6ab69",
   "metadata": {},
   "outputs": [
    {
     "data": {
      "text/plain": [
       "array([8. , nan, 8.3, 8.5, 6.6, 8.4, 8.6, 7.7, 6.3, 7.4, 8.2, 9. , 7.9,\n",
       "       8.1, 8.7, 7.1, 3.4, 5.3, 4.8, 3.2, 8.9, 6.4, 7.8, 7.5, 2.6, 7.2,\n",
       "       9.2, 7. , 7.3, 4.3, 7.6, 5.7, 5. , 9.1, 6.5, 8.8, 6.9, 9.4, 6.8,\n",
       "       6.1, 6.7, 5.4, 4. , 4.9, 4.5, 9.3, 6.2, 4.2, 6. , 3.7, 4.1, 5.8,\n",
       "       5.6, 5.5, 4.4, 4.6, 5.9, 3.9, 3.1, 2.9, 5.2, 3.3, 4.7, 5.1, 3.5,\n",
       "       2.5, 1.9, 3. , 2.7, 2.2, 2. , 9.5, 2.1, 3.6, 2.8, 1.8, 3.8, 0. ,\n",
       "       1.6, 9.6, 2.4, 1.7, 1.1, 0.3, 1.5, 0.7, 1.2, 2.3, 0.5, 1.3, 0.2,\n",
       "       0.6, 1.4, 0.9, 1. , 9.7])"
      ]
     },
     "execution_count": 19,
     "metadata": {},
     "output_type": "execute_result"
    }
   ],
   "source": [
    "df['user_score'] = df['user_score'].replace('tbd', np.nan)\n",
    "df['user_score'] = df['user_score'].astype('float')\n",
    "df['user_score'].unique()"
   ]
  },
  {
   "cell_type": "markdown",
   "id": "915e9b6b",
   "metadata": {},
   "source": [
    "Проверим наличие неявных дубликатов."
   ]
  },
  {
   "cell_type": "code",
   "execution_count": 20,
   "id": "9c52d662",
   "metadata": {},
   "outputs": [
    {
     "data": {
      "text/html": [
       "<div>\n",
       "<style scoped>\n",
       "    .dataframe tbody tr th:only-of-type {\n",
       "        vertical-align: middle;\n",
       "    }\n",
       "\n",
       "    .dataframe tbody tr th {\n",
       "        vertical-align: top;\n",
       "    }\n",
       "\n",
       "    .dataframe thead th {\n",
       "        text-align: right;\n",
       "    }\n",
       "</style>\n",
       "<table border=\"1\" class=\"dataframe\">\n",
       "  <thead>\n",
       "    <tr style=\"text-align: right;\">\n",
       "      <th></th>\n",
       "      <th>name</th>\n",
       "      <th>platform</th>\n",
       "      <th>year_of_release</th>\n",
       "      <th>genre</th>\n",
       "      <th>na_sales</th>\n",
       "      <th>eu_sales</th>\n",
       "      <th>jp_sales</th>\n",
       "      <th>other_sales</th>\n",
       "      <th>critic_score</th>\n",
       "      <th>user_score</th>\n",
       "      <th>rating</th>\n",
       "    </tr>\n",
       "  </thead>\n",
       "  <tbody>\n",
       "    <tr>\n",
       "      <th>604</th>\n",
       "      <td>Madden NFL 13</td>\n",
       "      <td>PS3</td>\n",
       "      <td>2012</td>\n",
       "      <td>Sports</td>\n",
       "      <td>2.11</td>\n",
       "      <td>0.22</td>\n",
       "      <td>0.0</td>\n",
       "      <td>0.23</td>\n",
       "      <td>83.0</td>\n",
       "      <td>5.5</td>\n",
       "      <td>E</td>\n",
       "    </tr>\n",
       "    <tr>\n",
       "      <th>16230</th>\n",
       "      <td>Madden NFL 13</td>\n",
       "      <td>PS3</td>\n",
       "      <td>2012</td>\n",
       "      <td>Sports</td>\n",
       "      <td>0.00</td>\n",
       "      <td>0.01</td>\n",
       "      <td>0.0</td>\n",
       "      <td>0.00</td>\n",
       "      <td>83.0</td>\n",
       "      <td>5.5</td>\n",
       "      <td>E</td>\n",
       "    </tr>\n",
       "  </tbody>\n",
       "</table>\n",
       "</div>"
      ],
      "text/plain": [
       "                name platform  year_of_release   genre  na_sales  eu_sales  \\\n",
       "604    Madden NFL 13      PS3             2012  Sports      2.11      0.22   \n",
       "16230  Madden NFL 13      PS3             2012  Sports      0.00      0.01   \n",
       "\n",
       "       jp_sales  other_sales  critic_score  user_score rating  \n",
       "604         0.0         0.23          83.0         5.5      E  \n",
       "16230       0.0         0.00          83.0         5.5      E  "
      ]
     },
     "execution_count": 20,
     "metadata": {},
     "output_type": "execute_result"
    }
   ],
   "source": [
    "df[df.duplicated(subset=['name', 'platform', 'year_of_release', 'genre'], keep=False)]"
   ]
  },
  {
   "cell_type": "markdown",
   "id": "0e436052",
   "metadata": {},
   "source": [
    "Возможно, в этих строках содержатся данные об одних и тех же играх, но версиях для разных регионах(например, на разных языках). По игре Madden NFL 13 можно объединить данные, суммировав продажи по регионам. Игры с неизвестными названиями могут быть действительно разными, поэтому оставим строки с индексами 659 и 14244 без изменений."
   ]
  },
  {
   "cell_type": "code",
   "execution_count": 21,
   "id": "946fe842",
   "metadata": {},
   "outputs": [],
   "source": [
    "df.loc[604, 'eu_sales'] = df.loc[604, 'eu_sales'] + df.loc[16230, 'eu_sales']"
   ]
  },
  {
   "cell_type": "markdown",
   "id": "e70be842",
   "metadata": {},
   "source": [
    "Добавим новый столбец с суммарными продажами во всех регионах."
   ]
  },
  {
   "cell_type": "code",
   "execution_count": 22,
   "id": "46ab9d95",
   "metadata": {},
   "outputs": [],
   "source": [
    "df['total_sales'] = df['na_sales'] + df['eu_sales'] + df['jp_sales'] + df['other_sales']"
   ]
  },
  {
   "cell_type": "markdown",
   "id": "6a325b3b",
   "metadata": {},
   "source": [
    "__Вывод.__ Изучив данные, изменили названия столбцов, привели к нужному типу, обработали пропуски, где это было возможно, обработали неявные дубликаты, а так же добавили столбец с суммарными продажами. С этими данными можно приступать к исследовательскому анализу данных."
   ]
  },
  {
   "cell_type": "markdown",
   "id": "f0025655",
   "metadata": {},
   "source": [
    "###  Исследовательский анализ данных"
   ]
  },
  {
   "cell_type": "markdown",
   "id": "fcf2c66f",
   "metadata": {},
   "source": [
    "Изучим динамику количества выпущенных игр."
   ]
  },
  {
   "cell_type": "code",
   "execution_count": 23,
   "id": "ab09ed22",
   "metadata": {},
   "outputs": [
    {
     "data": {
      "image/png": "[encoded data removed]",
      "text/plain": [
       "<Figure size 864x432 with 1 Axes>"
      ]
     },
     "metadata": {
      "needs_background": "light"
     },
     "output_type": "display_data"
    }
   ],
   "source": [
    "plt.rcParams['figure.figsize']=(12,6)\n",
    "df.pivot_table(\n",
    "    index = 'year_of_release', values='total_sales', aggfunc='count')\\\n",
    "    .plot(title='Динамика количества выпущенных игр');\n",
    "df['year_of_release'].value_counts()\n",
    "plt.xlabel('Год выпуска')\n",
    "plt.ylabel('Проданные копии, млн.');"
   ]
  },
  {
   "cell_type": "markdown",
   "id": "797e9090",
   "metadata": {},
   "source": [
    "До 1993 г. выпускалось до 100 игр в год и до 2000 г. оставалось небольшим, затем до 2008 г. наблюдалось резкое увеличение выпусков, затем до 2016 г.такое же резкое снижение. Актуальными можно считать данные с 2001 г."
   ]
  },
  {
   "cell_type": "markdown",
   "id": "e5aff19b",
   "metadata": {},
   "source": [
    "Изучим распределение суммарных продаж по платформам и выделим топ-6 платформ."
   ]
  },
  {
   "cell_type": "code",
   "execution_count": 24,
   "id": "bf6a0812",
   "metadata": {
    "scrolled": true
   },
   "outputs": [
    {
     "data": {
      "image/png": "[encoded data removed]",
      "text/plain": [
       "<Figure size 864x432 with 1 Axes>"
      ]
     },
     "metadata": {},
     "output_type": "display_data"
    }
   ],
   "source": [
    "top_platforms = df.pivot_table(\n",
    "    index = 'platform', values ='total_sales', aggfunc='sum')\\\n",
    "    .sort_values(by='total_sales', ascending = False)\\\n",
    "    .head(6)\n",
    "top_platforms.plot(y= 'total_sales', kind='pie');"
   ]
  },
  {
   "cell_type": "code",
   "execution_count": 25,
   "id": "333c4f0a",
   "metadata": {
    "scrolled": true
   },
   "outputs": [
    {
     "data": {
      "text/plain": [
       "['PS2', 'X360', 'PS3', 'Wii', 'DS', 'PS']"
      ]
     },
     "execution_count": 25,
     "metadata": {},
     "output_type": "execute_result"
    }
   ],
   "source": [
    "#создадим список из платформ с наибольшими продажами\n",
    "list_platforms = top_platforms.index.to_list()\n",
    "list_platforms"
   ]
  },
  {
   "cell_type": "code",
   "execution_count": 26,
   "id": "1d7de801",
   "metadata": {},
   "outputs": [
    {
     "data": {
      "image/png": "[encoded data removed]",
      "text/plain": [
       "<Figure size 864x432 with 1 Axes>"
      ]
     },
     "metadata": {
      "needs_background": "light"
     },
     "output_type": "display_data"
    }
   ],
   "source": [
    "#сделаем срез данных по платформам из списка топ-6\n",
    "top_6 = df.query('platform in @list_platforms')\n",
    "\n",
    "top_6.pivot_table(\n",
    "    index = 'year_of_release', columns='platform', values='total_sales', aggfunc='sum')\\\n",
    "    .plot(title='Динамика продаж по топ-6 платформам', grid=True, figsize=(12,6), xlim=(1993,2017))\n",
    "plt.xlabel('Год выпуска')\n",
    "plt.ylabel('Проданные копии, млн.');"
   ]
  },
  {
   "cell_type": "markdown",
   "id": "e773b389",
   "metadata": {},
   "source": [
    "Как видно на графике, в платформы существуют около 10 лет, но период с высокими продажами около 7 лет. В связи с динамичностью сферы для дальнейшего исследования возьмем данные за последние 3 года (с 2014 г.), чтобы анализировать достаточный объём выборки по актуальныи платформам."
   ]
  },
  {
   "cell_type": "markdown",
   "id": "ecd6eefd",
   "metadata": {},
   "source": [
    "Изучим динамику продаж по платформам с 2014 г."
   ]
  },
  {
   "cell_type": "code",
   "execution_count": 27,
   "id": "a6cd26f6",
   "metadata": {
    "scrolled": false
   },
   "outputs": [
    {
     "data": {
      "text/html": [
       "<div>\n",
       "<style scoped>\n",
       "    .dataframe tbody tr th:only-of-type {\n",
       "        vertical-align: middle;\n",
       "    }\n",
       "\n",
       "    .dataframe tbody tr th {\n",
       "        vertical-align: top;\n",
       "    }\n",
       "\n",
       "    .dataframe thead th {\n",
       "        text-align: right;\n",
       "    }\n",
       "</style>\n",
       "<table border=\"1\" class=\"dataframe\">\n",
       "  <thead>\n",
       "    <tr style=\"text-align: right;\">\n",
       "      <th>platform</th>\n",
       "      <th>3DS</th>\n",
       "      <th>PC</th>\n",
       "      <th>PS3</th>\n",
       "      <th>PS4</th>\n",
       "      <th>PSP</th>\n",
       "      <th>PSV</th>\n",
       "      <th>Wii</th>\n",
       "      <th>WiiU</th>\n",
       "      <th>X360</th>\n",
       "      <th>XOne</th>\n",
       "    </tr>\n",
       "    <tr>\n",
       "      <th>year_of_release</th>\n",
       "      <th></th>\n",
       "      <th></th>\n",
       "      <th></th>\n",
       "      <th></th>\n",
       "      <th></th>\n",
       "      <th></th>\n",
       "      <th></th>\n",
       "      <th></th>\n",
       "      <th></th>\n",
       "      <th></th>\n",
       "    </tr>\n",
       "  </thead>\n",
       "  <tbody>\n",
       "    <tr>\n",
       "      <th>2014</th>\n",
       "      <td>43.76</td>\n",
       "      <td>13.28</td>\n",
       "      <td>47.76</td>\n",
       "      <td>100.00</td>\n",
       "      <td>0.24</td>\n",
       "      <td>11.90</td>\n",
       "      <td>3.75</td>\n",
       "      <td>22.03</td>\n",
       "      <td>34.74</td>\n",
       "      <td>54.07</td>\n",
       "    </tr>\n",
       "    <tr>\n",
       "      <th>2015</th>\n",
       "      <td>27.78</td>\n",
       "      <td>8.52</td>\n",
       "      <td>16.82</td>\n",
       "      <td>118.90</td>\n",
       "      <td>0.12</td>\n",
       "      <td>6.25</td>\n",
       "      <td>1.14</td>\n",
       "      <td>16.35</td>\n",
       "      <td>11.96</td>\n",
       "      <td>60.14</td>\n",
       "    </tr>\n",
       "    <tr>\n",
       "      <th>2016</th>\n",
       "      <td>15.14</td>\n",
       "      <td>5.25</td>\n",
       "      <td>3.60</td>\n",
       "      <td>69.25</td>\n",
       "      <td>NaN</td>\n",
       "      <td>4.25</td>\n",
       "      <td>0.18</td>\n",
       "      <td>4.60</td>\n",
       "      <td>1.52</td>\n",
       "      <td>26.15</td>\n",
       "    </tr>\n",
       "  </tbody>\n",
       "</table>\n",
       "</div>"
      ],
      "text/plain": [
       "platform           3DS     PC    PS3     PS4   PSP    PSV   Wii   WiiU   X360  \\\n",
       "year_of_release                                                                 \n",
       "2014             43.76  13.28  47.76  100.00  0.24  11.90  3.75  22.03  34.74   \n",
       "2015             27.78   8.52  16.82  118.90  0.12   6.25  1.14  16.35  11.96   \n",
       "2016             15.14   5.25   3.60   69.25   NaN   4.25  0.18   4.60   1.52   \n",
       "\n",
       "platform          XOne  \n",
       "year_of_release         \n",
       "2014             54.07  \n",
       "2015             60.14  \n",
       "2016             26.15  "
      ]
     },
     "execution_count": 27,
     "metadata": {},
     "output_type": "execute_result"
    },
    {
     "data": {
      "image/png": "[encoded data removed]",
      "text/plain": [
       "<Figure size 576x576 with 1 Axes>"
      ]
     },
     "metadata": {
      "needs_background": "light"
     },
     "output_type": "display_data"
    }
   ],
   "source": [
    "df_since2014 = df[df['year_of_release']>=2014]\n",
    "platforms_total_sales_since2014 = df_since2014.pivot_table(\n",
    "    index = 'year_of_release', columns='platform', values='total_sales', aggfunc='sum')\n",
    "platforms_total_sales_since2014.plot(title='Динамика продаж ', grid=True, figsize=(8,8), xlim=(2014,2016))\n",
    "plt.xlabel('Год выпуска')\n",
    "plt.ylabel('Проданные копии, млн.')\n",
    "plt.xticks(np.arange(2014, 2017, step=1))\n",
    "platforms_total_sales_since2014"
   ]
  },
  {
   "cell_type": "markdown",
   "id": "83de30ce",
   "metadata": {},
   "source": [
    "Лидеры по продажам - PS4, XOne. По ним наблюдался рост продаж 2014-2015 гг., снижение в 2016 г.  возможно из-за неполноты данных. По остальным платформам наблюдается снижение продаж за весь анализируемый период. Резкое падение по платформам PS3 и X360 можно объяснить выходом новых версий платформ. Потенциальными можно назвать в первую очередь PS4, XOne, во вторую - 3DS, затем PC."
   ]
  },
  {
   "cell_type": "markdown",
   "id": "985a7b42",
   "metadata": {},
   "source": [
    "Построим диаграммы размаха по продажам игр в разбивке по платформам."
   ]
  },
  {
   "cell_type": "code",
   "execution_count": 28,
   "id": "4758cbb3",
   "metadata": {},
   "outputs": [
    {
     "data": {
      "image/png": "[encoded data removed]",
      "text/plain": [
       "<Figure size 864x432 with 1 Axes>"
      ]
     },
     "metadata": {
      "needs_background": "light"
     },
     "output_type": "display_data"
    }
   ],
   "source": [
    "platforms_total_sales_since2014.boxplot(figsize=(12,6));\n",
    "plt.title('Продажи по платформам');\n",
    "plt.xlabel('Платформы')\n",
    "plt.ylabel('Проданные копии, млн.');"
   ]
  },
  {
   "cell_type": "markdown",
   "id": "62654699",
   "metadata": {},
   "source": [
    "Наибольшим потенциалом с большим отрывом обладают игры на платформе PS4, затем XOne, 3DS. Интересно, что на PS3 тоже есть спрос. Видимо, некоторые пользуются ещё старой версией платформы."
   ]
  },
  {
   "cell_type": "markdown",
   "id": "6b4f541c",
   "metadata": {},
   "source": [
    "Проанализируем данные по одной платформе PS4."
   ]
  },
  {
   "cell_type": "code",
   "execution_count": 29,
   "id": "85d8a53e",
   "metadata": {},
   "outputs": [],
   "source": [
    "ps4 = df_since2014[df_since2014['platform']=='PS4']"
   ]
  },
  {
   "cell_type": "markdown",
   "id": "db26f720",
   "metadata": {},
   "source": [
    "Рассмотрим влияние оценок критиков на продажи игр на платформе PS4, построив диаграмму рассеивания."
   ]
  },
  {
   "cell_type": "code",
   "execution_count": 30,
   "id": "4259ebf7",
   "metadata": {},
   "outputs": [
    {
     "data": {
      "text/html": [
       "<div>\n",
       "<style scoped>\n",
       "    .dataframe tbody tr th:only-of-type {\n",
       "        vertical-align: middle;\n",
       "    }\n",
       "\n",
       "    .dataframe tbody tr th {\n",
       "        vertical-align: top;\n",
       "    }\n",
       "\n",
       "    .dataframe thead th {\n",
       "        text-align: right;\n",
       "    }\n",
       "</style>\n",
       "<table border=\"1\" class=\"dataframe\">\n",
       "  <thead>\n",
       "    <tr style=\"text-align: right;\">\n",
       "      <th></th>\n",
       "      <th>name</th>\n",
       "      <th>platform</th>\n",
       "      <th>year_of_release</th>\n",
       "      <th>genre</th>\n",
       "      <th>na_sales</th>\n",
       "      <th>eu_sales</th>\n",
       "      <th>jp_sales</th>\n",
       "      <th>other_sales</th>\n",
       "      <th>critic_score</th>\n",
       "      <th>user_score</th>\n",
       "      <th>rating</th>\n",
       "      <th>total_sales</th>\n",
       "    </tr>\n",
       "  </thead>\n",
       "  <tbody>\n",
       "    <tr>\n",
       "      <th>31</th>\n",
       "      <td>Call of Duty: Black Ops 3</td>\n",
       "      <td>PS4</td>\n",
       "      <td>2015</td>\n",
       "      <td>Shooter</td>\n",
       "      <td>6.03</td>\n",
       "      <td>5.86</td>\n",
       "      <td>0.36</td>\n",
       "      <td>2.38</td>\n",
       "      <td>NaN</td>\n",
       "      <td>NaN</td>\n",
       "      <td>unknown</td>\n",
       "      <td>14.63</td>\n",
       "    </tr>\n",
       "    <tr>\n",
       "      <th>42</th>\n",
       "      <td>Grand Theft Auto V</td>\n",
       "      <td>PS4</td>\n",
       "      <td>2014</td>\n",
       "      <td>Action</td>\n",
       "      <td>3.96</td>\n",
       "      <td>6.31</td>\n",
       "      <td>0.38</td>\n",
       "      <td>1.97</td>\n",
       "      <td>97.0</td>\n",
       "      <td>8.3</td>\n",
       "      <td>M</td>\n",
       "      <td>12.62</td>\n",
       "    </tr>\n",
       "  </tbody>\n",
       "</table>\n",
       "</div>"
      ],
      "text/plain": [
       "                         name platform  year_of_release    genre  na_sales  \\\n",
       "31  Call of Duty: Black Ops 3      PS4             2015  Shooter      6.03   \n",
       "42         Grand Theft Auto V      PS4             2014   Action      3.96   \n",
       "\n",
       "    eu_sales  jp_sales  other_sales  critic_score  user_score   rating  \\\n",
       "31      5.86      0.36         2.38           NaN         NaN  unknown   \n",
       "42      6.31      0.38         1.97          97.0         8.3        M   \n",
       "\n",
       "    total_sales  \n",
       "31        14.63  \n",
       "42        12.62  "
      ]
     },
     "metadata": {},
     "output_type": "display_data"
    },
    {
     "data": {
      "text/plain": [
       "0.403"
      ]
     },
     "execution_count": 30,
     "metadata": {},
     "output_type": "execute_result"
    },
    {
     "data": {
      "image/png": "[encoded data removed]",
      "text/plain": [
       "<Figure size 864x432 with 1 Axes>"
      ]
     },
     "metadata": {
      "needs_background": "light"
     },
     "output_type": "display_data"
    }
   ],
   "source": [
    "ps4.plot(x='critic_score', y='total_sales', kind='scatter', title='Зависимость продаж от оценок критиков',\\\n",
    "        alpha=0.7, grid=True, figsize=(12,6));\n",
    "display(ps4[ps4['total_sales']>10])\n",
    "ps4['total_sales'].corr(ps4['critic_score']).round(3)"
   ]
  },
  {
   "cell_type": "markdown",
   "id": "efcae308",
   "metadata": {},
   "source": [
    "Прямой зависимости между продажами и оценками критиков не наблюдается, но больше всего продаж игр с высокими оценками и у игры с максимальной оценкой критиков Grand Theft Auto V максимальные продажи, если не считать игру Call of Duty: Black Ops 3 без оценки. Коэффициент корреляции 0.4 говорит о небольшом влиянии оценок критиков на продажи игр."
   ]
  },
  {
   "cell_type": "markdown",
   "id": "73984448",
   "metadata": {},
   "source": [
    "Рассмотрим влияние оценок пользователей на продажи игр на платформе PS4, построив диаграмму рассеивания."
   ]
  },
  {
   "cell_type": "code",
   "execution_count": 31,
   "id": "f1d7bfeb",
   "metadata": {},
   "outputs": [
    {
     "data": {
      "text/plain": [
       "-0.04"
      ]
     },
     "execution_count": 31,
     "metadata": {},
     "output_type": "execute_result"
    },
    {
     "data": {
      "image/png": "[encoded data removed]",
      "text/plain": [
       "<Figure size 864x432 with 1 Axes>"
      ]
     },
     "metadata": {
      "needs_background": "light"
     },
     "output_type": "display_data"
    }
   ],
   "source": [
    "ps4.plot(x='user_score', y='total_sales', kind='scatter', title='Зависимость продаж от оценок пользователей',\\\n",
    "         alpha=0.7, grid=True, figsize=(12,6))\n",
    "ps4['total_sales'].corr(ps4['user_score']).round(3)"
   ]
  },
  {
   "cell_type": "markdown",
   "id": "a6cd7957",
   "metadata": {},
   "source": [
    "Оценки пользователей и продажи не имеют линейной связи друг с другом."
   ]
  },
  {
   "cell_type": "markdown",
   "id": "f91aaebc",
   "metadata": {},
   "source": [
    "Построим гистограмму с распределением количества игр по жанрам."
   ]
  },
  {
   "cell_type": "code",
   "execution_count": 32,
   "id": "b6e835be",
   "metadata": {},
   "outputs": [
    {
     "data": {
      "image/png": "[encoded data removed]",
      "text/plain": [
       "<Figure size 864x432 with 1 Axes>"
      ]
     },
     "metadata": {
      "needs_background": "light"
     },
     "output_type": "display_data"
    }
   ],
   "source": [
    "genre = df_since2014['genre'].value_counts().reset_index()\n",
    "a = sns.barplot(x='genre', y='index', data=genre)\n",
    "plt.rcParams['figure.figsize']=(12,6)\n",
    "a.set_title('Количество игр по жанрам');\n",
    "a.set_xlabel('Количество игр')\n",
    "a.set_ylabel('Жанры');"
   ]
  },
  {
   "cell_type": "markdown",
   "id": "374238c6",
   "metadata": {},
   "source": [
    "Больше всего игр выпускается в жанрах action и sports, меньше всего - strategy и puzzle."
   ]
  },
  {
   "cell_type": "markdown",
   "id": "258ed32a",
   "metadata": {},
   "source": [
    "Построим гистограмму с распределением количества игр по жанрам."
   ]
  },
  {
   "cell_type": "code",
   "execution_count": 33,
   "id": "05f48eef",
   "metadata": {},
   "outputs": [
    {
     "data": {
      "image/png": "[encoded data removed]",
      "text/plain": [
       "<Figure size 864x432 with 1 Axes>"
      ]
     },
     "metadata": {
      "needs_background": "light"
     },
     "output_type": "display_data"
    }
   ],
   "source": [
    "genre_total_sales_since2014 = df_since2014.pivot_table(\n",
    "    index = 'genre', values='total_sales').reset_index()\n",
    "b = genre_total_sales_since2014.sort_values(by='total_sales', ascending=False)\n",
    "b = sns.barplot(x= 'genre', y = 'total_sales', data = b)\n",
    "plt.rcParams['figure.figsize']=(12,6)\n",
    "b.set_title('Продажи по жанрам');"
   ]
  },
  {
   "cell_type": "markdown",
   "id": "2bfe5935",
   "metadata": {},
   "source": [
    "Самыми прибыльными являются игры в жанре Shooter, почти вдвое меньший средний доход приносят игры в жанре Sports, наименьший - Puzzle, Strategy, Adventure. Интересно, что доход не соответствует количеству выпущенных игр."
   ]
  },
  {
   "cell_type": "markdown",
   "id": "5a9f9935",
   "metadata": {},
   "source": [
    "__Вывод.__ Исследование показало, что наиболее перспективными являются в первую очередь платформы PS4, XOne, во вторую - 3DS, затем PC. Оценки пользователей, критиков и продажи не имеют линейной связи друг с другом. Наибольший доход могут принести игры в жанрах Shooter, Sports."
   ]
  },
  {
   "cell_type": "markdown",
   "id": "5939bfc0",
   "metadata": {},
   "source": [
    "###  Составление портрета пользователя каждого региона"
   ]
  },
  {
   "cell_type": "markdown",
   "id": "22c01cd1",
   "metadata": {},
   "source": [
    "Изучим доли продаж по топ-5 платформам в разрезе регионов: Северная Америка, Европа, Япония."
   ]
  },
  {
   "cell_type": "code",
   "execution_count": 34,
   "id": "b0e1b583",
   "metadata": {},
   "outputs": [
    {
     "data": {
      "image/png": "[encoded data removed]",
      "text/plain": [
       "<Figure size 864x432 with 1 Axes>"
      ]
     },
     "metadata": {},
     "output_type": "display_data"
    },
    {
     "data": {
      "image/png": "[encoded data removed]",
      "text/plain": [
       "<Figure size 864x432 with 1 Axes>"
      ]
     },
     "metadata": {},
     "output_type": "display_data"
    },
    {
     "data": {
      "image/png": "[encoded data removed]",
      "text/plain": [
       "<Figure size 864x432 with 1 Axes>"
      ]
     },
     "metadata": {},
     "output_type": "display_data"
    }
   ],
   "source": [
    "col = ['na_sales', 'eu_sales', 'jp_sales'] \n",
    "\n",
    "for i in col:\n",
    "    name_pie = df_since2014.pivot_table(\n",
    "    index = 'platform', values=i, aggfunc = 'sum')\\\n",
    "    .sort_values(by=i, ascending = False)\\\n",
    "    .head(5)\\\n",
    "    .plot(y= i, kind='pie')\n",
    "    name_pie.set_title('Топ-5 платформ');"
   ]
  },
  {
   "cell_type": "markdown",
   "id": "b18816f8",
   "metadata": {},
   "source": [
    "В Америке и Европе лидирует платформа PS4, т.к. большинство американских и европейских игр выпускаются на этой платформе. В Японии PS4 также популярна из-за наличия локальных игр и для Японии. \n",
    "Xbox популярна больше в Америке, т.к. это местная компания, не ориентированная на японский рынок.\n",
    "В Европе больше пользуются PC, чем в других регионах.\n",
    "В Японии самая популярная платформа - 3DS(Nintendo), т.к. учитывает особенности местной культуры и выпускает много эксклюзивных японских игр.\n",
    "Таким образом, приоритетные платформы для Америки и Европы - PS4 и Xbox, для Японии - Nintendo и PS4."
   ]
  },
  {
   "cell_type": "markdown",
   "id": "7d5e6809",
   "metadata": {},
   "source": [
    "Выделим топ-5 жанров в разрезе регионов: Северная Америка, Европа, Япония."
   ]
  },
  {
   "cell_type": "code",
   "execution_count": 35,
   "id": "242d9576",
   "metadata": {},
   "outputs": [
    {
     "data": {
      "image/png": "[encoded data removed]",
      "text/plain": [
       "<Figure size 576x288 with 1 Axes>"
      ]
     },
     "metadata": {
      "needs_background": "light"
     },
     "output_type": "display_data"
    },
    {
     "data": {
      "image/png": "[encoded data removed]",
      "text/plain": [
       "<Figure size 576x288 with 1 Axes>"
      ]
     },
     "metadata": {
      "needs_background": "light"
     },
     "output_type": "display_data"
    },
    {
     "data": {
      "image/png": "[encoded data removed]",
      "text/plain": [
       "<Figure size 576x288 with 1 Axes>"
      ]
     },
     "metadata": {
      "needs_background": "light"
     },
     "output_type": "display_data"
    }
   ],
   "source": [
    "plt.rcParams['figure.figsize']=(8,4)\n",
    "for i in col:\n",
    "    name_barplot = sns.barplot(x='genre', y=i, data=df_since2014.pivot_table(\n",
    "    index = 'genre', values=i)\\\n",
    "    .reset_index().sort_values(by=i, ascending=False).head())\n",
    "    name_barplot.set_title('Топ-5 жанров');\n",
    "    plt.show()"
   ]
  },
  {
   "cell_type": "markdown",
   "id": "aef97c83",
   "metadata": {},
   "source": [
    "Жанровые предпочтения также зависят от региона. В топе во всех регионах встречаются Platform. \n",
    "В Америке и Европе больше предпочитают Shooter, Sports, в Японии - Role-Playing, Fighting."
   ]
  },
  {
   "cell_type": "markdown",
   "id": "414f6e62",
   "metadata": {},
   "source": [
    "Оценим зависимость продаж от рейтинга ESRB в разрезе регионов: Северная Америка, Европа, Япония."
   ]
  },
  {
   "cell_type": "code",
   "execution_count": 36,
   "id": "0146248d",
   "metadata": {},
   "outputs": [
    {
     "data": {
      "image/png": "[encoded data removed]",
      "text/plain": [
       "<Figure size 576x288 with 1 Axes>"
      ]
     },
     "metadata": {
      "needs_background": "light"
     },
     "output_type": "display_data"
    },
    {
     "data": {
      "image/png": "[encoded data removed]",
      "text/plain": [
       "<Figure size 576x288 with 1 Axes>"
      ]
     },
     "metadata": {
      "needs_background": "light"
     },
     "output_type": "display_data"
    },
    {
     "data": {
      "image/png": "[encoded data removed]",
      "text/plain": [
       "<Figure size 576x288 with 1 Axes>"
      ]
     },
     "metadata": {
      "needs_background": "light"
     },
     "output_type": "display_data"
    }
   ],
   "source": [
    "for i in col:\n",
    "    name_barplot = sns.barplot(x='rating', y=i, data=df_since2014.pivot_table(\n",
    "    index = 'rating', values=i)\\\n",
    "    .reset_index().sort_values(by=i, ascending=False))\n",
    "    name_barplot.set_title('Зависимость продаж от рейтинга ESRB');\n",
    "    plt.show()"
   ]
  },
  {
   "cell_type": "markdown",
   "id": "6840044a",
   "metadata": {},
   "source": [
    "В Америке и Европе больше всего предпочитают игры категории М - 17+, в Японии - игры, где категория ещё не определена. Думаю, это связано с тем, что японцы предпочитают локальные игры."
   ]
  },
  {
   "cell_type": "markdown",
   "id": "ef71f975",
   "metadata": {},
   "source": [
    "Изучив данные по регионам, можно сделать вывод, что предпочтения платформ и игр зависят от региона. Наиболее перспективными для Америки и Европы являются игры жанров Shooter и Sports категории М - 17+ для PS4 и Xbox, для Японии - локальные игры жанров Role-Playing и Fighting для Nintendo и PS4."
   ]
  },
  {
   "cell_type": "markdown",
   "id": "8ff2f74f",
   "metadata": {},
   "source": [
    "###  Проверка гипотез"
   ]
  },
  {
   "cell_type": "markdown",
   "id": "120dc22d",
   "metadata": {},
   "source": [
    "Нулевую гипотезу будем формулировать как равенство показателей, альтернативную - как неравенство.\n",
    "В качестве уровеня значимости возьмем стандартные 5%."
   ]
  },
  {
   "cell_type": "markdown",
   "id": "ab1458cb",
   "metadata": {},
   "source": [
    "Проверим гипотезу: средние пользовательские рейтинги платформ Xbox One и PC одинаковые.\n",
    "```\n",
    "H_0: средний пользовательский рейтинг платформы Xbox = средний пользовательский рейтинг PC\n",
    "H_a: средний пользовательский рейтинг платформы Xbox ≠ средний пользовательский рейтинг PC\n",
    "alpha = 0.05    \n",
    "```"
   ]
  },
  {
   "cell_type": "code",
   "execution_count": 37,
   "id": "1f33bc81",
   "metadata": {
    "scrolled": true
   },
   "outputs": [
    {
     "name": "stdout",
     "output_type": "stream",
     "text": [
      "0.11601398086668832\n",
      "Не получилось отвергнуть нулевую гипотезу\n"
     ]
    }
   ],
   "source": [
    "df_since2014_new = df_since2014.dropna(subset=['user_score'])\n",
    "\n",
    "results = st.ttest_ind(\n",
    "    df_since2014_new.loc[df_since2014_new.platform=='XOne', 'user_score'],\n",
    "    df_since2014_new.loc[df_since2014_new.platform=='PC', 'user_score'],\n",
    "    equal_var=False)\n",
    "\n",
    "alpha = 0.05\n",
    "\n",
    "print(results.pvalue)\n",
    "\n",
    "if results.pvalue < alpha:\n",
    "    print('Отвергаем нулевую гипотезу')\n",
    "else:\n",
    "    print('Не получилось отвергнуть нулевую гипотезу')"
   ]
  },
  {
   "cell_type": "markdown",
   "id": "e1330be2",
   "metadata": {},
   "source": [
    "Значит мы не можем отвергруть гипотезу, что средние пользовательские рейтинги платформ Xbox One и PC одинаковые."
   ]
  },
  {
   "cell_type": "markdown",
   "id": "5738b980",
   "metadata": {},
   "source": [
    "Проверим гипотезу: Средние пользовательские рейтинги жанров Action и Sports разные.\n",
    "```\n",
    "H_0: средний пользовательский рейтинг жанра Action = средний пользовательский рейтинг жанра Sports\n",
    "H_a: средний пользовательский рейтинг жанра Action  ≠ средний пользовательский рейтинг PC\n",
    "alpha = 0.05   \n",
    "```"
   ]
  },
  {
   "cell_type": "code",
   "execution_count": 38,
   "id": "9f979483",
   "metadata": {},
   "outputs": [
    {
     "name": "stdout",
     "output_type": "stream",
     "text": [
      "1.1825550382644557e-14\n",
      "Отвергаем нулевую гипотезу\n"
     ]
    }
   ],
   "source": [
    "results = st.ttest_ind(\n",
    "    df_since2014_new.loc[df_since2014_new.genre=='Action', 'user_score'],\n",
    "    df_since2014_new.loc[df_since2014_new.genre=='Sports', 'user_score'],\n",
    "    equal_var=False)\n",
    "\n",
    "alpha = 0.05\n",
    "\n",
    "print(results.pvalue)\n",
    "\n",
    "if results.pvalue < alpha:\n",
    "    print('Отвергаем нулевую гипотезу')\n",
    "else:\n",
    "    print('Не получилось отвергнуть нулевую гипотезу')"
   ]
  },
  {
   "cell_type": "markdown",
   "id": "b8acc98f",
   "metadata": {},
   "source": [
    "Значит можно сделать вывод, что средние пользовательские рейтинги жанров Action и Sports разные."
   ]
  },
  {
   "cell_type": "markdown",
   "id": "fb0ab22c",
   "metadata": {},
   "source": [
    "###  Общий вывод"
   ]
  },
  {
   "cell_type": "markdown",
   "id": "6a7ba086",
   "metadata": {},
   "source": [
    "Изучив данные, изменили названия столбцов, привели к нужному типу, обработали пропуски, где это было возможно, проверили на явные дубликаты, рассчитали дополнительные характеристики.\n",
    "Исследовательский анализ позволил сделать следующие выводы.\n",
    "\n",
    "На успешность игры в большей степени влияют:\n",
    "* платформа, для которой выпускается игра;\n",
    "* жанр игры;\n",
    "* регион.\n",
    "\n",
    "Оценки пользователей и критиков не имеют прямой линейной корреляции с продажами.\n",
    "\n",
    "Наиболее перспективными являются в первую очередь платформы PS4, XOne, во вторую - 3DS, затем PC. \n",
    "Наибольший доход могут принести игры в жанрах Shooter, Sports.\n",
    "\n",
    "Если рассмотреть данные в разрезе регионов, наиболее перспективными для Америки и Европы являются игры жанров Shooter и Sports категории М - 17+ для PS4 и Xbox, для Японии - локальные игры жанров Role-Playing и Fighting для Nintendo и PS4."
   ]
  }
 ],
 "metadata": {
  "ExecuteTimeLog": [
   {
    "duration": 1124,
    "start_time": "2022-11-20T10:15:23.082Z"
   },
   {
    "duration": 131,
    "start_time": "2022-11-20T10:15:24.208Z"
   },
   {
    "duration": 0,
    "start_time": "2022-11-20T10:15:24.342Z"
   },
   {
    "duration": 0,
    "start_time": "2022-11-20T10:15:24.344Z"
   },
   {
    "duration": 0,
    "start_time": "2022-11-20T10:15:24.345Z"
   },
   {
    "duration": 0,
    "start_time": "2022-11-20T10:15:24.347Z"
   },
   {
    "duration": 0,
    "start_time": "2022-11-20T10:15:24.348Z"
   },
   {
    "duration": 0,
    "start_time": "2022-11-20T10:15:24.350Z"
   },
   {
    "duration": 0,
    "start_time": "2022-11-20T10:15:24.351Z"
   },
   {
    "duration": 0,
    "start_time": "2022-11-20T10:15:24.352Z"
   },
   {
    "duration": 0,
    "start_time": "2022-11-20T10:15:24.353Z"
   },
   {
    "duration": 0,
    "start_time": "2022-11-20T10:15:24.355Z"
   },
   {
    "duration": 0,
    "start_time": "2022-11-20T10:15:24.356Z"
   },
   {
    "duration": 0,
    "start_time": "2022-11-20T10:15:24.358Z"
   },
   {
    "duration": 0,
    "start_time": "2022-11-20T10:15:24.359Z"
   },
   {
    "duration": 0,
    "start_time": "2022-11-20T10:15:24.361Z"
   },
   {
    "duration": 0,
    "start_time": "2022-11-20T10:15:24.362Z"
   },
   {
    "duration": 0,
    "start_time": "2022-11-20T10:15:24.363Z"
   },
   {
    "duration": 0,
    "start_time": "2022-11-20T10:15:24.364Z"
   },
   {
    "duration": 0,
    "start_time": "2022-11-20T10:15:24.366Z"
   },
   {
    "duration": 0,
    "start_time": "2022-11-20T10:15:24.367Z"
   },
   {
    "duration": 0,
    "start_time": "2022-11-20T10:15:24.368Z"
   },
   {
    "duration": 0,
    "start_time": "2022-11-20T10:15:24.370Z"
   },
   {
    "duration": 0,
    "start_time": "2022-11-20T10:15:24.371Z"
   },
   {
    "duration": 0,
    "start_time": "2022-11-20T10:15:24.372Z"
   },
   {
    "duration": 0,
    "start_time": "2022-11-20T10:15:24.413Z"
   },
   {
    "duration": 0,
    "start_time": "2022-11-20T10:15:24.414Z"
   },
   {
    "duration": 0,
    "start_time": "2022-11-20T10:15:24.415Z"
   },
   {
    "duration": 0,
    "start_time": "2022-11-20T10:15:24.416Z"
   },
   {
    "duration": 0,
    "start_time": "2022-11-20T10:15:24.417Z"
   },
   {
    "duration": 0,
    "start_time": "2022-11-20T10:15:24.417Z"
   },
   {
    "duration": 0,
    "start_time": "2022-11-20T10:15:24.419Z"
   },
   {
    "duration": 0,
    "start_time": "2022-11-20T10:15:24.420Z"
   },
   {
    "duration": 2,
    "start_time": "2022-11-20T10:15:49.627Z"
   },
   {
    "duration": 222,
    "start_time": "2022-11-20T10:17:13.597Z"
   },
   {
    "duration": 1124,
    "start_time": "2022-11-20T10:17:29.613Z"
   },
   {
    "duration": 3,
    "start_time": "2022-11-20T10:17:30.739Z"
   },
   {
    "duration": 89,
    "start_time": "2022-11-20T10:17:30.743Z"
   },
   {
    "duration": 19,
    "start_time": "2022-11-20T10:17:30.834Z"
   },
   {
    "duration": 40,
    "start_time": "2022-11-20T10:17:30.855Z"
   },
   {
    "duration": 589,
    "start_time": "2022-11-20T10:17:30.897Z"
   },
   {
    "duration": 3,
    "start_time": "2022-11-20T10:17:31.488Z"
   },
   {
    "duration": 12,
    "start_time": "2022-11-20T10:17:31.492Z"
   },
   {
    "duration": 8,
    "start_time": "2022-11-20T10:17:31.505Z"
   },
   {
    "duration": 8,
    "start_time": "2022-11-20T10:17:31.515Z"
   },
   {
    "duration": 6,
    "start_time": "2022-11-20T10:17:31.525Z"
   },
   {
    "duration": 14,
    "start_time": "2022-11-20T10:17:31.532Z"
   },
   {
    "duration": 54,
    "start_time": "2022-11-20T10:17:31.548Z"
   },
   {
    "duration": 11,
    "start_time": "2022-11-20T10:17:31.603Z"
   },
   {
    "duration": 12,
    "start_time": "2022-11-20T10:17:31.615Z"
   },
   {
    "duration": 6,
    "start_time": "2022-11-20T10:17:31.629Z"
   },
   {
    "duration": 16,
    "start_time": "2022-11-20T10:17:31.636Z"
   },
   {
    "duration": 3,
    "start_time": "2022-11-20T10:17:31.653Z"
   },
   {
    "duration": 156,
    "start_time": "2022-11-20T10:17:31.658Z"
   },
   {
    "duration": 171,
    "start_time": "2022-11-20T10:17:31.816Z"
   },
   {
    "duration": 3,
    "start_time": "2022-11-20T10:17:31.989Z"
   },
   {
    "duration": 211,
    "start_time": "2022-11-20T10:17:31.994Z"
   },
   {
    "duration": 280,
    "start_time": "2022-11-20T10:17:32.206Z"
   },
   {
    "duration": 273,
    "start_time": "2022-11-20T10:17:32.487Z"
   },
   {
    "duration": 3,
    "start_time": "2022-11-20T10:17:32.762Z"
   },
   {
    "duration": 182,
    "start_time": "2022-11-20T10:17:32.766Z"
   },
   {
    "duration": 160,
    "start_time": "2022-11-20T10:17:32.950Z"
   },
   {
    "duration": 165,
    "start_time": "2022-11-20T10:17:33.113Z"
   },
   {
    "duration": 346,
    "start_time": "2022-11-20T10:17:33.279Z"
   },
   {
    "duration": 1020,
    "start_time": "2022-11-20T10:17:33.627Z"
   },
   {
    "duration": 608,
    "start_time": "2022-11-20T10:17:34.649Z"
   },
   {
    "duration": 439,
    "start_time": "2022-11-20T10:17:35.259Z"
   },
   {
    "duration": 101,
    "start_time": "2022-11-20T10:17:35.700Z"
   },
   {
    "duration": 0,
    "start_time": "2022-11-20T10:17:35.803Z"
   },
   {
    "duration": 15,
    "start_time": "2022-11-20T10:52:41.716Z"
   },
   {
    "duration": 1143,
    "start_time": "2022-11-20T10:53:12.302Z"
   },
   {
    "duration": 3,
    "start_time": "2022-11-20T10:53:13.447Z"
   },
   {
    "duration": 99,
    "start_time": "2022-11-20T10:53:13.451Z"
   },
   {
    "duration": 64,
    "start_time": "2022-11-20T10:53:13.551Z"
   },
   {
    "duration": 13,
    "start_time": "2022-11-20T10:53:13.617Z"
   },
   {
    "duration": 5,
    "start_time": "2022-11-20T10:53:13.632Z"
   },
   {
    "duration": 9,
    "start_time": "2022-11-20T10:53:13.639Z"
   },
   {
    "duration": 5,
    "start_time": "2022-11-20T10:53:13.650Z"
   },
   {
    "duration": 3,
    "start_time": "2022-11-20T10:53:13.656Z"
   },
   {
    "duration": 55,
    "start_time": "2022-11-20T10:53:13.661Z"
   },
   {
    "duration": 10,
    "start_time": "2022-11-20T10:53:13.718Z"
   },
   {
    "duration": 101,
    "start_time": "2022-11-20T10:53:13.729Z"
   },
   {
    "duration": 7,
    "start_time": "2022-11-20T10:53:13.832Z"
   },
   {
    "duration": 4,
    "start_time": "2022-11-20T10:53:13.842Z"
   },
   {
    "duration": 6,
    "start_time": "2022-11-20T10:53:13.848Z"
   },
   {
    "duration": 69,
    "start_time": "2022-11-20T10:53:13.855Z"
   },
   {
    "duration": 4,
    "start_time": "2022-11-20T10:53:13.926Z"
   },
   {
    "duration": 382,
    "start_time": "2022-11-20T10:53:13.931Z"
   },
   {
    "duration": 324,
    "start_time": "2022-11-20T10:53:14.315Z"
   },
   {
    "duration": 7,
    "start_time": "2022-11-20T10:53:14.641Z"
   },
   {
    "duration": 562,
    "start_time": "2022-11-20T10:53:14.653Z"
   },
   {
    "duration": 327,
    "start_time": "2022-11-20T10:53:15.216Z"
   },
   {
    "duration": 225,
    "start_time": "2022-11-20T10:53:15.545Z"
   },
   {
    "duration": 4,
    "start_time": "2022-11-20T10:53:15.771Z"
   },
   {
    "duration": 178,
    "start_time": "2022-11-20T10:53:15.777Z"
   },
   {
    "duration": 234,
    "start_time": "2022-11-20T10:53:15.956Z"
   },
   {
    "duration": 172,
    "start_time": "2022-11-20T10:53:16.191Z"
   },
   {
    "duration": 193,
    "start_time": "2022-11-20T10:53:16.364Z"
   },
   {
    "duration": 509,
    "start_time": "2022-11-20T10:53:16.558Z"
   },
   {
    "duration": 450,
    "start_time": "2022-11-20T10:53:17.069Z"
   },
   {
    "duration": 347,
    "start_time": "2022-11-20T10:53:17.521Z"
   },
   {
    "duration": 114,
    "start_time": "2022-11-20T10:53:17.870Z"
   },
   {
    "duration": 0,
    "start_time": "2022-11-20T10:53:17.985Z"
   },
   {
    "duration": 307,
    "start_time": "2022-11-20T11:26:02.276Z"
   },
   {
    "duration": 237,
    "start_time": "2022-11-20T11:26:12.402Z"
   },
   {
    "duration": 70,
    "start_time": "2022-11-20T11:39:29.095Z"
   },
   {
    "duration": 13,
    "start_time": "2022-11-20T12:27:32.032Z"
   },
   {
    "duration": 12,
    "start_time": "2022-11-20T12:30:22.294Z"
   },
   {
    "duration": 13,
    "start_time": "2022-11-20T12:30:59.758Z"
   },
   {
    "duration": 14,
    "start_time": "2022-11-20T12:34:23.580Z"
   },
   {
    "duration": 9,
    "start_time": "2022-11-20T12:35:06.565Z"
   },
   {
    "duration": 10,
    "start_time": "2022-11-20T12:35:45.876Z"
   },
   {
    "duration": 1019,
    "start_time": "2022-11-20T12:45:35.157Z"
   },
   {
    "duration": 3,
    "start_time": "2022-11-20T12:45:36.177Z"
   },
   {
    "duration": 101,
    "start_time": "2022-11-20T12:45:36.181Z"
   },
   {
    "duration": 19,
    "start_time": "2022-11-20T12:45:36.283Z"
   },
   {
    "duration": 15,
    "start_time": "2022-11-20T12:45:36.304Z"
   },
   {
    "duration": 3,
    "start_time": "2022-11-20T12:45:36.320Z"
   },
   {
    "duration": 9,
    "start_time": "2022-11-20T12:45:36.324Z"
   },
   {
    "duration": 6,
    "start_time": "2022-11-20T12:45:36.334Z"
   },
   {
    "duration": 5,
    "start_time": "2022-11-20T12:45:36.342Z"
   },
   {
    "duration": 10,
    "start_time": "2022-11-20T12:45:36.348Z"
   },
   {
    "duration": 10,
    "start_time": "2022-11-20T12:45:36.359Z"
   },
   {
    "duration": 56,
    "start_time": "2022-11-20T12:45:36.370Z"
   },
   {
    "duration": 7,
    "start_time": "2022-11-20T12:45:36.427Z"
   },
   {
    "duration": 5,
    "start_time": "2022-11-20T12:45:36.436Z"
   },
   {
    "duration": 6,
    "start_time": "2022-11-20T12:45:36.442Z"
   },
   {
    "duration": 15,
    "start_time": "2022-11-20T12:45:36.449Z"
   },
   {
    "duration": 4,
    "start_time": "2022-11-20T12:45:36.466Z"
   },
   {
    "duration": 187,
    "start_time": "2022-11-20T12:45:36.471Z"
   },
   {
    "duration": 168,
    "start_time": "2022-11-20T12:45:36.660Z"
   },
   {
    "duration": 4,
    "start_time": "2022-11-20T12:45:36.830Z"
   },
   {
    "duration": 224,
    "start_time": "2022-11-20T12:45:36.835Z"
   },
   {
    "duration": 298,
    "start_time": "2022-11-20T12:45:37.061Z"
   },
   {
    "duration": 224,
    "start_time": "2022-11-20T12:45:37.360Z"
   },
   {
    "duration": 4,
    "start_time": "2022-11-20T12:45:37.585Z"
   },
   {
    "duration": 175,
    "start_time": "2022-11-20T12:45:37.590Z"
   },
   {
    "duration": 236,
    "start_time": "2022-11-20T12:45:37.767Z"
   },
   {
    "duration": 174,
    "start_time": "2022-11-20T12:45:38.005Z"
   },
   {
    "duration": 193,
    "start_time": "2022-11-20T12:45:38.180Z"
   },
   {
    "duration": 495,
    "start_time": "2022-11-20T12:45:38.375Z"
   },
   {
    "duration": 376,
    "start_time": "2022-11-20T12:45:38.872Z"
   },
   {
    "duration": 362,
    "start_time": "2022-11-20T12:45:39.250Z"
   },
   {
    "duration": 104,
    "start_time": "2022-11-20T12:45:39.613Z"
   },
   {
    "duration": 0,
    "start_time": "2022-11-20T12:45:39.719Z"
   },
   {
    "duration": 50,
    "start_time": "2022-11-20T14:07:41.841Z"
   },
   {
    "duration": 1409,
    "start_time": "2022-11-20T14:07:51.759Z"
   },
   {
    "duration": 3,
    "start_time": "2022-11-20T14:07:53.170Z"
   },
   {
    "duration": 221,
    "start_time": "2022-11-20T14:07:53.176Z"
   },
   {
    "duration": 22,
    "start_time": "2022-11-20T14:07:53.399Z"
   },
   {
    "duration": 15,
    "start_time": "2022-11-20T14:07:53.423Z"
   },
   {
    "duration": 3,
    "start_time": "2022-11-20T14:07:53.439Z"
   },
   {
    "duration": 6,
    "start_time": "2022-11-20T14:07:53.444Z"
   },
   {
    "duration": 8,
    "start_time": "2022-11-20T14:07:53.452Z"
   },
   {
    "duration": 4,
    "start_time": "2022-11-20T14:07:53.461Z"
   },
   {
    "duration": 8,
    "start_time": "2022-11-20T14:07:53.467Z"
   },
   {
    "duration": 20,
    "start_time": "2022-11-20T14:07:53.476Z"
   },
   {
    "duration": 58,
    "start_time": "2022-11-20T14:07:53.498Z"
   },
   {
    "duration": 8,
    "start_time": "2022-11-20T14:07:53.558Z"
   },
   {
    "duration": 11,
    "start_time": "2022-11-20T14:07:53.569Z"
   },
   {
    "duration": 6,
    "start_time": "2022-11-20T14:07:53.582Z"
   },
   {
    "duration": 16,
    "start_time": "2022-11-20T14:07:53.590Z"
   },
   {
    "duration": 4,
    "start_time": "2022-11-20T14:07:53.608Z"
   },
   {
    "duration": 208,
    "start_time": "2022-11-20T14:07:53.614Z"
   },
   {
    "duration": 185,
    "start_time": "2022-11-20T14:07:53.824Z"
   },
   {
    "duration": 5,
    "start_time": "2022-11-20T14:07:54.010Z"
   },
   {
    "duration": 247,
    "start_time": "2022-11-20T14:07:54.017Z"
   },
   {
    "duration": 294,
    "start_time": "2022-11-20T14:07:54.266Z"
   },
   {
    "duration": 243,
    "start_time": "2022-11-20T14:07:54.561Z"
   },
   {
    "duration": 5,
    "start_time": "2022-11-20T14:07:54.805Z"
   },
   {
    "duration": 207,
    "start_time": "2022-11-20T14:07:54.811Z"
   },
   {
    "duration": 262,
    "start_time": "2022-11-20T14:07:55.019Z"
   },
   {
    "duration": 187,
    "start_time": "2022-11-20T14:07:55.282Z"
   },
   {
    "duration": 212,
    "start_time": "2022-11-20T14:07:55.471Z"
   },
   {
    "duration": 542,
    "start_time": "2022-11-20T14:07:55.685Z"
   },
   {
    "duration": 400,
    "start_time": "2022-11-20T14:07:56.229Z"
   },
   {
    "duration": 397,
    "start_time": "2022-11-20T14:07:56.631Z"
   },
   {
    "duration": 125,
    "start_time": "2022-11-20T14:07:57.030Z"
   },
   {
    "duration": 0,
    "start_time": "2022-11-20T14:07:57.157Z"
   },
   {
    "duration": 26,
    "start_time": "2022-11-20T14:13:27.538Z"
   },
   {
    "duration": 25,
    "start_time": "2022-11-20T14:13:47.149Z"
   },
   {
    "duration": 4,
    "start_time": "2022-11-20T14:14:48.051Z"
   },
   {
    "duration": 138,
    "start_time": "2022-11-20T14:14:59.033Z"
   },
   {
    "duration": 9,
    "start_time": "2022-11-20T14:15:22.583Z"
   },
   {
    "duration": 20,
    "start_time": "2022-11-20T14:15:47.612Z"
   },
   {
    "duration": 7,
    "start_time": "2022-11-20T14:16:12.454Z"
   },
   {
    "duration": 25,
    "start_time": "2022-11-20T14:18:19.274Z"
   },
   {
    "duration": 14,
    "start_time": "2022-11-20T14:20:22.951Z"
   },
   {
    "duration": 11,
    "start_time": "2022-11-20T14:21:57.423Z"
   },
   {
    "duration": 4,
    "start_time": "2022-11-20T14:23:18.888Z"
   },
   {
    "duration": 1381,
    "start_time": "2022-11-20T14:26:00.035Z"
   },
   {
    "duration": 3,
    "start_time": "2022-11-20T14:26:01.419Z"
   },
   {
    "duration": 104,
    "start_time": "2022-11-20T14:26:01.424Z"
   },
   {
    "duration": 25,
    "start_time": "2022-11-20T14:26:01.531Z"
   },
   {
    "duration": 5,
    "start_time": "2022-11-20T14:26:01.559Z"
   },
   {
    "duration": 24,
    "start_time": "2022-11-20T14:26:01.566Z"
   },
   {
    "duration": 2,
    "start_time": "2022-11-20T14:26:01.593Z"
   },
   {
    "duration": 55,
    "start_time": "2022-11-20T14:26:01.598Z"
   },
   {
    "duration": 23,
    "start_time": "2022-11-20T14:26:01.655Z"
   },
   {
    "duration": 4,
    "start_time": "2022-11-20T14:26:01.682Z"
   },
   {
    "duration": 24,
    "start_time": "2022-11-20T14:26:01.688Z"
   },
   {
    "duration": 14,
    "start_time": "2022-11-20T14:26:01.714Z"
   },
   {
    "duration": 12,
    "start_time": "2022-11-20T14:26:01.730Z"
   },
   {
    "duration": 19,
    "start_time": "2022-11-20T14:26:01.750Z"
   },
   {
    "duration": 20,
    "start_time": "2022-11-20T14:26:01.771Z"
   },
   {
    "duration": 157,
    "start_time": "2022-11-20T14:26:01.793Z"
   },
   {
    "duration": 0,
    "start_time": "2022-11-20T14:26:01.952Z"
   },
   {
    "duration": 0,
    "start_time": "2022-11-20T14:26:01.953Z"
   },
   {
    "duration": 0,
    "start_time": "2022-11-20T14:26:01.955Z"
   },
   {
    "duration": 0,
    "start_time": "2022-11-20T14:26:01.956Z"
   },
   {
    "duration": 0,
    "start_time": "2022-11-20T14:26:01.957Z"
   },
   {
    "duration": 0,
    "start_time": "2022-11-20T14:26:01.958Z"
   },
   {
    "duration": 0,
    "start_time": "2022-11-20T14:26:01.960Z"
   },
   {
    "duration": 0,
    "start_time": "2022-11-20T14:26:01.961Z"
   },
   {
    "duration": 0,
    "start_time": "2022-11-20T14:26:01.963Z"
   },
   {
    "duration": 0,
    "start_time": "2022-11-20T14:26:01.964Z"
   },
   {
    "duration": 0,
    "start_time": "2022-11-20T14:26:01.965Z"
   },
   {
    "duration": 0,
    "start_time": "2022-11-20T14:26:01.967Z"
   },
   {
    "duration": 0,
    "start_time": "2022-11-20T14:26:01.968Z"
   },
   {
    "duration": 0,
    "start_time": "2022-11-20T14:26:01.969Z"
   },
   {
    "duration": 0,
    "start_time": "2022-11-20T14:26:01.970Z"
   },
   {
    "duration": 0,
    "start_time": "2022-11-20T14:26:01.971Z"
   },
   {
    "duration": 0,
    "start_time": "2022-11-20T14:26:01.972Z"
   },
   {
    "duration": 0,
    "start_time": "2022-11-20T14:26:01.974Z"
   },
   {
    "duration": 0,
    "start_time": "2022-11-20T14:26:01.975Z"
   },
   {
    "duration": 0,
    "start_time": "2022-11-20T14:26:01.977Z"
   },
   {
    "duration": 0,
    "start_time": "2022-11-20T14:26:01.978Z"
   },
   {
    "duration": 68,
    "start_time": "2022-11-20T14:26:40.864Z"
   },
   {
    "duration": 15,
    "start_time": "2022-11-20T14:30:37.680Z"
   },
   {
    "duration": 78,
    "start_time": "2022-11-20T14:31:31.859Z"
   },
   {
    "duration": 9,
    "start_time": "2022-11-20T14:32:59.566Z"
   },
   {
    "duration": 18,
    "start_time": "2022-11-20T14:34:09.383Z"
   },
   {
    "duration": 44,
    "start_time": "2022-11-20T14:34:45.036Z"
   },
   {
    "duration": 45,
    "start_time": "2022-11-20T14:35:06.742Z"
   },
   {
    "duration": 86,
    "start_time": "2022-11-20T14:36:05.938Z"
   },
   {
    "duration": 1255,
    "start_time": "2022-11-20T14:36:37.390Z"
   },
   {
    "duration": 3,
    "start_time": "2022-11-20T14:36:38.647Z"
   },
   {
    "duration": 110,
    "start_time": "2022-11-20T14:36:38.653Z"
   },
   {
    "duration": 21,
    "start_time": "2022-11-20T14:36:38.766Z"
   },
   {
    "duration": 5,
    "start_time": "2022-11-20T14:36:38.790Z"
   },
   {
    "duration": 20,
    "start_time": "2022-11-20T14:36:38.797Z"
   },
   {
    "duration": 3,
    "start_time": "2022-11-20T14:36:38.819Z"
   },
   {
    "duration": 163,
    "start_time": "2022-11-20T14:36:38.823Z"
   },
   {
    "duration": 0,
    "start_time": "2022-11-20T14:36:38.989Z"
   },
   {
    "duration": 0,
    "start_time": "2022-11-20T14:36:38.990Z"
   },
   {
    "duration": 0,
    "start_time": "2022-11-20T14:36:38.991Z"
   },
   {
    "duration": 0,
    "start_time": "2022-11-20T14:36:38.992Z"
   },
   {
    "duration": 0,
    "start_time": "2022-11-20T14:36:38.994Z"
   },
   {
    "duration": 0,
    "start_time": "2022-11-20T14:36:38.995Z"
   },
   {
    "duration": 0,
    "start_time": "2022-11-20T14:36:38.996Z"
   },
   {
    "duration": 0,
    "start_time": "2022-11-20T14:36:38.997Z"
   },
   {
    "duration": 0,
    "start_time": "2022-11-20T14:36:38.999Z"
   },
   {
    "duration": 0,
    "start_time": "2022-11-20T14:36:39.000Z"
   },
   {
    "duration": 0,
    "start_time": "2022-11-20T14:36:39.001Z"
   },
   {
    "duration": 0,
    "start_time": "2022-11-20T14:36:39.002Z"
   },
   {
    "duration": 0,
    "start_time": "2022-11-20T14:36:39.003Z"
   },
   {
    "duration": 0,
    "start_time": "2022-11-20T14:36:39.004Z"
   },
   {
    "duration": 0,
    "start_time": "2022-11-20T14:36:39.005Z"
   },
   {
    "duration": 0,
    "start_time": "2022-11-20T14:36:39.006Z"
   },
   {
    "duration": 0,
    "start_time": "2022-11-20T14:36:39.008Z"
   },
   {
    "duration": 1,
    "start_time": "2022-11-20T14:36:39.009Z"
   },
   {
    "duration": 0,
    "start_time": "2022-11-20T14:36:39.011Z"
   },
   {
    "duration": 0,
    "start_time": "2022-11-20T14:36:39.011Z"
   },
   {
    "duration": 0,
    "start_time": "2022-11-20T14:36:39.012Z"
   },
   {
    "duration": 0,
    "start_time": "2022-11-20T14:36:39.012Z"
   },
   {
    "duration": 0,
    "start_time": "2022-11-20T14:36:39.013Z"
   },
   {
    "duration": 0,
    "start_time": "2022-11-20T14:36:39.013Z"
   },
   {
    "duration": 0,
    "start_time": "2022-11-20T14:36:39.014Z"
   },
   {
    "duration": 1,
    "start_time": "2022-11-20T14:36:39.050Z"
   },
   {
    "duration": 0,
    "start_time": "2022-11-20T14:36:39.052Z"
   },
   {
    "duration": 0,
    "start_time": "2022-11-20T14:36:39.053Z"
   },
   {
    "duration": 0,
    "start_time": "2022-11-20T14:36:39.054Z"
   },
   {
    "duration": 0,
    "start_time": "2022-11-20T14:36:39.056Z"
   },
   {
    "duration": 74,
    "start_time": "2022-11-20T14:37:07.029Z"
   },
   {
    "duration": 19,
    "start_time": "2022-11-20T14:37:21.979Z"
   },
   {
    "duration": 24,
    "start_time": "2022-11-20T14:37:32.873Z"
   },
   {
    "duration": 37,
    "start_time": "2022-11-20T14:41:12.373Z"
   },
   {
    "duration": 3,
    "start_time": "2022-11-20T14:41:17.383Z"
   },
   {
    "duration": 71,
    "start_time": "2022-11-20T14:45:45.871Z"
   },
   {
    "duration": 22,
    "start_time": "2022-11-20T14:45:49.807Z"
   },
   {
    "duration": 23,
    "start_time": "2022-11-20T14:48:00.183Z"
   },
   {
    "duration": 18,
    "start_time": "2022-11-20T14:50:37.869Z"
   },
   {
    "duration": 19,
    "start_time": "2022-11-20T14:50:55.052Z"
   },
   {
    "duration": 21,
    "start_time": "2022-11-20T14:51:14.335Z"
   },
   {
    "duration": 24,
    "start_time": "2022-11-20T14:52:07.368Z"
   },
   {
    "duration": 1286,
    "start_time": "2022-11-20T14:52:18.849Z"
   },
   {
    "duration": 1599,
    "start_time": "2022-11-20T14:52:48.709Z"
   },
   {
    "duration": 3,
    "start_time": "2022-11-20T14:52:50.311Z"
   },
   {
    "duration": 243,
    "start_time": "2022-11-20T14:52:50.316Z"
   },
   {
    "duration": 34,
    "start_time": "2022-11-20T14:52:50.562Z"
   },
   {
    "duration": 19,
    "start_time": "2022-11-20T14:52:50.599Z"
   },
   {
    "duration": 34,
    "start_time": "2022-11-20T14:52:50.620Z"
   },
   {
    "duration": 5,
    "start_time": "2022-11-20T14:52:50.663Z"
   },
   {
    "duration": 30,
    "start_time": "2022-11-20T14:52:50.670Z"
   },
   {
    "duration": 51,
    "start_time": "2022-11-20T14:52:50.702Z"
   },
   {
    "duration": 28,
    "start_time": "2022-11-20T14:52:50.757Z"
   },
   {
    "duration": 4,
    "start_time": "2022-11-20T14:52:50.787Z"
   },
   {
    "duration": 9,
    "start_time": "2022-11-20T14:52:50.794Z"
   },
   {
    "duration": 15,
    "start_time": "2022-11-20T14:52:50.805Z"
   },
   {
    "duration": 28,
    "start_time": "2022-11-20T14:52:50.823Z"
   },
   {
    "duration": 7,
    "start_time": "2022-11-20T14:52:50.853Z"
   },
   {
    "duration": 25,
    "start_time": "2022-11-20T14:52:50.862Z"
   },
   {
    "duration": 94,
    "start_time": "2022-11-20T14:52:50.889Z"
   },
   {
    "duration": 10,
    "start_time": "2022-11-20T14:52:50.985Z"
   },
   {
    "duration": 9,
    "start_time": "2022-11-20T14:52:50.997Z"
   },
   {
    "duration": 19,
    "start_time": "2022-11-20T14:52:51.009Z"
   },
   {
    "duration": 23,
    "start_time": "2022-11-20T14:52:51.050Z"
   },
   {
    "duration": 6,
    "start_time": "2022-11-20T14:52:51.076Z"
   },
   {
    "duration": 348,
    "start_time": "2022-11-20T14:52:51.085Z"
   },
   {
    "duration": 285,
    "start_time": "2022-11-20T14:52:51.436Z"
   },
   {
    "duration": 7,
    "start_time": "2022-11-20T14:52:51.724Z"
   },
   {
    "duration": 391,
    "start_time": "2022-11-20T14:52:51.734Z"
   },
   {
    "duration": 530,
    "start_time": "2022-11-20T14:52:52.127Z"
   },
   {
    "duration": 421,
    "start_time": "2022-11-20T14:52:52.662Z"
   },
   {
    "duration": 6,
    "start_time": "2022-11-20T14:52:53.086Z"
   },
   {
    "duration": 302,
    "start_time": "2022-11-20T14:52:53.094Z"
   },
   {
    "duration": 369,
    "start_time": "2022-11-20T14:52:53.398Z"
   },
   {
    "duration": 236,
    "start_time": "2022-11-20T14:52:53.769Z"
   },
   {
    "duration": 314,
    "start_time": "2022-11-20T14:52:54.007Z"
   },
   {
    "duration": 675,
    "start_time": "2022-11-20T14:52:54.323Z"
   },
   {
    "duration": 595,
    "start_time": "2022-11-20T14:52:55.000Z"
   },
   {
    "duration": 566,
    "start_time": "2022-11-20T14:52:55.597Z"
   },
   {
    "duration": 171,
    "start_time": "2022-11-20T14:52:56.165Z"
   },
   {
    "duration": 0,
    "start_time": "2022-11-20T14:52:56.339Z"
   },
   {
    "duration": 50,
    "start_time": "2022-11-20T14:54:34.489Z"
   },
   {
    "duration": 3,
    "start_time": "2022-11-20T14:55:53.868Z"
   },
   {
    "duration": 324,
    "start_time": "2022-11-20T14:56:42.754Z"
   },
   {
    "duration": 25,
    "start_time": "2022-11-20T15:09:39.653Z"
   },
   {
    "duration": 8,
    "start_time": "2022-11-20T15:10:28.696Z"
   },
   {
    "duration": 9,
    "start_time": "2022-11-20T15:11:32.313Z"
   },
   {
    "duration": 9,
    "start_time": "2022-11-20T15:12:08.741Z"
   },
   {
    "duration": 10,
    "start_time": "2022-11-20T15:12:14.134Z"
   },
   {
    "duration": 12,
    "start_time": "2022-11-20T15:12:43.073Z"
   },
   {
    "duration": 12,
    "start_time": "2022-11-20T15:12:55.200Z"
   },
   {
    "duration": 9,
    "start_time": "2022-11-20T15:13:07.125Z"
   },
   {
    "duration": 10,
    "start_time": "2022-11-20T15:13:24.559Z"
   },
   {
    "duration": 12,
    "start_time": "2022-11-20T15:13:27.368Z"
   },
   {
    "duration": 8,
    "start_time": "2022-11-20T15:13:49.072Z"
   },
   {
    "duration": 410,
    "start_time": "2022-11-20T15:17:54.105Z"
   },
   {
    "duration": 72,
    "start_time": "2022-11-20T16:26:58.440Z"
   },
   {
    "duration": 12,
    "start_time": "2022-11-20T16:36:02.696Z"
   },
   {
    "duration": 11,
    "start_time": "2022-11-20T16:36:12.448Z"
   },
   {
    "duration": 11,
    "start_time": "2022-11-20T16:37:04.366Z"
   },
   {
    "duration": 15,
    "start_time": "2022-11-20T16:37:57.964Z"
   },
   {
    "duration": 104,
    "start_time": "2022-11-20T16:41:16.995Z"
   },
   {
    "duration": 125,
    "start_time": "2022-11-20T16:45:28.981Z"
   },
   {
    "duration": 1448,
    "start_time": "2022-11-20T16:46:45.475Z"
   },
   {
    "duration": 4,
    "start_time": "2022-11-20T16:46:46.925Z"
   },
   {
    "duration": 150,
    "start_time": "2022-11-20T16:46:46.932Z"
   },
   {
    "duration": 25,
    "start_time": "2022-11-20T16:46:47.088Z"
   },
   {
    "duration": 10,
    "start_time": "2022-11-20T16:46:47.116Z"
   },
   {
    "duration": 41,
    "start_time": "2022-11-20T16:46:47.128Z"
   },
   {
    "duration": 27,
    "start_time": "2022-11-20T16:46:47.171Z"
   },
   {
    "duration": 24,
    "start_time": "2022-11-20T16:46:47.202Z"
   },
   {
    "duration": 28,
    "start_time": "2022-11-20T16:46:47.228Z"
   },
   {
    "duration": 40,
    "start_time": "2022-11-20T16:46:47.258Z"
   },
   {
    "duration": 67,
    "start_time": "2022-11-20T16:46:47.301Z"
   },
   {
    "duration": 11,
    "start_time": "2022-11-20T16:46:47.370Z"
   },
   {
    "duration": 30,
    "start_time": "2022-11-20T16:46:47.383Z"
   },
   {
    "duration": 18,
    "start_time": "2022-11-20T16:46:47.418Z"
   },
   {
    "duration": 18,
    "start_time": "2022-11-20T16:46:47.438Z"
   },
   {
    "duration": 38,
    "start_time": "2022-11-20T16:46:47.458Z"
   },
   {
    "duration": 20,
    "start_time": "2022-11-20T16:46:47.498Z"
   },
   {
    "duration": 8,
    "start_time": "2022-11-20T16:46:47.521Z"
   },
   {
    "duration": 16,
    "start_time": "2022-11-20T16:46:47.531Z"
   },
   {
    "duration": 45,
    "start_time": "2022-11-20T16:46:47.549Z"
   },
   {
    "duration": 18,
    "start_time": "2022-11-20T16:46:47.596Z"
   },
   {
    "duration": 3,
    "start_time": "2022-11-20T16:46:47.616Z"
   },
   {
    "duration": 42,
    "start_time": "2022-11-20T16:46:47.622Z"
   },
   {
    "duration": 10,
    "start_time": "2022-11-20T16:46:47.666Z"
   },
   {
    "duration": 23,
    "start_time": "2022-11-20T16:46:47.678Z"
   },
   {
    "duration": 7,
    "start_time": "2022-11-20T16:46:47.704Z"
   },
   {
    "duration": 7,
    "start_time": "2022-11-20T16:46:47.713Z"
   },
   {
    "duration": 286,
    "start_time": "2022-11-20T16:46:47.722Z"
   },
   {
    "duration": 286,
    "start_time": "2022-11-20T16:46:48.010Z"
   },
   {
    "duration": 5,
    "start_time": "2022-11-20T16:46:48.298Z"
   },
   {
    "duration": 332,
    "start_time": "2022-11-20T16:46:48.304Z"
   },
   {
    "duration": 372,
    "start_time": "2022-11-20T16:46:48.638Z"
   },
   {
    "duration": 369,
    "start_time": "2022-11-20T16:46:49.012Z"
   },
   {
    "duration": 6,
    "start_time": "2022-11-20T16:46:49.383Z"
   },
   {
    "duration": 293,
    "start_time": "2022-11-20T16:46:49.391Z"
   },
   {
    "duration": 377,
    "start_time": "2022-11-20T16:46:49.687Z"
   },
   {
    "duration": 296,
    "start_time": "2022-11-20T16:46:50.068Z"
   },
   {
    "duration": 258,
    "start_time": "2022-11-20T16:46:50.367Z"
   },
   {
    "duration": 663,
    "start_time": "2022-11-20T16:46:50.627Z"
   },
   {
    "duration": 560,
    "start_time": "2022-11-20T16:46:51.293Z"
   },
   {
    "duration": 510,
    "start_time": "2022-11-20T16:46:51.858Z"
   },
   {
    "duration": 161,
    "start_time": "2022-11-20T16:46:52.371Z"
   },
   {
    "duration": 0,
    "start_time": "2022-11-20T16:46:52.535Z"
   },
   {
    "duration": 92,
    "start_time": "2022-11-20T16:47:42.648Z"
   },
   {
    "duration": 4,
    "start_time": "2022-11-20T16:49:25.032Z"
   },
   {
    "duration": 8,
    "start_time": "2022-11-20T16:50:21.566Z"
   },
   {
    "duration": 5,
    "start_time": "2022-11-20T16:50:24.509Z"
   },
   {
    "duration": 1273,
    "start_time": "2022-11-20T16:55:17.571Z"
   },
   {
    "duration": 4,
    "start_time": "2022-11-20T16:55:18.846Z"
   },
   {
    "duration": 166,
    "start_time": "2022-11-20T16:55:18.852Z"
   },
   {
    "duration": 30,
    "start_time": "2022-11-20T16:55:19.020Z"
   },
   {
    "duration": 6,
    "start_time": "2022-11-20T16:55:19.053Z"
   },
   {
    "duration": 45,
    "start_time": "2022-11-20T16:55:19.061Z"
   },
   {
    "duration": 2,
    "start_time": "2022-11-20T16:55:19.108Z"
   },
   {
    "duration": 24,
    "start_time": "2022-11-20T16:55:19.112Z"
   },
   {
    "duration": 32,
    "start_time": "2022-11-20T16:55:19.140Z"
   },
   {
    "duration": 27,
    "start_time": "2022-11-20T16:55:19.174Z"
   },
   {
    "duration": 88,
    "start_time": "2022-11-20T16:55:19.202Z"
   },
   {
    "duration": 12,
    "start_time": "2022-11-20T16:55:19.293Z"
   },
   {
    "duration": 16,
    "start_time": "2022-11-20T16:55:19.307Z"
   },
   {
    "duration": 10,
    "start_time": "2022-11-20T16:55:19.327Z"
   },
   {
    "duration": 49,
    "start_time": "2022-11-20T16:55:19.351Z"
   },
   {
    "duration": 11,
    "start_time": "2022-11-20T16:55:19.402Z"
   },
   {
    "duration": 11,
    "start_time": "2022-11-20T16:55:19.414Z"
   },
   {
    "duration": 5,
    "start_time": "2022-11-20T16:55:19.426Z"
   },
   {
    "duration": 51,
    "start_time": "2022-11-20T16:55:19.434Z"
   },
   {
    "duration": 16,
    "start_time": "2022-11-20T16:55:19.487Z"
   },
   {
    "duration": 20,
    "start_time": "2022-11-20T16:55:19.505Z"
   },
   {
    "duration": 6,
    "start_time": "2022-11-20T16:55:19.528Z"
   },
   {
    "duration": 34,
    "start_time": "2022-11-20T16:55:19.535Z"
   },
   {
    "duration": 22,
    "start_time": "2022-11-20T16:55:19.574Z"
   },
   {
    "duration": 27,
    "start_time": "2022-11-20T16:55:19.602Z"
   },
   {
    "duration": 263,
    "start_time": "2022-11-20T16:55:19.631Z"
   },
   {
    "duration": 251,
    "start_time": "2022-11-20T16:55:19.896Z"
   },
   {
    "duration": 15,
    "start_time": "2022-11-20T16:55:20.149Z"
   },
   {
    "duration": 397,
    "start_time": "2022-11-20T16:55:20.167Z"
   },
   {
    "duration": 383,
    "start_time": "2022-11-20T16:55:20.566Z"
   },
   {
    "duration": 289,
    "start_time": "2022-11-20T16:55:20.952Z"
   },
   {
    "duration": 10,
    "start_time": "2022-11-20T16:55:21.244Z"
   },
   {
    "duration": 262,
    "start_time": "2022-11-20T16:55:21.256Z"
   },
   {
    "duration": 322,
    "start_time": "2022-11-20T16:55:21.520Z"
   },
   {
    "duration": 252,
    "start_time": "2022-11-20T16:55:21.844Z"
   },
   {
    "duration": 257,
    "start_time": "2022-11-20T16:55:22.099Z"
   },
   {
    "duration": 667,
    "start_time": "2022-11-20T16:55:22.359Z"
   },
   {
    "duration": 524,
    "start_time": "2022-11-20T16:55:23.029Z"
   },
   {
    "duration": 471,
    "start_time": "2022-11-20T16:55:23.556Z"
   },
   {
    "duration": 140,
    "start_time": "2022-11-20T16:55:24.029Z"
   },
   {
    "duration": 0,
    "start_time": "2022-11-20T16:55:24.173Z"
   },
   {
    "duration": 307,
    "start_time": "2022-11-20T16:56:44.280Z"
   },
   {
    "duration": 269,
    "start_time": "2022-11-20T16:57:00.033Z"
   },
   {
    "duration": 234,
    "start_time": "2022-11-20T16:57:29.274Z"
   },
   {
    "duration": 248,
    "start_time": "2022-11-20T16:57:35.778Z"
   },
   {
    "duration": 248,
    "start_time": "2022-11-20T16:59:32.317Z"
   },
   {
    "duration": 253,
    "start_time": "2022-11-20T17:00:06.781Z"
   },
   {
    "duration": 229,
    "start_time": "2022-11-20T17:00:12.599Z"
   },
   {
    "duration": 119,
    "start_time": "2022-11-20T17:01:02.070Z"
   },
   {
    "duration": 78,
    "start_time": "2022-11-20T17:09:31.033Z"
   },
   {
    "duration": 441,
    "start_time": "2022-11-20T17:11:35.552Z"
   },
   {
    "duration": 559,
    "start_time": "2022-11-20T17:12:21.347Z"
   },
   {
    "duration": 428,
    "start_time": "2022-11-20T17:19:26.319Z"
   },
   {
    "duration": 96,
    "start_time": "2022-11-20T17:20:11.669Z"
   },
   {
    "duration": 74,
    "start_time": "2022-11-20T17:22:03.165Z"
   },
   {
    "duration": 19,
    "start_time": "2022-11-20T17:23:38.620Z"
   },
   {
    "duration": 1222,
    "start_time": "2022-11-20T17:24:44.403Z"
   },
   {
    "duration": 2,
    "start_time": "2022-11-20T17:24:45.627Z"
   },
   {
    "duration": 127,
    "start_time": "2022-11-20T17:24:45.631Z"
   },
   {
    "duration": 21,
    "start_time": "2022-11-20T17:24:45.763Z"
   },
   {
    "duration": 11,
    "start_time": "2022-11-20T17:24:45.786Z"
   },
   {
    "duration": 41,
    "start_time": "2022-11-20T17:24:45.799Z"
   },
   {
    "duration": 16,
    "start_time": "2022-11-20T17:24:45.842Z"
   },
   {
    "duration": 42,
    "start_time": "2022-11-20T17:24:45.859Z"
   },
   {
    "duration": 23,
    "start_time": "2022-11-20T17:24:45.904Z"
   },
   {
    "duration": 3,
    "start_time": "2022-11-20T17:24:45.930Z"
   },
   {
    "duration": 82,
    "start_time": "2022-11-20T17:24:45.936Z"
   },
   {
    "duration": 8,
    "start_time": "2022-11-20T17:24:46.020Z"
   },
   {
    "duration": 27,
    "start_time": "2022-11-20T17:24:46.030Z"
   },
   {
    "duration": 13,
    "start_time": "2022-11-20T17:24:46.059Z"
   },
   {
    "duration": 11,
    "start_time": "2022-11-20T17:24:46.074Z"
   },
   {
    "duration": 6,
    "start_time": "2022-11-20T17:24:46.087Z"
   },
   {
    "duration": 6,
    "start_time": "2022-11-20T17:24:46.095Z"
   },
   {
    "duration": 3,
    "start_time": "2022-11-20T17:24:46.103Z"
   },
   {
    "duration": 10,
    "start_time": "2022-11-20T17:24:46.108Z"
   },
   {
    "duration": 29,
    "start_time": "2022-11-20T17:24:46.164Z"
   },
   {
    "duration": 18,
    "start_time": "2022-11-20T17:24:46.196Z"
   },
   {
    "duration": 6,
    "start_time": "2022-11-20T17:24:46.216Z"
   },
   {
    "duration": 37,
    "start_time": "2022-11-20T17:24:46.224Z"
   },
   {
    "duration": 5,
    "start_time": "2022-11-20T17:24:46.265Z"
   },
   {
    "duration": 13,
    "start_time": "2022-11-20T17:24:46.272Z"
   },
   {
    "duration": 206,
    "start_time": "2022-11-20T17:24:46.287Z"
   },
   {
    "duration": 223,
    "start_time": "2022-11-20T17:24:46.495Z"
   },
   {
    "duration": 5,
    "start_time": "2022-11-20T17:24:46.724Z"
   },
   {
    "duration": 301,
    "start_time": "2022-11-20T17:24:46.731Z"
   },
   {
    "duration": 304,
    "start_time": "2022-11-20T17:24:47.034Z"
   },
   {
    "duration": 270,
    "start_time": "2022-11-20T17:24:47.339Z"
   },
   {
    "duration": 4,
    "start_time": "2022-11-20T17:24:47.611Z"
   },
   {
    "duration": 250,
    "start_time": "2022-11-20T17:24:47.617Z"
   },
   {
    "duration": 264,
    "start_time": "2022-11-20T17:24:47.870Z"
   },
   {
    "duration": 344,
    "start_time": "2022-11-20T17:24:48.136Z"
   },
   {
    "duration": 259,
    "start_time": "2022-11-20T17:24:48.482Z"
   },
   {
    "duration": 686,
    "start_time": "2022-11-20T17:24:48.743Z"
   },
   {
    "duration": 552,
    "start_time": "2022-11-20T17:24:49.431Z"
   },
   {
    "duration": 493,
    "start_time": "2022-11-20T17:24:49.986Z"
   },
   {
    "duration": 129,
    "start_time": "2022-11-20T17:24:50.481Z"
   },
   {
    "duration": 0,
    "start_time": "2022-11-20T17:24:50.613Z"
   },
   {
    "duration": 11,
    "start_time": "2022-11-20T17:25:57.298Z"
   },
   {
    "duration": 8,
    "start_time": "2022-11-20T17:26:11.047Z"
   },
   {
    "duration": 15,
    "start_time": "2022-11-20T17:26:52.671Z"
   },
   {
    "duration": 20,
    "start_time": "2022-11-20T17:27:03.843Z"
   },
   {
    "duration": 18,
    "start_time": "2022-11-20T17:27:30.682Z"
   },
   {
    "duration": 33,
    "start_time": "2022-11-20T17:28:33.834Z"
   },
   {
    "duration": 6,
    "start_time": "2022-11-20T17:28:53.641Z"
   },
   {
    "duration": 4,
    "start_time": "2022-11-20T17:29:10.734Z"
   },
   {
    "duration": 7,
    "start_time": "2022-11-20T17:31:16.373Z"
   },
   {
    "duration": 6,
    "start_time": "2022-11-20T17:31:21.806Z"
   },
   {
    "duration": 7,
    "start_time": "2022-11-20T17:31:27.882Z"
   },
   {
    "duration": 10,
    "start_time": "2022-11-20T17:31:46.897Z"
   },
   {
    "duration": 18,
    "start_time": "2022-11-20T17:31:50.173Z"
   },
   {
    "duration": 14,
    "start_time": "2022-11-20T17:32:20.345Z"
   },
   {
    "duration": 8,
    "start_time": "2022-11-20T17:32:22.318Z"
   },
   {
    "duration": 1299,
    "start_time": "2022-11-20T17:33:23.228Z"
   },
   {
    "duration": 2,
    "start_time": "2022-11-20T17:33:24.529Z"
   },
   {
    "duration": 126,
    "start_time": "2022-11-20T17:33:24.533Z"
   },
   {
    "duration": 21,
    "start_time": "2022-11-20T17:33:24.666Z"
   },
   {
    "duration": 14,
    "start_time": "2022-11-20T17:33:24.689Z"
   },
   {
    "duration": 40,
    "start_time": "2022-11-20T17:33:24.705Z"
   },
   {
    "duration": 39,
    "start_time": "2022-11-20T17:33:24.747Z"
   },
   {
    "duration": 18,
    "start_time": "2022-11-20T17:33:24.789Z"
   },
   {
    "duration": 72,
    "start_time": "2022-11-20T17:33:24.809Z"
   },
   {
    "duration": 47,
    "start_time": "2022-11-20T17:33:24.884Z"
   },
   {
    "duration": 103,
    "start_time": "2022-11-20T17:33:24.934Z"
   },
   {
    "duration": 10,
    "start_time": "2022-11-20T17:33:25.039Z"
   },
   {
    "duration": 58,
    "start_time": "2022-11-20T17:33:25.053Z"
   },
   {
    "duration": 33,
    "start_time": "2022-11-20T17:33:25.113Z"
   },
   {
    "duration": 62,
    "start_time": "2022-11-20T17:33:25.149Z"
   },
   {
    "duration": 58,
    "start_time": "2022-11-20T17:33:25.213Z"
   },
   {
    "duration": 44,
    "start_time": "2022-11-20T17:33:25.273Z"
   },
   {
    "duration": 58,
    "start_time": "2022-11-20T17:33:25.319Z"
   },
   {
    "duration": 33,
    "start_time": "2022-11-20T17:33:25.379Z"
   },
   {
    "duration": 12,
    "start_time": "2022-11-20T17:33:25.414Z"
   },
   {
    "duration": 54,
    "start_time": "2022-11-20T17:33:25.428Z"
   },
   {
    "duration": 24,
    "start_time": "2022-11-20T17:33:25.484Z"
   },
   {
    "duration": 44,
    "start_time": "2022-11-20T17:33:25.510Z"
   },
   {
    "duration": 40,
    "start_time": "2022-11-20T17:33:25.556Z"
   },
   {
    "duration": 49,
    "start_time": "2022-11-20T17:33:25.598Z"
   },
   {
    "duration": 261,
    "start_time": "2022-11-20T17:33:25.649Z"
   },
   {
    "duration": 200,
    "start_time": "2022-11-20T17:33:25.912Z"
   },
   {
    "duration": 4,
    "start_time": "2022-11-20T17:33:26.117Z"
   },
   {
    "duration": 314,
    "start_time": "2022-11-20T17:33:26.123Z"
   },
   {
    "duration": 307,
    "start_time": "2022-11-20T17:33:26.439Z"
   },
   {
    "duration": 269,
    "start_time": "2022-11-20T17:33:26.751Z"
   },
   {
    "duration": 4,
    "start_time": "2022-11-20T17:33:27.022Z"
   },
   {
    "duration": 263,
    "start_time": "2022-11-20T17:33:27.028Z"
   },
   {
    "duration": 307,
    "start_time": "2022-11-20T17:33:27.293Z"
   },
   {
    "duration": 239,
    "start_time": "2022-11-20T17:33:27.602Z"
   },
   {
    "duration": 229,
    "start_time": "2022-11-20T17:33:27.843Z"
   },
   {
    "duration": 606,
    "start_time": "2022-11-20T17:33:28.074Z"
   },
   {
    "duration": 440,
    "start_time": "2022-11-20T17:33:28.682Z"
   },
   {
    "duration": 464,
    "start_time": "2022-11-20T17:33:29.124Z"
   },
   {
    "duration": 13,
    "start_time": "2022-11-20T17:33:29.589Z"
   },
   {
    "duration": 10,
    "start_time": "2022-11-20T17:33:29.604Z"
   },
   {
    "duration": 609,
    "start_time": "2022-11-20T17:38:05.268Z"
   },
   {
    "duration": 585,
    "start_time": "2022-11-20T17:40:33.904Z"
   },
   {
    "duration": 111,
    "start_time": "2022-11-20T17:40:50.502Z"
   },
   {
    "duration": 545,
    "start_time": "2022-11-20T17:41:04.873Z"
   },
   {
    "duration": 534,
    "start_time": "2022-11-20T17:41:24.676Z"
   },
   {
    "duration": 94,
    "start_time": "2022-11-20T17:41:52.915Z"
   },
   {
    "duration": 1207,
    "start_time": "2022-11-20T17:42:12.871Z"
   },
   {
    "duration": 2,
    "start_time": "2022-11-20T17:42:14.080Z"
   },
   {
    "duration": 128,
    "start_time": "2022-11-20T17:42:14.094Z"
   },
   {
    "duration": 36,
    "start_time": "2022-11-20T17:42:14.224Z"
   },
   {
    "duration": 6,
    "start_time": "2022-11-20T17:42:14.269Z"
   },
   {
    "duration": 18,
    "start_time": "2022-11-20T17:42:14.276Z"
   },
   {
    "duration": 3,
    "start_time": "2022-11-20T17:42:14.296Z"
   },
   {
    "duration": 20,
    "start_time": "2022-11-20T17:42:14.301Z"
   },
   {
    "duration": 50,
    "start_time": "2022-11-20T17:42:14.323Z"
   },
   {
    "duration": 4,
    "start_time": "2022-11-20T17:42:14.374Z"
   },
   {
    "duration": 79,
    "start_time": "2022-11-20T17:42:14.381Z"
   },
   {
    "duration": 11,
    "start_time": "2022-11-20T17:42:14.461Z"
   },
   {
    "duration": 15,
    "start_time": "2022-11-20T17:42:14.474Z"
   },
   {
    "duration": 22,
    "start_time": "2022-11-20T17:42:14.492Z"
   },
   {
    "duration": 10,
    "start_time": "2022-11-20T17:42:14.516Z"
   },
   {
    "duration": 24,
    "start_time": "2022-11-20T17:42:14.528Z"
   },
   {
    "duration": 7,
    "start_time": "2022-11-20T17:42:14.559Z"
   },
   {
    "duration": 10,
    "start_time": "2022-11-20T17:42:14.568Z"
   },
   {
    "duration": 14,
    "start_time": "2022-11-20T17:42:14.580Z"
   },
   {
    "duration": 18,
    "start_time": "2022-11-20T17:42:14.597Z"
   },
   {
    "duration": 5,
    "start_time": "2022-11-20T17:42:14.617Z"
   },
   {
    "duration": 35,
    "start_time": "2022-11-20T17:42:14.624Z"
   },
   {
    "duration": 9,
    "start_time": "2022-11-20T17:42:14.664Z"
   },
   {
    "duration": 11,
    "start_time": "2022-11-20T17:42:14.675Z"
   },
   {
    "duration": 201,
    "start_time": "2022-11-20T17:42:14.688Z"
   },
   {
    "duration": 199,
    "start_time": "2022-11-20T17:42:14.891Z"
   },
   {
    "duration": 4,
    "start_time": "2022-11-20T17:42:15.092Z"
   },
   {
    "duration": 279,
    "start_time": "2022-11-20T17:42:15.097Z"
   },
   {
    "duration": 308,
    "start_time": "2022-11-20T17:42:15.378Z"
   },
   {
    "duration": 279,
    "start_time": "2022-11-20T17:42:15.688Z"
   },
   {
    "duration": 5,
    "start_time": "2022-11-20T17:42:15.969Z"
   },
   {
    "duration": 236,
    "start_time": "2022-11-20T17:42:15.976Z"
   },
   {
    "duration": 298,
    "start_time": "2022-11-20T17:42:16.214Z"
   },
   {
    "duration": 205,
    "start_time": "2022-11-20T17:42:16.514Z"
   },
   {
    "duration": 243,
    "start_time": "2022-11-20T17:42:16.721Z"
   },
   {
    "duration": 628,
    "start_time": "2022-11-20T17:42:16.966Z"
   },
   {
    "duration": 484,
    "start_time": "2022-11-20T17:42:17.596Z"
   },
   {
    "duration": 559,
    "start_time": "2022-11-20T17:42:18.082Z"
   },
   {
    "duration": 19,
    "start_time": "2022-11-20T17:42:18.643Z"
   },
   {
    "duration": 30,
    "start_time": "2022-11-20T17:42:18.664Z"
   },
   {
    "duration": 49,
    "start_time": "2022-11-20T18:45:27.398Z"
   },
   {
    "duration": 1429,
    "start_time": "2022-11-20T18:45:33.576Z"
   },
   {
    "duration": 3,
    "start_time": "2022-11-20T18:45:35.008Z"
   },
   {
    "duration": 285,
    "start_time": "2022-11-20T18:45:35.016Z"
   },
   {
    "duration": 33,
    "start_time": "2022-11-20T18:45:35.305Z"
   },
   {
    "duration": 4,
    "start_time": "2022-11-20T18:45:35.340Z"
   },
   {
    "duration": 59,
    "start_time": "2022-11-20T18:45:35.347Z"
   },
   {
    "duration": 3,
    "start_time": "2022-11-20T18:45:35.408Z"
   },
   {
    "duration": 39,
    "start_time": "2022-11-20T18:45:35.413Z"
   },
   {
    "duration": 36,
    "start_time": "2022-11-20T18:45:35.456Z"
   },
   {
    "duration": 21,
    "start_time": "2022-11-20T18:45:35.494Z"
   },
   {
    "duration": 69,
    "start_time": "2022-11-20T18:45:35.517Z"
   },
   {
    "duration": 17,
    "start_time": "2022-11-20T18:45:35.588Z"
   },
   {
    "duration": 17,
    "start_time": "2022-11-20T18:45:35.610Z"
   },
   {
    "duration": 30,
    "start_time": "2022-11-20T18:45:35.630Z"
   },
   {
    "duration": 23,
    "start_time": "2022-11-20T18:45:35.661Z"
   },
   {
    "duration": 16,
    "start_time": "2022-11-20T18:45:35.686Z"
   },
   {
    "duration": 9,
    "start_time": "2022-11-20T18:45:35.704Z"
   },
   {
    "duration": 25,
    "start_time": "2022-11-20T18:45:35.716Z"
   },
   {
    "duration": 35,
    "start_time": "2022-11-20T18:45:35.743Z"
   },
   {
    "duration": 18,
    "start_time": "2022-11-20T18:45:35.780Z"
   },
   {
    "duration": 25,
    "start_time": "2022-11-20T18:45:35.800Z"
   },
   {
    "duration": 8,
    "start_time": "2022-11-20T18:45:35.827Z"
   },
   {
    "duration": 34,
    "start_time": "2022-11-20T18:45:35.836Z"
   },
   {
    "duration": 8,
    "start_time": "2022-11-20T18:45:35.873Z"
   },
   {
    "duration": 14,
    "start_time": "2022-11-20T18:45:35.883Z"
   },
   {
    "duration": 207,
    "start_time": "2022-11-20T18:45:35.900Z"
   },
   {
    "duration": 236,
    "start_time": "2022-11-20T18:45:36.110Z"
   },
   {
    "duration": 10,
    "start_time": "2022-11-20T18:45:36.347Z"
   },
   {
    "duration": 309,
    "start_time": "2022-11-20T18:45:36.359Z"
   },
   {
    "duration": 296,
    "start_time": "2022-11-20T18:45:36.671Z"
   },
   {
    "duration": 274,
    "start_time": "2022-11-20T18:45:36.972Z"
   },
   {
    "duration": 9,
    "start_time": "2022-11-20T18:45:37.247Z"
   },
   {
    "duration": 214,
    "start_time": "2022-11-20T18:45:37.258Z"
   },
   {
    "duration": 406,
    "start_time": "2022-11-20T18:45:37.474Z"
   },
   {
    "duration": 616,
    "start_time": "2022-11-20T18:45:37.882Z"
   },
   {
    "duration": 605,
    "start_time": "2022-11-20T18:45:38.551Z"
   },
   {
    "duration": 1076,
    "start_time": "2022-11-20T18:45:39.165Z"
   },
   {
    "duration": 467,
    "start_time": "2022-11-20T18:45:40.244Z"
   },
   {
    "duration": 519,
    "start_time": "2022-11-20T18:45:40.713Z"
   },
   {
    "duration": 16,
    "start_time": "2022-11-20T18:45:41.236Z"
   },
   {
    "duration": 15,
    "start_time": "2022-11-20T18:45:41.255Z"
   },
   {
    "duration": 10,
    "start_time": "2022-11-20T18:48:04.083Z"
   },
   {
    "duration": 84,
    "start_time": "2022-11-20T19:07:49.426Z"
   },
   {
    "duration": 47,
    "start_time": "2022-11-21T00:20:35.003Z"
   },
   {
    "duration": 1224,
    "start_time": "2022-11-21T00:21:12.404Z"
   },
   {
    "duration": 3,
    "start_time": "2022-11-21T00:21:13.630Z"
   },
   {
    "duration": 113,
    "start_time": "2022-11-21T00:21:13.634Z"
   },
   {
    "duration": 19,
    "start_time": "2022-11-21T00:21:13.749Z"
   },
   {
    "duration": 3,
    "start_time": "2022-11-21T00:21:13.770Z"
   },
   {
    "duration": 14,
    "start_time": "2022-11-21T00:21:13.775Z"
   },
   {
    "duration": 2,
    "start_time": "2022-11-21T00:21:13.791Z"
   },
   {
    "duration": 29,
    "start_time": "2022-11-21T00:21:13.794Z"
   },
   {
    "duration": 15,
    "start_time": "2022-11-21T00:21:13.825Z"
   },
   {
    "duration": 3,
    "start_time": "2022-11-21T00:21:13.842Z"
   },
   {
    "duration": 49,
    "start_time": "2022-11-21T00:21:13.847Z"
   },
   {
    "duration": 33,
    "start_time": "2022-11-21T00:21:13.897Z"
   },
   {
    "duration": 8,
    "start_time": "2022-11-21T00:21:13.931Z"
   },
   {
    "duration": 8,
    "start_time": "2022-11-21T00:21:13.940Z"
   },
   {
    "duration": 7,
    "start_time": "2022-11-21T00:21:13.949Z"
   },
   {
    "duration": 8,
    "start_time": "2022-11-21T00:21:13.958Z"
   },
   {
    "duration": 4,
    "start_time": "2022-11-21T00:21:13.967Z"
   },
   {
    "duration": 6,
    "start_time": "2022-11-21T00:21:13.973Z"
   },
   {
    "duration": 9,
    "start_time": "2022-11-21T00:21:13.980Z"
   },
   {
    "duration": 34,
    "start_time": "2022-11-21T00:21:13.990Z"
   },
   {
    "duration": 10,
    "start_time": "2022-11-21T00:21:14.025Z"
   },
   {
    "duration": 4,
    "start_time": "2022-11-21T00:21:14.037Z"
   },
   {
    "duration": 25,
    "start_time": "2022-11-21T00:21:14.042Z"
   },
   {
    "duration": 4,
    "start_time": "2022-11-21T00:21:14.068Z"
   },
   {
    "duration": 12,
    "start_time": "2022-11-21T00:21:14.073Z"
   },
   {
    "duration": 172,
    "start_time": "2022-11-21T00:21:14.086Z"
   },
   {
    "duration": 161,
    "start_time": "2022-11-21T00:21:14.260Z"
   },
   {
    "duration": 3,
    "start_time": "2022-11-21T00:21:14.424Z"
   },
   {
    "duration": 226,
    "start_time": "2022-11-21T00:21:14.429Z"
   },
   {
    "duration": 240,
    "start_time": "2022-11-21T00:21:14.657Z"
   },
   {
    "duration": 214,
    "start_time": "2022-11-21T00:21:14.898Z"
   },
   {
    "duration": 9,
    "start_time": "2022-11-21T00:21:15.113Z"
   },
   {
    "duration": 217,
    "start_time": "2022-11-21T00:21:15.123Z"
   },
   {
    "duration": 241,
    "start_time": "2022-11-21T00:21:15.342Z"
   },
   {
    "duration": 166,
    "start_time": "2022-11-21T00:21:15.584Z"
   },
   {
    "duration": 191,
    "start_time": "2022-11-21T00:21:15.751Z"
   },
   {
    "duration": 481,
    "start_time": "2022-11-21T00:21:15.944Z"
   },
   {
    "duration": 372,
    "start_time": "2022-11-21T00:21:16.427Z"
   },
   {
    "duration": 366,
    "start_time": "2022-11-21T00:21:16.801Z"
   },
   {
    "duration": 8,
    "start_time": "2022-11-21T00:21:17.169Z"
   },
   {
    "duration": 8,
    "start_time": "2022-11-21T00:21:17.178Z"
   },
   {
    "duration": 12,
    "start_time": "2022-11-21T00:22:20.359Z"
   },
   {
    "duration": 42,
    "start_time": "2022-11-21T00:36:57.266Z"
   },
   {
    "duration": 42,
    "start_time": "2022-11-21T00:37:10.165Z"
   },
   {
    "duration": 3,
    "start_time": "2022-11-21T00:37:23.518Z"
   },
   {
    "duration": 3,
    "start_time": "2022-11-21T00:37:25.520Z"
   },
   {
    "duration": 93,
    "start_time": "2022-11-21T00:37:30.109Z"
   },
   {
    "duration": 1105,
    "start_time": "2022-11-21T00:37:44.245Z"
   },
   {
    "duration": 3,
    "start_time": "2022-11-21T00:37:45.353Z"
   },
   {
    "duration": 115,
    "start_time": "2022-11-21T00:37:45.359Z"
   },
   {
    "duration": 18,
    "start_time": "2022-11-21T00:37:45.476Z"
   },
   {
    "duration": 3,
    "start_time": "2022-11-21T00:37:45.496Z"
   },
   {
    "duration": 17,
    "start_time": "2022-11-21T00:37:45.501Z"
   },
   {
    "duration": 2,
    "start_time": "2022-11-21T00:37:45.519Z"
   },
   {
    "duration": 14,
    "start_time": "2022-11-21T00:37:45.523Z"
   },
   {
    "duration": 15,
    "start_time": "2022-11-21T00:37:45.539Z"
   },
   {
    "duration": 3,
    "start_time": "2022-11-21T00:37:45.556Z"
   },
   {
    "duration": 76,
    "start_time": "2022-11-21T00:37:45.561Z"
   },
   {
    "duration": 10,
    "start_time": "2022-11-21T00:37:45.638Z"
   },
   {
    "duration": 113,
    "start_time": "2022-11-21T00:37:45.649Z"
   },
   {
    "duration": 0,
    "start_time": "2022-11-21T00:37:45.764Z"
   },
   {
    "duration": 0,
    "start_time": "2022-11-21T00:37:45.765Z"
   },
   {
    "duration": 0,
    "start_time": "2022-11-21T00:37:45.767Z"
   },
   {
    "duration": 0,
    "start_time": "2022-11-21T00:37:45.768Z"
   },
   {
    "duration": 0,
    "start_time": "2022-11-21T00:37:45.769Z"
   },
   {
    "duration": 0,
    "start_time": "2022-11-21T00:37:45.770Z"
   },
   {
    "duration": 0,
    "start_time": "2022-11-21T00:37:45.771Z"
   },
   {
    "duration": 0,
    "start_time": "2022-11-21T00:37:45.772Z"
   },
   {
    "duration": 0,
    "start_time": "2022-11-21T00:37:45.773Z"
   },
   {
    "duration": 0,
    "start_time": "2022-11-21T00:37:45.774Z"
   },
   {
    "duration": 0,
    "start_time": "2022-11-21T00:37:45.776Z"
   },
   {
    "duration": 0,
    "start_time": "2022-11-21T00:37:45.777Z"
   },
   {
    "duration": 0,
    "start_time": "2022-11-21T00:37:45.777Z"
   },
   {
    "duration": 0,
    "start_time": "2022-11-21T00:37:45.779Z"
   },
   {
    "duration": 0,
    "start_time": "2022-11-21T00:37:45.779Z"
   },
   {
    "duration": 0,
    "start_time": "2022-11-21T00:37:45.780Z"
   },
   {
    "duration": 0,
    "start_time": "2022-11-21T00:37:45.781Z"
   },
   {
    "duration": 0,
    "start_time": "2022-11-21T00:37:45.783Z"
   },
   {
    "duration": 0,
    "start_time": "2022-11-21T00:37:45.784Z"
   },
   {
    "duration": 0,
    "start_time": "2022-11-21T00:37:45.785Z"
   },
   {
    "duration": 0,
    "start_time": "2022-11-21T00:37:45.821Z"
   },
   {
    "duration": 0,
    "start_time": "2022-11-21T00:37:45.822Z"
   },
   {
    "duration": 0,
    "start_time": "2022-11-21T00:37:45.823Z"
   },
   {
    "duration": 0,
    "start_time": "2022-11-21T00:37:45.824Z"
   },
   {
    "duration": 0,
    "start_time": "2022-11-21T00:37:45.825Z"
   },
   {
    "duration": 0,
    "start_time": "2022-11-21T00:37:45.826Z"
   },
   {
    "duration": 0,
    "start_time": "2022-11-21T00:37:45.827Z"
   },
   {
    "duration": 0,
    "start_time": "2022-11-21T00:37:45.828Z"
   },
   {
    "duration": 0,
    "start_time": "2022-11-21T00:37:45.829Z"
   },
   {
    "duration": 6,
    "start_time": "2022-11-21T00:37:56.220Z"
   },
   {
    "duration": 130,
    "start_time": "2022-11-21T00:38:00.328Z"
   },
   {
    "duration": 56,
    "start_time": "2022-11-21T00:38:05.275Z"
   },
   {
    "duration": 14,
    "start_time": "2022-11-21T00:38:50.712Z"
   },
   {
    "duration": 9,
    "start_time": "2022-11-21T00:38:52.950Z"
   },
   {
    "duration": 1092,
    "start_time": "2022-11-21T12:29:09.610Z"
   },
   {
    "duration": 3,
    "start_time": "2022-11-21T12:29:10.704Z"
   },
   {
    "duration": 87,
    "start_time": "2022-11-21T12:29:10.709Z"
   },
   {
    "duration": 19,
    "start_time": "2022-11-21T12:29:10.798Z"
   },
   {
    "duration": 2,
    "start_time": "2022-11-21T12:29:10.819Z"
   },
   {
    "duration": 15,
    "start_time": "2022-11-21T12:29:10.823Z"
   },
   {
    "duration": 2,
    "start_time": "2022-11-21T12:29:10.839Z"
   },
   {
    "duration": 14,
    "start_time": "2022-11-21T12:29:10.842Z"
   },
   {
    "duration": 16,
    "start_time": "2022-11-21T12:29:10.857Z"
   },
   {
    "duration": 2,
    "start_time": "2022-11-21T12:29:10.876Z"
   },
   {
    "duration": 75,
    "start_time": "2022-11-21T12:29:10.880Z"
   },
   {
    "duration": 9,
    "start_time": "2022-11-21T12:29:10.957Z"
   },
   {
    "duration": 13,
    "start_time": "2022-11-21T12:29:10.968Z"
   },
   {
    "duration": 18,
    "start_time": "2022-11-21T12:29:10.983Z"
   },
   {
    "duration": 10,
    "start_time": "2022-11-21T12:29:11.020Z"
   },
   {
    "duration": 10,
    "start_time": "2022-11-21T12:29:11.032Z"
   },
   {
    "duration": 9,
    "start_time": "2022-11-21T12:29:11.044Z"
   },
   {
    "duration": 8,
    "start_time": "2022-11-21T12:29:11.055Z"
   },
   {
    "duration": 5,
    "start_time": "2022-11-21T12:29:11.064Z"
   },
   {
    "duration": 5,
    "start_time": "2022-11-21T12:29:11.070Z"
   },
   {
    "duration": 8,
    "start_time": "2022-11-21T12:29:11.076Z"
   },
   {
    "duration": 37,
    "start_time": "2022-11-21T12:29:11.085Z"
   },
   {
    "duration": 2,
    "start_time": "2022-11-21T12:29:11.123Z"
   },
   {
    "duration": 18,
    "start_time": "2022-11-21T12:29:11.127Z"
   },
   {
    "duration": 7,
    "start_time": "2022-11-21T12:29:11.147Z"
   },
   {
    "duration": 12,
    "start_time": "2022-11-21T12:29:11.156Z"
   },
   {
    "duration": 178,
    "start_time": "2022-11-21T12:29:11.169Z"
   },
   {
    "duration": 180,
    "start_time": "2022-11-21T12:29:11.350Z"
   },
   {
    "duration": 4,
    "start_time": "2022-11-21T12:29:11.532Z"
   },
   {
    "duration": 250,
    "start_time": "2022-11-21T12:29:11.538Z"
   },
   {
    "duration": 239,
    "start_time": "2022-11-21T12:29:11.789Z"
   },
   {
    "duration": 213,
    "start_time": "2022-11-21T12:29:12.030Z"
   },
   {
    "duration": 4,
    "start_time": "2022-11-21T12:29:12.244Z"
   },
   {
    "duration": 510,
    "start_time": "2022-11-21T12:29:12.249Z"
   },
   {
    "duration": 0,
    "start_time": "2022-11-21T12:29:12.760Z"
   },
   {
    "duration": 0,
    "start_time": "2022-11-21T12:29:12.762Z"
   },
   {
    "duration": 0,
    "start_time": "2022-11-21T12:29:12.763Z"
   },
   {
    "duration": 0,
    "start_time": "2022-11-21T12:29:12.764Z"
   },
   {
    "duration": 1,
    "start_time": "2022-11-21T12:29:12.764Z"
   },
   {
    "duration": 0,
    "start_time": "2022-11-21T12:29:12.765Z"
   },
   {
    "duration": 0,
    "start_time": "2022-11-21T12:29:12.766Z"
   },
   {
    "duration": 0,
    "start_time": "2022-11-21T12:29:12.767Z"
   },
   {
    "duration": 10,
    "start_time": "2022-11-21T12:33:59.173Z"
   },
   {
    "duration": 1155,
    "start_time": "2022-11-21T12:34:14.551Z"
   },
   {
    "duration": 3,
    "start_time": "2022-11-21T12:34:15.707Z"
   },
   {
    "duration": 75,
    "start_time": "2022-11-21T12:34:15.711Z"
   },
   {
    "duration": 19,
    "start_time": "2022-11-21T12:34:15.788Z"
   },
   {
    "duration": 4,
    "start_time": "2022-11-21T12:34:15.808Z"
   },
   {
    "duration": 22,
    "start_time": "2022-11-21T12:34:15.813Z"
   },
   {
    "duration": 3,
    "start_time": "2022-11-21T12:34:15.837Z"
   },
   {
    "duration": 15,
    "start_time": "2022-11-21T12:34:15.842Z"
   },
   {
    "duration": 13,
    "start_time": "2022-11-21T12:34:15.859Z"
   },
   {
    "duration": 3,
    "start_time": "2022-11-21T12:34:15.875Z"
   },
   {
    "duration": 66,
    "start_time": "2022-11-21T12:34:15.879Z"
   },
   {
    "duration": 9,
    "start_time": "2022-11-21T12:34:15.946Z"
   },
   {
    "duration": 16,
    "start_time": "2022-11-21T12:34:15.956Z"
   },
   {
    "duration": 8,
    "start_time": "2022-11-21T12:34:15.974Z"
   },
   {
    "duration": 11,
    "start_time": "2022-11-21T12:34:15.984Z"
   },
   {
    "duration": 27,
    "start_time": "2022-11-21T12:34:15.996Z"
   },
   {
    "duration": 7,
    "start_time": "2022-11-21T12:34:16.025Z"
   },
   {
    "duration": 30,
    "start_time": "2022-11-21T12:34:16.034Z"
   },
   {
    "duration": 18,
    "start_time": "2022-11-21T12:34:16.066Z"
   },
   {
    "duration": 9,
    "start_time": "2022-11-21T12:34:16.086Z"
   },
   {
    "duration": 16,
    "start_time": "2022-11-21T12:34:16.096Z"
   },
   {
    "duration": 9,
    "start_time": "2022-11-21T12:34:16.114Z"
   },
   {
    "duration": 3,
    "start_time": "2022-11-21T12:34:16.125Z"
   },
   {
    "duration": 22,
    "start_time": "2022-11-21T12:34:16.130Z"
   },
   {
    "duration": 4,
    "start_time": "2022-11-21T12:34:16.153Z"
   },
   {
    "duration": 6,
    "start_time": "2022-11-21T12:34:16.158Z"
   },
   {
    "duration": 180,
    "start_time": "2022-11-21T12:34:16.166Z"
   },
   {
    "duration": 169,
    "start_time": "2022-11-21T12:34:16.349Z"
   },
   {
    "duration": 5,
    "start_time": "2022-11-21T12:34:16.521Z"
   },
   {
    "duration": 240,
    "start_time": "2022-11-21T12:34:16.528Z"
   },
   {
    "duration": 246,
    "start_time": "2022-11-21T12:34:16.770Z"
   },
   {
    "duration": 222,
    "start_time": "2022-11-21T12:34:17.020Z"
   },
   {
    "duration": 4,
    "start_time": "2022-11-21T12:34:17.244Z"
   },
   {
    "duration": 196,
    "start_time": "2022-11-21T12:34:17.249Z"
   },
   {
    "duration": 252,
    "start_time": "2022-11-21T12:34:17.447Z"
   },
   {
    "duration": 171,
    "start_time": "2022-11-21T12:34:17.700Z"
   },
   {
    "duration": 189,
    "start_time": "2022-11-21T12:34:17.872Z"
   },
   {
    "duration": 490,
    "start_time": "2022-11-21T12:34:18.062Z"
   },
   {
    "duration": 383,
    "start_time": "2022-11-21T12:34:18.554Z"
   },
   {
    "duration": 393,
    "start_time": "2022-11-21T12:34:18.938Z"
   },
   {
    "duration": 10,
    "start_time": "2022-11-21T12:34:19.333Z"
   },
   {
    "duration": 15,
    "start_time": "2022-11-21T12:34:19.344Z"
   },
   {
    "duration": 14,
    "start_time": "2022-11-21T12:37:22.394Z"
   },
   {
    "duration": 8,
    "start_time": "2022-11-21T12:39:02.720Z"
   },
   {
    "duration": 1120,
    "start_time": "2022-11-21T12:39:18.588Z"
   },
   {
    "duration": 4,
    "start_time": "2022-11-21T12:39:19.710Z"
   },
   {
    "duration": 110,
    "start_time": "2022-11-21T12:39:19.716Z"
   },
   {
    "duration": 17,
    "start_time": "2022-11-21T12:39:19.829Z"
   },
   {
    "duration": 5,
    "start_time": "2022-11-21T12:39:19.848Z"
   },
   {
    "duration": 15,
    "start_time": "2022-11-21T12:39:19.855Z"
   },
   {
    "duration": 2,
    "start_time": "2022-11-21T12:39:19.872Z"
   },
   {
    "duration": 16,
    "start_time": "2022-11-21T12:39:19.876Z"
   },
   {
    "duration": 32,
    "start_time": "2022-11-21T12:39:19.893Z"
   },
   {
    "duration": 3,
    "start_time": "2022-11-21T12:39:19.927Z"
   },
   {
    "duration": 54,
    "start_time": "2022-11-21T12:39:19.931Z"
   },
   {
    "duration": 9,
    "start_time": "2022-11-21T12:39:19.987Z"
   },
   {
    "duration": 32,
    "start_time": "2022-11-21T12:39:19.998Z"
   },
   {
    "duration": 8,
    "start_time": "2022-11-21T12:39:20.031Z"
   },
   {
    "duration": 17,
    "start_time": "2022-11-21T12:39:20.041Z"
   },
   {
    "duration": 8,
    "start_time": "2022-11-21T12:39:20.060Z"
   },
   {
    "duration": 7,
    "start_time": "2022-11-21T12:39:20.071Z"
   },
   {
    "duration": 8,
    "start_time": "2022-11-21T12:39:20.080Z"
   },
   {
    "duration": 12,
    "start_time": "2022-11-21T12:39:20.089Z"
   },
   {
    "duration": 20,
    "start_time": "2022-11-21T12:39:20.102Z"
   },
   {
    "duration": 4,
    "start_time": "2022-11-21T12:39:20.124Z"
   },
   {
    "duration": 8,
    "start_time": "2022-11-21T12:39:20.129Z"
   },
   {
    "duration": 11,
    "start_time": "2022-11-21T12:39:20.138Z"
   },
   {
    "duration": 3,
    "start_time": "2022-11-21T12:39:20.150Z"
   },
   {
    "duration": 21,
    "start_time": "2022-11-21T12:39:20.154Z"
   },
   {
    "duration": 3,
    "start_time": "2022-11-21T12:39:20.176Z"
   },
   {
    "duration": 9,
    "start_time": "2022-11-21T12:39:20.181Z"
   },
   {
    "duration": 188,
    "start_time": "2022-11-21T12:39:20.193Z"
   },
   {
    "duration": 168,
    "start_time": "2022-11-21T12:39:20.383Z"
   },
   {
    "duration": 4,
    "start_time": "2022-11-21T12:39:20.552Z"
   },
   {
    "duration": 263,
    "start_time": "2022-11-21T12:39:20.557Z"
   },
   {
    "duration": 258,
    "start_time": "2022-11-21T12:39:20.821Z"
   },
   {
    "duration": 253,
    "start_time": "2022-11-21T12:39:21.081Z"
   },
   {
    "duration": 4,
    "start_time": "2022-11-21T12:39:21.336Z"
   },
   {
    "duration": 216,
    "start_time": "2022-11-21T12:39:21.342Z"
   },
   {
    "duration": 295,
    "start_time": "2022-11-21T12:39:21.560Z"
   },
   {
    "duration": 196,
    "start_time": "2022-11-21T12:39:21.857Z"
   },
   {
    "duration": 203,
    "start_time": "2022-11-21T12:39:22.055Z"
   },
   {
    "duration": 534,
    "start_time": "2022-11-21T12:39:22.259Z"
   },
   {
    "duration": 378,
    "start_time": "2022-11-21T12:39:22.795Z"
   },
   {
    "duration": 394,
    "start_time": "2022-11-21T12:39:23.175Z"
   },
   {
    "duration": 9,
    "start_time": "2022-11-21T12:39:23.570Z"
   },
   {
    "duration": 7,
    "start_time": "2022-11-21T12:39:23.581Z"
   },
   {
    "duration": 1393,
    "start_time": "2022-11-21T18:02:23.633Z"
   },
   {
    "duration": 7,
    "start_time": "2022-11-21T18:02:25.029Z"
   },
   {
    "duration": 302,
    "start_time": "2022-11-21T18:02:25.037Z"
   },
   {
    "duration": 19,
    "start_time": "2022-11-21T18:02:25.340Z"
   },
   {
    "duration": 3,
    "start_time": "2022-11-21T18:02:25.361Z"
   },
   {
    "duration": 31,
    "start_time": "2022-11-21T18:02:25.365Z"
   },
   {
    "duration": 42,
    "start_time": "2022-11-21T18:02:25.398Z"
   },
   {
    "duration": 28,
    "start_time": "2022-11-21T18:02:25.442Z"
   },
   {
    "duration": 25,
    "start_time": "2022-11-21T18:02:25.472Z"
   },
   {
    "duration": 3,
    "start_time": "2022-11-21T18:02:25.499Z"
   },
   {
    "duration": 90,
    "start_time": "2022-11-21T18:02:25.504Z"
   },
   {
    "duration": 7,
    "start_time": "2022-11-21T18:02:25.596Z"
   },
   {
    "duration": 46,
    "start_time": "2022-11-21T18:02:25.612Z"
   },
   {
    "duration": 29,
    "start_time": "2022-11-21T18:02:25.661Z"
   },
   {
    "duration": 51,
    "start_time": "2022-11-21T18:02:25.692Z"
   },
   {
    "duration": 16,
    "start_time": "2022-11-21T18:02:25.745Z"
   },
   {
    "duration": 14,
    "start_time": "2022-11-21T18:02:25.763Z"
   },
   {
    "duration": 61,
    "start_time": "2022-11-21T18:02:25.778Z"
   },
   {
    "duration": 10,
    "start_time": "2022-11-21T18:02:25.842Z"
   },
   {
    "duration": 30,
    "start_time": "2022-11-21T18:02:25.854Z"
   },
   {
    "duration": 9,
    "start_time": "2022-11-21T18:02:25.886Z"
   },
   {
    "duration": 53,
    "start_time": "2022-11-21T18:02:25.896Z"
   },
   {
    "duration": 20,
    "start_time": "2022-11-21T18:02:25.951Z"
   },
   {
    "duration": 23,
    "start_time": "2022-11-21T18:02:25.973Z"
   },
   {
    "duration": 58,
    "start_time": "2022-11-21T18:02:25.998Z"
   },
   {
    "duration": 4,
    "start_time": "2022-11-21T18:02:26.057Z"
   },
   {
    "duration": 25,
    "start_time": "2022-11-21T18:02:26.063Z"
   },
   {
    "duration": 209,
    "start_time": "2022-11-21T18:02:26.090Z"
   },
   {
    "duration": 193,
    "start_time": "2022-11-21T18:02:26.308Z"
   },
   {
    "duration": 14,
    "start_time": "2022-11-21T18:02:26.504Z"
   },
   {
    "duration": 298,
    "start_time": "2022-11-21T18:02:26.525Z"
   },
   {
    "duration": 303,
    "start_time": "2022-11-21T18:02:26.828Z"
   },
   {
    "duration": 253,
    "start_time": "2022-11-21T18:02:27.133Z"
   },
   {
    "duration": 4,
    "start_time": "2022-11-21T18:02:27.388Z"
   },
   {
    "duration": 265,
    "start_time": "2022-11-21T18:02:27.407Z"
   },
   {
    "duration": 327,
    "start_time": "2022-11-21T18:02:27.673Z"
   },
   {
    "duration": 237,
    "start_time": "2022-11-21T18:02:28.002Z"
   },
   {
    "duration": 235,
    "start_time": "2022-11-21T18:02:28.244Z"
   },
   {
    "duration": 616,
    "start_time": "2022-11-21T18:02:28.481Z"
   },
   {
    "duration": 445,
    "start_time": "2022-11-21T18:02:29.098Z"
   },
   {
    "duration": 451,
    "start_time": "2022-11-21T18:02:29.550Z"
   },
   {
    "duration": 16,
    "start_time": "2022-11-21T18:02:30.002Z"
   },
   {
    "duration": 80,
    "start_time": "2022-11-21T18:02:30.021Z"
   }
  ],
  "kernelspec": {
   "display_name": "Python 3 (ipykernel)",
   "language": "python",
   "name": "python3"
  },
  "language_info": {
   "codemirror_mode": {
    "name": "ipython",
    "version": 3
   },
   "file_extension": ".py",
   "mimetype": "text/x-python",
   "name": "python",
   "nbconvert_exporter": "python",
   "pygments_lexer": "ipython3",
   "version": "3.9.12"
  },
  "toc": {
   "base_numbering": 1,
   "nav_menu": {},
   "number_sections": true,
   "sideBar": true,
   "skip_h1_title": true,
   "title_cell": "Table of Contents",
   "title_sidebar": "Contents",
   "toc_cell": false,
   "toc_position": {},
   "toc_section_display": true,
   "toc_window_display": true
  }
 },
 "nbformat": 4,
 "nbformat_minor": 5
}
