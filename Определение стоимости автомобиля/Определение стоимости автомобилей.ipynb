{
 "cells": [
  {
   "cell_type": "markdown",
   "id": "d9c7ed6d",
   "metadata": {},
   "source": [
    "# Определение стоимости автомобилей"
   ]
  },
  {
   "cell_type": "markdown",
   "id": "e8a2ff71",
   "metadata": {},
   "source": [
    "Сервис по продаже автомобилей с пробегом «Не бит, не крашен» разрабатывает приложение для привлечения новых клиентов. В нём можно быстро узнать рыночную стоимость своего автомобиля. В вашем распоряжении исторические данные: технические характеристики, комплектации и цены автомобилей. Вам нужно построить модель для определения стоимости. \n",
    "\n",
    "Заказчику важны:\n",
    "\n",
    "- качество предсказания;\n",
    "- скорость предсказания;\n",
    "- время обучения."
   ]
  },
  {
   "cell_type": "markdown",
   "id": "43fa014e",
   "metadata": {},
   "source": [
    "## Подготовка данных"
   ]
  },
  {
   "cell_type": "code",
   "execution_count": 1,
   "id": "7d4c9026",
   "metadata": {},
   "outputs": [],
   "source": [
    "import os\n",
    "import pandas as pd\n",
    "import matplotlib.pyplot as plt\n",
    "import numpy as np\n",
    "import seaborn as sns\n",
    "import time\n",
    "import lightgbm as lgb\n",
    "from catboost import CatBoostRegressor\n",
    "from sklearn.preprocessing import StandardScaler, OrdinalEncoder, OneHotEncoder\n",
    "from sklearn.model_selection import train_test_split, GridSearchCV, cross_val_score\n",
    "from sklearn.metrics import mean_squared_error, make_scorer\n",
    "from sklearn.tree import DecisionTreeRegressor \n",
    "from sklearn.linear_model import LinearRegression\n",
    "from sklearn.ensemble import RandomForestRegressor\n",
    "from sklearn.compose import make_column_transformer\n",
    "from sklearn.pipeline import make_pipeline"
   ]
  },
  {
   "cell_type": "code",
   "execution_count": 3,
   "id": "148a8e0a",
   "metadata": {},
   "outputs": [],
   "source": [
    "pth1 = 'autos.csv'\n",
    "pth2 = '/datasets/autos.csv'\n",
    "\n",
    "if os.path.exists(pth1):\n",
    "    df = pd.read_csv(pth1, parse_dates = ['DateCrawled', 'DateCreated', 'LastSeen'])\n",
    "elif os.path.exists(pth2):\n",
    "    df = pd.read_csv(pth2, parse_dates = ['DateCrawled', 'DateCreated', 'LastSeen'])\n",
    "else:\n",
    "    print('Something is wrong')"
   ]
  },
  {
   "cell_type": "code",
   "execution_count": 4,
   "id": "31485683",
   "metadata": {},
   "outputs": [
    {
     "name": "stdout",
     "output_type": "stream",
     "text": [
      "Размер таблицы: (354369, 16)\n"
     ]
    }
   ],
   "source": [
    "shape = df.shape\n",
    "print('Размер таблицы:', df.shape)"
   ]
  },
  {
   "cell_type": "code",
   "execution_count": 5,
   "id": "fd8663b2",
   "metadata": {},
   "outputs": [
    {
     "data": {
      "text/html": [
       "<div>\n",
       "<style scoped>\n",
       "    .dataframe tbody tr th:only-of-type {\n",
       "        vertical-align: middle;\n",
       "    }\n",
       "\n",
       "    .dataframe tbody tr th {\n",
       "        vertical-align: top;\n",
       "    }\n",
       "\n",
       "    .dataframe thead th {\n",
       "        text-align: right;\n",
       "    }\n",
       "</style>\n",
       "<table border=\"1\" class=\"dataframe\">\n",
       "  <thead>\n",
       "    <tr style=\"text-align: right;\">\n",
       "      <th></th>\n",
       "      <th>DateCrawled</th>\n",
       "      <th>Price</th>\n",
       "      <th>VehicleType</th>\n",
       "      <th>RegistrationYear</th>\n",
       "      <th>Gearbox</th>\n",
       "      <th>Power</th>\n",
       "      <th>Model</th>\n",
       "      <th>Kilometer</th>\n",
       "      <th>RegistrationMonth</th>\n",
       "      <th>FuelType</th>\n",
       "      <th>Brand</th>\n",
       "      <th>Repaired</th>\n",
       "      <th>DateCreated</th>\n",
       "      <th>NumberOfPictures</th>\n",
       "      <th>PostalCode</th>\n",
       "      <th>LastSeen</th>\n",
       "    </tr>\n",
       "  </thead>\n",
       "  <tbody>\n",
       "    <tr>\n",
       "      <th>0</th>\n",
       "      <td>2016-03-24 11:52:17</td>\n",
       "      <td>480</td>\n",
       "      <td>NaN</td>\n",
       "      <td>1993</td>\n",
       "      <td>manual</td>\n",
       "      <td>0</td>\n",
       "      <td>golf</td>\n",
       "      <td>150000</td>\n",
       "      <td>0</td>\n",
       "      <td>petrol</td>\n",
       "      <td>volkswagen</td>\n",
       "      <td>NaN</td>\n",
       "      <td>2016-03-24</td>\n",
       "      <td>0</td>\n",
       "      <td>70435</td>\n",
       "      <td>2016-04-07 03:16:57</td>\n",
       "    </tr>\n",
       "    <tr>\n",
       "      <th>1</th>\n",
       "      <td>2016-03-24 10:58:45</td>\n",
       "      <td>18300</td>\n",
       "      <td>coupe</td>\n",
       "      <td>2011</td>\n",
       "      <td>manual</td>\n",
       "      <td>190</td>\n",
       "      <td>NaN</td>\n",
       "      <td>125000</td>\n",
       "      <td>5</td>\n",
       "      <td>gasoline</td>\n",
       "      <td>audi</td>\n",
       "      <td>yes</td>\n",
       "      <td>2016-03-24</td>\n",
       "      <td>0</td>\n",
       "      <td>66954</td>\n",
       "      <td>2016-04-07 01:46:50</td>\n",
       "    </tr>\n",
       "    <tr>\n",
       "      <th>2</th>\n",
       "      <td>2016-03-14 12:52:21</td>\n",
       "      <td>9800</td>\n",
       "      <td>suv</td>\n",
       "      <td>2004</td>\n",
       "      <td>auto</td>\n",
       "      <td>163</td>\n",
       "      <td>grand</td>\n",
       "      <td>125000</td>\n",
       "      <td>8</td>\n",
       "      <td>gasoline</td>\n",
       "      <td>jeep</td>\n",
       "      <td>NaN</td>\n",
       "      <td>2016-03-14</td>\n",
       "      <td>0</td>\n",
       "      <td>90480</td>\n",
       "      <td>2016-04-05 12:47:46</td>\n",
       "    </tr>\n",
       "    <tr>\n",
       "      <th>3</th>\n",
       "      <td>2016-03-17 16:54:04</td>\n",
       "      <td>1500</td>\n",
       "      <td>small</td>\n",
       "      <td>2001</td>\n",
       "      <td>manual</td>\n",
       "      <td>75</td>\n",
       "      <td>golf</td>\n",
       "      <td>150000</td>\n",
       "      <td>6</td>\n",
       "      <td>petrol</td>\n",
       "      <td>volkswagen</td>\n",
       "      <td>no</td>\n",
       "      <td>2016-03-17</td>\n",
       "      <td>0</td>\n",
       "      <td>91074</td>\n",
       "      <td>2016-03-17 17:40:17</td>\n",
       "    </tr>\n",
       "    <tr>\n",
       "      <th>4</th>\n",
       "      <td>2016-03-31 17:25:20</td>\n",
       "      <td>3600</td>\n",
       "      <td>small</td>\n",
       "      <td>2008</td>\n",
       "      <td>manual</td>\n",
       "      <td>69</td>\n",
       "      <td>fabia</td>\n",
       "      <td>90000</td>\n",
       "      <td>7</td>\n",
       "      <td>gasoline</td>\n",
       "      <td>skoda</td>\n",
       "      <td>no</td>\n",
       "      <td>2016-03-31</td>\n",
       "      <td>0</td>\n",
       "      <td>60437</td>\n",
       "      <td>2016-04-06 10:17:21</td>\n",
       "    </tr>\n",
       "  </tbody>\n",
       "</table>\n",
       "</div>"
      ],
      "text/plain": [
       "          DateCrawled  Price VehicleType  RegistrationYear Gearbox  Power  \\\n",
       "0 2016-03-24 11:52:17    480         NaN              1993  manual      0   \n",
       "1 2016-03-24 10:58:45  18300       coupe              2011  manual    190   \n",
       "2 2016-03-14 12:52:21   9800         suv              2004    auto    163   \n",
       "3 2016-03-17 16:54:04   1500       small              2001  manual     75   \n",
       "4 2016-03-31 17:25:20   3600       small              2008  manual     69   \n",
       "\n",
       "   Model  Kilometer  RegistrationMonth  FuelType       Brand Repaired  \\\n",
       "0   golf     150000                  0    petrol  volkswagen      NaN   \n",
       "1    NaN     125000                  5  gasoline        audi      yes   \n",
       "2  grand     125000                  8  gasoline        jeep      NaN   \n",
       "3   golf     150000                  6    petrol  volkswagen       no   \n",
       "4  fabia      90000                  7  gasoline       skoda       no   \n",
       "\n",
       "  DateCreated  NumberOfPictures  PostalCode            LastSeen  \n",
       "0  2016-03-24                 0       70435 2016-04-07 03:16:57  \n",
       "1  2016-03-24                 0       66954 2016-04-07 01:46:50  \n",
       "2  2016-03-14                 0       90480 2016-04-05 12:47:46  \n",
       "3  2016-03-17                 0       91074 2016-03-17 17:40:17  \n",
       "4  2016-03-31                 0       60437 2016-04-06 10:17:21  "
      ]
     },
     "execution_count": 5,
     "metadata": {},
     "output_type": "execute_result"
    }
   ],
   "source": [
    "df.head()"
   ]
  },
  {
   "cell_type": "markdown",
   "id": "f324ca99",
   "metadata": {},
   "source": [
    "Удалим неинформативные признаки."
   ]
  },
  {
   "cell_type": "code",
   "execution_count": 6,
   "id": "86f23e0b",
   "metadata": {},
   "outputs": [],
   "source": [
    "df = df.drop(['RegistrationMonth', 'DateCreated','LastSeen', 'PostalCode'], axis=1)"
   ]
  },
  {
   "cell_type": "markdown",
   "id": "5a464a33",
   "metadata": {},
   "source": [
    "Признак 'DateCrawled' пока удалять не будем для того, чтобы отследить уникальность анкеты."
   ]
  },
  {
   "cell_type": "markdown",
   "id": "71722f21",
   "metadata": {},
   "source": [
    "Переименуем названия признаков."
   ]
  },
  {
   "cell_type": "code",
   "execution_count": 7,
   "id": "09393704",
   "metadata": {},
   "outputs": [],
   "source": [
    "df = df.rename(columns = {'DateCrawled': 'Date_Crawled', 'VehicleType': 'Vehicle_Type', 'RegistrationYear': 'Registration_Year', 'FuelType': 'Fuel_Type',  'NumberOfPictures': 'Number_Of_Pictures'})"
   ]
  },
  {
   "cell_type": "markdown",
   "id": "1f2c4952",
   "metadata": {},
   "source": [
    "Приведем названия признаков к нижнему регистру."
   ]
  },
  {
   "cell_type": "code",
   "execution_count": 8,
   "id": "ba56afc4",
   "metadata": {},
   "outputs": [],
   "source": [
    "df.columns = df.columns.str.lower()"
   ]
  },
  {
   "cell_type": "code",
   "execution_count": 9,
   "id": "f117388a",
   "metadata": {
    "scrolled": true
   },
   "outputs": [
    {
     "name": "stdout",
     "output_type": "stream",
     "text": [
      "<class 'pandas.core.frame.DataFrame'>\n",
      "RangeIndex: 354369 entries, 0 to 354368\n",
      "Data columns (total 12 columns):\n",
      " #   Column              Non-Null Count   Dtype         \n",
      "---  ------              --------------   -----         \n",
      " 0   date_crawled        354369 non-null  datetime64[ns]\n",
      " 1   price               354369 non-null  int64         \n",
      " 2   vehicle_type        316879 non-null  object        \n",
      " 3   registration_year   354369 non-null  int64         \n",
      " 4   gearbox             334536 non-null  object        \n",
      " 5   power               354369 non-null  int64         \n",
      " 6   model               334664 non-null  object        \n",
      " 7   kilometer           354369 non-null  int64         \n",
      " 8   fuel_type           321474 non-null  object        \n",
      " 9   brand               354369 non-null  object        \n",
      " 10  repaired            283215 non-null  object        \n",
      " 11  number_of_pictures  354369 non-null  int64         \n",
      "dtypes: datetime64[ns](1), int64(5), object(6)\n",
      "memory usage: 32.4+ MB\n"
     ]
    }
   ],
   "source": [
    "df.info()"
   ]
  },
  {
   "cell_type": "markdown",
   "id": "e7abb99d",
   "metadata": {},
   "source": [
    "Проверим количество пропусков в %."
   ]
  },
  {
   "cell_type": "code",
   "execution_count": 10,
   "id": "58efa67d",
   "metadata": {},
   "outputs": [
    {
     "data": {
      "text/html": [
       "<style type=\"text/css\">\n",
       "#T_e992c_row0_col0, #T_e992c_row1_col0, #T_e992c_row3_col0, #T_e992c_row5_col0, #T_e992c_row7_col0, #T_e992c_row9_col0, #T_e992c_row11_col0 {\n",
       "  background-color: #3b4cc0;\n",
       "  color: #f1f1f1;\n",
       "}\n",
       "#T_e992c_row2_col0 {\n",
       "  background-color: #e3d9d3;\n",
       "  color: #000000;\n",
       "}\n",
       "#T_e992c_row4_col0 {\n",
       "  background-color: #97b8ff;\n",
       "  color: #000000;\n",
       "}\n",
       "#T_e992c_row6_col0 {\n",
       "  background-color: #96b7ff;\n",
       "  color: #000000;\n",
       "}\n",
       "#T_e992c_row8_col0 {\n",
       "  background-color: #d3dbe7;\n",
       "  color: #000000;\n",
       "}\n",
       "#T_e992c_row10_col0 {\n",
       "  background-color: #b40426;\n",
       "  color: #f1f1f1;\n",
       "}\n",
       "</style>\n",
       "<table id=\"T_e992c\">\n",
       "  <thead>\n",
       "    <tr>\n",
       "      <th class=\"blank level0\" >&nbsp;</th>\n",
       "      <th id=\"T_e992c_level0_col0\" class=\"col_heading level0 col0\" >0</th>\n",
       "    </tr>\n",
       "  </thead>\n",
       "  <tbody>\n",
       "    <tr>\n",
       "      <th id=\"T_e992c_level0_row0\" class=\"row_heading level0 row0\" >date_crawled</th>\n",
       "      <td id=\"T_e992c_row0_col0\" class=\"data row0 col0\" >0.000000</td>\n",
       "    </tr>\n",
       "    <tr>\n",
       "      <th id=\"T_e992c_level0_row1\" class=\"row_heading level0 row1\" >price</th>\n",
       "      <td id=\"T_e992c_row1_col0\" class=\"data row1 col0\" >0.000000</td>\n",
       "    </tr>\n",
       "    <tr>\n",
       "      <th id=\"T_e992c_level0_row2\" class=\"row_heading level0 row2\" >vehicle_type</th>\n",
       "      <td id=\"T_e992c_row2_col0\" class=\"data row2 col0\" >10.579000</td>\n",
       "    </tr>\n",
       "    <tr>\n",
       "      <th id=\"T_e992c_level0_row3\" class=\"row_heading level0 row3\" >registration_year</th>\n",
       "      <td id=\"T_e992c_row3_col0\" class=\"data row3 col0\" >0.000000</td>\n",
       "    </tr>\n",
       "    <tr>\n",
       "      <th id=\"T_e992c_level0_row4\" class=\"row_heading level0 row4\" >gearbox</th>\n",
       "      <td id=\"T_e992c_row4_col0\" class=\"data row4 col0\" >5.597000</td>\n",
       "    </tr>\n",
       "    <tr>\n",
       "      <th id=\"T_e992c_level0_row5\" class=\"row_heading level0 row5\" >power</th>\n",
       "      <td id=\"T_e992c_row5_col0\" class=\"data row5 col0\" >0.000000</td>\n",
       "    </tr>\n",
       "    <tr>\n",
       "      <th id=\"T_e992c_level0_row6\" class=\"row_heading level0 row6\" >model</th>\n",
       "      <td id=\"T_e992c_row6_col0\" class=\"data row6 col0\" >5.561000</td>\n",
       "    </tr>\n",
       "    <tr>\n",
       "      <th id=\"T_e992c_level0_row7\" class=\"row_heading level0 row7\" >kilometer</th>\n",
       "      <td id=\"T_e992c_row7_col0\" class=\"data row7 col0\" >0.000000</td>\n",
       "    </tr>\n",
       "    <tr>\n",
       "      <th id=\"T_e992c_level0_row8\" class=\"row_heading level0 row8\" >fuel_type</th>\n",
       "      <td id=\"T_e992c_row8_col0\" class=\"data row8 col0\" >9.283000</td>\n",
       "    </tr>\n",
       "    <tr>\n",
       "      <th id=\"T_e992c_level0_row9\" class=\"row_heading level0 row9\" >brand</th>\n",
       "      <td id=\"T_e992c_row9_col0\" class=\"data row9 col0\" >0.000000</td>\n",
       "    </tr>\n",
       "    <tr>\n",
       "      <th id=\"T_e992c_level0_row10\" class=\"row_heading level0 row10\" >repaired</th>\n",
       "      <td id=\"T_e992c_row10_col0\" class=\"data row10 col0\" >20.079000</td>\n",
       "    </tr>\n",
       "    <tr>\n",
       "      <th id=\"T_e992c_level0_row11\" class=\"row_heading level0 row11\" >number_of_pictures</th>\n",
       "      <td id=\"T_e992c_row11_col0\" class=\"data row11 col0\" >0.000000</td>\n",
       "    </tr>\n",
       "  </tbody>\n",
       "</table>\n"
      ],
      "text/plain": [
       "<pandas.io.formats.style.Styler at 0x23cf0dee790>"
      ]
     },
     "execution_count": 10,
     "metadata": {},
     "output_type": "execute_result"
    }
   ],
   "source": [
    "pd.DataFrame(round(df.isna().mean()*100,3)).style.background_gradient('coolwarm')"
   ]
  },
  {
   "cell_type": "code",
   "execution_count": 11,
   "id": "e1231fc1",
   "metadata": {
    "scrolled": true
   },
   "outputs": [
    {
     "data": {
      "text/plain": [
       "sedan          91457\n",
       "small          79831\n",
       "wagon          65166\n",
       "NaN            37490\n",
       "bus            28775\n",
       "convertible    20203\n",
       "coupe          16163\n",
       "suv            11996\n",
       "other           3288\n",
       "Name: vehicle_type, dtype: int64"
      ]
     },
     "metadata": {},
     "output_type": "display_data"
    },
    {
     "data": {
      "text/plain": [
       "manual    268251\n",
       "auto       66285\n",
       "NaN        19833\n",
       "Name: gearbox, dtype: int64"
      ]
     },
     "metadata": {},
     "output_type": "display_data"
    },
    {
     "data": {
      "text/plain": [
       "golf                  29232\n",
       "other                 24421\n",
       "3er                   19761\n",
       "NaN                   19705\n",
       "polo                  13066\n",
       "                      ...  \n",
       "i3                        8\n",
       "serie_3                   4\n",
       "rangerover                4\n",
       "range_rover_evoque        2\n",
       "serie_1                   2\n",
       "Name: model, Length: 251, dtype: int64"
      ]
     },
     "metadata": {},
     "output_type": "display_data"
    },
    {
     "data": {
      "text/plain": [
       "petrol      216352\n",
       "gasoline     98720\n",
       "NaN          32895\n",
       "lpg           5310\n",
       "cng            565\n",
       "hybrid         233\n",
       "other          204\n",
       "electric        90\n",
       "Name: fuel_type, dtype: int64"
      ]
     },
     "metadata": {},
     "output_type": "display_data"
    },
    {
     "data": {
      "text/plain": [
       "no     247161\n",
       "NaN     71154\n",
       "yes     36054\n",
       "Name: repaired, dtype: int64"
      ]
     },
     "metadata": {},
     "output_type": "display_data"
    }
   ],
   "source": [
    "list = ['vehicle_type', 'gearbox', 'model', 'fuel_type', 'repaired'] #список признаков с пропусками\n",
    "for i in list:\n",
    "    display(df[i].value_counts(dropna=False))"
   ]
  },
  {
   "cell_type": "markdown",
   "id": "e5b50c09",
   "metadata": {},
   "source": [
    "Заполнимм пропуски в столбце vehicle_type самым популярным значением."
   ]
  },
  {
   "cell_type": "code",
   "execution_count": 12,
   "id": "d114f9ae",
   "metadata": {},
   "outputs": [],
   "source": [
    "df['vehicle_type'] = df['vehicle_type'].fillna(df['vehicle_type'].mode()[0])"
   ]
  },
  {
   "cell_type": "markdown",
   "id": "04616ab8",
   "metadata": {},
   "source": [
    "Заполнимм пропуски в столбце gearbox самым популярным значением."
   ]
  },
  {
   "cell_type": "code",
   "execution_count": 13,
   "id": "08178910",
   "metadata": {},
   "outputs": [],
   "source": [
    "df['gearbox'] = df['gearbox'].fillna(df['gearbox'].mode()[0])"
   ]
  },
  {
   "cell_type": "markdown",
   "id": "ff8c35d4",
   "metadata": {},
   "source": [
    "Заменим пропуски в признаке model на категорию other."
   ]
  },
  {
   "cell_type": "code",
   "execution_count": 14,
   "id": "6a011295",
   "metadata": {},
   "outputs": [],
   "source": [
    "df['model'] = df['model'].fillna('other')"
   ]
  },
  {
   "cell_type": "markdown",
   "id": "f6497da9",
   "metadata": {},
   "source": [
    "Заполним пропуски в столбце fuel_type самым популярным значением и приведем названия бензина petrol и gasoline к единому значению petrol."
   ]
  },
  {
   "cell_type": "code",
   "execution_count": 15,
   "id": "a0c0dc7a",
   "metadata": {},
   "outputs": [],
   "source": [
    "df['fuel_type'] = df['fuel_type'].fillna(df['fuel_type'].mode()[0])\n",
    "df['fuel_type'] = df['fuel_type'].replace('gasoline', 'petrol')"
   ]
  },
  {
   "cell_type": "markdown",
   "id": "dcabb120",
   "metadata": {},
   "source": [
    "Если есть пропуск в repaired, будем с читать, что машина, как большинство, уже была в ремонте,поэтому заполним пропуски в признаке repaired на \"yes\"."
   ]
  },
  {
   "cell_type": "code",
   "execution_count": 16,
   "id": "3a1229ff",
   "metadata": {},
   "outputs": [],
   "source": [
    "df['repaired'] = df['repaired'].fillna('yes')"
   ]
  },
  {
   "cell_type": "markdown",
   "id": "a3111edc",
   "metadata": {},
   "source": [
    "Проверим, устранены ли пропуски."
   ]
  },
  {
   "cell_type": "code",
   "execution_count": 1,
   "id": "602e033b",
   "metadata": {},
   "outputs": [
    {
     "ename": "NameError",
     "evalue": "name 'd' is not defined",
     "output_type": "error",
     "traceback": [
      "\u001b[1;31m---------------------------------------------------------------------------\u001b[0m",
      "\u001b[1;31mNameError\u001b[0m                                 Traceback (most recent call last)",
      "Input \u001b[1;32mIn [1]\u001b[0m, in \u001b[0;36m<cell line: 1>\u001b[1;34m()\u001b[0m\n\u001b[1;32m----> 1\u001b[0m \u001b[43md\u001b[49m\u001b[38;5;241m.\u001b[39mDataFrame(\u001b[38;5;28mround\u001b[39m(df\u001b[38;5;241m.\u001b[39misna()\u001b[38;5;241m.\u001b[39mmean()\u001b[38;5;241m*\u001b[39m\u001b[38;5;241m100\u001b[39m,\u001b[38;5;241m3\u001b[39m))\u001b[38;5;241m.\u001b[39mstyle\u001b[38;5;241m.\u001b[39mbackground_gradient(\u001b[38;5;124m'\u001b[39m\u001b[38;5;124mcoolwarm\u001b[39m\u001b[38;5;124m'\u001b[39m)\n",
      "\u001b[1;31mNameError\u001b[0m: name 'd' is not defined"
     ]
    }
   ],
   "source": [
    "d.DataFrame(round(df.isna().mean()*100,3)).style.background_gradient('coolwarm')"
   ]
  },
  {
   "cell_type": "code",
   "execution_count": 18,
   "id": "fc70a4cd",
   "metadata": {},
   "outputs": [
    {
     "name": "stdout",
     "output_type": "stream",
     "text": [
      "Количество дубликатов: 26\n"
     ]
    }
   ],
   "source": [
    "print('Количество дубликатов:', df.duplicated().sum())"
   ]
  },
  {
   "cell_type": "markdown",
   "id": "2c895975",
   "metadata": {},
   "source": [
    "Т.к в датасете присутствуют дата и время выгрузки анкеты, которые могут служить критерием уникальности строки, удалим найденные дубликаты."
   ]
  },
  {
   "cell_type": "markdown",
   "id": "1f7aa672",
   "metadata": {},
   "source": [
    "Удалим дубликаты."
   ]
  },
  {
   "cell_type": "code",
   "execution_count": 19,
   "id": "31344d0f",
   "metadata": {},
   "outputs": [],
   "source": [
    "df = df.drop_duplicates().reset_index(drop=True)"
   ]
  },
  {
   "cell_type": "markdown",
   "id": "9f169193",
   "metadata": {},
   "source": [
    "Изучим характеристики признаков."
   ]
  },
  {
   "cell_type": "code",
   "execution_count": 20,
   "id": "18b78eca",
   "metadata": {},
   "outputs": [
    {
     "data": {
      "text/html": [
       "<div>\n",
       "<style scoped>\n",
       "    .dataframe tbody tr th:only-of-type {\n",
       "        vertical-align: middle;\n",
       "    }\n",
       "\n",
       "    .dataframe tbody tr th {\n",
       "        vertical-align: top;\n",
       "    }\n",
       "\n",
       "    .dataframe thead th {\n",
       "        text-align: right;\n",
       "    }\n",
       "</style>\n",
       "<table border=\"1\" class=\"dataframe\">\n",
       "  <thead>\n",
       "    <tr style=\"text-align: right;\">\n",
       "      <th></th>\n",
       "      <th>price</th>\n",
       "      <th>registration_year</th>\n",
       "      <th>power</th>\n",
       "      <th>kilometer</th>\n",
       "      <th>number_of_pictures</th>\n",
       "    </tr>\n",
       "  </thead>\n",
       "  <tbody>\n",
       "    <tr>\n",
       "      <th>count</th>\n",
       "      <td>354343.000000</td>\n",
       "      <td>354343.000000</td>\n",
       "      <td>354343.000000</td>\n",
       "      <td>354343.000000</td>\n",
       "      <td>354343.0</td>\n",
       "    </tr>\n",
       "    <tr>\n",
       "      <th>mean</th>\n",
       "      <td>4416.573941</td>\n",
       "      <td>2004.234575</td>\n",
       "      <td>110.091663</td>\n",
       "      <td>128212.268903</td>\n",
       "      <td>0.0</td>\n",
       "    </tr>\n",
       "    <tr>\n",
       "      <th>std</th>\n",
       "      <td>4514.167600</td>\n",
       "      <td>90.231244</td>\n",
       "      <td>189.856174</td>\n",
       "      <td>37904.444552</td>\n",
       "      <td>0.0</td>\n",
       "    </tr>\n",
       "    <tr>\n",
       "      <th>min</th>\n",
       "      <td>0.000000</td>\n",
       "      <td>1000.000000</td>\n",
       "      <td>0.000000</td>\n",
       "      <td>5000.000000</td>\n",
       "      <td>0.0</td>\n",
       "    </tr>\n",
       "    <tr>\n",
       "      <th>25%</th>\n",
       "      <td>1050.000000</td>\n",
       "      <td>1999.000000</td>\n",
       "      <td>69.000000</td>\n",
       "      <td>125000.000000</td>\n",
       "      <td>0.0</td>\n",
       "    </tr>\n",
       "    <tr>\n",
       "      <th>50%</th>\n",
       "      <td>2700.000000</td>\n",
       "      <td>2003.000000</td>\n",
       "      <td>105.000000</td>\n",
       "      <td>150000.000000</td>\n",
       "      <td>0.0</td>\n",
       "    </tr>\n",
       "    <tr>\n",
       "      <th>75%</th>\n",
       "      <td>6400.000000</td>\n",
       "      <td>2008.000000</td>\n",
       "      <td>143.000000</td>\n",
       "      <td>150000.000000</td>\n",
       "      <td>0.0</td>\n",
       "    </tr>\n",
       "    <tr>\n",
       "      <th>max</th>\n",
       "      <td>20000.000000</td>\n",
       "      <td>9999.000000</td>\n",
       "      <td>20000.000000</td>\n",
       "      <td>150000.000000</td>\n",
       "      <td>0.0</td>\n",
       "    </tr>\n",
       "  </tbody>\n",
       "</table>\n",
       "</div>"
      ],
      "text/plain": [
       "               price  registration_year          power      kilometer  \\\n",
       "count  354343.000000      354343.000000  354343.000000  354343.000000   \n",
       "mean     4416.573941        2004.234575     110.091663  128212.268903   \n",
       "std      4514.167600          90.231244     189.856174   37904.444552   \n",
       "min         0.000000        1000.000000       0.000000    5000.000000   \n",
       "25%      1050.000000        1999.000000      69.000000  125000.000000   \n",
       "50%      2700.000000        2003.000000     105.000000  150000.000000   \n",
       "75%      6400.000000        2008.000000     143.000000  150000.000000   \n",
       "max     20000.000000        9999.000000   20000.000000  150000.000000   \n",
       "\n",
       "       number_of_pictures  \n",
       "count            354343.0  \n",
       "mean                  0.0  \n",
       "std                   0.0  \n",
       "min                   0.0  \n",
       "25%                   0.0  \n",
       "50%                   0.0  \n",
       "75%                   0.0  \n",
       "max                   0.0  "
      ]
     },
     "execution_count": 20,
     "metadata": {},
     "output_type": "execute_result"
    }
   ],
   "source": [
    "df.describe()"
   ]
  },
  {
   "cell_type": "markdown",
   "id": "357a7da5",
   "metadata": {},
   "source": [
    "Заменим аномальные значения power на медиану."
   ]
  },
  {
   "cell_type": "code",
   "execution_count": 21,
   "id": "22ade31a",
   "metadata": {},
   "outputs": [],
   "source": [
    "median_power = df['power'].median()\n",
    "df.loc[(df['power']<50)|(df['power']>4000), 'power'] = median_power"
   ]
  },
  {
   "cell_type": "markdown",
   "id": "a8d34f22",
   "metadata": {},
   "source": [
    "Изучим распределение price."
   ]
  },
  {
   "cell_type": "code",
   "execution_count": 23,
   "id": "a6f8e4b2",
   "metadata": {},
   "outputs": [
    {
     "data": {
      "image/png": "[encoded data removed]",
      "text/plain": [
       "<Figure size 1008x288 with 1 Axes>"
      ]
     },
     "metadata": {
      "needs_background": "light"
     },
     "output_type": "display_data"
    }
   ],
   "source": [
    "plt.rcParams['figure.figsize']=(14,4)\n",
    "a = sns.boxplot(x=df['price'])\n",
    "a.set_title('Распределение цен на машины');"
   ]
  },
  {
   "cell_type": "code",
   "execution_count": 24,
   "id": "68bc381b",
   "metadata": {},
   "outputs": [
    {
     "data": {
      "text/plain": [
       "0.05      200.0\n",
       "0.95    14600.0\n",
       "Name: price, dtype: float64"
      ]
     },
     "execution_count": 24,
     "metadata": {},
     "output_type": "execute_result"
    }
   ],
   "source": [
    "df['price'].quantile([0.05, 0.95])"
   ]
  },
  {
   "cell_type": "markdown",
   "id": "379ddc6c",
   "metadata": {},
   "source": [
    "Удалим выбросы признака price,ориентируясь на 0.05 и 0.95 квантили."
   ]
  },
  {
   "cell_type": "code",
   "execution_count": 25,
   "id": "0a9a4315",
   "metadata": {
    "scrolled": true
   },
   "outputs": [],
   "source": [
    "df = df.query('200<price<14600')"
   ]
  },
  {
   "cell_type": "markdown",
   "id": "fab174a0",
   "metadata": {},
   "source": [
    "Признак number_of_pictures содержит только значения 0, удалим его из-за неинформативности."
   ]
  },
  {
   "cell_type": "code",
   "execution_count": null,
   "id": "94a2af9a",
   "metadata": {},
   "outputs": [],
   "source": [
    "df = df.drop(['number_of_pictures'], axis=1)"
   ]
  },
  {
   "cell_type": "markdown",
   "id": "8a884cd1",
   "metadata": {},
   "source": [
    "Удалим стороки с аномальными значениями registration_year, где год регистрации больше года выгрузки данных."
   ]
  },
  {
   "cell_type": "code",
   "execution_count": 27,
   "id": "23cf45bb",
   "metadata": {},
   "outputs": [],
   "source": [
    "df['date_crawled'] = pd.DatetimeIndex(df['date_crawled']).year\n",
    "df = df.loc[df['date_crawled']>df['registration_year']]"
   ]
  },
  {
   "cell_type": "markdown",
   "id": "b40f3045",
   "metadata": {},
   "source": [
    "Удалим стороки с аномальными значениями registration_year, меньшими даты изобретения автомобиля."
   ]
  },
  {
   "cell_type": "code",
   "execution_count": 28,
   "id": "453439ea",
   "metadata": {},
   "outputs": [],
   "source": [
    "df = df.loc[df['registration_year']>1886]"
   ]
  },
  {
   "cell_type": "markdown",
   "id": "4ff67b0c",
   "metadata": {},
   "source": [
    "Проверим,что нет машин с более поздним годом регистрации, чем текущий (т.к.нет данных о годе проведения исследования)."
   ]
  },
  {
   "cell_type": "code",
   "execution_count": 29,
   "id": "c5a2aec7",
   "metadata": {},
   "outputs": [
    {
     "data": {
      "text/plain": [
       "0"
      ]
     },
     "execution_count": 29,
     "metadata": {},
     "output_type": "execute_result"
    }
   ],
   "source": [
    "len(df.loc[(df['registration_year']>2023)])"
   ]
  },
  {
   "cell_type": "markdown",
   "id": "f88a5039",
   "metadata": {},
   "source": [
    "Теперь можно удалить столбец date_crawled."
   ]
  },
  {
   "cell_type": "code",
   "execution_count": 30,
   "id": "727bd5a1",
   "metadata": {},
   "outputs": [],
   "source": [
    "df = df.drop(['date_crawled'], axis=1)"
   ]
  },
  {
   "cell_type": "markdown",
   "id": "6eb1429a",
   "metadata": {},
   "source": [
    "Проверим характеристики признаков."
   ]
  },
  {
   "cell_type": "code",
   "execution_count": 31,
   "id": "77a7c4ee",
   "metadata": {},
   "outputs": [
    {
     "data": {
      "text/html": [
       "<div>\n",
       "<style scoped>\n",
       "    .dataframe tbody tr th:only-of-type {\n",
       "        vertical-align: middle;\n",
       "    }\n",
       "\n",
       "    .dataframe tbody tr th {\n",
       "        vertical-align: top;\n",
       "    }\n",
       "\n",
       "    .dataframe thead th {\n",
       "        text-align: right;\n",
       "    }\n",
       "</style>\n",
       "<table border=\"1\" class=\"dataframe\">\n",
       "  <thead>\n",
       "    <tr style=\"text-align: right;\">\n",
       "      <th></th>\n",
       "      <th>price</th>\n",
       "      <th>registration_year</th>\n",
       "      <th>power</th>\n",
       "      <th>kilometer</th>\n",
       "    </tr>\n",
       "  </thead>\n",
       "  <tbody>\n",
       "    <tr>\n",
       "      <th>count</th>\n",
       "      <td>295623.000000</td>\n",
       "      <td>295623.000000</td>\n",
       "      <td>295623.00000</td>\n",
       "      <td>295623.000000</td>\n",
       "    </tr>\n",
       "    <tr>\n",
       "      <th>mean</th>\n",
       "      <td>4067.339118</td>\n",
       "      <td>2001.998501</td>\n",
       "      <td>118.66437</td>\n",
       "      <td>130180.601645</td>\n",
       "    </tr>\n",
       "    <tr>\n",
       "      <th>std</th>\n",
       "      <td>3541.215808</td>\n",
       "      <td>6.277228</td>\n",
       "      <td>61.28242</td>\n",
       "      <td>35539.526129</td>\n",
       "    </tr>\n",
       "    <tr>\n",
       "      <th>min</th>\n",
       "      <td>202.000000</td>\n",
       "      <td>1910.000000</td>\n",
       "      <td>50.00000</td>\n",
       "      <td>5000.000000</td>\n",
       "    </tr>\n",
       "    <tr>\n",
       "      <th>25%</th>\n",
       "      <td>1250.000000</td>\n",
       "      <td>1999.000000</td>\n",
       "      <td>86.00000</td>\n",
       "      <td>125000.000000</td>\n",
       "    </tr>\n",
       "    <tr>\n",
       "      <th>50%</th>\n",
       "      <td>2850.000000</td>\n",
       "      <td>2002.000000</td>\n",
       "      <td>105.00000</td>\n",
       "      <td>150000.000000</td>\n",
       "    </tr>\n",
       "    <tr>\n",
       "      <th>75%</th>\n",
       "      <td>5999.000000</td>\n",
       "      <td>2006.000000</td>\n",
       "      <td>140.00000</td>\n",
       "      <td>150000.000000</td>\n",
       "    </tr>\n",
       "    <tr>\n",
       "      <th>max</th>\n",
       "      <td>14599.000000</td>\n",
       "      <td>2015.000000</td>\n",
       "      <td>3500.00000</td>\n",
       "      <td>150000.000000</td>\n",
       "    </tr>\n",
       "  </tbody>\n",
       "</table>\n",
       "</div>"
      ],
      "text/plain": [
       "               price  registration_year         power      kilometer\n",
       "count  295623.000000      295623.000000  295623.00000  295623.000000\n",
       "mean     4067.339118        2001.998501     118.66437  130180.601645\n",
       "std      3541.215808           6.277228      61.28242   35539.526129\n",
       "min       202.000000        1910.000000      50.00000    5000.000000\n",
       "25%      1250.000000        1999.000000      86.00000  125000.000000\n",
       "50%      2850.000000        2002.000000     105.00000  150000.000000\n",
       "75%      5999.000000        2006.000000     140.00000  150000.000000\n",
       "max     14599.000000        2015.000000    3500.00000  150000.000000"
      ]
     },
     "execution_count": 31,
     "metadata": {},
     "output_type": "execute_result"
    }
   ],
   "source": [
    "df.describe()"
   ]
  },
  {
   "cell_type": "code",
   "execution_count": 32,
   "id": "22a4ff4a",
   "metadata": {},
   "outputs": [
    {
     "name": "stdout",
     "output_type": "stream",
     "text": [
      "Размер преобразованной таблицы: (295623, 10)\n"
     ]
    }
   ],
   "source": [
    "print('Размер преобразованной таблицы:', df.shape)"
   ]
  },
  {
   "cell_type": "code",
   "execution_count": 33,
   "id": "fca54475",
   "metadata": {},
   "outputs": [
    {
     "name": "stdout",
     "output_type": "stream",
     "text": [
      "Удалено: 16.58 % строк\n"
     ]
    }
   ],
   "source": [
    "print('Удалено:', round((df.shape[0]/shape[0]-1)*(-100), 2), '% строк')"
   ]
  },
  {
   "cell_type": "markdown",
   "id": "ecf83413",
   "metadata": {},
   "source": [
    "Построим тепловую карту корреляции."
   ]
  },
  {
   "cell_type": "code",
   "execution_count": 34,
   "id": "0938e7d2",
   "metadata": {},
   "outputs": [
    {
     "data": {
      "image/png": "[encoded data removed]",
      "text/plain": [
       "<Figure size 720x432 with 2 Axes>"
      ]
     },
     "metadata": {
      "needs_background": "light"
     },
     "output_type": "display_data"
    }
   ],
   "source": [
    "plt.rcParams['figure.figsize']=(10,6)\n",
    "b = sns.heatmap(df.corr(), annot = True);\n",
    "b.set_title('Корреляция признаков');"
   ]
  },
  {
   "cell_type": "markdown",
   "id": "36b4c5e4",
   "metadata": {},
   "source": [
    "В датасетах не наблюдается мультиколлениарности признаков."
   ]
  },
  {
   "cell_type": "markdown",
   "id": "51ae332b",
   "metadata": {},
   "source": [
    "Изучим распределение целевого признака в датасете."
   ]
  },
  {
   "cell_type": "code",
   "execution_count": 35,
   "id": "8b586f5f",
   "metadata": {},
   "outputs": [
    {
     "data": {
      "image/png": "[encoded data removed]",
      "text/plain": [
       "<Figure size 720x432 with 1 Axes>"
      ]
     },
     "metadata": {
      "needs_background": "light"
     },
     "output_type": "display_data"
    }
   ],
   "source": [
    "df['price'].plot(kind='hist', bins = 150, figsize=(10, 6), title='Распределение признака price')\n",
    "plt.xlabel('Цена, евро')\n",
    "plt.ylabel('Количество');"
   ]
  },
  {
   "cell_type": "markdown",
   "id": "7ddf1c17",
   "metadata": {},
   "source": [
    "#### Подготовка выборок для обучения моделей"
   ]
  },
  {
   "cell_type": "code",
   "execution_count": 36,
   "id": "00254046",
   "metadata": {},
   "outputs": [],
   "source": [
    "target = df['price'] #извлечем целевой признак\n",
    "features = df.drop(['price'], axis=1) #извлечем признаки"
   ]
  },
  {
   "cell_type": "markdown",
   "id": "fd1fd600",
   "metadata": {},
   "source": [
    "Разделим данные на обучающую и тестовую выборки в соотношении 75% и 25% соответственно."
   ]
  },
  {
   "cell_type": "code",
   "execution_count": 37,
   "id": "51c14957",
   "metadata": {},
   "outputs": [],
   "source": [
    "features_train, features_test, target_train, target_test = train_test_split(features, target, \n",
    "                                                    test_size = 0.25, \n",
    "                                                    random_state=12345)"
   ]
  },
  {
   "cell_type": "code",
   "execution_count": 38,
   "id": "1282734f",
   "metadata": {},
   "outputs": [
    {
     "name": "stdout",
     "output_type": "stream",
     "text": [
      "Строк в тренировочной выборке: 221717 строк в тестовой выборке: 73906\n"
     ]
    }
   ],
   "source": [
    "print('Строк в тренировочной выборке:', target_train.shape[0],\n",
    "    'строк в тестовой выборке:', target_test.shape[0])"
   ]
  },
  {
   "cell_type": "code",
   "execution_count": 39,
   "id": "84065576",
   "metadata": {},
   "outputs": [
    {
     "data": {
      "text/plain": [
       "0.25"
      ]
     },
     "execution_count": 39,
     "metadata": {},
     "output_type": "execute_result"
    }
   ],
   "source": [
    "round(target_test.shape[0]/df.shape[0], 2)"
   ]
  },
  {
   "cell_type": "markdown",
   "id": "17d79728",
   "metadata": {},
   "source": [
    "### Вывод\n",
    "Датасет размером (354369, 16) подготовлен для дальнейшего обучения: обработаны пропуски, явные и неявные дубликаты, устранены аномальные значения, удалены неинформативные столбцы, признаки изучены на мультиколлинеарность. "
   ]
  },
  {
   "cell_type": "markdown",
   "id": "ced5a303",
   "metadata": {},
   "source": [
    "## Обучение моделей"
   ]
  },
  {
   "cell_type": "markdown",
   "id": "65c7b7fb",
   "metadata": {},
   "source": [
    "Т.к. целевой признак колличественный, то будем решать задачу регрессии.\n",
    "Исследуем модели:\n",
    "* LightGBM;\n",
    "* CatBoost;\n",
    "* случайный лес;\n",
    "* линейная регрессия."
   ]
  },
  {
   "cell_type": "markdown",
   "id": "52a9b5db",
   "metadata": {},
   "source": [
    "#### Кодировка категориальных признаков"
   ]
  },
  {
   "cell_type": "code",
   "execution_count": 40,
   "id": "af4cb4f8",
   "metadata": {},
   "outputs": [],
   "source": [
    "#выделим категориальные признаки в список\n",
    "cat_features = ['vehicle_type', 'gearbox', 'model', 'fuel_type', 'brand', 'repaired']"
   ]
  },
  {
   "cell_type": "markdown",
   "id": "b29b5a31",
   "metadata": {},
   "source": [
    "Закодируем категориальные признаки методом OrdinalEncoder для LightGBM, CatBoost и случайного леса."
   ]
  },
  {
   "cell_type": "code",
   "execution_count": 41,
   "id": "9b2797cf",
   "metadata": {},
   "outputs": [],
   "source": [
    "encoder_oe = OrdinalEncoder()"
   ]
  },
  {
   "cell_type": "code",
   "execution_count": 42,
   "id": "84e8fd0f",
   "metadata": {},
   "outputs": [
    {
     "data": {
      "text/html": [
       "<div>\n",
       "<style scoped>\n",
       "    .dataframe tbody tr th:only-of-type {\n",
       "        vertical-align: middle;\n",
       "    }\n",
       "\n",
       "    .dataframe tbody tr th {\n",
       "        vertical-align: top;\n",
       "    }\n",
       "\n",
       "    .dataframe thead th {\n",
       "        text-align: right;\n",
       "    }\n",
       "</style>\n",
       "<table border=\"1\" class=\"dataframe\">\n",
       "  <thead>\n",
       "    <tr style=\"text-align: right;\">\n",
       "      <th></th>\n",
       "      <th>vehicle_type</th>\n",
       "      <th>registration_year</th>\n",
       "      <th>gearbox</th>\n",
       "      <th>power</th>\n",
       "      <th>model</th>\n",
       "      <th>kilometer</th>\n",
       "      <th>fuel_type</th>\n",
       "      <th>brand</th>\n",
       "      <th>repaired</th>\n",
       "    </tr>\n",
       "  </thead>\n",
       "  <tbody>\n",
       "    <tr>\n",
       "      <th>38457</th>\n",
       "      <td>1.0</td>\n",
       "      <td>2000</td>\n",
       "      <td>0.0</td>\n",
       "      <td>170</td>\n",
       "      <td>11.0</td>\n",
       "      <td>150000</td>\n",
       "      <td>5.0</td>\n",
       "      <td>2.0</td>\n",
       "      <td>0.0</td>\n",
       "    </tr>\n",
       "    <tr>\n",
       "      <th>124798</th>\n",
       "      <td>7.0</td>\n",
       "      <td>2006</td>\n",
       "      <td>1.0</td>\n",
       "      <td>105</td>\n",
       "      <td>42.0</td>\n",
       "      <td>80000</td>\n",
       "      <td>5.0</td>\n",
       "      <td>24.0</td>\n",
       "      <td>0.0</td>\n",
       "    </tr>\n",
       "    <tr>\n",
       "      <th>253956</th>\n",
       "      <td>5.0</td>\n",
       "      <td>2006</td>\n",
       "      <td>1.0</td>\n",
       "      <td>60</td>\n",
       "      <td>83.0</td>\n",
       "      <td>150000</td>\n",
       "      <td>5.0</td>\n",
       "      <td>24.0</td>\n",
       "      <td>0.0</td>\n",
       "    </tr>\n",
       "    <tr>\n",
       "      <th>59104</th>\n",
       "      <td>5.0</td>\n",
       "      <td>2013</td>\n",
       "      <td>1.0</td>\n",
       "      <td>105</td>\n",
       "      <td>13.0</td>\n",
       "      <td>10000</td>\n",
       "      <td>5.0</td>\n",
       "      <td>9.0</td>\n",
       "      <td>0.0</td>\n",
       "    </tr>\n",
       "    <tr>\n",
       "      <th>272572</th>\n",
       "      <td>4.0</td>\n",
       "      <td>1998</td>\n",
       "      <td>1.0</td>\n",
       "      <td>101</td>\n",
       "      <td>29.0</td>\n",
       "      <td>150000</td>\n",
       "      <td>5.0</td>\n",
       "      <td>1.0</td>\n",
       "      <td>0.0</td>\n",
       "    </tr>\n",
       "  </tbody>\n",
       "</table>\n",
       "</div>"
      ],
      "text/plain": [
       "        vehicle_type  registration_year  gearbox  power  model  kilometer  \\\n",
       "38457            1.0               2000      0.0    170   11.0     150000   \n",
       "124798           7.0               2006      1.0    105   42.0      80000   \n",
       "253956           5.0               2006      1.0     60   83.0     150000   \n",
       "59104            5.0               2013      1.0    105   13.0      10000   \n",
       "272572           4.0               1998      1.0    101   29.0     150000   \n",
       "\n",
       "        fuel_type  brand  repaired  \n",
       "38457         5.0    2.0       0.0  \n",
       "124798        5.0   24.0       0.0  \n",
       "253956        5.0   24.0       0.0  \n",
       "59104         5.0    9.0       0.0  \n",
       "272572        5.0    1.0       0.0  "
      ]
     },
     "execution_count": 42,
     "metadata": {},
     "output_type": "execute_result"
    }
   ],
   "source": [
    "features_train_oe = features_train.copy()\n",
    "encoder_oe.fit(features[cat_features])\n",
    "features_train_oe[cat_features] = encoder_oe.transform(features_train[cat_features])\n",
    "features_train_oe.head()"
   ]
  },
  {
   "cell_type": "code",
   "execution_count": 43,
   "id": "f3828f07",
   "metadata": {},
   "outputs": [
    {
     "data": {
      "text/html": [
       "<div>\n",
       "<style scoped>\n",
       "    .dataframe tbody tr th:only-of-type {\n",
       "        vertical-align: middle;\n",
       "    }\n",
       "\n",
       "    .dataframe tbody tr th {\n",
       "        vertical-align: top;\n",
       "    }\n",
       "\n",
       "    .dataframe thead th {\n",
       "        text-align: right;\n",
       "    }\n",
       "</style>\n",
       "<table border=\"1\" class=\"dataframe\">\n",
       "  <thead>\n",
       "    <tr style=\"text-align: right;\">\n",
       "      <th></th>\n",
       "      <th>vehicle_type</th>\n",
       "      <th>registration_year</th>\n",
       "      <th>gearbox</th>\n",
       "      <th>power</th>\n",
       "      <th>model</th>\n",
       "      <th>kilometer</th>\n",
       "      <th>fuel_type</th>\n",
       "      <th>brand</th>\n",
       "      <th>repaired</th>\n",
       "    </tr>\n",
       "  </thead>\n",
       "  <tbody>\n",
       "    <tr>\n",
       "      <th>172684</th>\n",
       "      <td>4.0</td>\n",
       "      <td>2003</td>\n",
       "      <td>1.0</td>\n",
       "      <td>95</td>\n",
       "      <td>33.0</td>\n",
       "      <td>150000</td>\n",
       "      <td>5.0</td>\n",
       "      <td>20.0</td>\n",
       "      <td>0.0</td>\n",
       "    </tr>\n",
       "    <tr>\n",
       "      <th>233519</th>\n",
       "      <td>0.0</td>\n",
       "      <td>2007</td>\n",
       "      <td>1.0</td>\n",
       "      <td>145</td>\n",
       "      <td>14.0</td>\n",
       "      <td>125000</td>\n",
       "      <td>3.0</td>\n",
       "      <td>19.0</td>\n",
       "      <td>0.0</td>\n",
       "    </tr>\n",
       "    <tr>\n",
       "      <th>179722</th>\n",
       "      <td>3.0</td>\n",
       "      <td>1999</td>\n",
       "      <td>1.0</td>\n",
       "      <td>105</td>\n",
       "      <td>11.0</td>\n",
       "      <td>150000</td>\n",
       "      <td>5.0</td>\n",
       "      <td>2.0</td>\n",
       "      <td>0.0</td>\n",
       "    </tr>\n",
       "    <tr>\n",
       "      <th>239643</th>\n",
       "      <td>5.0</td>\n",
       "      <td>2004</td>\n",
       "      <td>1.0</td>\n",
       "      <td>68</td>\n",
       "      <td>8.0</td>\n",
       "      <td>150000</td>\n",
       "      <td>5.0</td>\n",
       "      <td>25.0</td>\n",
       "      <td>0.0</td>\n",
       "    </tr>\n",
       "    <tr>\n",
       "      <th>1165</th>\n",
       "      <td>4.0</td>\n",
       "      <td>2001</td>\n",
       "      <td>0.0</td>\n",
       "      <td>129</td>\n",
       "      <td>59.0</td>\n",
       "      <td>150000</td>\n",
       "      <td>5.0</td>\n",
       "      <td>20.0</td>\n",
       "      <td>0.0</td>\n",
       "    </tr>\n",
       "  </tbody>\n",
       "</table>\n",
       "</div>"
      ],
      "text/plain": [
       "        vehicle_type  registration_year  gearbox  power  model  kilometer  \\\n",
       "172684           4.0               2003      1.0     95   33.0     150000   \n",
       "233519           0.0               2007      1.0    145   14.0     125000   \n",
       "179722           3.0               1999      1.0    105   11.0     150000   \n",
       "239643           5.0               2004      1.0     68    8.0     150000   \n",
       "1165             4.0               2001      0.0    129   59.0     150000   \n",
       "\n",
       "        fuel_type  brand  repaired  \n",
       "172684        5.0   20.0       0.0  \n",
       "233519        3.0   19.0       0.0  \n",
       "179722        5.0    2.0       0.0  \n",
       "239643        5.0   25.0       0.0  \n",
       "1165          5.0   20.0       0.0  "
      ]
     },
     "execution_count": 43,
     "metadata": {},
     "output_type": "execute_result"
    }
   ],
   "source": [
    "features_test_oe = features_test.copy()\n",
    "features_test_oe[cat_features] = encoder_oe.transform(features_test[cat_features])\n",
    "features_test_oe.head()"
   ]
  },
  {
   "cell_type": "markdown",
   "id": "22ab9e32",
   "metadata": {},
   "source": [
    "Закодируем категориальные признаки методом OHE для линейной регрессии."
   ]
  },
  {
   "cell_type": "code",
   "execution_count": 44,
   "id": "947bae28",
   "metadata": {},
   "outputs": [],
   "source": [
    "column_trans = make_column_transformer((OneHotEncoder(handle_unknown='ignore'),\n",
    "                                        cat_features),\n",
    "                                        remainder='passthrough')"
   ]
  },
  {
   "cell_type": "code",
   "execution_count": 45,
   "id": "20a6cad9",
   "metadata": {},
   "outputs": [],
   "source": [
    "numeric = ['registration_year', 'power', 'kilometer']"
   ]
  },
  {
   "cell_type": "markdown",
   "id": "703b2f62",
   "metadata": {},
   "source": [
    "Выполним масштабирование данных для линейной регрессии."
   ]
  },
  {
   "cell_type": "code",
   "execution_count": 46,
   "id": "e986b710",
   "metadata": {},
   "outputs": [],
   "source": [
    "features_train_lr = features_train.copy()\n",
    "features_test_lr = features_test.copy()\n",
    "\n",
    "scaler = StandardScaler()\n",
    "scaler.fit(features_train[numeric]) \n",
    "features_train_lr[numeric] = scaler.transform(features_train[numeric])\n",
    "features_test_lr[numeric] = scaler.transform(features_test[numeric])"
   ]
  },
  {
   "cell_type": "markdown",
   "id": "af7b4d15",
   "metadata": {},
   "source": [
    "#### Исследование моделей"
   ]
  },
  {
   "cell_type": "markdown",
   "id": "56e03d27",
   "metadata": {},
   "source": [
    "Создадим функцию для расчета метрики RMSE."
   ]
  },
  {
   "cell_type": "code",
   "execution_count": 47,
   "id": "fae9601a",
   "metadata": {},
   "outputs": [],
   "source": [
    "def rmse(target, predict):\n",
    "    return (mean_squared_error(target, predict, squared = False))"
   ]
  },
  {
   "cell_type": "markdown",
   "id": "30821143",
   "metadata": {},
   "source": [
    "#### LightGBM"
   ]
  },
  {
   "cell_type": "code",
   "execution_count": 48,
   "id": "4241d2de",
   "metadata": {},
   "outputs": [
    {
     "name": "stdout",
     "output_type": "stream",
     "text": [
      "Fitting 3 folds for each of 405 candidates, totalling 1215 fits\n",
      "CPU times: total: 27.3 s\n",
      "Wall time: 12min 16s\n"
     ]
    },
    {
     "data": {
      "text/plain": [
       "GridSearchCV(cv=3, estimator=LGBMRegressor(random_state=12345), n_jobs=-1,\n",
       "             param_grid={'learning_rate': [0.01, 0.05, 0.1, 0.2, 0.3],\n",
       "                         'max_depth': range(2, 11),\n",
       "                         'n_estimators': [100, 200, 300],\n",
       "                         'num_leaves': [30, 40, 50]},\n",
       "             scoring='neg_root_mean_squared_error', verbose=10)"
      ]
     },
     "execution_count": 48,
     "metadata": {},
     "output_type": "execute_result"
    }
   ],
   "source": [
    "%%time\n",
    "\n",
    "gbm = lgb.LGBMRegressor(random_state=12345)\n",
    "\n",
    "gbm_parametrs = {'learning_rate': [0.01, 0.05, 0.1, 0.2, 0.3], \n",
    "               'max_depth': range(2, 11),\n",
    "               'num_leaves': [30, 40, 50],\n",
    "               'n_estimators': [100, 200, 300]\n",
    "             }\n",
    "\n",
    "gbm_grid = GridSearchCV(gbm, gbm_parametrs, scoring='neg_root_mean_squared_error', cv=3, n_jobs=-1, verbose=10)\n",
    "gbm_grid.fit(features_train_oe, target_train)"
   ]
  },
  {
   "cell_type": "code",
   "execution_count": 49,
   "id": "b68f89ed",
   "metadata": {},
   "outputs": [
    {
     "name": "stdout",
     "output_type": "stream",
     "text": [
      "{'learning_rate': 0.2, 'max_depth': 10, 'n_estimators': 300, 'num_leaves': 50}\n"
     ]
    }
   ],
   "source": [
    "gbm_params = gbm_grid.best_params_\n",
    "print(gbm_params)"
   ]
  },
  {
   "cell_type": "code",
   "execution_count": 50,
   "id": "d18c8025",
   "metadata": {},
   "outputs": [
    {
     "name": "stdout",
     "output_type": "stream",
     "text": [
      "RMSE LightGBM: 1351.28\n",
      "Время обучения и предсказания LightGBM: 4\n"
     ]
    }
   ],
   "source": [
    "begin = time.time()\n",
    "best_gbm_grid=gbm_grid.best_estimator_\n",
    "gbm_scores = cross_val_score(best_gbm_grid, features_train_oe, target_train, cv=3, scoring='neg_root_mean_squared_error').mean().round(2)*(-1)\n",
    "print('RMSE LightGBM:', gbm_scores)\n",
    "end = time.time()\n",
    "time_gbm = round(end-begin)\n",
    "print('Время обучения и предсказания LightGBM:',time_gbm)"
   ]
  },
  {
   "cell_type": "markdown",
   "id": "acd30955",
   "metadata": {},
   "source": [
    "#### CatBoost"
   ]
  },
  {
   "cell_type": "code",
   "execution_count": 52,
   "id": "ded9a923",
   "metadata": {
    "scrolled": true
   },
   "outputs": [
    {
     "name": "stdout",
     "output_type": "stream",
     "text": [
      "Fitting 3 folds for each of 135 candidates, totalling 405 fits\n",
      "0:\tlearn: 2848.1696960\ttotal: 183ms\tremaining: 54.7s\n",
      "1:\tlearn: 2385.8889851\ttotal: 216ms\tremaining: 32.2s\n",
      "2:\tlearn: 2104.4127972\ttotal: 250ms\tremaining: 24.8s\n",
      "3:\tlearn: 1915.7650298\ttotal: 284ms\tremaining: 21s\n",
      "4:\tlearn: 1807.6899933\ttotal: 316ms\tremaining: 18.6s\n",
      "5:\tlearn: 1717.4907538\ttotal: 345ms\tremaining: 16.9s\n",
      "6:\tlearn: 1661.8117181\ttotal: 377ms\tremaining: 15.8s\n",
      "7:\tlearn: 1622.4177148\ttotal: 411ms\tremaining: 15s\n",
      "8:\tlearn: 1596.2298045\ttotal: 442ms\tremaining: 14.3s\n",
      "9:\tlearn: 1574.7970234\ttotal: 474ms\tremaining: 13.7s\n",
      "10:\tlearn: 1556.2890216\ttotal: 519ms\tremaining: 13.6s\n",
      "11:\tlearn: 1541.5167370\ttotal: 550ms\tremaining: 13.2s\n",
      "12:\tlearn: 1530.6364924\ttotal: 581ms\tremaining: 12.8s\n",
      "13:\tlearn: 1514.9859875\ttotal: 611ms\tremaining: 12.5s\n",
      "14:\tlearn: 1506.7061246\ttotal: 641ms\tremaining: 12.2s\n",
      "15:\tlearn: 1498.5163973\ttotal: 673ms\tremaining: 11.9s\n",
      "16:\tlearn: 1490.1207189\ttotal: 708ms\tremaining: 11.8s\n",
      "17:\tlearn: 1485.4005641\ttotal: 742ms\tremaining: 11.6s\n",
      "18:\tlearn: 1480.8099669\ttotal: 774ms\tremaining: 11.4s\n",
      "19:\tlearn: 1476.0411430\ttotal: 805ms\tremaining: 11.3s\n",
      "20:\tlearn: 1470.4250326\ttotal: 841ms\tremaining: 11.2s\n",
      "21:\tlearn: 1466.1058647\ttotal: 870ms\tremaining: 11s\n",
      "22:\tlearn: 1464.2414735\ttotal: 900ms\tremaining: 10.8s\n",
      "23:\tlearn: 1456.0948589\ttotal: 932ms\tremaining: 10.7s\n",
      "24:\tlearn: 1452.6105759\ttotal: 962ms\tremaining: 10.6s\n",
      "25:\tlearn: 1447.7029179\ttotal: 992ms\tremaining: 10.5s\n",
      "26:\tlearn: 1444.3798203\ttotal: 1.02s\tremaining: 10.3s\n",
      "27:\tlearn: 1442.8017697\ttotal: 1.05s\tremaining: 10.2s\n",
      "28:\tlearn: 1437.7965116\ttotal: 1.08s\tremaining: 10.1s\n",
      "29:\tlearn: 1435.3943405\ttotal: 1.11s\tremaining: 10s\n",
      "30:\tlearn: 1431.3827339\ttotal: 1.15s\tremaining: 9.95s\n",
      "31:\tlearn: 1428.2700857\ttotal: 1.18s\tremaining: 9.86s\n",
      "32:\tlearn: 1424.4886275\ttotal: 1.21s\tremaining: 9.77s\n",
      "33:\tlearn: 1421.4805349\ttotal: 1.24s\tremaining: 9.69s\n",
      "34:\tlearn: 1419.0340656\ttotal: 1.27s\tremaining: 9.6s\n",
      "35:\tlearn: 1417.0227524\ttotal: 1.3s\tremaining: 9.54s\n",
      "36:\tlearn: 1415.6470991\ttotal: 1.33s\tremaining: 9.47s\n",
      "37:\tlearn: 1412.9411445\ttotal: 1.36s\tremaining: 9.39s\n",
      "38:\tlearn: 1411.5041722\ttotal: 1.4s\tremaining: 9.37s\n",
      "39:\tlearn: 1409.0725699\ttotal: 1.43s\tremaining: 9.32s\n",
      "40:\tlearn: 1406.7194063\ttotal: 1.46s\tremaining: 9.25s\n",
      "41:\tlearn: 1403.6546122\ttotal: 1.5s\tremaining: 9.2s\n",
      "42:\tlearn: 1400.8187810\ttotal: 1.54s\tremaining: 9.19s\n",
      "43:\tlearn: 1399.1835232\ttotal: 1.57s\tremaining: 9.17s\n",
      "44:\tlearn: 1396.6000194\ttotal: 1.61s\tremaining: 9.14s\n",
      "45:\tlearn: 1394.5047049\ttotal: 1.66s\tremaining: 9.14s\n",
      "46:\tlearn: 1392.8041077\ttotal: 1.69s\tremaining: 9.11s\n",
      "47:\tlearn: 1391.1292699\ttotal: 1.73s\tremaining: 9.07s\n",
      "48:\tlearn: 1389.7094346\ttotal: 1.76s\tremaining: 9.03s\n",
      "49:\tlearn: 1387.2749034\ttotal: 1.8s\tremaining: 9s\n",
      "50:\tlearn: 1385.1957870\ttotal: 1.84s\tremaining: 8.97s\n",
      "51:\tlearn: 1383.2863902\ttotal: 1.87s\tremaining: 8.94s\n",
      "52:\tlearn: 1380.5968156\ttotal: 1.91s\tremaining: 8.91s\n",
      "53:\tlearn: 1378.4222674\ttotal: 1.95s\tremaining: 8.89s\n",
      "54:\tlearn: 1377.5744300\ttotal: 1.99s\tremaining: 8.85s\n",
      "55:\tlearn: 1375.4222629\ttotal: 2.02s\tremaining: 8.81s\n",
      "56:\tlearn: 1373.6735653\ttotal: 2.06s\tremaining: 8.77s\n",
      "57:\tlearn: 1371.9079574\ttotal: 2.09s\tremaining: 8.74s\n",
      "58:\tlearn: 1369.7922296\ttotal: 2.13s\tremaining: 8.7s\n",
      "59:\tlearn: 1367.8652309\ttotal: 2.17s\tremaining: 8.67s\n",
      "60:\tlearn: 1366.8562059\ttotal: 2.2s\tremaining: 8.62s\n",
      "61:\tlearn: 1364.6812831\ttotal: 2.24s\tremaining: 8.59s\n",
      "62:\tlearn: 1363.0239639\ttotal: 2.27s\tremaining: 8.55s\n",
      "63:\tlearn: 1361.2632100\ttotal: 2.31s\tremaining: 8.51s\n",
      "64:\tlearn: 1359.5489585\ttotal: 2.34s\tremaining: 8.46s\n",
      "65:\tlearn: 1357.5626103\ttotal: 2.37s\tremaining: 8.41s\n",
      "66:\tlearn: 1355.9359110\ttotal: 2.4s\tremaining: 8.36s\n",
      "67:\tlearn: 1354.9485859\ttotal: 2.43s\tremaining: 8.31s\n",
      "68:\tlearn: 1353.3217497\ttotal: 2.46s\tremaining: 8.25s\n",
      "69:\tlearn: 1351.4633357\ttotal: 2.5s\tremaining: 8.21s\n",
      "70:\tlearn: 1350.2216325\ttotal: 2.53s\tremaining: 8.15s\n",
      "71:\tlearn: 1348.4444456\ttotal: 2.56s\tremaining: 8.11s\n",
      "72:\tlearn: 1347.1354625\ttotal: 2.59s\tremaining: 8.05s\n",
      "73:\tlearn: 1345.9657235\ttotal: 2.62s\tremaining: 8s\n",
      "74:\tlearn: 1344.5828592\ttotal: 2.65s\tremaining: 7.96s\n",
      "75:\tlearn: 1343.3948297\ttotal: 2.69s\tremaining: 7.92s\n",
      "76:\tlearn: 1341.5621925\ttotal: 2.72s\tremaining: 7.88s\n",
      "77:\tlearn: 1339.8014210\ttotal: 2.75s\tremaining: 7.84s\n",
      "78:\tlearn: 1338.9059570\ttotal: 2.79s\tremaining: 7.8s\n",
      "79:\tlearn: 1337.3278269\ttotal: 2.82s\tremaining: 7.75s\n",
      "80:\tlearn: 1335.7213296\ttotal: 2.85s\tremaining: 7.71s\n",
      "81:\tlearn: 1334.9498448\ttotal: 2.88s\tremaining: 7.66s\n",
      "82:\tlearn: 1334.0024314\ttotal: 2.91s\tremaining: 7.61s\n",
      "83:\tlearn: 1332.7752109\ttotal: 2.94s\tremaining: 7.56s\n",
      "84:\tlearn: 1331.6779374\ttotal: 2.97s\tremaining: 7.52s\n",
      "85:\tlearn: 1329.9209450\ttotal: 3.01s\tremaining: 7.49s\n",
      "86:\tlearn: 1328.7210785\ttotal: 3.04s\tremaining: 7.44s\n",
      "87:\tlearn: 1327.5075893\ttotal: 3.07s\tremaining: 7.39s\n",
      "88:\tlearn: 1326.6639675\ttotal: 3.1s\tremaining: 7.35s\n",
      "89:\tlearn: 1325.8150532\ttotal: 3.13s\tremaining: 7.3s\n",
      "90:\tlearn: 1325.1167229\ttotal: 3.16s\tremaining: 7.26s\n",
      "91:\tlearn: 1324.4243242\ttotal: 3.19s\tremaining: 7.22s\n",
      "92:\tlearn: 1323.7751475\ttotal: 3.22s\tremaining: 7.18s\n",
      "93:\tlearn: 1322.3924589\ttotal: 3.25s\tremaining: 7.13s\n",
      "94:\tlearn: 1321.2735126\ttotal: 3.28s\tremaining: 7.09s\n",
      "95:\tlearn: 1320.4078365\ttotal: 3.31s\tremaining: 7.04s\n",
      "96:\tlearn: 1318.8543411\ttotal: 3.35s\tremaining: 7s\n",
      "97:\tlearn: 1318.0854715\ttotal: 3.38s\tremaining: 6.96s\n",
      "98:\tlearn: 1316.7810273\ttotal: 3.4s\tremaining: 6.91s\n",
      "99:\tlearn: 1316.1475438\ttotal: 3.43s\tremaining: 6.87s\n",
      "100:\tlearn: 1315.0257235\ttotal: 3.46s\tremaining: 6.83s\n",
      "101:\tlearn: 1314.0926860\ttotal: 3.49s\tremaining: 6.78s\n",
      "102:\tlearn: 1313.3705485\ttotal: 3.52s\tremaining: 6.74s\n",
      "103:\tlearn: 1312.5107924\ttotal: 3.55s\tremaining: 6.7s\n",
      "104:\tlearn: 1311.1985339\ttotal: 3.58s\tremaining: 6.66s\n",
      "105:\tlearn: 1310.2974956\ttotal: 3.61s\tremaining: 6.62s\n",
      "106:\tlearn: 1309.5387099\ttotal: 3.65s\tremaining: 6.58s\n",
      "107:\tlearn: 1308.8040972\ttotal: 3.68s\tremaining: 6.55s\n",
      "108:\tlearn: 1307.9393353\ttotal: 3.72s\tremaining: 6.51s\n",
      "109:\tlearn: 1306.8173759\ttotal: 3.75s\tremaining: 6.47s\n",
      "110:\tlearn: 1306.3338683\ttotal: 3.78s\tremaining: 6.44s\n",
      "111:\tlearn: 1305.1941413\ttotal: 3.81s\tremaining: 6.4s\n",
      "112:\tlearn: 1304.4252422\ttotal: 3.84s\tremaining: 6.36s\n",
      "113:\tlearn: 1303.6323187\ttotal: 3.87s\tremaining: 6.32s\n",
      "114:\tlearn: 1302.5459568\ttotal: 3.9s\tremaining: 6.28s\n",
      "115:\tlearn: 1301.2195214\ttotal: 3.93s\tremaining: 6.24s\n",
      "116:\tlearn: 1300.1362576\ttotal: 3.96s\tremaining: 6.2s\n",
      "117:\tlearn: 1299.3563634\ttotal: 3.99s\tremaining: 6.16s\n",
      "118:\tlearn: 1298.6525406\ttotal: 4.02s\tremaining: 6.12s\n",
      "119:\tlearn: 1297.8936948\ttotal: 4.05s\tremaining: 6.08s\n",
      "120:\tlearn: 1297.2067099\ttotal: 4.09s\tremaining: 6.04s\n",
      "121:\tlearn: 1296.3304002\ttotal: 4.12s\tremaining: 6.01s\n",
      "122:\tlearn: 1295.3731461\ttotal: 4.15s\tremaining: 5.97s\n",
      "123:\tlearn: 1294.7574104\ttotal: 4.18s\tremaining: 5.93s\n",
      "124:\tlearn: 1294.1273689\ttotal: 4.21s\tremaining: 5.89s\n",
      "125:\tlearn: 1293.5345991\ttotal: 4.24s\tremaining: 5.86s\n",
      "126:\tlearn: 1292.9934538\ttotal: 4.27s\tremaining: 5.82s\n",
      "127:\tlearn: 1292.2857793\ttotal: 4.31s\tremaining: 5.79s\n",
      "128:\tlearn: 1291.2230122\ttotal: 4.34s\tremaining: 5.75s\n",
      "129:\tlearn: 1290.5277226\ttotal: 4.37s\tremaining: 5.72s\n",
      "130:\tlearn: 1289.6140296\ttotal: 4.4s\tremaining: 5.68s\n",
      "131:\tlearn: 1288.7830721\ttotal: 4.43s\tremaining: 5.64s\n",
      "132:\tlearn: 1287.7393536\ttotal: 4.46s\tremaining: 5.61s\n",
      "133:\tlearn: 1286.9586907\ttotal: 4.49s\tremaining: 5.57s\n",
      "134:\tlearn: 1286.3334222\ttotal: 4.52s\tremaining: 5.53s\n",
      "135:\tlearn: 1285.2654660\ttotal: 4.55s\tremaining: 5.49s\n",
      "136:\tlearn: 1284.7421228\ttotal: 4.59s\tremaining: 5.46s\n",
      "137:\tlearn: 1284.2186245\ttotal: 4.62s\tremaining: 5.43s\n",
      "138:\tlearn: 1283.3070235\ttotal: 4.66s\tremaining: 5.39s\n",
      "139:\tlearn: 1282.5912358\ttotal: 4.69s\tremaining: 5.36s\n",
      "140:\tlearn: 1281.7782118\ttotal: 4.72s\tremaining: 5.33s\n",
      "141:\tlearn: 1280.9529779\ttotal: 4.76s\tremaining: 5.29s\n",
      "142:\tlearn: 1279.9807095\ttotal: 4.79s\tremaining: 5.26s\n",
      "143:\tlearn: 1279.6869213\ttotal: 4.82s\tremaining: 5.22s\n",
      "144:\tlearn: 1278.8584001\ttotal: 4.85s\tremaining: 5.18s\n",
      "145:\tlearn: 1278.1534364\ttotal: 4.88s\tremaining: 5.14s\n",
      "146:\tlearn: 1278.1090021\ttotal: 4.9s\tremaining: 5.1s\n",
      "147:\tlearn: 1277.3269450\ttotal: 4.93s\tremaining: 5.06s\n",
      "148:\tlearn: 1276.7851601\ttotal: 4.96s\tremaining: 5.02s\n",
      "149:\tlearn: 1276.0935332\ttotal: 4.99s\tremaining: 4.99s\n",
      "150:\tlearn: 1274.8919908\ttotal: 5.02s\tremaining: 4.95s\n",
      "151:\tlearn: 1274.4579379\ttotal: 5.05s\tremaining: 4.92s\n",
      "152:\tlearn: 1274.1014499\ttotal: 5.08s\tremaining: 4.88s\n",
      "153:\tlearn: 1273.0868141\ttotal: 5.11s\tremaining: 4.84s\n",
      "154:\tlearn: 1272.6318392\ttotal: 5.14s\tremaining: 4.81s\n",
      "155:\tlearn: 1272.0901170\ttotal: 5.17s\tremaining: 4.77s\n",
      "156:\tlearn: 1271.5843302\ttotal: 5.2s\tremaining: 4.74s\n",
      "157:\tlearn: 1270.9567450\ttotal: 5.24s\tremaining: 4.71s\n",
      "158:\tlearn: 1270.5410280\ttotal: 5.27s\tremaining: 4.67s\n",
      "159:\tlearn: 1269.7860171\ttotal: 5.3s\tremaining: 4.64s\n",
      "160:\tlearn: 1269.0790355\ttotal: 5.33s\tremaining: 4.6s\n",
      "161:\tlearn: 1268.7167505\ttotal: 5.36s\tremaining: 4.57s\n",
      "162:\tlearn: 1267.9962049\ttotal: 5.39s\tremaining: 4.53s\n",
      "163:\tlearn: 1267.3554054\ttotal: 5.42s\tremaining: 4.5s\n",
      "164:\tlearn: 1266.6186064\ttotal: 5.45s\tremaining: 4.46s\n",
      "165:\tlearn: 1265.9145354\ttotal: 5.48s\tremaining: 4.43s\n",
      "166:\tlearn: 1265.4655670\ttotal: 5.51s\tremaining: 4.39s\n",
      "167:\tlearn: 1264.7281645\ttotal: 5.54s\tremaining: 4.36s\n",
      "168:\tlearn: 1263.9847922\ttotal: 5.58s\tremaining: 4.32s\n",
      "169:\tlearn: 1263.6481408\ttotal: 5.61s\tremaining: 4.29s\n",
      "170:\tlearn: 1262.8270385\ttotal: 5.64s\tremaining: 4.25s\n",
      "171:\tlearn: 1262.2196066\ttotal: 5.67s\tremaining: 4.22s\n",
      "172:\tlearn: 1261.5832977\ttotal: 5.71s\tremaining: 4.19s\n",
      "173:\tlearn: 1261.1050597\ttotal: 5.74s\tremaining: 4.16s\n",
      "174:\tlearn: 1260.7225977\ttotal: 5.77s\tremaining: 4.12s\n",
      "175:\tlearn: 1260.1880956\ttotal: 5.81s\tremaining: 4.09s\n",
      "176:\tlearn: 1259.7531539\ttotal: 5.84s\tremaining: 4.06s\n",
      "177:\tlearn: 1259.5106631\ttotal: 5.87s\tremaining: 4.02s\n",
      "178:\tlearn: 1258.8700271\ttotal: 5.9s\tremaining: 3.99s\n",
      "179:\tlearn: 1258.1813481\ttotal: 5.93s\tremaining: 3.95s\n",
      "180:\tlearn: 1257.3996871\ttotal: 5.97s\tremaining: 3.93s\n",
      "181:\tlearn: 1256.5388663\ttotal: 6s\tremaining: 3.89s\n",
      "182:\tlearn: 1255.4233092\ttotal: 6.04s\tremaining: 3.86s\n",
      "183:\tlearn: 1254.6740778\ttotal: 6.07s\tremaining: 3.82s\n",
      "184:\tlearn: 1253.9029975\ttotal: 6.1s\tremaining: 3.79s\n",
      "185:\tlearn: 1253.2769362\ttotal: 6.13s\tremaining: 3.76s\n",
      "186:\tlearn: 1252.9669054\ttotal: 6.16s\tremaining: 3.72s\n",
      "187:\tlearn: 1252.5240833\ttotal: 6.19s\tremaining: 3.69s\n",
      "188:\tlearn: 1252.1992809\ttotal: 6.22s\tremaining: 3.65s\n",
      "189:\tlearn: 1251.8440453\ttotal: 6.25s\tremaining: 3.62s\n",
      "190:\tlearn: 1251.1056636\ttotal: 6.29s\tremaining: 3.59s\n",
      "191:\tlearn: 1250.4846241\ttotal: 6.32s\tremaining: 3.55s\n",
      "192:\tlearn: 1249.5286806\ttotal: 6.35s\tremaining: 3.52s\n",
      "193:\tlearn: 1249.0424508\ttotal: 6.38s\tremaining: 3.49s\n",
      "194:\tlearn: 1248.5678325\ttotal: 6.41s\tremaining: 3.45s\n",
      "195:\tlearn: 1248.0021570\ttotal: 6.44s\tremaining: 3.42s\n",
      "196:\tlearn: 1247.7058674\ttotal: 6.47s\tremaining: 3.38s\n",
      "197:\tlearn: 1247.3151486\ttotal: 6.5s\tremaining: 3.35s\n",
      "198:\tlearn: 1246.9906741\ttotal: 6.53s\tremaining: 3.32s\n",
      "199:\tlearn: 1246.4725991\ttotal: 6.57s\tremaining: 3.28s\n",
      "200:\tlearn: 1246.0338925\ttotal: 6.6s\tremaining: 3.25s\n",
      "201:\tlearn: 1245.6546970\ttotal: 6.63s\tremaining: 3.22s\n",
      "202:\tlearn: 1245.1961607\ttotal: 6.67s\tremaining: 3.19s\n",
      "203:\tlearn: 1244.6594604\ttotal: 6.7s\tremaining: 3.15s\n",
      "204:\tlearn: 1244.0875633\ttotal: 6.73s\tremaining: 3.12s\n",
      "205:\tlearn: 1243.7467774\ttotal: 6.76s\tremaining: 3.08s\n",
      "206:\tlearn: 1243.3543598\ttotal: 6.79s\tremaining: 3.05s\n",
      "207:\tlearn: 1242.8754159\ttotal: 6.82s\tremaining: 3.02s\n",
      "208:\tlearn: 1242.2560091\ttotal: 6.85s\tremaining: 2.98s\n",
      "209:\tlearn: 1242.1111273\ttotal: 6.88s\tremaining: 2.95s\n",
      "210:\tlearn: 1241.7954381\ttotal: 6.91s\tremaining: 2.91s\n",
      "211:\tlearn: 1241.3434157\ttotal: 6.94s\tremaining: 2.88s\n",
      "212:\tlearn: 1240.8940667\ttotal: 6.97s\tremaining: 2.85s\n",
      "213:\tlearn: 1240.5612935\ttotal: 7s\tremaining: 2.81s\n",
      "214:\tlearn: 1240.0486436\ttotal: 7.03s\tremaining: 2.78s\n",
      "215:\tlearn: 1239.6145165\ttotal: 7.06s\tremaining: 2.75s\n",
      "216:\tlearn: 1238.3678460\ttotal: 7.09s\tremaining: 2.71s\n",
      "217:\tlearn: 1238.0482388\ttotal: 7.12s\tremaining: 2.68s\n",
      "218:\tlearn: 1237.4506099\ttotal: 7.15s\tremaining: 2.64s\n",
      "219:\tlearn: 1237.0612173\ttotal: 7.18s\tremaining: 2.61s\n",
      "220:\tlearn: 1236.3815819\ttotal: 7.21s\tremaining: 2.58s\n",
      "221:\tlearn: 1235.9018061\ttotal: 7.24s\tremaining: 2.54s\n",
      "222:\tlearn: 1235.4360539\ttotal: 7.27s\tremaining: 2.51s\n",
      "223:\tlearn: 1235.0325475\ttotal: 7.3s\tremaining: 2.48s\n",
      "224:\tlearn: 1234.6718687\ttotal: 7.33s\tremaining: 2.44s\n",
      "225:\tlearn: 1234.1300374\ttotal: 7.36s\tremaining: 2.41s\n",
      "226:\tlearn: 1233.7505952\ttotal: 7.39s\tremaining: 2.38s\n",
      "227:\tlearn: 1233.3054656\ttotal: 7.42s\tremaining: 2.34s\n",
      "228:\tlearn: 1232.7952650\ttotal: 7.45s\tremaining: 2.31s\n",
      "229:\tlearn: 1232.1301479\ttotal: 7.48s\tremaining: 2.28s\n",
      "230:\tlearn: 1231.7570824\ttotal: 7.51s\tremaining: 2.24s\n",
      "231:\tlearn: 1231.2066068\ttotal: 7.54s\tremaining: 2.21s\n",
      "232:\tlearn: 1230.6799801\ttotal: 7.57s\tremaining: 2.18s\n",
      "233:\tlearn: 1230.3637982\ttotal: 7.6s\tremaining: 2.14s\n",
      "234:\tlearn: 1229.8474181\ttotal: 7.64s\tremaining: 2.11s\n",
      "235:\tlearn: 1229.6014886\ttotal: 7.67s\tremaining: 2.08s\n",
      "236:\tlearn: 1228.9292493\ttotal: 7.7s\tremaining: 2.05s\n",
      "237:\tlearn: 1228.4830289\ttotal: 7.73s\tremaining: 2.01s\n",
      "238:\tlearn: 1227.8643910\ttotal: 7.77s\tremaining: 1.98s\n",
      "239:\tlearn: 1227.4321408\ttotal: 7.8s\tremaining: 1.95s\n",
      "240:\tlearn: 1227.1695427\ttotal: 7.83s\tremaining: 1.92s\n",
      "241:\tlearn: 1226.7949523\ttotal: 7.86s\tremaining: 1.88s\n",
      "242:\tlearn: 1226.4206605\ttotal: 7.88s\tremaining: 1.85s\n",
      "243:\tlearn: 1226.0737887\ttotal: 7.92s\tremaining: 1.82s\n",
      "244:\tlearn: 1225.1998755\ttotal: 7.95s\tremaining: 1.78s\n",
      "245:\tlearn: 1224.8526656\ttotal: 7.98s\tremaining: 1.75s\n",
      "246:\tlearn: 1224.5292743\ttotal: 8.01s\tremaining: 1.72s\n",
      "247:\tlearn: 1223.8615740\ttotal: 8.04s\tremaining: 1.69s\n",
      "248:\tlearn: 1223.2795758\ttotal: 8.07s\tremaining: 1.65s\n",
      "249:\tlearn: 1222.8842517\ttotal: 8.1s\tremaining: 1.62s\n",
      "250:\tlearn: 1222.4996104\ttotal: 8.13s\tremaining: 1.59s\n",
      "251:\tlearn: 1222.0670073\ttotal: 8.16s\tremaining: 1.55s\n",
      "252:\tlearn: 1221.5207017\ttotal: 8.19s\tremaining: 1.52s\n",
      "253:\tlearn: 1221.4423382\ttotal: 8.22s\tremaining: 1.49s\n",
      "254:\tlearn: 1220.9951047\ttotal: 8.25s\tremaining: 1.46s\n",
      "255:\tlearn: 1220.7257636\ttotal: 8.28s\tremaining: 1.42s\n",
      "256:\tlearn: 1220.4035125\ttotal: 8.31s\tremaining: 1.39s\n",
      "257:\tlearn: 1220.0277936\ttotal: 8.34s\tremaining: 1.36s\n",
      "258:\tlearn: 1219.6640526\ttotal: 8.37s\tremaining: 1.32s\n",
      "259:\tlearn: 1219.1844600\ttotal: 8.4s\tremaining: 1.29s\n",
      "260:\tlearn: 1218.9191275\ttotal: 8.43s\tremaining: 1.26s\n",
      "261:\tlearn: 1218.6597128\ttotal: 8.46s\tremaining: 1.23s\n",
      "262:\tlearn: 1218.2637533\ttotal: 8.49s\tremaining: 1.19s\n",
      "263:\tlearn: 1217.8834991\ttotal: 8.52s\tremaining: 1.16s\n",
      "264:\tlearn: 1217.4665350\ttotal: 8.55s\tremaining: 1.13s\n",
      "265:\tlearn: 1216.8644073\ttotal: 8.59s\tremaining: 1.1s\n",
      "266:\tlearn: 1216.4779056\ttotal: 8.62s\tremaining: 1.06s\n",
      "267:\tlearn: 1216.0633235\ttotal: 8.65s\tremaining: 1.03s\n",
      "268:\tlearn: 1215.6328581\ttotal: 8.68s\tremaining: 1s\n",
      "269:\tlearn: 1215.2160118\ttotal: 8.72s\tremaining: 969ms\n",
      "270:\tlearn: 1214.9572028\ttotal: 8.75s\tremaining: 936ms\n",
      "271:\tlearn: 1214.2552133\ttotal: 8.78s\tremaining: 904ms\n",
      "272:\tlearn: 1213.9230971\ttotal: 8.82s\tremaining: 872ms\n",
      "273:\tlearn: 1213.4538931\ttotal: 8.85s\tremaining: 840ms\n",
      "274:\tlearn: 1213.2960271\ttotal: 8.88s\tremaining: 807ms\n",
      "275:\tlearn: 1212.9905737\ttotal: 8.91s\tremaining: 775ms\n",
      "276:\tlearn: 1212.5538958\ttotal: 8.94s\tremaining: 742ms\n",
      "277:\tlearn: 1211.9114628\ttotal: 8.97s\tremaining: 710ms\n",
      "278:\tlearn: 1211.7033023\ttotal: 9s\tremaining: 677ms\n",
      "279:\tlearn: 1211.3068626\ttotal: 9.03s\tremaining: 645ms\n",
      "280:\tlearn: 1210.9221825\ttotal: 9.06s\tremaining: 613ms\n",
      "281:\tlearn: 1210.6281952\ttotal: 9.09s\tremaining: 580ms\n",
      "282:\tlearn: 1210.0649998\ttotal: 9.12s\tremaining: 548ms\n",
      "283:\tlearn: 1209.4991411\ttotal: 9.15s\tremaining: 516ms\n",
      "284:\tlearn: 1208.9051391\ttotal: 9.18s\tremaining: 483ms\n",
      "285:\tlearn: 1208.4098773\ttotal: 9.21s\tremaining: 451ms\n",
      "286:\tlearn: 1207.8365824\ttotal: 9.25s\tremaining: 419ms\n",
      "287:\tlearn: 1207.4694829\ttotal: 9.28s\tremaining: 387ms\n",
      "288:\tlearn: 1206.9875966\ttotal: 9.31s\tremaining: 354ms\n",
      "289:\tlearn: 1206.9193038\ttotal: 9.34s\tremaining: 322ms\n",
      "290:\tlearn: 1206.5257973\ttotal: 9.37s\tremaining: 290ms\n",
      "291:\tlearn: 1206.2199424\ttotal: 9.4s\tremaining: 257ms\n",
      "292:\tlearn: 1205.7112782\ttotal: 9.43s\tremaining: 225ms\n",
      "293:\tlearn: 1205.4464776\ttotal: 9.46s\tremaining: 193ms\n",
      "294:\tlearn: 1205.3592563\ttotal: 9.48s\tremaining: 161ms\n",
      "295:\tlearn: 1204.9964870\ttotal: 9.51s\tremaining: 129ms\n",
      "296:\tlearn: 1204.6565763\ttotal: 9.54s\tremaining: 96.4ms\n",
      "297:\tlearn: 1204.4191793\ttotal: 9.57s\tremaining: 64.3ms\n",
      "298:\tlearn: 1204.0463795\ttotal: 9.61s\tremaining: 32.1ms\n",
      "299:\tlearn: 1203.4519742\ttotal: 9.64s\tremaining: 0us\n",
      "CPU times: total: 59 s\n",
      "Wall time: 12min 21s\n"
     ]
    },
    {
     "data": {
      "text/plain": [
       "GridSearchCV(cv=3,\n",
       "             estimator=<catboost.core.CatBoostRegressor object at 0x0000023C8071F6A0>,\n",
       "             n_jobs=-1,\n",
       "             param_grid={'iterations': [100, 200, 300],\n",
       "                         'learning_rate': [0.01, 0.05, 0.1, 0.2, 0.3],\n",
       "                         'max_depth': range(2, 11)},\n",
       "             scoring='neg_root_mean_squared_error', verbose=10)"
      ]
     },
     "execution_count": 52,
     "metadata": {},
     "output_type": "execute_result"
    }
   ],
   "source": [
    "%%time\n",
    "\n",
    "cb = CatBoostRegressor(random_state=12345)\n",
    "\n",
    "cb_parametrs = {'learning_rate': [0.01, 0.05, 0.1, 0.2, 0.3], \n",
    "               'max_depth': range(2, 11),\n",
    "               'iterations': [100, 200, 300]\n",
    "                }\n",
    "\n",
    "cb_grid = GridSearchCV(cb, cb_parametrs, scoring='neg_root_mean_squared_error', cv=3, n_jobs=-1, verbose=10)\n",
    "cb_grid.fit(features_train_oe, target_train, verbose=True)"
   ]
  },
  {
   "cell_type": "code",
   "execution_count": 53,
   "id": "7734ffc9",
   "metadata": {},
   "outputs": [
    {
     "name": "stdout",
     "output_type": "stream",
     "text": [
      "{'iterations': 300, 'learning_rate': 0.3, 'max_depth': 10}\n"
     ]
    }
   ],
   "source": [
    "cb_params = cb_grid.best_params_\n",
    "print(cb_params)"
   ]
  },
  {
   "cell_type": "code",
   "execution_count": 54,
   "id": "21d5f1fa",
   "metadata": {},
   "outputs": [
    {
     "name": "stdout",
     "output_type": "stream",
     "text": [
      "0:\tlearn: 2847.4915464\ttotal: 27.6ms\tremaining: 8.26s\n",
      "1:\tlearn: 2387.9656313\ttotal: 54.1ms\tremaining: 8.06s\n",
      "2:\tlearn: 2097.4796692\ttotal: 79.9ms\tremaining: 7.91s\n",
      "3:\tlearn: 1912.2370370\ttotal: 106ms\tremaining: 7.85s\n",
      "4:\tlearn: 1791.3111634\ttotal: 134ms\tremaining: 7.89s\n",
      "5:\tlearn: 1715.6982767\ttotal: 158ms\tremaining: 7.76s\n",
      "6:\tlearn: 1670.2163577\ttotal: 184ms\tremaining: 7.68s\n",
      "7:\tlearn: 1626.7415523\ttotal: 207ms\tremaining: 7.57s\n",
      "8:\tlearn: 1595.2308296\ttotal: 233ms\tremaining: 7.52s\n",
      "9:\tlearn: 1565.8657686\ttotal: 258ms\tremaining: 7.47s\n",
      "10:\tlearn: 1551.9587699\ttotal: 282ms\tremaining: 7.41s\n",
      "11:\tlearn: 1533.2483514\ttotal: 307ms\tremaining: 7.38s\n",
      "12:\tlearn: 1519.9117961\ttotal: 332ms\tremaining: 7.33s\n",
      "13:\tlearn: 1510.5203355\ttotal: 359ms\tremaining: 7.33s\n",
      "14:\tlearn: 1501.2566117\ttotal: 384ms\tremaining: 7.29s\n",
      "15:\tlearn: 1492.2777539\ttotal: 408ms\tremaining: 7.25s\n",
      "16:\tlearn: 1487.7285221\ttotal: 435ms\tremaining: 7.23s\n",
      "17:\tlearn: 1482.7437076\ttotal: 460ms\tremaining: 7.21s\n",
      "18:\tlearn: 1476.1904620\ttotal: 486ms\tremaining: 7.18s\n",
      "19:\tlearn: 1471.1256348\ttotal: 514ms\tremaining: 7.19s\n",
      "20:\tlearn: 1466.3692719\ttotal: 538ms\tremaining: 7.15s\n",
      "21:\tlearn: 1460.1898091\ttotal: 562ms\tremaining: 7.1s\n",
      "22:\tlearn: 1457.3171436\ttotal: 587ms\tremaining: 7.07s\n",
      "23:\tlearn: 1453.1954764\ttotal: 610ms\tremaining: 7.02s\n",
      "24:\tlearn: 1447.7356473\ttotal: 637ms\tremaining: 7s\n",
      "25:\tlearn: 1443.4637124\ttotal: 661ms\tremaining: 6.97s\n",
      "26:\tlearn: 1438.1426254\ttotal: 686ms\tremaining: 6.93s\n",
      "27:\tlearn: 1432.1470231\ttotal: 710ms\tremaining: 6.9s\n",
      "28:\tlearn: 1428.8254297\ttotal: 736ms\tremaining: 6.88s\n",
      "29:\tlearn: 1425.4155734\ttotal: 760ms\tremaining: 6.84s\n",
      "30:\tlearn: 1423.0135496\ttotal: 786ms\tremaining: 6.82s\n",
      "31:\tlearn: 1420.9303975\ttotal: 810ms\tremaining: 6.79s\n",
      "32:\tlearn: 1418.3966492\ttotal: 836ms\tremaining: 6.76s\n",
      "33:\tlearn: 1416.1605477\ttotal: 862ms\tremaining: 6.75s\n",
      "34:\tlearn: 1414.1707569\ttotal: 887ms\tremaining: 6.72s\n",
      "35:\tlearn: 1410.6125660\ttotal: 914ms\tremaining: 6.7s\n",
      "36:\tlearn: 1407.8786275\ttotal: 940ms\tremaining: 6.68s\n",
      "37:\tlearn: 1405.2410927\ttotal: 968ms\tremaining: 6.67s\n",
      "38:\tlearn: 1401.0876398\ttotal: 995ms\tremaining: 6.66s\n",
      "39:\tlearn: 1397.3304123\ttotal: 1.02s\tremaining: 6.62s\n",
      "40:\tlearn: 1395.9352159\ttotal: 1.04s\tremaining: 6.58s\n",
      "41:\tlearn: 1393.3920649\ttotal: 1.07s\tremaining: 6.57s\n",
      "42:\tlearn: 1391.5185616\ttotal: 1.09s\tremaining: 6.53s\n",
      "43:\tlearn: 1388.4041201\ttotal: 1.12s\tremaining: 6.5s\n",
      "44:\tlearn: 1386.2748553\ttotal: 1.14s\tremaining: 6.46s\n",
      "45:\tlearn: 1383.5402829\ttotal: 1.17s\tremaining: 6.44s\n",
      "46:\tlearn: 1381.1694047\ttotal: 1.19s\tremaining: 6.42s\n",
      "47:\tlearn: 1378.9083530\ttotal: 1.22s\tremaining: 6.39s\n",
      "48:\tlearn: 1377.4372172\ttotal: 1.24s\tremaining: 6.36s\n",
      "49:\tlearn: 1375.2912593\ttotal: 1.26s\tremaining: 6.33s\n",
      "50:\tlearn: 1373.6018614\ttotal: 1.29s\tremaining: 6.3s\n",
      "51:\tlearn: 1371.4081768\ttotal: 1.31s\tremaining: 6.27s\n",
      "52:\tlearn: 1369.4755011\ttotal: 1.34s\tremaining: 6.24s\n",
      "53:\tlearn: 1366.7901174\ttotal: 1.36s\tremaining: 6.21s\n",
      "54:\tlearn: 1365.8289192\ttotal: 1.39s\tremaining: 6.19s\n",
      "55:\tlearn: 1364.3430695\ttotal: 1.41s\tremaining: 6.15s\n",
      "56:\tlearn: 1362.6081076\ttotal: 1.44s\tremaining: 6.13s\n",
      "57:\tlearn: 1361.1280938\ttotal: 1.46s\tremaining: 6.1s\n",
      "58:\tlearn: 1359.8339645\ttotal: 1.49s\tremaining: 6.07s\n",
      "59:\tlearn: 1357.2728222\ttotal: 1.51s\tremaining: 6.04s\n",
      "60:\tlearn: 1355.1175258\ttotal: 1.53s\tremaining: 6.01s\n",
      "61:\tlearn: 1353.0942336\ttotal: 1.56s\tremaining: 5.98s\n",
      "62:\tlearn: 1351.2529870\ttotal: 1.58s\tremaining: 5.95s\n",
      "63:\tlearn: 1349.5835296\ttotal: 1.61s\tremaining: 5.93s\n",
      "64:\tlearn: 1347.8941571\ttotal: 1.63s\tremaining: 5.89s\n",
      "65:\tlearn: 1346.0338774\ttotal: 1.66s\tremaining: 5.87s\n",
      "66:\tlearn: 1343.8769157\ttotal: 1.68s\tremaining: 5.85s\n",
      "67:\tlearn: 1343.0178643\ttotal: 1.71s\tremaining: 5.82s\n",
      "68:\tlearn: 1341.5135602\ttotal: 1.73s\tremaining: 5.8s\n",
      "69:\tlearn: 1340.2835248\ttotal: 1.75s\tremaining: 5.77s\n",
      "70:\tlearn: 1339.1859692\ttotal: 1.78s\tremaining: 5.74s\n",
      "71:\tlearn: 1337.5301638\ttotal: 1.81s\tremaining: 5.73s\n",
      "72:\tlearn: 1335.6475613\ttotal: 1.83s\tremaining: 5.71s\n",
      "73:\tlearn: 1334.0277617\ttotal: 1.86s\tremaining: 5.69s\n",
      "74:\tlearn: 1332.4770691\ttotal: 1.89s\tremaining: 5.67s\n",
      "75:\tlearn: 1330.4583403\ttotal: 1.92s\tremaining: 5.65s\n",
      "76:\tlearn: 1329.0900887\ttotal: 1.94s\tremaining: 5.63s\n",
      "77:\tlearn: 1328.1496711\ttotal: 1.97s\tremaining: 5.6s\n",
      "78:\tlearn: 1326.6870730\ttotal: 1.99s\tremaining: 5.57s\n",
      "79:\tlearn: 1324.6924326\ttotal: 2.02s\tremaining: 5.54s\n",
      "80:\tlearn: 1324.1528250\ttotal: 2.04s\tremaining: 5.52s\n",
      "81:\tlearn: 1322.1232830\ttotal: 2.06s\tremaining: 5.49s\n",
      "82:\tlearn: 1320.5411152\ttotal: 2.09s\tremaining: 5.47s\n",
      "83:\tlearn: 1320.4038432\ttotal: 2.12s\tremaining: 5.45s\n",
      "84:\tlearn: 1319.4295142\ttotal: 2.14s\tremaining: 5.42s\n",
      "85:\tlearn: 1317.7691558\ttotal: 2.17s\tremaining: 5.39s\n",
      "86:\tlearn: 1316.4935176\ttotal: 2.19s\tremaining: 5.36s\n",
      "87:\tlearn: 1315.5751919\ttotal: 2.21s\tremaining: 5.33s\n",
      "88:\tlearn: 1314.8588955\ttotal: 2.24s\tremaining: 5.31s\n",
      "89:\tlearn: 1314.3621493\ttotal: 2.26s\tremaining: 5.28s\n",
      "90:\tlearn: 1312.5498856\ttotal: 2.29s\tremaining: 5.25s\n",
      "91:\tlearn: 1311.0370134\ttotal: 2.31s\tremaining: 5.22s\n",
      "92:\tlearn: 1309.7166936\ttotal: 2.33s\tremaining: 5.2s\n",
      "93:\tlearn: 1307.9453408\ttotal: 2.36s\tremaining: 5.17s\n",
      "94:\tlearn: 1307.0729934\ttotal: 2.38s\tremaining: 5.15s\n",
      "95:\tlearn: 1306.1456629\ttotal: 2.41s\tremaining: 5.12s\n",
      "96:\tlearn: 1304.6732323\ttotal: 2.44s\tremaining: 5.1s\n",
      "97:\tlearn: 1304.3416784\ttotal: 2.46s\tremaining: 5.08s\n",
      "98:\tlearn: 1302.7898661\ttotal: 2.49s\tremaining: 5.05s\n",
      "99:\tlearn: 1301.7066198\ttotal: 2.51s\tremaining: 5.02s\n",
      "100:\tlearn: 1300.8799725\ttotal: 2.54s\tremaining: 5s\n",
      "101:\tlearn: 1299.1946409\ttotal: 2.56s\tremaining: 4.97s\n",
      "102:\tlearn: 1298.4651975\ttotal: 2.58s\tremaining: 4.94s\n",
      "103:\tlearn: 1297.3794287\ttotal: 2.61s\tremaining: 4.92s\n",
      "104:\tlearn: 1296.1153796\ttotal: 2.63s\tremaining: 4.89s\n",
      "105:\tlearn: 1294.7731315\ttotal: 2.66s\tremaining: 4.87s\n",
      "106:\tlearn: 1293.5225915\ttotal: 2.69s\tremaining: 4.85s\n",
      "107:\tlearn: 1292.2553887\ttotal: 2.71s\tremaining: 4.82s\n",
      "108:\tlearn: 1291.0084875\ttotal: 2.74s\tremaining: 4.8s\n",
      "109:\tlearn: 1289.9687240\ttotal: 2.76s\tremaining: 4.77s\n",
      "110:\tlearn: 1288.8354094\ttotal: 2.79s\tremaining: 4.75s\n",
      "111:\tlearn: 1286.9265527\ttotal: 2.81s\tremaining: 4.72s\n",
      "112:\tlearn: 1285.6957387\ttotal: 2.84s\tremaining: 4.7s\n",
      "113:\tlearn: 1285.1989724\ttotal: 2.87s\tremaining: 4.68s\n",
      "114:\tlearn: 1284.1852336\ttotal: 2.9s\tremaining: 4.66s\n",
      "115:\tlearn: 1283.3919194\ttotal: 2.92s\tremaining: 4.64s\n",
      "116:\tlearn: 1282.6806723\ttotal: 2.95s\tremaining: 4.62s\n",
      "117:\tlearn: 1281.6645176\ttotal: 2.98s\tremaining: 4.59s\n",
      "118:\tlearn: 1281.1495640\ttotal: 3s\tremaining: 4.57s\n",
      "119:\tlearn: 1280.6274241\ttotal: 3.03s\tremaining: 4.54s\n",
      "120:\tlearn: 1280.2416291\ttotal: 3.05s\tremaining: 4.51s\n",
      "121:\tlearn: 1279.5845330\ttotal: 3.07s\tremaining: 4.48s\n",
      "122:\tlearn: 1278.7046891\ttotal: 3.1s\tremaining: 4.46s\n",
      "123:\tlearn: 1277.5316085\ttotal: 3.12s\tremaining: 4.43s\n",
      "124:\tlearn: 1275.8643173\ttotal: 3.15s\tremaining: 4.41s\n",
      "125:\tlearn: 1275.2173620\ttotal: 3.17s\tremaining: 4.38s\n",
      "126:\tlearn: 1274.1080043\ttotal: 3.2s\tremaining: 4.35s\n",
      "127:\tlearn: 1273.1093021\ttotal: 3.22s\tremaining: 4.33s\n",
      "128:\tlearn: 1272.0955826\ttotal: 3.24s\tremaining: 4.3s\n",
      "129:\tlearn: 1271.7419582\ttotal: 3.27s\tremaining: 4.27s\n",
      "130:\tlearn: 1270.9130390\ttotal: 3.29s\tremaining: 4.25s\n",
      "131:\tlearn: 1270.4429701\ttotal: 3.31s\tremaining: 4.22s\n",
      "132:\tlearn: 1269.2172889\ttotal: 3.34s\tremaining: 4.2s\n",
      "133:\tlearn: 1267.9602755\ttotal: 3.37s\tremaining: 4.18s\n",
      "134:\tlearn: 1267.3267888\ttotal: 3.4s\tremaining: 4.15s\n",
      "135:\tlearn: 1266.8417573\ttotal: 3.42s\tremaining: 4.13s\n",
      "136:\tlearn: 1266.1797431\ttotal: 3.45s\tremaining: 4.1s\n",
      "137:\tlearn: 1265.4302046\ttotal: 3.47s\tremaining: 4.07s\n",
      "138:\tlearn: 1264.8088853\ttotal: 3.49s\tremaining: 4.05s\n",
      "139:\tlearn: 1264.2428323\ttotal: 3.52s\tremaining: 4.02s\n",
      "140:\tlearn: 1263.7678400\ttotal: 3.54s\tremaining: 3.99s\n",
      "141:\tlearn: 1263.0378625\ttotal: 3.57s\tremaining: 3.97s\n",
      "142:\tlearn: 1261.7597383\ttotal: 3.6s\tremaining: 3.95s\n",
      "143:\tlearn: 1261.0974965\ttotal: 3.62s\tremaining: 3.92s\n",
      "144:\tlearn: 1260.4003064\ttotal: 3.65s\tremaining: 3.9s\n",
      "145:\tlearn: 1259.9686923\ttotal: 3.67s\tremaining: 3.87s\n",
      "146:\tlearn: 1259.1414925\ttotal: 3.69s\tremaining: 3.84s\n",
      "147:\tlearn: 1258.4128441\ttotal: 3.72s\tremaining: 3.82s\n",
      "148:\tlearn: 1256.8514195\ttotal: 3.74s\tremaining: 3.79s\n",
      "149:\tlearn: 1255.8882781\ttotal: 3.77s\tremaining: 3.77s\n",
      "150:\tlearn: 1254.9911277\ttotal: 3.79s\tremaining: 3.74s\n",
      "151:\tlearn: 1254.2681240\ttotal: 3.82s\tremaining: 3.72s\n",
      "152:\tlearn: 1253.5112171\ttotal: 3.85s\tremaining: 3.69s\n",
      "153:\tlearn: 1252.7423929\ttotal: 3.87s\tremaining: 3.67s\n",
      "154:\tlearn: 1251.8929292\ttotal: 3.9s\tremaining: 3.65s\n",
      "155:\tlearn: 1251.4933111\ttotal: 3.92s\tremaining: 3.62s\n",
      "156:\tlearn: 1250.7739428\ttotal: 3.95s\tremaining: 3.59s\n",
      "157:\tlearn: 1249.6600655\ttotal: 3.97s\tremaining: 3.57s\n",
      "158:\tlearn: 1248.7798926\ttotal: 3.99s\tremaining: 3.54s\n",
      "159:\tlearn: 1248.4138587\ttotal: 4.02s\tremaining: 3.52s\n",
      "160:\tlearn: 1247.8596715\ttotal: 4.04s\tremaining: 3.49s\n",
      "161:\tlearn: 1247.5455235\ttotal: 4.06s\tremaining: 3.46s\n",
      "162:\tlearn: 1247.4840343\ttotal: 4.09s\tremaining: 3.44s\n",
      "163:\tlearn: 1247.2554912\ttotal: 4.11s\tremaining: 3.41s\n",
      "164:\tlearn: 1246.7546547\ttotal: 4.13s\tremaining: 3.38s\n",
      "165:\tlearn: 1246.2744177\ttotal: 4.16s\tremaining: 3.36s\n",
      "166:\tlearn: 1245.7106375\ttotal: 4.18s\tremaining: 3.33s\n",
      "167:\tlearn: 1244.7817640\ttotal: 4.21s\tremaining: 3.3s\n",
      "168:\tlearn: 1244.1393198\ttotal: 4.23s\tremaining: 3.28s\n",
      "169:\tlearn: 1243.4213226\ttotal: 4.25s\tremaining: 3.25s\n",
      "170:\tlearn: 1242.6765300\ttotal: 4.28s\tremaining: 3.23s\n",
      "171:\tlearn: 1241.6935352\ttotal: 4.3s\tremaining: 3.2s\n",
      "172:\tlearn: 1241.0857363\ttotal: 4.33s\tremaining: 3.18s\n",
      "173:\tlearn: 1240.5526247\ttotal: 4.36s\tremaining: 3.15s\n",
      "174:\tlearn: 1239.8983499\ttotal: 4.38s\tremaining: 3.13s\n",
      "175:\tlearn: 1239.1803509\ttotal: 4.41s\tremaining: 3.11s\n",
      "176:\tlearn: 1238.4060226\ttotal: 4.44s\tremaining: 3.08s\n",
      "177:\tlearn: 1237.8280003\ttotal: 4.46s\tremaining: 3.06s\n",
      "178:\tlearn: 1237.3088048\ttotal: 4.49s\tremaining: 3.03s\n",
      "179:\tlearn: 1236.5701577\ttotal: 4.51s\tremaining: 3.01s\n",
      "180:\tlearn: 1235.4128098\ttotal: 4.54s\tremaining: 2.99s\n",
      "181:\tlearn: 1234.7838655\ttotal: 4.57s\tremaining: 2.96s\n",
      "182:\tlearn: 1233.7638229\ttotal: 4.59s\tremaining: 2.94s\n",
      "183:\tlearn: 1233.1716389\ttotal: 4.62s\tremaining: 2.91s\n",
      "184:\tlearn: 1232.3226918\ttotal: 4.65s\tremaining: 2.89s\n",
      "185:\tlearn: 1231.9187479\ttotal: 4.67s\tremaining: 2.86s\n",
      "186:\tlearn: 1231.0338007\ttotal: 4.7s\tremaining: 2.84s\n",
      "187:\tlearn: 1230.2974496\ttotal: 4.72s\tremaining: 2.81s\n",
      "188:\tlearn: 1229.7054832\ttotal: 4.75s\tremaining: 2.79s\n",
      "189:\tlearn: 1229.0269293\ttotal: 4.78s\tremaining: 2.77s\n",
      "190:\tlearn: 1228.3756316\ttotal: 4.8s\tremaining: 2.74s\n",
      "191:\tlearn: 1227.9540380\ttotal: 4.83s\tremaining: 2.72s\n",
      "192:\tlearn: 1227.5277047\ttotal: 4.86s\tremaining: 2.69s\n",
      "193:\tlearn: 1226.6402878\ttotal: 4.88s\tremaining: 2.67s\n",
      "194:\tlearn: 1225.7945258\ttotal: 4.91s\tremaining: 2.64s\n",
      "195:\tlearn: 1225.3657180\ttotal: 4.94s\tremaining: 2.62s\n",
      "196:\tlearn: 1224.7315810\ttotal: 4.96s\tremaining: 2.6s\n",
      "197:\tlearn: 1224.3688608\ttotal: 4.99s\tremaining: 2.57s\n",
      "198:\tlearn: 1224.1088958\ttotal: 5.01s\tremaining: 2.54s\n",
      "199:\tlearn: 1223.7161420\ttotal: 5.04s\tremaining: 2.52s\n",
      "200:\tlearn: 1223.3796313\ttotal: 5.06s\tremaining: 2.49s\n",
      "201:\tlearn: 1222.6788228\ttotal: 5.09s\tremaining: 2.47s\n",
      "202:\tlearn: 1222.0664592\ttotal: 5.12s\tremaining: 2.44s\n",
      "203:\tlearn: 1221.4738397\ttotal: 5.14s\tremaining: 2.42s\n",
      "204:\tlearn: 1221.1945155\ttotal: 5.17s\tremaining: 2.4s\n",
      "205:\tlearn: 1220.5952469\ttotal: 5.21s\tremaining: 2.38s\n",
      "206:\tlearn: 1220.2300535\ttotal: 5.24s\tremaining: 2.35s\n",
      "207:\tlearn: 1219.6692295\ttotal: 5.27s\tremaining: 2.33s\n",
      "208:\tlearn: 1219.2725369\ttotal: 5.29s\tremaining: 2.3s\n",
      "209:\tlearn: 1218.3605173\ttotal: 5.32s\tremaining: 2.28s\n",
      "210:\tlearn: 1217.8288853\ttotal: 5.34s\tremaining: 2.25s\n",
      "211:\tlearn: 1217.3269893\ttotal: 5.37s\tremaining: 2.23s\n",
      "212:\tlearn: 1216.8192293\ttotal: 5.4s\tremaining: 2.2s\n",
      "213:\tlearn: 1216.3031245\ttotal: 5.42s\tremaining: 2.18s\n",
      "214:\tlearn: 1215.8479867\ttotal: 5.45s\tremaining: 2.15s\n",
      "215:\tlearn: 1215.2701851\ttotal: 5.47s\tremaining: 2.13s\n",
      "216:\tlearn: 1214.3480053\ttotal: 5.5s\tremaining: 2.1s\n",
      "217:\tlearn: 1214.2459848\ttotal: 5.53s\tremaining: 2.08s\n",
      "218:\tlearn: 1213.5745698\ttotal: 5.55s\tremaining: 2.05s\n",
      "219:\tlearn: 1212.7346339\ttotal: 5.58s\tremaining: 2.03s\n",
      "220:\tlearn: 1212.1257053\ttotal: 5.6s\tremaining: 2s\n",
      "221:\tlearn: 1211.1294434\ttotal: 5.63s\tremaining: 1.98s\n",
      "222:\tlearn: 1210.7507209\ttotal: 5.65s\tremaining: 1.95s\n",
      "223:\tlearn: 1210.1817621\ttotal: 5.67s\tremaining: 1.93s\n",
      "224:\tlearn: 1209.8174929\ttotal: 5.7s\tremaining: 1.9s\n",
      "225:\tlearn: 1209.2152112\ttotal: 5.72s\tremaining: 1.87s\n",
      "226:\tlearn: 1208.6673679\ttotal: 5.75s\tremaining: 1.85s\n",
      "227:\tlearn: 1208.3712723\ttotal: 5.78s\tremaining: 1.82s\n",
      "228:\tlearn: 1207.6855532\ttotal: 5.8s\tremaining: 1.8s\n",
      "229:\tlearn: 1207.3502376\ttotal: 5.83s\tremaining: 1.77s\n",
      "230:\tlearn: 1206.9180897\ttotal: 5.86s\tremaining: 1.75s\n",
      "231:\tlearn: 1206.3824623\ttotal: 5.89s\tremaining: 1.73s\n",
      "232:\tlearn: 1205.5973334\ttotal: 5.92s\tremaining: 1.7s\n",
      "233:\tlearn: 1205.2733314\ttotal: 5.94s\tremaining: 1.68s\n",
      "234:\tlearn: 1205.0186708\ttotal: 5.97s\tremaining: 1.65s\n",
      "235:\tlearn: 1204.3617881\ttotal: 6s\tremaining: 1.63s\n",
      "236:\tlearn: 1203.8724170\ttotal: 6.02s\tremaining: 1.6s\n",
      "237:\tlearn: 1202.8958265\ttotal: 6.05s\tremaining: 1.58s\n",
      "238:\tlearn: 1202.4858299\ttotal: 6.08s\tremaining: 1.55s\n",
      "239:\tlearn: 1202.2427850\ttotal: 6.1s\tremaining: 1.52s\n",
      "240:\tlearn: 1201.7975819\ttotal: 6.12s\tremaining: 1.5s\n",
      "241:\tlearn: 1201.1183110\ttotal: 6.15s\tremaining: 1.47s\n",
      "242:\tlearn: 1200.8453985\ttotal: 6.17s\tremaining: 1.45s\n",
      "243:\tlearn: 1200.4230224\ttotal: 6.2s\tremaining: 1.42s\n",
      "244:\tlearn: 1199.9249475\ttotal: 6.23s\tremaining: 1.4s\n",
      "245:\tlearn: 1199.6137573\ttotal: 6.25s\tremaining: 1.37s\n",
      "246:\tlearn: 1198.9313507\ttotal: 6.28s\tremaining: 1.35s\n",
      "247:\tlearn: 1198.4581198\ttotal: 6.3s\tremaining: 1.32s\n",
      "248:\tlearn: 1198.0496108\ttotal: 6.33s\tremaining: 1.29s\n",
      "249:\tlearn: 1197.7248429\ttotal: 6.35s\tremaining: 1.27s\n",
      "250:\tlearn: 1197.5039721\ttotal: 6.37s\tremaining: 1.24s\n",
      "251:\tlearn: 1196.9704806\ttotal: 6.4s\tremaining: 1.22s\n",
      "252:\tlearn: 1196.8526573\ttotal: 6.43s\tremaining: 1.19s\n",
      "253:\tlearn: 1196.4877515\ttotal: 6.45s\tremaining: 1.17s\n",
      "254:\tlearn: 1196.0662140\ttotal: 6.47s\tremaining: 1.14s\n",
      "255:\tlearn: 1195.6545229\ttotal: 6.5s\tremaining: 1.12s\n",
      "256:\tlearn: 1195.0321663\ttotal: 6.53s\tremaining: 1.09s\n",
      "257:\tlearn: 1194.8122837\ttotal: 6.55s\tremaining: 1.07s\n",
      "258:\tlearn: 1194.2820673\ttotal: 6.57s\tremaining: 1.04s\n",
      "259:\tlearn: 1194.2244724\ttotal: 6.6s\tremaining: 1.01s\n",
      "260:\tlearn: 1193.7456256\ttotal: 6.62s\tremaining: 990ms\n",
      "261:\tlearn: 1193.4332830\ttotal: 6.65s\tremaining: 964ms\n",
      "262:\tlearn: 1192.9544868\ttotal: 6.67s\tremaining: 938ms\n",
      "263:\tlearn: 1192.6204435\ttotal: 6.7s\tremaining: 913ms\n",
      "264:\tlearn: 1192.3974681\ttotal: 6.72s\tremaining: 888ms\n",
      "265:\tlearn: 1191.7703664\ttotal: 6.75s\tremaining: 863ms\n",
      "266:\tlearn: 1191.1375913\ttotal: 6.78s\tremaining: 838ms\n",
      "267:\tlearn: 1190.8221852\ttotal: 6.81s\tremaining: 813ms\n",
      "268:\tlearn: 1190.4513577\ttotal: 6.83s\tremaining: 788ms\n",
      "269:\tlearn: 1189.8085295\ttotal: 6.86s\tremaining: 763ms\n",
      "270:\tlearn: 1189.7761355\ttotal: 6.89s\tremaining: 737ms\n",
      "271:\tlearn: 1189.4216615\ttotal: 6.91s\tremaining: 712ms\n",
      "272:\tlearn: 1189.1300206\ttotal: 6.94s\tremaining: 687ms\n",
      "273:\tlearn: 1189.0449437\ttotal: 6.97s\tremaining: 661ms\n",
      "274:\tlearn: 1188.7298379\ttotal: 6.99s\tremaining: 636ms\n",
      "275:\tlearn: 1188.2206093\ttotal: 7.02s\tremaining: 610ms\n",
      "276:\tlearn: 1187.6705154\ttotal: 7.04s\tremaining: 585ms\n",
      "277:\tlearn: 1187.2128985\ttotal: 7.07s\tremaining: 559ms\n",
      "278:\tlearn: 1186.3609898\ttotal: 7.09s\tremaining: 534ms\n",
      "279:\tlearn: 1185.7639860\ttotal: 7.12s\tremaining: 508ms\n",
      "280:\tlearn: 1185.3614951\ttotal: 7.14s\tremaining: 483ms\n",
      "281:\tlearn: 1184.9422212\ttotal: 7.17s\tremaining: 458ms\n",
      "282:\tlearn: 1184.5859368\ttotal: 7.19s\tremaining: 432ms\n",
      "283:\tlearn: 1184.3697481\ttotal: 7.22s\tremaining: 407ms\n",
      "284:\tlearn: 1184.0861533\ttotal: 7.24s\tremaining: 381ms\n",
      "285:\tlearn: 1183.6915017\ttotal: 7.27s\tremaining: 356ms\n",
      "286:\tlearn: 1182.9730356\ttotal: 7.29s\tremaining: 330ms\n",
      "287:\tlearn: 1182.6428396\ttotal: 7.32s\tremaining: 305ms\n",
      "288:\tlearn: 1182.2106269\ttotal: 7.34s\tremaining: 280ms\n",
      "289:\tlearn: 1181.8472227\ttotal: 7.37s\tremaining: 254ms\n",
      "290:\tlearn: 1181.5907949\ttotal: 7.4s\tremaining: 229ms\n",
      "291:\tlearn: 1180.9731646\ttotal: 7.42s\tremaining: 203ms\n",
      "292:\tlearn: 1180.6891850\ttotal: 7.45s\tremaining: 178ms\n",
      "293:\tlearn: 1180.2543719\ttotal: 7.48s\tremaining: 153ms\n",
      "294:\tlearn: 1179.2570332\ttotal: 7.51s\tremaining: 127ms\n",
      "295:\tlearn: 1179.0071881\ttotal: 7.53s\tremaining: 102ms\n",
      "296:\tlearn: 1178.7310672\ttotal: 7.56s\tremaining: 76.3ms\n",
      "297:\tlearn: 1178.5432592\ttotal: 7.58s\tremaining: 50.9ms\n",
      "298:\tlearn: 1177.9588497\ttotal: 7.6s\tremaining: 25.4ms\n",
      "299:\tlearn: 1177.8964387\ttotal: 7.63s\tremaining: 0us\n",
      "0:\tlearn: 2843.9478316\ttotal: 32.2ms\tremaining: 9.62s\n",
      "1:\tlearn: 2381.3027567\ttotal: 60.8ms\tremaining: 9.06s\n",
      "2:\tlearn: 2095.1339164\ttotal: 87.1ms\tremaining: 8.62s\n",
      "3:\tlearn: 1914.4876619\ttotal: 113ms\tremaining: 8.36s\n",
      "4:\tlearn: 1793.3584942\ttotal: 139ms\tremaining: 8.17s\n",
      "5:\tlearn: 1723.6524245\ttotal: 164ms\tremaining: 8.04s\n",
      "6:\tlearn: 1658.6128469\ttotal: 190ms\tremaining: 7.96s\n",
      "7:\tlearn: 1616.6379033\ttotal: 215ms\tremaining: 7.84s\n",
      "8:\tlearn: 1583.7717015\ttotal: 242ms\tremaining: 7.82s\n",
      "9:\tlearn: 1563.8514518\ttotal: 268ms\tremaining: 7.76s\n",
      "10:\tlearn: 1551.4584518\ttotal: 291ms\tremaining: 7.64s\n",
      "11:\tlearn: 1539.4223590\ttotal: 314ms\tremaining: 7.54s\n",
      "12:\tlearn: 1527.0093355\ttotal: 338ms\tremaining: 7.47s\n",
      "13:\tlearn: 1514.9320957\ttotal: 362ms\tremaining: 7.38s\n",
      "14:\tlearn: 1508.5893203\ttotal: 385ms\tremaining: 7.32s\n",
      "15:\tlearn: 1500.7322283\ttotal: 409ms\tremaining: 7.27s\n",
      "16:\tlearn: 1496.1052175\ttotal: 432ms\tremaining: 7.2s\n",
      "17:\tlearn: 1486.0921978\ttotal: 459ms\tremaining: 7.19s\n",
      "18:\tlearn: 1479.3683411\ttotal: 483ms\tremaining: 7.14s\n",
      "19:\tlearn: 1473.0875385\ttotal: 507ms\tremaining: 7.09s\n",
      "20:\tlearn: 1469.0351731\ttotal: 536ms\tremaining: 7.13s\n",
      "21:\tlearn: 1464.6969340\ttotal: 562ms\tremaining: 7.11s\n",
      "22:\tlearn: 1459.5056887\ttotal: 588ms\tremaining: 7.08s\n",
      "23:\tlearn: 1455.7433899\ttotal: 614ms\tremaining: 7.06s\n",
      "24:\tlearn: 1449.2365305\ttotal: 640ms\tremaining: 7.04s\n",
      "25:\tlearn: 1444.0236505\ttotal: 666ms\tremaining: 7.02s\n",
      "26:\tlearn: 1440.6551595\ttotal: 692ms\tremaining: 6.99s\n",
      "27:\tlearn: 1434.9293104\ttotal: 717ms\tremaining: 6.97s\n",
      "28:\tlearn: 1431.4664025\ttotal: 743ms\tremaining: 6.94s\n",
      "29:\tlearn: 1428.1849959\ttotal: 768ms\tremaining: 6.91s\n",
      "30:\tlearn: 1426.1153671\ttotal: 796ms\tremaining: 6.91s\n",
      "31:\tlearn: 1423.0081949\ttotal: 821ms\tremaining: 6.87s\n",
      "32:\tlearn: 1419.6476281\ttotal: 847ms\tremaining: 6.85s\n",
      "33:\tlearn: 1416.8571284\ttotal: 874ms\tremaining: 6.83s\n",
      "34:\tlearn: 1415.5859463\ttotal: 898ms\tremaining: 6.8s\n",
      "35:\tlearn: 1411.8287343\ttotal: 923ms\tremaining: 6.77s\n",
      "36:\tlearn: 1409.2175674\ttotal: 948ms\tremaining: 6.74s\n",
      "37:\tlearn: 1408.2714657\ttotal: 974ms\tremaining: 6.71s\n",
      "38:\tlearn: 1404.8841666\ttotal: 1s\tremaining: 6.7s\n",
      "39:\tlearn: 1403.0820784\ttotal: 1.03s\tremaining: 6.68s\n",
      "40:\tlearn: 1400.3422594\ttotal: 1.05s\tremaining: 6.67s\n",
      "41:\tlearn: 1397.7675041\ttotal: 1.08s\tremaining: 6.66s\n",
      "42:\tlearn: 1395.5966237\ttotal: 1.11s\tremaining: 6.64s\n",
      "43:\tlearn: 1393.7574981\ttotal: 1.14s\tremaining: 6.61s\n",
      "44:\tlearn: 1391.2644034\ttotal: 1.16s\tremaining: 6.59s\n",
      "45:\tlearn: 1388.1991265\ttotal: 1.19s\tremaining: 6.57s\n",
      "46:\tlearn: 1385.8643716\ttotal: 1.22s\tremaining: 6.54s\n",
      "47:\tlearn: 1383.6295900\ttotal: 1.24s\tremaining: 6.53s\n",
      "48:\tlearn: 1381.2176800\ttotal: 1.27s\tremaining: 6.51s\n",
      "49:\tlearn: 1379.6591637\ttotal: 1.29s\tremaining: 6.47s\n",
      "50:\tlearn: 1377.2802716\ttotal: 1.32s\tremaining: 6.44s\n",
      "51:\tlearn: 1375.3938425\ttotal: 1.34s\tremaining: 6.4s\n",
      "52:\tlearn: 1372.8298917\ttotal: 1.37s\tremaining: 6.37s\n",
      "53:\tlearn: 1370.4716409\ttotal: 1.39s\tremaining: 6.33s\n",
      "54:\tlearn: 1367.5165354\ttotal: 1.41s\tremaining: 6.3s\n",
      "55:\tlearn: 1366.2954817\ttotal: 1.44s\tremaining: 6.26s\n",
      "56:\tlearn: 1363.8898146\ttotal: 1.46s\tremaining: 6.23s\n",
      "57:\tlearn: 1361.6811453\ttotal: 1.49s\tremaining: 6.2s\n",
      "58:\tlearn: 1360.1872940\ttotal: 1.51s\tremaining: 6.18s\n",
      "59:\tlearn: 1357.8458386\ttotal: 1.54s\tremaining: 6.15s\n",
      "60:\tlearn: 1356.8468544\ttotal: 1.56s\tremaining: 6.12s\n",
      "61:\tlearn: 1355.4911607\ttotal: 1.58s\tremaining: 6.08s\n",
      "62:\tlearn: 1353.8460554\ttotal: 1.61s\tremaining: 6.05s\n",
      "63:\tlearn: 1351.6889106\ttotal: 1.63s\tremaining: 6.02s\n",
      "64:\tlearn: 1348.7597216\ttotal: 1.66s\tremaining: 5.99s\n",
      "65:\tlearn: 1347.6211432\ttotal: 1.68s\tremaining: 5.96s\n",
      "66:\tlearn: 1345.8443948\ttotal: 1.71s\tremaining: 5.93s\n",
      "67:\tlearn: 1343.8184028\ttotal: 1.73s\tremaining: 5.91s\n",
      "68:\tlearn: 1343.0224147\ttotal: 1.75s\tremaining: 5.88s\n",
      "69:\tlearn: 1341.3678762\ttotal: 1.78s\tremaining: 5.85s\n",
      "70:\tlearn: 1339.9539167\ttotal: 1.8s\tremaining: 5.82s\n",
      "71:\tlearn: 1337.6621361\ttotal: 1.83s\tremaining: 5.79s\n",
      "72:\tlearn: 1336.4603169\ttotal: 1.85s\tremaining: 5.77s\n",
      "73:\tlearn: 1334.9842490\ttotal: 1.88s\tremaining: 5.74s\n",
      "74:\tlearn: 1333.2140751\ttotal: 1.91s\tremaining: 5.72s\n",
      "75:\tlearn: 1331.7272422\ttotal: 1.93s\tremaining: 5.7s\n",
      "76:\tlearn: 1330.8213294\ttotal: 1.96s\tremaining: 5.67s\n",
      "77:\tlearn: 1328.8227529\ttotal: 1.99s\tremaining: 5.65s\n",
      "78:\tlearn: 1326.5253093\ttotal: 2.01s\tremaining: 5.63s\n",
      "79:\tlearn: 1325.9057080\ttotal: 2.04s\tremaining: 5.61s\n",
      "80:\tlearn: 1325.0794476\ttotal: 2.06s\tremaining: 5.58s\n",
      "81:\tlearn: 1324.3270073\ttotal: 2.09s\tremaining: 5.56s\n",
      "82:\tlearn: 1322.2327984\ttotal: 2.12s\tremaining: 5.54s\n",
      "83:\tlearn: 1320.6983370\ttotal: 2.14s\tremaining: 5.51s\n",
      "84:\tlearn: 1319.5356795\ttotal: 2.17s\tremaining: 5.49s\n",
      "85:\tlearn: 1318.4038195\ttotal: 2.2s\tremaining: 5.46s\n",
      "86:\tlearn: 1317.2108317\ttotal: 2.22s\tremaining: 5.44s\n",
      "87:\tlearn: 1316.0752007\ttotal: 2.25s\tremaining: 5.42s\n",
      "88:\tlearn: 1314.7551251\ttotal: 2.27s\tremaining: 5.39s\n",
      "89:\tlearn: 1313.4535392\ttotal: 2.3s\tremaining: 5.37s\n",
      "90:\tlearn: 1312.9750731\ttotal: 2.33s\tremaining: 5.34s\n",
      "91:\tlearn: 1311.8101942\ttotal: 2.35s\tremaining: 5.31s\n",
      "92:\tlearn: 1310.3656586\ttotal: 2.38s\tremaining: 5.29s\n",
      "93:\tlearn: 1309.4160603\ttotal: 2.4s\tremaining: 5.26s\n",
      "94:\tlearn: 1308.4625722\ttotal: 2.42s\tremaining: 5.23s\n",
      "95:\tlearn: 1307.1181333\ttotal: 2.45s\tremaining: 5.2s\n",
      "96:\tlearn: 1306.3122995\ttotal: 2.47s\tremaining: 5.17s\n",
      "97:\tlearn: 1305.8131184\ttotal: 2.5s\tremaining: 5.14s\n",
      "98:\tlearn: 1304.9044343\ttotal: 2.52s\tremaining: 5.12s\n",
      "99:\tlearn: 1303.5895786\ttotal: 2.54s\tremaining: 5.08s\n",
      "100:\tlearn: 1302.7812355\ttotal: 2.57s\tremaining: 5.06s\n",
      "101:\tlearn: 1301.7215427\ttotal: 2.59s\tremaining: 5.03s\n",
      "102:\tlearn: 1300.8354773\ttotal: 2.62s\tremaining: 5s\n",
      "103:\tlearn: 1300.0000035\ttotal: 2.64s\tremaining: 4.97s\n",
      "104:\tlearn: 1298.7000797\ttotal: 2.66s\tremaining: 4.95s\n",
      "105:\tlearn: 1297.5550267\ttotal: 2.69s\tremaining: 4.92s\n",
      "106:\tlearn: 1296.5423305\ttotal: 2.71s\tremaining: 4.9s\n",
      "107:\tlearn: 1294.9629717\ttotal: 2.74s\tremaining: 4.87s\n",
      "108:\tlearn: 1294.3364451\ttotal: 2.76s\tremaining: 4.84s\n",
      "109:\tlearn: 1292.5980966\ttotal: 2.79s\tremaining: 4.81s\n",
      "110:\tlearn: 1291.0948464\ttotal: 2.81s\tremaining: 4.79s\n",
      "111:\tlearn: 1290.3487401\ttotal: 2.84s\tremaining: 4.76s\n",
      "112:\tlearn: 1289.5244196\ttotal: 2.86s\tremaining: 4.73s\n",
      "113:\tlearn: 1288.3753317\ttotal: 2.88s\tremaining: 4.71s\n",
      "114:\tlearn: 1287.4622965\ttotal: 2.91s\tremaining: 4.68s\n",
      "115:\tlearn: 1286.6662980\ttotal: 2.94s\tremaining: 4.66s\n",
      "116:\tlearn: 1285.8210898\ttotal: 2.96s\tremaining: 4.63s\n",
      "117:\tlearn: 1285.0402385\ttotal: 2.99s\tremaining: 4.61s\n",
      "118:\tlearn: 1284.2824063\ttotal: 3.02s\tremaining: 4.58s\n",
      "119:\tlearn: 1282.8541735\ttotal: 3.04s\tremaining: 4.56s\n",
      "120:\tlearn: 1282.2406542\ttotal: 3.07s\tremaining: 4.54s\n",
      "121:\tlearn: 1281.4807262\ttotal: 3.09s\tremaining: 4.51s\n",
      "122:\tlearn: 1280.9982085\ttotal: 3.12s\tremaining: 4.49s\n",
      "123:\tlearn: 1280.1728125\ttotal: 3.14s\tremaining: 4.46s\n",
      "124:\tlearn: 1279.7921337\ttotal: 3.17s\tremaining: 4.43s\n",
      "125:\tlearn: 1279.0859087\ttotal: 3.19s\tremaining: 4.41s\n",
      "126:\tlearn: 1278.6197226\ttotal: 3.22s\tremaining: 4.39s\n",
      "127:\tlearn: 1277.7402358\ttotal: 3.25s\tremaining: 4.36s\n",
      "128:\tlearn: 1276.0110272\ttotal: 3.27s\tremaining: 4.34s\n",
      "129:\tlearn: 1274.6076561\ttotal: 3.3s\tremaining: 4.32s\n",
      "130:\tlearn: 1274.1653047\ttotal: 3.33s\tremaining: 4.29s\n",
      "131:\tlearn: 1273.8774233\ttotal: 3.35s\tremaining: 4.26s\n",
      "132:\tlearn: 1273.0088247\ttotal: 3.38s\tremaining: 4.24s\n",
      "133:\tlearn: 1271.7495098\ttotal: 3.4s\tremaining: 4.21s\n",
      "134:\tlearn: 1271.0085950\ttotal: 3.42s\tremaining: 4.18s\n",
      "135:\tlearn: 1270.1462814\ttotal: 3.45s\tremaining: 4.16s\n",
      "136:\tlearn: 1269.6190037\ttotal: 3.47s\tremaining: 4.13s\n",
      "137:\tlearn: 1268.7673715\ttotal: 3.51s\tremaining: 4.12s\n",
      "138:\tlearn: 1267.9716259\ttotal: 3.54s\tremaining: 4.09s\n",
      "139:\tlearn: 1267.5254239\ttotal: 3.56s\tremaining: 4.07s\n",
      "140:\tlearn: 1266.4897387\ttotal: 3.58s\tremaining: 4.04s\n",
      "141:\tlearn: 1265.7277543\ttotal: 3.6s\tremaining: 4.01s\n",
      "142:\tlearn: 1265.1744876\ttotal: 3.63s\tremaining: 3.98s\n",
      "143:\tlearn: 1264.5660338\ttotal: 3.65s\tremaining: 3.96s\n",
      "144:\tlearn: 1263.7833655\ttotal: 3.67s\tremaining: 3.93s\n",
      "145:\tlearn: 1263.3013971\ttotal: 3.7s\tremaining: 3.9s\n",
      "146:\tlearn: 1262.1014453\ttotal: 3.73s\tremaining: 3.88s\n",
      "147:\tlearn: 1260.9887366\ttotal: 3.75s\tremaining: 3.85s\n",
      "148:\tlearn: 1260.5419318\ttotal: 3.77s\tremaining: 3.83s\n",
      "149:\tlearn: 1259.7014922\ttotal: 3.8s\tremaining: 3.8s\n",
      "150:\tlearn: 1259.2303762\ttotal: 3.82s\tremaining: 3.77s\n",
      "151:\tlearn: 1258.4953265\ttotal: 3.85s\tremaining: 3.75s\n",
      "152:\tlearn: 1257.9309901\ttotal: 3.87s\tremaining: 3.72s\n",
      "153:\tlearn: 1256.9850282\ttotal: 3.9s\tremaining: 3.7s\n",
      "154:\tlearn: 1256.4997238\ttotal: 3.93s\tremaining: 3.67s\n",
      "155:\tlearn: 1255.9150533\ttotal: 3.95s\tremaining: 3.65s\n",
      "156:\tlearn: 1255.2077107\ttotal: 3.98s\tremaining: 3.62s\n",
      "157:\tlearn: 1254.3784856\ttotal: 4s\tremaining: 3.6s\n",
      "158:\tlearn: 1253.6321161\ttotal: 4.03s\tremaining: 3.58s\n",
      "159:\tlearn: 1253.3600217\ttotal: 4.06s\tremaining: 3.55s\n",
      "160:\tlearn: 1252.5368522\ttotal: 4.08s\tremaining: 3.52s\n",
      "161:\tlearn: 1251.6086166\ttotal: 4.11s\tremaining: 3.5s\n",
      "162:\tlearn: 1250.9676725\ttotal: 4.13s\tremaining: 3.47s\n",
      "163:\tlearn: 1250.4743113\ttotal: 4.16s\tremaining: 3.45s\n",
      "164:\tlearn: 1249.6808549\ttotal: 4.18s\tremaining: 3.42s\n",
      "165:\tlearn: 1248.9545505\ttotal: 4.21s\tremaining: 3.4s\n",
      "166:\tlearn: 1247.9081629\ttotal: 4.24s\tremaining: 3.38s\n",
      "167:\tlearn: 1247.2177127\ttotal: 4.26s\tremaining: 3.35s\n",
      "168:\tlearn: 1246.8378759\ttotal: 4.29s\tremaining: 3.33s\n",
      "169:\tlearn: 1246.3083288\ttotal: 4.32s\tremaining: 3.3s\n",
      "170:\tlearn: 1245.7503215\ttotal: 4.34s\tremaining: 3.28s\n",
      "171:\tlearn: 1245.1822462\ttotal: 4.37s\tremaining: 3.25s\n",
      "172:\tlearn: 1244.4284427\ttotal: 4.4s\tremaining: 3.23s\n",
      "173:\tlearn: 1244.1450537\ttotal: 4.43s\tremaining: 3.21s\n",
      "174:\tlearn: 1243.5868678\ttotal: 4.45s\tremaining: 3.18s\n",
      "175:\tlearn: 1243.1013891\ttotal: 4.48s\tremaining: 3.16s\n",
      "176:\tlearn: 1242.1848727\ttotal: 4.51s\tremaining: 3.13s\n",
      "177:\tlearn: 1241.7586680\ttotal: 4.54s\tremaining: 3.11s\n",
      "178:\tlearn: 1241.1196055\ttotal: 4.56s\tremaining: 3.08s\n",
      "179:\tlearn: 1240.5229669\ttotal: 4.58s\tremaining: 3.06s\n",
      "180:\tlearn: 1239.8745323\ttotal: 4.61s\tremaining: 3.03s\n",
      "181:\tlearn: 1239.4794485\ttotal: 4.63s\tremaining: 3s\n",
      "182:\tlearn: 1238.8265318\ttotal: 4.66s\tremaining: 2.98s\n",
      "183:\tlearn: 1237.9911868\ttotal: 4.68s\tremaining: 2.95s\n",
      "184:\tlearn: 1237.4711654\ttotal: 4.7s\tremaining: 2.92s\n",
      "185:\tlearn: 1236.8637636\ttotal: 4.73s\tremaining: 2.9s\n",
      "186:\tlearn: 1236.0746989\ttotal: 4.75s\tremaining: 2.87s\n",
      "187:\tlearn: 1235.1512419\ttotal: 4.78s\tremaining: 2.85s\n",
      "188:\tlearn: 1234.2809419\ttotal: 4.8s\tremaining: 2.82s\n",
      "189:\tlearn: 1233.7287201\ttotal: 4.83s\tremaining: 2.8s\n",
      "190:\tlearn: 1233.6590717\ttotal: 4.86s\tremaining: 2.77s\n",
      "191:\tlearn: 1232.9966284\ttotal: 4.88s\tremaining: 2.75s\n",
      "192:\tlearn: 1232.7044800\ttotal: 4.91s\tremaining: 2.72s\n",
      "193:\tlearn: 1232.5254367\ttotal: 4.94s\tremaining: 2.7s\n",
      "194:\tlearn: 1231.4933492\ttotal: 4.97s\tremaining: 2.67s\n",
      "195:\tlearn: 1230.1121654\ttotal: 4.99s\tremaining: 2.65s\n",
      "196:\tlearn: 1229.0328765\ttotal: 5.02s\tremaining: 2.62s\n",
      "197:\tlearn: 1228.5243553\ttotal: 5.04s\tremaining: 2.6s\n",
      "198:\tlearn: 1228.3799360\ttotal: 5.07s\tremaining: 2.57s\n",
      "199:\tlearn: 1227.5562424\ttotal: 5.09s\tremaining: 2.55s\n",
      "200:\tlearn: 1227.1638315\ttotal: 5.12s\tremaining: 2.52s\n",
      "201:\tlearn: 1226.4766097\ttotal: 5.14s\tremaining: 2.49s\n",
      "202:\tlearn: 1225.9034496\ttotal: 5.16s\tremaining: 2.47s\n",
      "203:\tlearn: 1225.3298457\ttotal: 5.19s\tremaining: 2.44s\n",
      "204:\tlearn: 1224.6731892\ttotal: 5.21s\tremaining: 2.42s\n",
      "205:\tlearn: 1224.0536979\ttotal: 5.24s\tremaining: 2.39s\n",
      "206:\tlearn: 1223.2803794\ttotal: 5.26s\tremaining: 2.36s\n",
      "207:\tlearn: 1222.1686516\ttotal: 5.29s\tremaining: 2.34s\n",
      "208:\tlearn: 1221.0595248\ttotal: 5.31s\tremaining: 2.31s\n",
      "209:\tlearn: 1220.4261440\ttotal: 5.34s\tremaining: 2.29s\n",
      "210:\tlearn: 1219.9511944\ttotal: 5.37s\tremaining: 2.26s\n",
      "211:\tlearn: 1219.3157725\ttotal: 5.39s\tremaining: 2.24s\n",
      "212:\tlearn: 1218.8312465\ttotal: 5.42s\tremaining: 2.21s\n",
      "213:\tlearn: 1218.3866808\ttotal: 5.44s\tremaining: 2.19s\n",
      "214:\tlearn: 1218.1733795\ttotal: 5.47s\tremaining: 2.16s\n",
      "215:\tlearn: 1217.6994784\ttotal: 5.5s\tremaining: 2.14s\n",
      "216:\tlearn: 1217.2261020\ttotal: 5.52s\tremaining: 2.11s\n",
      "217:\tlearn: 1216.1174856\ttotal: 5.55s\tremaining: 2.09s\n",
      "218:\tlearn: 1215.5274544\ttotal: 5.57s\tremaining: 2.06s\n",
      "219:\tlearn: 1214.9347905\ttotal: 5.6s\tremaining: 2.04s\n",
      "220:\tlearn: 1214.3141516\ttotal: 5.62s\tremaining: 2.01s\n",
      "221:\tlearn: 1213.7584777\ttotal: 5.65s\tremaining: 1.98s\n",
      "222:\tlearn: 1213.1856666\ttotal: 5.67s\tremaining: 1.96s\n",
      "223:\tlearn: 1212.9536407\ttotal: 5.7s\tremaining: 1.93s\n",
      "224:\tlearn: 1212.5382395\ttotal: 5.72s\tremaining: 1.91s\n",
      "225:\tlearn: 1212.0501641\ttotal: 5.74s\tremaining: 1.88s\n",
      "226:\tlearn: 1211.4035280\ttotal: 5.77s\tremaining: 1.85s\n",
      "227:\tlearn: 1210.7565257\ttotal: 5.79s\tremaining: 1.83s\n",
      "228:\tlearn: 1210.3586847\ttotal: 5.82s\tremaining: 1.8s\n",
      "229:\tlearn: 1210.1328904\ttotal: 5.84s\tremaining: 1.78s\n",
      "230:\tlearn: 1209.6577996\ttotal: 5.87s\tremaining: 1.75s\n",
      "231:\tlearn: 1209.5883252\ttotal: 5.89s\tremaining: 1.73s\n",
      "232:\tlearn: 1209.2197322\ttotal: 5.92s\tremaining: 1.7s\n",
      "233:\tlearn: 1208.8639441\ttotal: 5.95s\tremaining: 1.68s\n",
      "234:\tlearn: 1208.3059771\ttotal: 5.98s\tremaining: 1.65s\n",
      "235:\tlearn: 1207.7186678\ttotal: 6.01s\tremaining: 1.63s\n",
      "236:\tlearn: 1207.1311154\ttotal: 6.04s\tremaining: 1.6s\n",
      "237:\tlearn: 1206.3622460\ttotal: 6.06s\tremaining: 1.58s\n",
      "238:\tlearn: 1205.9530359\ttotal: 6.09s\tremaining: 1.55s\n",
      "239:\tlearn: 1205.4696181\ttotal: 6.11s\tremaining: 1.53s\n",
      "240:\tlearn: 1204.8587383\ttotal: 6.14s\tremaining: 1.5s\n",
      "241:\tlearn: 1204.2584232\ttotal: 6.16s\tremaining: 1.48s\n",
      "242:\tlearn: 1204.0120364\ttotal: 6.18s\tremaining: 1.45s\n",
      "243:\tlearn: 1203.5663483\ttotal: 6.21s\tremaining: 1.42s\n",
      "244:\tlearn: 1203.2986714\ttotal: 6.23s\tremaining: 1.4s\n",
      "245:\tlearn: 1202.6578978\ttotal: 6.25s\tremaining: 1.37s\n",
      "246:\tlearn: 1202.1890755\ttotal: 6.28s\tremaining: 1.35s\n",
      "247:\tlearn: 1201.4826054\ttotal: 6.3s\tremaining: 1.32s\n",
      "248:\tlearn: 1201.0687251\ttotal: 6.33s\tremaining: 1.3s\n",
      "249:\tlearn: 1200.4279905\ttotal: 6.36s\tremaining: 1.27s\n",
      "250:\tlearn: 1199.4837414\ttotal: 6.38s\tremaining: 1.25s\n",
      "251:\tlearn: 1199.0326148\ttotal: 6.41s\tremaining: 1.22s\n",
      "252:\tlearn: 1198.6152519\ttotal: 6.43s\tremaining: 1.2s\n",
      "253:\tlearn: 1198.2425120\ttotal: 6.46s\tremaining: 1.17s\n",
      "254:\tlearn: 1197.7523623\ttotal: 6.48s\tremaining: 1.14s\n",
      "255:\tlearn: 1197.4395762\ttotal: 6.51s\tremaining: 1.12s\n",
      "256:\tlearn: 1197.0414393\ttotal: 6.54s\tremaining: 1.09s\n",
      "257:\tlearn: 1196.4922042\ttotal: 6.56s\tremaining: 1.07s\n",
      "258:\tlearn: 1196.1626922\ttotal: 6.58s\tremaining: 1.04s\n",
      "259:\tlearn: 1195.5032424\ttotal: 6.61s\tremaining: 1.02s\n",
      "260:\tlearn: 1194.8158995\ttotal: 6.64s\tremaining: 992ms\n",
      "261:\tlearn: 1194.5314165\ttotal: 6.67s\tremaining: 967ms\n",
      "262:\tlearn: 1194.1482540\ttotal: 6.7s\tremaining: 942ms\n",
      "263:\tlearn: 1193.9099857\ttotal: 6.73s\tremaining: 917ms\n",
      "264:\tlearn: 1193.3352570\ttotal: 6.75s\tremaining: 892ms\n",
      "265:\tlearn: 1192.7620671\ttotal: 6.78s\tremaining: 867ms\n",
      "266:\tlearn: 1192.3567501\ttotal: 6.8s\tremaining: 841ms\n",
      "267:\tlearn: 1192.0391525\ttotal: 6.83s\tremaining: 815ms\n",
      "268:\tlearn: 1191.6500580\ttotal: 6.86s\tremaining: 790ms\n",
      "269:\tlearn: 1191.4312732\ttotal: 6.88s\tremaining: 765ms\n",
      "270:\tlearn: 1191.1578194\ttotal: 6.91s\tremaining: 739ms\n",
      "271:\tlearn: 1190.8740393\ttotal: 6.94s\tremaining: 714ms\n",
      "272:\tlearn: 1190.3878097\ttotal: 6.96s\tremaining: 689ms\n",
      "273:\tlearn: 1189.9368386\ttotal: 6.99s\tremaining: 663ms\n",
      "274:\tlearn: 1189.6925699\ttotal: 7.01s\tremaining: 638ms\n",
      "275:\tlearn: 1189.4461219\ttotal: 7.04s\tremaining: 612ms\n",
      "276:\tlearn: 1189.1053686\ttotal: 7.07s\tremaining: 587ms\n",
      "277:\tlearn: 1188.8637233\ttotal: 7.1s\tremaining: 562ms\n",
      "278:\tlearn: 1188.2713624\ttotal: 7.12s\tremaining: 536ms\n",
      "279:\tlearn: 1187.4558512\ttotal: 7.15s\tremaining: 511ms\n",
      "280:\tlearn: 1186.8618939\ttotal: 7.19s\tremaining: 486ms\n",
      "281:\tlearn: 1186.5128462\ttotal: 7.22s\tremaining: 461ms\n",
      "282:\tlearn: 1186.1414886\ttotal: 7.25s\tremaining: 435ms\n",
      "283:\tlearn: 1185.7329842\ttotal: 7.28s\tremaining: 410ms\n",
      "284:\tlearn: 1185.3669475\ttotal: 7.3s\tremaining: 384ms\n",
      "285:\tlearn: 1185.0352628\ttotal: 7.33s\tremaining: 359ms\n",
      "286:\tlearn: 1184.8440351\ttotal: 7.36s\tremaining: 334ms\n",
      "287:\tlearn: 1184.3450239\ttotal: 7.39s\tremaining: 308ms\n",
      "288:\tlearn: 1183.9311995\ttotal: 7.41s\tremaining: 282ms\n",
      "289:\tlearn: 1183.5583982\ttotal: 7.44s\tremaining: 257ms\n",
      "290:\tlearn: 1183.1828307\ttotal: 7.46s\tremaining: 231ms\n",
      "291:\tlearn: 1182.8545444\ttotal: 7.49s\tremaining: 205ms\n",
      "292:\tlearn: 1182.5719673\ttotal: 7.51s\tremaining: 179ms\n",
      "293:\tlearn: 1182.1803783\ttotal: 7.54s\tremaining: 154ms\n",
      "294:\tlearn: 1181.7405058\ttotal: 7.56s\tremaining: 128ms\n",
      "295:\tlearn: 1181.3435169\ttotal: 7.59s\tremaining: 103ms\n",
      "296:\tlearn: 1180.8497968\ttotal: 7.61s\tremaining: 76.9ms\n",
      "297:\tlearn: 1180.0949783\ttotal: 7.64s\tremaining: 51.3ms\n",
      "298:\tlearn: 1179.5747240\ttotal: 7.67s\tremaining: 25.6ms\n",
      "299:\tlearn: 1179.1468531\ttotal: 7.69s\tremaining: 0us\n",
      "0:\tlearn: 2854.6480043\ttotal: 29.6ms\tremaining: 8.86s\n",
      "1:\tlearn: 2389.6955169\ttotal: 56.5ms\tremaining: 8.42s\n",
      "2:\tlearn: 2102.2517772\ttotal: 82.8ms\tremaining: 8.2s\n",
      "3:\tlearn: 1918.6089585\ttotal: 110ms\tremaining: 8.16s\n",
      "4:\tlearn: 1797.6787883\ttotal: 136ms\tremaining: 8s\n",
      "5:\tlearn: 1722.6272504\ttotal: 160ms\tremaining: 7.83s\n",
      "6:\tlearn: 1664.2646390\ttotal: 189ms\tremaining: 7.92s\n",
      "7:\tlearn: 1618.2324762\ttotal: 216ms\tremaining: 7.88s\n",
      "8:\tlearn: 1591.2699386\ttotal: 246ms\tremaining: 7.94s\n",
      "9:\tlearn: 1568.3685419\ttotal: 274ms\tremaining: 7.94s\n",
      "10:\tlearn: 1551.4030293\ttotal: 301ms\tremaining: 7.92s\n",
      "11:\tlearn: 1539.2596119\ttotal: 331ms\tremaining: 7.95s\n",
      "12:\tlearn: 1527.9542182\ttotal: 359ms\tremaining: 7.92s\n",
      "13:\tlearn: 1518.6505653\ttotal: 385ms\tremaining: 7.87s\n",
      "14:\tlearn: 1512.2453762\ttotal: 413ms\tremaining: 7.84s\n",
      "15:\tlearn: 1501.2485099\ttotal: 443ms\tremaining: 7.86s\n",
      "16:\tlearn: 1494.7328883\ttotal: 472ms\tremaining: 7.86s\n",
      "17:\tlearn: 1486.7066347\ttotal: 498ms\tremaining: 7.8s\n",
      "18:\tlearn: 1479.4577286\ttotal: 525ms\tremaining: 7.77s\n",
      "19:\tlearn: 1472.8353841\ttotal: 552ms\tremaining: 7.72s\n",
      "20:\tlearn: 1467.8810188\ttotal: 577ms\tremaining: 7.67s\n",
      "21:\tlearn: 1460.4194102\ttotal: 603ms\tremaining: 7.63s\n",
      "22:\tlearn: 1457.7300338\ttotal: 630ms\tremaining: 7.58s\n",
      "23:\tlearn: 1453.1823836\ttotal: 655ms\tremaining: 7.53s\n",
      "24:\tlearn: 1450.1788288\ttotal: 682ms\tremaining: 7.5s\n",
      "25:\tlearn: 1444.0810443\ttotal: 708ms\tremaining: 7.46s\n",
      "26:\tlearn: 1441.7760378\ttotal: 732ms\tremaining: 7.41s\n",
      "27:\tlearn: 1438.0491107\ttotal: 757ms\tremaining: 7.35s\n",
      "28:\tlearn: 1432.8840783\ttotal: 781ms\tremaining: 7.3s\n",
      "29:\tlearn: 1429.6070951\ttotal: 805ms\tremaining: 7.24s\n",
      "30:\tlearn: 1427.5158638\ttotal: 828ms\tremaining: 7.19s\n",
      "31:\tlearn: 1425.2513531\ttotal: 852ms\tremaining: 7.13s\n",
      "32:\tlearn: 1421.3435653\ttotal: 875ms\tremaining: 7.08s\n",
      "33:\tlearn: 1419.1374359\ttotal: 901ms\tremaining: 7.05s\n",
      "34:\tlearn: 1416.9862629\ttotal: 926ms\tremaining: 7.01s\n",
      "35:\tlearn: 1414.4084614\ttotal: 951ms\tremaining: 6.97s\n",
      "36:\tlearn: 1410.8326953\ttotal: 978ms\tremaining: 6.95s\n",
      "37:\tlearn: 1409.5366541\ttotal: 1s\tremaining: 6.93s\n",
      "38:\tlearn: 1406.5419361\ttotal: 1.03s\tremaining: 6.89s\n",
      "39:\tlearn: 1403.2999187\ttotal: 1.05s\tremaining: 6.85s\n",
      "40:\tlearn: 1402.1277224\ttotal: 1.08s\tremaining: 6.82s\n",
      "41:\tlearn: 1399.1441387\ttotal: 1.1s\tremaining: 6.79s\n",
      "42:\tlearn: 1397.2099438\ttotal: 1.13s\tremaining: 6.78s\n",
      "43:\tlearn: 1394.6601905\ttotal: 1.16s\tremaining: 6.74s\n",
      "44:\tlearn: 1392.0823974\ttotal: 1.18s\tremaining: 6.71s\n",
      "45:\tlearn: 1387.8563025\ttotal: 1.21s\tremaining: 6.67s\n",
      "46:\tlearn: 1385.2150874\ttotal: 1.23s\tremaining: 6.63s\n",
      "47:\tlearn: 1382.5684844\ttotal: 1.26s\tremaining: 6.6s\n",
      "48:\tlearn: 1380.0689141\ttotal: 1.28s\tremaining: 6.57s\n",
      "49:\tlearn: 1378.3219767\ttotal: 1.31s\tremaining: 6.54s\n",
      "50:\tlearn: 1376.6773834\ttotal: 1.33s\tremaining: 6.5s\n",
      "51:\tlearn: 1374.0383638\ttotal: 1.36s\tremaining: 6.48s\n",
      "52:\tlearn: 1371.5967822\ttotal: 1.38s\tremaining: 6.45s\n",
      "53:\tlearn: 1367.7357333\ttotal: 1.41s\tremaining: 6.42s\n",
      "54:\tlearn: 1366.1835055\ttotal: 1.43s\tremaining: 6.39s\n",
      "55:\tlearn: 1365.1033954\ttotal: 1.46s\tremaining: 6.36s\n",
      "56:\tlearn: 1363.2870386\ttotal: 1.48s\tremaining: 6.33s\n",
      "57:\tlearn: 1361.5104397\ttotal: 1.51s\tremaining: 6.31s\n",
      "58:\tlearn: 1358.9542914\ttotal: 1.54s\tremaining: 6.28s\n",
      "59:\tlearn: 1358.0558637\ttotal: 1.56s\tremaining: 6.25s\n",
      "60:\tlearn: 1356.5070585\ttotal: 1.59s\tremaining: 6.22s\n",
      "61:\tlearn: 1354.4507862\ttotal: 1.61s\tremaining: 6.19s\n",
      "62:\tlearn: 1353.3250452\ttotal: 1.64s\tremaining: 6.16s\n",
      "63:\tlearn: 1351.3796116\ttotal: 1.66s\tremaining: 6.12s\n",
      "64:\tlearn: 1349.2078075\ttotal: 1.69s\tremaining: 6.1s\n",
      "65:\tlearn: 1347.4648880\ttotal: 1.71s\tremaining: 6.08s\n",
      "66:\tlearn: 1345.9255770\ttotal: 1.74s\tremaining: 6.05s\n",
      "67:\tlearn: 1344.7553814\ttotal: 1.77s\tremaining: 6.03s\n",
      "68:\tlearn: 1343.0404641\ttotal: 1.79s\tremaining: 6s\n",
      "69:\tlearn: 1341.5535077\ttotal: 1.81s\tremaining: 5.96s\n",
      "70:\tlearn: 1339.6813318\ttotal: 1.84s\tremaining: 5.93s\n",
      "71:\tlearn: 1338.9314871\ttotal: 1.86s\tremaining: 5.9s\n",
      "72:\tlearn: 1337.6005518\ttotal: 1.89s\tremaining: 5.87s\n",
      "73:\tlearn: 1337.0255353\ttotal: 1.91s\tremaining: 5.83s\n",
      "74:\tlearn: 1335.2763803\ttotal: 1.93s\tremaining: 5.8s\n",
      "75:\tlearn: 1334.0210707\ttotal: 1.96s\tremaining: 5.78s\n",
      "76:\tlearn: 1332.9191354\ttotal: 1.99s\tremaining: 5.75s\n",
      "77:\tlearn: 1331.4994280\ttotal: 2.01s\tremaining: 5.73s\n",
      "78:\tlearn: 1329.9102774\ttotal: 2.04s\tremaining: 5.7s\n",
      "79:\tlearn: 1327.0728630\ttotal: 2.06s\tremaining: 5.67s\n",
      "80:\tlearn: 1326.3180752\ttotal: 2.09s\tremaining: 5.64s\n",
      "81:\tlearn: 1324.8967053\ttotal: 2.11s\tremaining: 5.62s\n",
      "82:\tlearn: 1323.8776485\ttotal: 2.14s\tremaining: 5.59s\n",
      "83:\tlearn: 1321.6495228\ttotal: 2.16s\tremaining: 5.56s\n",
      "84:\tlearn: 1319.6347776\ttotal: 2.19s\tremaining: 5.53s\n",
      "85:\tlearn: 1318.0205813\ttotal: 2.21s\tremaining: 5.51s\n",
      "86:\tlearn: 1316.7205125\ttotal: 2.24s\tremaining: 5.48s\n",
      "87:\tlearn: 1315.4860282\ttotal: 2.26s\tremaining: 5.45s\n",
      "88:\tlearn: 1314.3211874\ttotal: 2.29s\tremaining: 5.42s\n",
      "89:\tlearn: 1313.2287418\ttotal: 2.31s\tremaining: 5.4s\n",
      "90:\tlearn: 1311.8800546\ttotal: 2.34s\tremaining: 5.37s\n",
      "91:\tlearn: 1310.7997957\ttotal: 2.36s\tremaining: 5.34s\n",
      "92:\tlearn: 1309.8087509\ttotal: 2.39s\tremaining: 5.31s\n",
      "93:\tlearn: 1308.7266352\ttotal: 2.41s\tremaining: 5.29s\n",
      "94:\tlearn: 1307.3004250\ttotal: 2.44s\tremaining: 5.26s\n",
      "95:\tlearn: 1306.2365216\ttotal: 2.46s\tremaining: 5.23s\n",
      "96:\tlearn: 1305.5436019\ttotal: 2.49s\tremaining: 5.21s\n",
      "97:\tlearn: 1304.3956056\ttotal: 2.51s\tremaining: 5.18s\n",
      "98:\tlearn: 1303.3160455\ttotal: 2.54s\tremaining: 5.15s\n",
      "99:\tlearn: 1302.4336588\ttotal: 2.56s\tremaining: 5.12s\n",
      "100:\tlearn: 1300.9502511\ttotal: 2.58s\tremaining: 5.09s\n",
      "101:\tlearn: 1299.2730430\ttotal: 2.61s\tremaining: 5.07s\n",
      "102:\tlearn: 1298.4895650\ttotal: 2.64s\tremaining: 5.04s\n",
      "103:\tlearn: 1298.2920802\ttotal: 2.66s\tremaining: 5.01s\n",
      "104:\tlearn: 1296.8482404\ttotal: 2.68s\tremaining: 4.99s\n",
      "105:\tlearn: 1295.7053539\ttotal: 2.71s\tremaining: 4.96s\n",
      "106:\tlearn: 1294.8812693\ttotal: 2.73s\tremaining: 4.93s\n",
      "107:\tlearn: 1294.1825271\ttotal: 2.75s\tremaining: 4.9s\n",
      "108:\tlearn: 1293.2573270\ttotal: 2.79s\tremaining: 4.89s\n",
      "109:\tlearn: 1292.4750193\ttotal: 2.81s\tremaining: 4.86s\n",
      "110:\tlearn: 1290.7106005\ttotal: 2.84s\tremaining: 4.83s\n",
      "111:\tlearn: 1290.1232234\ttotal: 2.87s\tremaining: 4.81s\n",
      "112:\tlearn: 1288.9644806\ttotal: 2.89s\tremaining: 4.79s\n",
      "113:\tlearn: 1288.9025364\ttotal: 2.91s\tremaining: 4.75s\n",
      "114:\tlearn: 1288.0393150\ttotal: 2.94s\tremaining: 4.72s\n",
      "115:\tlearn: 1287.2697013\ttotal: 2.96s\tremaining: 4.7s\n",
      "116:\tlearn: 1286.2833372\ttotal: 2.99s\tremaining: 4.67s\n",
      "117:\tlearn: 1285.1079624\ttotal: 3.01s\tremaining: 4.65s\n",
      "118:\tlearn: 1283.8809875\ttotal: 3.04s\tremaining: 4.62s\n",
      "119:\tlearn: 1282.4944979\ttotal: 3.07s\tremaining: 4.6s\n",
      "120:\tlearn: 1281.7819783\ttotal: 3.09s\tremaining: 4.58s\n",
      "121:\tlearn: 1280.8034377\ttotal: 3.12s\tremaining: 4.55s\n",
      "122:\tlearn: 1279.2618431\ttotal: 3.14s\tremaining: 4.52s\n",
      "123:\tlearn: 1278.1457779\ttotal: 3.17s\tremaining: 4.5s\n",
      "124:\tlearn: 1276.8277637\ttotal: 3.19s\tremaining: 4.47s\n",
      "125:\tlearn: 1276.8028751\ttotal: 3.2s\tremaining: 4.42s\n",
      "126:\tlearn: 1276.0577625\ttotal: 3.23s\tremaining: 4.4s\n",
      "127:\tlearn: 1275.5752617\ttotal: 3.25s\tremaining: 4.37s\n",
      "128:\tlearn: 1274.8089785\ttotal: 3.28s\tremaining: 4.34s\n",
      "129:\tlearn: 1273.3421304\ttotal: 3.31s\tremaining: 4.32s\n",
      "130:\tlearn: 1272.2657465\ttotal: 3.33s\tremaining: 4.3s\n",
      "131:\tlearn: 1271.3037095\ttotal: 3.35s\tremaining: 4.27s\n",
      "132:\tlearn: 1270.3932716\ttotal: 3.38s\tremaining: 4.24s\n",
      "133:\tlearn: 1269.4985885\ttotal: 3.4s\tremaining: 4.22s\n",
      "134:\tlearn: 1268.7965172\ttotal: 3.43s\tremaining: 4.19s\n",
      "135:\tlearn: 1267.4211795\ttotal: 3.45s\tremaining: 4.16s\n",
      "136:\tlearn: 1266.3152085\ttotal: 3.48s\tremaining: 4.13s\n",
      "137:\tlearn: 1265.4240862\ttotal: 3.5s\tremaining: 4.11s\n",
      "138:\tlearn: 1264.9370278\ttotal: 3.53s\tremaining: 4.09s\n",
      "139:\tlearn: 1264.0506388\ttotal: 3.55s\tremaining: 4.06s\n",
      "140:\tlearn: 1262.8278624\ttotal: 3.58s\tremaining: 4.03s\n",
      "141:\tlearn: 1261.9541813\ttotal: 3.6s\tremaining: 4.01s\n",
      "142:\tlearn: 1261.1850098\ttotal: 3.63s\tremaining: 3.98s\n",
      "143:\tlearn: 1260.0852560\ttotal: 3.65s\tremaining: 3.95s\n",
      "144:\tlearn: 1259.1374140\ttotal: 3.67s\tremaining: 3.93s\n",
      "145:\tlearn: 1258.4854185\ttotal: 3.7s\tremaining: 3.9s\n",
      "146:\tlearn: 1258.0325190\ttotal: 3.72s\tremaining: 3.88s\n",
      "147:\tlearn: 1257.3832785\ttotal: 3.75s\tremaining: 3.85s\n",
      "148:\tlearn: 1256.3220377\ttotal: 3.77s\tremaining: 3.83s\n",
      "149:\tlearn: 1255.8160803\ttotal: 3.8s\tremaining: 3.8s\n",
      "150:\tlearn: 1255.5326288\ttotal: 3.82s\tremaining: 3.77s\n",
      "151:\tlearn: 1254.9394269\ttotal: 3.85s\tremaining: 3.75s\n",
      "152:\tlearn: 1253.8359835\ttotal: 3.87s\tremaining: 3.72s\n",
      "153:\tlearn: 1253.2272667\ttotal: 3.89s\tremaining: 3.69s\n",
      "154:\tlearn: 1252.4104162\ttotal: 3.92s\tremaining: 3.67s\n",
      "155:\tlearn: 1251.5796457\ttotal: 3.95s\tremaining: 3.65s\n",
      "156:\tlearn: 1251.0370318\ttotal: 3.98s\tremaining: 3.63s\n",
      "157:\tlearn: 1250.5332264\ttotal: 4.01s\tremaining: 3.6s\n",
      "158:\tlearn: 1249.9819866\ttotal: 4.03s\tremaining: 3.58s\n",
      "159:\tlearn: 1249.5104715\ttotal: 4.07s\tremaining: 3.56s\n",
      "160:\tlearn: 1249.4898355\ttotal: 4.08s\tremaining: 3.52s\n",
      "161:\tlearn: 1248.8362049\ttotal: 4.11s\tremaining: 3.5s\n",
      "162:\tlearn: 1248.1151531\ttotal: 4.14s\tremaining: 3.48s\n",
      "163:\tlearn: 1247.3095597\ttotal: 4.18s\tremaining: 3.46s\n",
      "164:\tlearn: 1246.6665629\ttotal: 4.21s\tremaining: 3.44s\n",
      "165:\tlearn: 1245.8242092\ttotal: 4.24s\tremaining: 3.42s\n",
      "166:\tlearn: 1244.9311479\ttotal: 4.26s\tremaining: 3.4s\n",
      "167:\tlearn: 1244.3009582\ttotal: 4.29s\tremaining: 3.37s\n",
      "168:\tlearn: 1243.1066153\ttotal: 4.31s\tremaining: 3.34s\n",
      "169:\tlearn: 1242.1631148\ttotal: 4.33s\tremaining: 3.31s\n",
      "170:\tlearn: 1240.6583702\ttotal: 4.36s\tremaining: 3.29s\n",
      "171:\tlearn: 1239.8364176\ttotal: 4.39s\tremaining: 3.26s\n",
      "172:\tlearn: 1239.1328424\ttotal: 4.41s\tremaining: 3.24s\n",
      "173:\tlearn: 1238.4961155\ttotal: 4.43s\tremaining: 3.21s\n",
      "174:\tlearn: 1238.2168225\ttotal: 4.46s\tremaining: 3.18s\n",
      "175:\tlearn: 1237.5658457\ttotal: 4.48s\tremaining: 3.16s\n",
      "176:\tlearn: 1236.6694977\ttotal: 4.5s\tremaining: 3.13s\n",
      "177:\tlearn: 1236.6473628\ttotal: 4.51s\tremaining: 3.09s\n",
      "178:\tlearn: 1236.6289027\ttotal: 4.53s\tremaining: 3.06s\n",
      "179:\tlearn: 1236.5720917\ttotal: 4.55s\tremaining: 3.03s\n",
      "180:\tlearn: 1236.1003318\ttotal: 4.57s\tremaining: 3.01s\n",
      "181:\tlearn: 1235.2090921\ttotal: 4.6s\tremaining: 2.98s\n",
      "182:\tlearn: 1234.6273775\ttotal: 4.62s\tremaining: 2.96s\n",
      "183:\tlearn: 1234.4220552\ttotal: 4.65s\tremaining: 2.93s\n",
      "184:\tlearn: 1233.8863422\ttotal: 4.67s\tremaining: 2.9s\n",
      "185:\tlearn: 1233.3277376\ttotal: 4.7s\tremaining: 2.88s\n",
      "186:\tlearn: 1232.5021218\ttotal: 4.72s\tremaining: 2.85s\n",
      "187:\tlearn: 1231.9847543\ttotal: 4.74s\tremaining: 2.83s\n",
      "188:\tlearn: 1231.2527561\ttotal: 4.77s\tremaining: 2.8s\n",
      "189:\tlearn: 1230.7110192\ttotal: 4.79s\tremaining: 2.77s\n",
      "190:\tlearn: 1229.7676807\ttotal: 4.82s\tremaining: 2.75s\n",
      "191:\tlearn: 1228.9735146\ttotal: 4.84s\tremaining: 2.72s\n",
      "192:\tlearn: 1228.1663693\ttotal: 4.87s\tremaining: 2.7s\n",
      "193:\tlearn: 1227.3863163\ttotal: 4.89s\tremaining: 2.67s\n",
      "194:\tlearn: 1226.8135232\ttotal: 4.92s\tremaining: 2.65s\n",
      "195:\tlearn: 1226.3302854\ttotal: 4.94s\tremaining: 2.62s\n",
      "196:\tlearn: 1225.9760368\ttotal: 4.97s\tremaining: 2.6s\n",
      "197:\tlearn: 1224.8944239\ttotal: 5s\tremaining: 2.58s\n",
      "198:\tlearn: 1224.5082812\ttotal: 5.03s\tremaining: 2.55s\n",
      "199:\tlearn: 1223.8902061\ttotal: 5.06s\tremaining: 2.53s\n",
      "200:\tlearn: 1223.5435931\ttotal: 5.1s\tremaining: 2.51s\n",
      "201:\tlearn: 1223.5341383\ttotal: 5.11s\tremaining: 2.48s\n",
      "202:\tlearn: 1223.0201526\ttotal: 5.14s\tremaining: 2.46s\n",
      "203:\tlearn: 1222.8893715\ttotal: 5.16s\tremaining: 2.43s\n",
      "204:\tlearn: 1222.3859884\ttotal: 5.19s\tremaining: 2.4s\n",
      "205:\tlearn: 1221.9560592\ttotal: 5.21s\tremaining: 2.38s\n",
      "206:\tlearn: 1221.3239042\ttotal: 5.24s\tremaining: 2.35s\n",
      "207:\tlearn: 1220.9398293\ttotal: 5.27s\tremaining: 2.33s\n",
      "208:\tlearn: 1220.0334189\ttotal: 5.29s\tremaining: 2.3s\n",
      "209:\tlearn: 1219.3948619\ttotal: 5.31s\tremaining: 2.28s\n",
      "210:\tlearn: 1219.1768396\ttotal: 5.34s\tremaining: 2.25s\n",
      "211:\tlearn: 1218.5313050\ttotal: 5.36s\tremaining: 2.23s\n",
      "212:\tlearn: 1218.2104572\ttotal: 5.38s\tremaining: 2.2s\n",
      "213:\tlearn: 1217.6797140\ttotal: 5.41s\tremaining: 2.17s\n",
      "214:\tlearn: 1216.9384940\ttotal: 5.43s\tremaining: 2.15s\n",
      "215:\tlearn: 1216.7784759\ttotal: 5.45s\tremaining: 2.12s\n",
      "216:\tlearn: 1215.9794885\ttotal: 5.48s\tremaining: 2.1s\n",
      "217:\tlearn: 1215.7656233\ttotal: 5.5s\tremaining: 2.07s\n",
      "218:\tlearn: 1215.4399904\ttotal: 5.53s\tremaining: 2.04s\n",
      "219:\tlearn: 1215.0005022\ttotal: 5.55s\tremaining: 2.02s\n",
      "220:\tlearn: 1214.6450136\ttotal: 5.58s\tremaining: 1.99s\n",
      "221:\tlearn: 1214.0989158\ttotal: 5.61s\tremaining: 1.97s\n",
      "222:\tlearn: 1213.4855317\ttotal: 5.63s\tremaining: 1.94s\n",
      "223:\tlearn: 1213.0596665\ttotal: 5.66s\tremaining: 1.92s\n",
      "224:\tlearn: 1212.0134854\ttotal: 5.68s\tremaining: 1.89s\n",
      "225:\tlearn: 1211.5766794\ttotal: 5.71s\tremaining: 1.87s\n",
      "226:\tlearn: 1211.0333047\ttotal: 5.73s\tremaining: 1.84s\n",
      "227:\tlearn: 1210.4691944\ttotal: 5.76s\tremaining: 1.82s\n",
      "228:\tlearn: 1209.9120452\ttotal: 5.78s\tremaining: 1.79s\n",
      "229:\tlearn: 1209.3372342\ttotal: 5.81s\tremaining: 1.77s\n",
      "230:\tlearn: 1208.7268090\ttotal: 5.83s\tremaining: 1.74s\n",
      "231:\tlearn: 1207.8238578\ttotal: 5.86s\tremaining: 1.72s\n",
      "232:\tlearn: 1207.1494896\ttotal: 5.88s\tremaining: 1.69s\n",
      "233:\tlearn: 1206.7051833\ttotal: 5.91s\tremaining: 1.67s\n",
      "234:\tlearn: 1205.9423218\ttotal: 5.94s\tremaining: 1.64s\n",
      "235:\tlearn: 1205.1198242\ttotal: 5.96s\tremaining: 1.62s\n",
      "236:\tlearn: 1204.8759239\ttotal: 5.99s\tremaining: 1.59s\n",
      "237:\tlearn: 1204.2872147\ttotal: 6.01s\tremaining: 1.57s\n",
      "238:\tlearn: 1203.6218270\ttotal: 6.04s\tremaining: 1.54s\n",
      "239:\tlearn: 1203.0076100\ttotal: 6.07s\tremaining: 1.52s\n",
      "240:\tlearn: 1202.3789653\ttotal: 6.09s\tremaining: 1.49s\n",
      "241:\tlearn: 1201.9837040\ttotal: 6.12s\tremaining: 1.47s\n",
      "242:\tlearn: 1201.2882154\ttotal: 6.14s\tremaining: 1.44s\n",
      "243:\tlearn: 1201.0551777\ttotal: 6.17s\tremaining: 1.42s\n",
      "244:\tlearn: 1200.8262663\ttotal: 6.19s\tremaining: 1.39s\n",
      "245:\tlearn: 1200.4560087\ttotal: 6.21s\tremaining: 1.36s\n",
      "246:\tlearn: 1200.1150617\ttotal: 6.24s\tremaining: 1.34s\n",
      "247:\tlearn: 1199.5636489\ttotal: 6.26s\tremaining: 1.31s\n",
      "248:\tlearn: 1199.1972964\ttotal: 6.29s\tremaining: 1.29s\n",
      "249:\tlearn: 1198.6873336\ttotal: 6.31s\tremaining: 1.26s\n",
      "250:\tlearn: 1198.3642467\ttotal: 6.34s\tremaining: 1.24s\n",
      "251:\tlearn: 1197.7932521\ttotal: 6.37s\tremaining: 1.21s\n",
      "252:\tlearn: 1197.3927063\ttotal: 6.39s\tremaining: 1.19s\n",
      "253:\tlearn: 1197.0907598\ttotal: 6.42s\tremaining: 1.16s\n",
      "254:\tlearn: 1196.5711212\ttotal: 6.44s\tremaining: 1.14s\n",
      "255:\tlearn: 1196.1575165\ttotal: 6.47s\tremaining: 1.11s\n",
      "256:\tlearn: 1195.4569977\ttotal: 6.49s\tremaining: 1.09s\n",
      "257:\tlearn: 1195.2206954\ttotal: 6.51s\tremaining: 1.06s\n",
      "258:\tlearn: 1194.9058871\ttotal: 6.54s\tremaining: 1.03s\n",
      "259:\tlearn: 1194.5986640\ttotal: 6.56s\tremaining: 1.01s\n",
      "260:\tlearn: 1194.2050085\ttotal: 6.59s\tremaining: 985ms\n",
      "261:\tlearn: 1193.5708459\ttotal: 6.61s\tremaining: 959ms\n",
      "262:\tlearn: 1193.0218223\ttotal: 6.64s\tremaining: 934ms\n",
      "263:\tlearn: 1192.6002630\ttotal: 6.66s\tremaining: 909ms\n",
      "264:\tlearn: 1192.4934820\ttotal: 6.69s\tremaining: 884ms\n",
      "265:\tlearn: 1192.1116763\ttotal: 6.71s\tremaining: 858ms\n",
      "266:\tlearn: 1191.4054276\ttotal: 6.74s\tremaining: 833ms\n",
      "267:\tlearn: 1191.1257629\ttotal: 6.76s\tremaining: 808ms\n",
      "268:\tlearn: 1190.8577747\ttotal: 6.79s\tremaining: 783ms\n",
      "269:\tlearn: 1190.4379338\ttotal: 6.82s\tremaining: 757ms\n",
      "270:\tlearn: 1190.0991777\ttotal: 6.84s\tremaining: 732ms\n",
      "271:\tlearn: 1189.7507896\ttotal: 6.87s\tremaining: 707ms\n",
      "272:\tlearn: 1189.3332508\ttotal: 6.89s\tremaining: 681ms\n",
      "273:\tlearn: 1189.0582812\ttotal: 6.92s\tremaining: 656ms\n",
      "274:\tlearn: 1188.5671881\ttotal: 6.94s\tremaining: 631ms\n",
      "275:\tlearn: 1187.9695727\ttotal: 6.97s\tremaining: 606ms\n",
      "276:\tlearn: 1187.5765150\ttotal: 6.99s\tremaining: 581ms\n",
      "277:\tlearn: 1187.0835793\ttotal: 7.02s\tremaining: 556ms\n",
      "278:\tlearn: 1186.9427011\ttotal: 7.05s\tremaining: 530ms\n",
      "279:\tlearn: 1186.5962506\ttotal: 7.07s\tremaining: 505ms\n",
      "280:\tlearn: 1186.4173374\ttotal: 7.1s\tremaining: 480ms\n",
      "281:\tlearn: 1185.6247222\ttotal: 7.12s\tremaining: 455ms\n",
      "282:\tlearn: 1185.4339154\ttotal: 7.15s\tremaining: 430ms\n",
      "283:\tlearn: 1185.1024889\ttotal: 7.18s\tremaining: 404ms\n",
      "284:\tlearn: 1184.9175686\ttotal: 7.21s\tremaining: 379ms\n",
      "285:\tlearn: 1184.3749122\ttotal: 7.23s\tremaining: 354ms\n",
      "286:\tlearn: 1184.0820628\ttotal: 7.26s\tremaining: 329ms\n",
      "287:\tlearn: 1183.7785688\ttotal: 7.28s\tremaining: 304ms\n",
      "288:\tlearn: 1183.2653299\ttotal: 7.31s\tremaining: 278ms\n",
      "289:\tlearn: 1182.6078531\ttotal: 7.33s\tremaining: 253ms\n",
      "290:\tlearn: 1182.2504809\ttotal: 7.36s\tremaining: 227ms\n",
      "291:\tlearn: 1181.9315988\ttotal: 7.38s\tremaining: 202ms\n",
      "292:\tlearn: 1181.5652007\ttotal: 7.4s\tremaining: 177ms\n",
      "293:\tlearn: 1181.3823320\ttotal: 7.43s\tremaining: 152ms\n",
      "294:\tlearn: 1181.0572007\ttotal: 7.45s\tremaining: 126ms\n",
      "295:\tlearn: 1180.8345661\ttotal: 7.48s\tremaining: 101ms\n",
      "296:\tlearn: 1180.0632102\ttotal: 7.51s\tremaining: 75.9ms\n",
      "297:\tlearn: 1179.7203868\ttotal: 7.54s\tremaining: 50.6ms\n",
      "298:\tlearn: 1179.1961698\ttotal: 7.56s\tremaining: 25.3ms\n",
      "299:\tlearn: 1178.9506976\ttotal: 7.59s\tremaining: 0us\n",
      "RMSE CatBoost: 1355.06\n",
      "Время обучения и предсказания CatBoost: 24\n"
     ]
    }
   ],
   "source": [
    "begin = time.time()\n",
    "best_cb_grid = cb_grid.best_estimator_\n",
    "cb_scores = cross_val_score(best_cb_grid, features_train_oe, target_train, cv=3, scoring='neg_root_mean_squared_error').mean().round(2)*(-1)\n",
    "print('RMSE CatBoost:', cb_scores)\n",
    "end = time.time()\n",
    "time_cb = round(end-begin)\n",
    "print('Время обучения и предсказания CatBoost:', time_cb)"
   ]
  },
  {
   "cell_type": "markdown",
   "id": "a33da8d3",
   "metadata": {},
   "source": [
    "#### RandomForest"
   ]
  },
  {
   "cell_type": "code",
   "execution_count": 55,
   "id": "f379ae30",
   "metadata": {},
   "outputs": [
    {
     "name": "stdout",
     "output_type": "stream",
     "text": [
      "Fitting 3 folds for each of 50 candidates, totalling 150 fits\n",
      "522.7308735847473\n",
      "CPU times: total: 1min 4s\n",
      "Wall time: 8min 42s\n"
     ]
    }
   ],
   "source": [
    "%%time\n",
    "\n",
    "rf = RandomForestRegressor(random_state=12345)\n",
    "rf_parametrs = {'n_estimators': range(5, 150, 30),\n",
    "                #'max_depth': range(2, 11),\n",
    "                'max_depth': [None] + [i for i in range(2, 11)]\n",
    "                }\n",
    "\n",
    "rf_grid = GridSearchCV(rf, rf_parametrs, scoring='neg_root_mean_squared_error', cv=3, n_jobs=-1, verbose=10)\n",
    "begin = time.time()\n",
    "rf_grid.fit(features_train_oe, target_train)\n",
    "end = time.time()\n",
    "time_rf = end-begin\n",
    "print(time_rf)"
   ]
  },
  {
   "cell_type": "code",
   "execution_count": 56,
   "id": "027d8e1b",
   "metadata": {},
   "outputs": [
    {
     "name": "stdout",
     "output_type": "stream",
     "text": [
      "{'learning_rate': 0.2, 'max_depth': 10, 'n_estimators': 300, 'num_leaves': 50}\n"
     ]
    }
   ],
   "source": [
    "rf_params = rf_grid.best_params_\n",
    "print(gbm_params)"
   ]
  },
  {
   "cell_type": "code",
   "execution_count": 57,
   "id": "4ca03be6",
   "metadata": {
    "scrolled": true
   },
   "outputs": [
    {
     "name": "stdout",
     "output_type": "stream",
     "text": [
      "RMSE RandomForest: 1409.0\n",
      "Время обучения и предсказания RandomForest: 130\n"
     ]
    }
   ],
   "source": [
    "begin = time.time()\n",
    "best_rf_grid = rf_grid.best_estimator_\n",
    "rf_scores = cross_val_score(best_rf_grid, features_train_oe, target_train, cv=3, scoring='neg_root_mean_squared_error').mean().round(2)*(-1)\n",
    "print('RMSE RandomForest:', rf_scores)\n",
    "end = time.time()\n",
    "time_rf = round(end-begin)\n",
    "\n",
    "print('Время обучения и предсказания RandomForest:',time_rf)"
   ]
  },
  {
   "cell_type": "markdown",
   "id": "65ddc768",
   "metadata": {},
   "source": [
    "#### LinearRegression"
   ]
  },
  {
   "cell_type": "code",
   "execution_count": 58,
   "id": "90110cfe",
   "metadata": {},
   "outputs": [
    {
     "name": "stdout",
     "output_type": "stream",
     "text": [
      "0.0009946823120117188\n",
      "CPU times: total: 0 ns\n",
      "Wall time: 995 µs\n"
     ]
    }
   ],
   "source": [
    "%%time\n",
    "\n",
    "begin = time.time()\n",
    "lr = LinearRegression()\n",
    "pipe = make_pipeline(column_trans, lr)\n",
    "end = time.time()\n",
    "time_lr = end-begin\n",
    "print(time_lr)"
   ]
  },
  {
   "cell_type": "code",
   "execution_count": 59,
   "id": "1c7691ce",
   "metadata": {},
   "outputs": [
    {
     "name": "stdout",
     "output_type": "stream",
     "text": [
      "RMSE LinearRegression: 2225.71\n",
      "CPU times: total: 40.1 s\n",
      "Wall time: 10.6 s\n"
     ]
    }
   ],
   "source": [
    "%%time\n",
    "lr_scores = cross_val_score(pipe, features_train_lr, target_train, cv=3, scoring='neg_root_mean_squared_error').mean().round(2)*(-1)\n",
    "print(\"RMSE LinearRegression:\", lr_scores)"
   ]
  },
  {
   "cell_type": "markdown",
   "id": "bee53fe4",
   "metadata": {},
   "source": [
    "### Вывод\n",
    "Обучены модели LightGBM, CatBoost, случайный лес, линейная регрессия. Для каждой подобраны параметры для минимизации метрики RMSE, исследовано время обучения, точность предсказания. Категориальные признаки были обработаны способом OneHotEncoder для линейной регрессии, для остальных моделей - методом OneEncoder. Рассчитана метрика RMSE для каждой модели, исследовано время обучения и предсказания."
   ]
  },
  {
   "cell_type": "markdown",
   "id": "edf0f076",
   "metadata": {},
   "source": [
    "## Анализ моделей"
   ]
  },
  {
   "cell_type": "markdown",
   "id": "e1ccbd6a",
   "metadata": {},
   "source": [
    "Изучим константную модель для проверки на адекватность."
   ]
  },
  {
   "cell_type": "code",
   "execution_count": 60,
   "id": "048dbc51",
   "metadata": {},
   "outputs": [
    {
     "name": "stdout",
     "output_type": "stream",
     "text": [
      "RMSE константной модели 3547.36\n",
      "Время обучения константной модели: 0\n"
     ]
    }
   ],
   "source": [
    "begin = time.time()\n",
    "\n",
    "const = pd.Series(target_train.mean(), index=target_test.index)\n",
    "const_rmse = round(rmse(target_test, const), 2)\n",
    "print('RMSE константной модели', const_rmse)\n",
    "end = time.time()\n",
    "time_const = round(end-begin)\n",
    "print('Время обучения константной модели:',time_const)"
   ]
  },
  {
   "cell_type": "code",
   "execution_count": 61,
   "id": "b3d2f30b",
   "metadata": {},
   "outputs": [
    {
     "data": {
      "text/plain": [
       "(73906,)"
      ]
     },
     "execution_count": 61,
     "metadata": {},
     "output_type": "execute_result"
    }
   ],
   "source": [
    "const.shape"
   ]
  },
  {
   "cell_type": "code",
   "execution_count": 62,
   "id": "8fce047f",
   "metadata": {},
   "outputs": [
    {
     "data": {
      "text/html": [
       "<div>\n",
       "<style scoped>\n",
       "    .dataframe tbody tr th:only-of-type {\n",
       "        vertical-align: middle;\n",
       "    }\n",
       "\n",
       "    .dataframe tbody tr th {\n",
       "        vertical-align: top;\n",
       "    }\n",
       "\n",
       "    .dataframe thead th {\n",
       "        text-align: right;\n",
       "    }\n",
       "</style>\n",
       "<table border=\"1\" class=\"dataframe\">\n",
       "  <thead>\n",
       "    <tr style=\"text-align: right;\">\n",
       "      <th></th>\n",
       "      <th>Модель</th>\n",
       "      <th>Время обучения модели</th>\n",
       "      <th>RMSE</th>\n",
       "    </tr>\n",
       "  </thead>\n",
       "  <tbody>\n",
       "    <tr>\n",
       "      <th>0</th>\n",
       "      <td>Константная модель</td>\n",
       "      <td>0.000000</td>\n",
       "      <td>3547.36</td>\n",
       "    </tr>\n",
       "    <tr>\n",
       "      <th>1</th>\n",
       "      <td>LightGBM</td>\n",
       "      <td>4.000000</td>\n",
       "      <td>1351.28</td>\n",
       "    </tr>\n",
       "    <tr>\n",
       "      <th>2</th>\n",
       "      <td>CatBoost</td>\n",
       "      <td>24.000000</td>\n",
       "      <td>1355.06</td>\n",
       "    </tr>\n",
       "    <tr>\n",
       "      <th>3</th>\n",
       "      <td>RandomForest</td>\n",
       "      <td>130.000000</td>\n",
       "      <td>1409.00</td>\n",
       "    </tr>\n",
       "    <tr>\n",
       "      <th>4</th>\n",
       "      <td>LinearRegression</td>\n",
       "      <td>0.000995</td>\n",
       "      <td>2225.71</td>\n",
       "    </tr>\n",
       "  </tbody>\n",
       "</table>\n",
       "</div>"
      ],
      "text/plain": [
       "               Модель  Время обучения модели     RMSE\n",
       "0  Константная модель               0.000000  3547.36\n",
       "1            LightGBM               4.000000  1351.28\n",
       "2            CatBoost              24.000000  1355.06\n",
       "3        RandomForest             130.000000  1409.00\n",
       "4    LinearRegression               0.000995  2225.71"
      ]
     },
     "metadata": {},
     "output_type": "display_data"
    }
   ],
   "source": [
    "columns = ['Модель', 'Время обучения модели', 'RMSE']\n",
    "const = ['Константная модель', time_const, const_rmse]\n",
    "gbm = ['LightGBM', time_gbm, gbm_scores]\n",
    "cb = ['CatBoost', time_cb, cb_scores]\n",
    "rf = ['RandomForest', time_rf, rf_scores]\n",
    "lr = ['LinearRegression', time_lr, lr_scores]\n",
    "\n",
    "table = pd.DataFrame([const, gbm, cb, rf, lr], columns = columns)\n",
    "display(table)"
   ]
  },
  {
   "cell_type": "markdown",
   "id": "149c8ea7",
   "metadata": {},
   "source": [
    "Лучшей по повокупности факторов (время обучения и метрики RMSE) является модель LightGBM. Обучим и проверим на тестовой выборке."
   ]
  },
  {
   "cell_type": "markdown",
   "id": "9f2bfd8f",
   "metadata": {},
   "source": [
    "#### Тестирование"
   ]
  },
  {
   "cell_type": "markdown",
   "id": "60babbcf",
   "metadata": {},
   "source": [
    "Проверим качество модели LightGBM на тестовой выборке."
   ]
  },
  {
   "cell_type": "code",
   "execution_count": 63,
   "id": "94b4adbf",
   "metadata": {},
   "outputs": [
    {
     "name": "stdout",
     "output_type": "stream",
     "text": [
      "RMSE LightGBM на тестовой выборке: 1347.9\n",
      "CPU times: total: 2.38 s\n",
      "Wall time: 319 ms\n"
     ]
    }
   ],
   "source": [
    "%%time\n",
    "\n",
    "test_pred_gbm = best_gbm_grid.predict(features_test_oe)\n",
    "print(\"RMSE LightGBM на тестовой выборке:\", round(rmse(target_test,test_pred_gbm),2))"
   ]
  },
  {
   "cell_type": "markdown",
   "id": "16569cde",
   "metadata": {},
   "source": [
    "На тестовой выборке метрика RMSE составляет 1347.9, что удовлетворяет условиям задачи."
   ]
  },
  {
   "cell_type": "markdown",
   "id": "1731490f",
   "metadata": {},
   "source": [
    "## Общий вывод\n",
    "\n",
    "Датасет размером (354369, 16) подготовлен для дальнейшего обучения: обработаны пропуски, явные и неявные дубликаты, устранены аномальные значения, удалены неинформативные столбцы, признаки изучены на мультиколлинеарность. Размер преобразованной таблицы: (354346, 11).\n",
    "\n",
    "Обучены модели LightGBM, CatBoost, случайный лес, линейная регрессия. Для каждой подобраны параметры для минимизации метрики RMSE, исследовано время обучения, точность предсказания. Категориальные признаки были обработаны способом OneHotEncoder для линейной регрессии, для остальных моделей - методом OneEncoder.Рассчитана метрика RMSE для каждой модели, исследовано время обучения и предсказания.\n",
    "\n",
    "Лучшей по повокупности факторов RMSE выбрана модель LightGBM. Время обучения и предсказания 1543s, значение метрики RMSE на тестовой выборке 1347.9."
   ]
  }
 ],
 "metadata": {
  "ExecuteTimeLog": [
   {
    "duration": 82,
    "start_time": "2023-03-03T01:02:18.391Z"
   },
   {
    "duration": 5601,
    "start_time": "2023-03-03T01:08:05.891Z"
   },
   {
    "duration": 1075,
    "start_time": "2023-03-03T01:08:22.904Z"
   },
   {
    "duration": 102,
    "start_time": "2023-03-03T01:08:50.758Z"
   },
   {
    "duration": 812,
    "start_time": "2023-03-03T01:10:09.889Z"
   },
   {
    "duration": 3,
    "start_time": "2023-03-03T01:10:12.357Z"
   },
   {
    "duration": 21,
    "start_time": "2023-03-03T01:10:15.735Z"
   },
   {
    "duration": 1186,
    "start_time": "2023-03-03T01:19:05.732Z"
   },
   {
    "duration": 1303,
    "start_time": "2023-03-03T01:20:30.383Z"
   },
   {
    "duration": 4,
    "start_time": "2023-03-03T01:21:20.037Z"
   },
   {
    "duration": 612,
    "start_time": "2023-03-03T01:21:26.515Z"
   },
   {
    "duration": 115,
    "start_time": "2023-03-03T01:21:42.800Z"
   },
   {
    "duration": 168,
    "start_time": "2023-03-03T01:22:19.413Z"
   },
   {
    "duration": 323,
    "start_time": "2023-03-03T01:26:51.808Z"
   },
   {
    "duration": 254,
    "start_time": "2023-03-03T01:28:16.125Z"
   },
   {
    "duration": 251,
    "start_time": "2023-03-03T07:33:11.234Z"
   },
   {
    "duration": 265,
    "start_time": "2023-03-03T07:35:22.338Z"
   },
   {
    "duration": 259,
    "start_time": "2023-03-03T07:36:55.189Z"
   },
   {
    "duration": 10,
    "start_time": "2023-03-03T07:41:04.443Z"
   },
   {
    "duration": 11,
    "start_time": "2023-03-03T07:41:17.200Z"
   },
   {
    "duration": 398,
    "start_time": "2023-03-03T07:46:28.986Z"
   },
   {
    "duration": 248,
    "start_time": "2023-03-03T07:46:44.960Z"
   },
   {
    "duration": 272,
    "start_time": "2023-03-03T07:48:28.591Z"
   },
   {
    "duration": 84,
    "start_time": "2023-03-03T07:55:08.559Z"
   },
   {
    "duration": 244,
    "start_time": "2023-03-03T07:56:01.308Z"
   },
   {
    "duration": 3838,
    "start_time": "2023-03-03T07:57:14.498Z"
   },
   {
    "duration": 278,
    "start_time": "2023-03-03T07:57:21.311Z"
   },
   {
    "duration": 86,
    "start_time": "2023-03-03T07:57:52.390Z"
   },
   {
    "duration": 271,
    "start_time": "2023-03-03T07:57:59.488Z"
   },
   {
    "duration": 428,
    "start_time": "2023-03-03T07:59:31.263Z"
   },
   {
    "duration": 261,
    "start_time": "2023-03-03T08:00:07.591Z"
   },
   {
    "duration": 263,
    "start_time": "2023-03-03T08:00:13.027Z"
   },
   {
    "duration": 70,
    "start_time": "2023-03-03T08:00:49.490Z"
   },
   {
    "duration": 91,
    "start_time": "2023-03-03T08:00:56.182Z"
   },
   {
    "duration": 4,
    "start_time": "2023-03-03T08:01:03.143Z"
   },
   {
    "duration": 189,
    "start_time": "2023-03-03T08:01:10.770Z"
   },
   {
    "duration": 28,
    "start_time": "2023-03-03T08:01:17.341Z"
   },
   {
    "duration": 29,
    "start_time": "2023-03-03T08:01:21.838Z"
   },
   {
    "duration": 318,
    "start_time": "2023-03-03T08:05:07.755Z"
   },
   {
    "duration": 286,
    "start_time": "2023-03-03T08:05:49.442Z"
   },
   {
    "duration": 54,
    "start_time": "2023-03-03T08:06:37.662Z"
   },
   {
    "duration": 11,
    "start_time": "2023-03-03T08:14:08.065Z"
   },
   {
    "duration": 64,
    "start_time": "2023-03-03T08:14:19.162Z"
   },
   {
    "duration": 12,
    "start_time": "2023-03-03T08:14:20.073Z"
   },
   {
    "duration": 60,
    "start_time": "2023-03-03T08:14:26.863Z"
   },
   {
    "duration": 9,
    "start_time": "2023-03-03T08:14:27.213Z"
   },
   {
    "duration": 68,
    "start_time": "2023-03-03T08:14:35.568Z"
   },
   {
    "duration": 9,
    "start_time": "2023-03-03T08:14:46.819Z"
   },
   {
    "duration": 9,
    "start_time": "2023-03-03T08:14:50.318Z"
   },
   {
    "duration": 5817,
    "start_time": "2023-03-03T08:15:03.928Z"
   },
   {
    "duration": 1057,
    "start_time": "2023-03-03T08:15:09.747Z"
   },
   {
    "duration": 3,
    "start_time": "2023-03-03T08:15:10.806Z"
   },
   {
    "duration": 32,
    "start_time": "2023-03-03T08:15:10.811Z"
   },
   {
    "duration": 43,
    "start_time": "2023-03-03T08:15:10.845Z"
   },
   {
    "duration": 66,
    "start_time": "2023-03-03T08:15:10.890Z"
   },
   {
    "duration": 5,
    "start_time": "2023-03-03T08:15:10.958Z"
   },
   {
    "duration": 101,
    "start_time": "2023-03-03T08:15:10.965Z"
   },
   {
    "duration": 138,
    "start_time": "2023-03-03T08:15:11.068Z"
   },
   {
    "duration": 162,
    "start_time": "2023-03-03T08:15:11.209Z"
   },
   {
    "duration": 34,
    "start_time": "2023-03-03T08:15:11.373Z"
   },
   {
    "duration": 49,
    "start_time": "2023-03-03T08:15:11.409Z"
   },
   {
    "duration": 25,
    "start_time": "2023-03-03T08:15:11.460Z"
   },
   {
    "duration": 46,
    "start_time": "2023-03-03T08:15:11.487Z"
   },
   {
    "duration": 33,
    "start_time": "2023-03-03T08:15:11.535Z"
   },
   {
    "duration": 94,
    "start_time": "2023-03-03T08:15:11.570Z"
   },
   {
    "duration": 351,
    "start_time": "2023-03-03T08:15:11.666Z"
   },
   {
    "duration": 421,
    "start_time": "2023-03-03T08:15:12.019Z"
   },
   {
    "duration": 35,
    "start_time": "2023-03-03T08:15:12.442Z"
   },
   {
    "duration": 104,
    "start_time": "2023-03-03T08:15:12.478Z"
   },
   {
    "duration": 18,
    "start_time": "2023-03-03T08:15:12.584Z"
   },
   {
    "duration": 407,
    "start_time": "2023-03-03T08:15:12.604Z"
   },
   {
    "duration": 44,
    "start_time": "2023-03-03T08:15:13.013Z"
   },
   {
    "duration": 18,
    "start_time": "2023-03-03T08:15:13.062Z"
   },
   {
    "duration": 62,
    "start_time": "2023-03-03T08:15:13.082Z"
   },
   {
    "duration": 32,
    "start_time": "2023-03-03T08:15:13.146Z"
   },
   {
    "duration": 23,
    "start_time": "2023-03-03T08:15:13.180Z"
   },
   {
    "duration": 100,
    "start_time": "2023-03-03T08:15:13.208Z"
   },
   {
    "duration": 4,
    "start_time": "2023-03-03T08:15:13.310Z"
   },
   {
    "duration": 17,
    "start_time": "2023-03-03T08:15:13.316Z"
   },
   {
    "duration": 485,
    "start_time": "2023-03-03T08:15:13.335Z"
   },
   {
    "duration": 173,
    "start_time": "2023-03-03T08:15:13.822Z"
   },
   {
    "duration": 17,
    "start_time": "2023-03-03T08:15:13.997Z"
   },
   {
    "duration": 112,
    "start_time": "2023-03-03T08:15:14.016Z"
   },
   {
    "duration": 4,
    "start_time": "2023-03-03T08:15:14.130Z"
   },
   {
    "duration": 24,
    "start_time": "2023-03-03T08:15:14.135Z"
   },
   {
    "duration": 2921,
    "start_time": "2023-03-03T08:15:14.162Z"
   },
   {
    "duration": 3,
    "start_time": "2023-03-03T08:15:17.085Z"
   },
   {
    "duration": 61,
    "start_time": "2023-03-03T08:15:17.090Z"
   },
   {
    "duration": 42,
    "start_time": "2023-03-03T08:15:17.156Z"
   },
   {
    "duration": 1365578,
    "start_time": "2023-03-03T08:15:17.201Z"
   },
   {
    "duration": 100,
    "start_time": "2023-03-03T08:38:02.781Z"
   },
   {
    "duration": 7472,
    "start_time": "2023-03-03T08:41:45.082Z"
   },
   {
    "duration": 973,
    "start_time": "2023-03-03T08:41:52.558Z"
   },
   {
    "duration": 3,
    "start_time": "2023-03-03T08:41:53.533Z"
   },
   {
    "duration": 26,
    "start_time": "2023-03-03T08:41:53.537Z"
   },
   {
    "duration": 34,
    "start_time": "2023-03-03T08:41:53.566Z"
   },
   {
    "duration": 70,
    "start_time": "2023-03-03T08:41:53.602Z"
   },
   {
    "duration": 4,
    "start_time": "2023-03-03T08:41:53.674Z"
   },
   {
    "duration": 112,
    "start_time": "2023-03-03T08:41:53.679Z"
   },
   {
    "duration": 130,
    "start_time": "2023-03-03T08:41:53.793Z"
   },
   {
    "duration": 157,
    "start_time": "2023-03-03T08:41:53.924Z"
   },
   {
    "duration": 30,
    "start_time": "2023-03-03T08:41:54.083Z"
   },
   {
    "duration": 45,
    "start_time": "2023-03-03T08:41:54.114Z"
   },
   {
    "duration": 18,
    "start_time": "2023-03-03T08:41:54.161Z"
   },
   {
    "duration": 41,
    "start_time": "2023-03-03T08:41:54.183Z"
   },
   {
    "duration": 43,
    "start_time": "2023-03-03T08:41:54.226Z"
   },
   {
    "duration": 95,
    "start_time": "2023-03-03T08:41:54.271Z"
   },
   {
    "duration": 353,
    "start_time": "2023-03-03T08:41:54.367Z"
   },
   {
    "duration": 411,
    "start_time": "2023-03-03T08:41:54.722Z"
   },
   {
    "duration": 3,
    "start_time": "2023-03-03T08:41:55.135Z"
   },
   {
    "duration": 87,
    "start_time": "2023-03-03T08:41:55.139Z"
   },
   {
    "duration": 30,
    "start_time": "2023-03-03T08:41:55.228Z"
   },
   {
    "duration": 718,
    "start_time": "2023-03-03T08:41:55.260Z"
   },
   {
    "duration": 106,
    "start_time": "2023-03-03T08:41:55.981Z"
   },
   {
    "duration": 78,
    "start_time": "2023-03-03T08:41:56.090Z"
   },
   {
    "duration": 89,
    "start_time": "2023-03-03T08:41:56.170Z"
   },
   {
    "duration": 16,
    "start_time": "2023-03-03T08:41:56.261Z"
   },
   {
    "duration": 1346,
    "start_time": "2023-03-03T08:41:56.280Z"
   },
   {
    "duration": 0,
    "start_time": "2023-03-03T08:41:57.628Z"
   },
   {
    "duration": 0,
    "start_time": "2023-03-03T08:41:57.629Z"
   },
   {
    "duration": 0,
    "start_time": "2023-03-03T08:41:57.631Z"
   },
   {
    "duration": 0,
    "start_time": "2023-03-03T08:41:57.632Z"
   },
   {
    "duration": 0,
    "start_time": "2023-03-03T08:41:57.633Z"
   },
   {
    "duration": 0,
    "start_time": "2023-03-03T08:41:57.634Z"
   },
   {
    "duration": 0,
    "start_time": "2023-03-03T08:41:57.635Z"
   },
   {
    "duration": 0,
    "start_time": "2023-03-03T08:41:57.636Z"
   },
   {
    "duration": 0,
    "start_time": "2023-03-03T08:41:57.637Z"
   },
   {
    "duration": 0,
    "start_time": "2023-03-03T08:41:57.638Z"
   },
   {
    "duration": 0,
    "start_time": "2023-03-03T08:41:57.639Z"
   },
   {
    "duration": 0,
    "start_time": "2023-03-03T08:41:57.640Z"
   },
   {
    "duration": 0,
    "start_time": "2023-03-03T08:41:57.640Z"
   },
   {
    "duration": 0,
    "start_time": "2023-03-03T08:41:57.641Z"
   },
   {
    "duration": 0,
    "start_time": "2023-03-03T08:41:57.642Z"
   },
   {
    "duration": 0,
    "start_time": "2023-03-03T08:41:57.643Z"
   },
   {
    "duration": 0,
    "start_time": "2023-03-03T08:41:57.644Z"
   },
   {
    "duration": 0,
    "start_time": "2023-03-03T08:41:57.645Z"
   },
   {
    "duration": 0,
    "start_time": "2023-03-03T08:41:57.646Z"
   },
   {
    "duration": 0,
    "start_time": "2023-03-03T08:41:57.648Z"
   },
   {
    "duration": 0,
    "start_time": "2023-03-03T08:41:57.649Z"
   },
   {
    "duration": 0,
    "start_time": "2023-03-03T08:41:57.652Z"
   },
   {
    "duration": 0,
    "start_time": "2023-03-03T08:41:57.653Z"
   },
   {
    "duration": 0,
    "start_time": "2023-03-03T08:41:57.654Z"
   },
   {
    "duration": 0,
    "start_time": "2023-03-03T08:41:57.656Z"
   },
   {
    "duration": 0,
    "start_time": "2023-03-03T08:41:57.656Z"
   },
   {
    "duration": 0,
    "start_time": "2023-03-03T08:41:57.657Z"
   },
   {
    "duration": 0,
    "start_time": "2023-03-03T08:41:57.660Z"
   },
   {
    "duration": 0,
    "start_time": "2023-03-03T08:41:57.661Z"
   },
   {
    "duration": 1056,
    "start_time": "2023-03-03T08:42:07.985Z"
   },
   {
    "duration": 721,
    "start_time": "2023-03-03T08:43:22.823Z"
   },
   {
    "duration": 69,
    "start_time": "2023-03-03T08:43:50.523Z"
   },
   {
    "duration": 15,
    "start_time": "2023-03-03T08:43:57.398Z"
   },
   {
    "duration": 28,
    "start_time": "2023-03-03T08:47:33.394Z"
   },
   {
    "duration": 1661,
    "start_time": "2023-03-03T08:48:04.471Z"
   },
   {
    "duration": 1804,
    "start_time": "2023-03-03T08:48:08.221Z"
   },
   {
    "duration": 19,
    "start_time": "2023-03-03T08:49:18.009Z"
   },
   {
    "duration": 19,
    "start_time": "2023-03-03T08:49:39.774Z"
   },
   {
    "duration": 42,
    "start_time": "2023-03-03T08:50:15.616Z"
   },
   {
    "duration": 42,
    "start_time": "2023-03-03T08:50:23.783Z"
   },
   {
    "duration": 54,
    "start_time": "2023-03-03T08:52:03.682Z"
   },
   {
    "duration": 4,
    "start_time": "2023-03-03T08:52:22.271Z"
   },
   {
    "duration": 7,
    "start_time": "2023-03-03T08:52:38.769Z"
   },
   {
    "duration": 7,
    "start_time": "2023-03-03T08:52:51.062Z"
   },
   {
    "duration": 4,
    "start_time": "2023-03-03T08:52:53.471Z"
   },
   {
    "duration": 5614,
    "start_time": "2023-03-03T08:53:32.672Z"
   },
   {
    "duration": 1704,
    "start_time": "2023-03-03T08:53:38.289Z"
   },
   {
    "duration": 3,
    "start_time": "2023-03-03T08:53:39.994Z"
   },
   {
    "duration": 24,
    "start_time": "2023-03-03T08:53:39.998Z"
   },
   {
    "duration": 42,
    "start_time": "2023-03-03T08:53:40.024Z"
   },
   {
    "duration": 54,
    "start_time": "2023-03-03T08:53:40.068Z"
   },
   {
    "duration": 3,
    "start_time": "2023-03-03T08:53:40.123Z"
   },
   {
    "duration": 95,
    "start_time": "2023-03-03T08:53:40.128Z"
   },
   {
    "duration": 138,
    "start_time": "2023-03-03T08:53:40.225Z"
   },
   {
    "duration": 134,
    "start_time": "2023-03-03T08:53:40.364Z"
   },
   {
    "duration": 31,
    "start_time": "2023-03-03T08:53:40.499Z"
   },
   {
    "duration": 59,
    "start_time": "2023-03-03T08:53:40.532Z"
   },
   {
    "duration": 20,
    "start_time": "2023-03-03T08:53:40.593Z"
   },
   {
    "duration": 61,
    "start_time": "2023-03-03T08:53:40.617Z"
   },
   {
    "duration": 17,
    "start_time": "2023-03-03T08:53:40.680Z"
   },
   {
    "duration": 91,
    "start_time": "2023-03-03T08:53:40.699Z"
   },
   {
    "duration": 311,
    "start_time": "2023-03-03T08:53:40.792Z"
   },
   {
    "duration": 400,
    "start_time": "2023-03-03T08:53:41.105Z"
   },
   {
    "duration": 2,
    "start_time": "2023-03-03T08:53:41.507Z"
   },
   {
    "duration": 85,
    "start_time": "2023-03-03T08:53:41.510Z"
   },
   {
    "duration": 17,
    "start_time": "2023-03-03T08:53:41.596Z"
   },
   {
    "duration": 401,
    "start_time": "2023-03-03T08:53:41.615Z"
   },
   {
    "duration": 52,
    "start_time": "2023-03-03T08:53:42.017Z"
   },
   {
    "duration": 17,
    "start_time": "2023-03-03T08:53:42.071Z"
   },
   {
    "duration": 39,
    "start_time": "2023-03-03T08:53:42.090Z"
   },
   {
    "duration": 3,
    "start_time": "2023-03-03T08:53:42.130Z"
   },
   {
    "duration": 144,
    "start_time": "2023-03-03T08:53:42.134Z"
   },
   {
    "duration": 90,
    "start_time": "2023-03-03T08:53:42.280Z"
   },
   {
    "duration": 0,
    "start_time": "2023-03-03T08:53:42.373Z"
   },
   {
    "duration": 0,
    "start_time": "2023-03-03T08:53:42.374Z"
   },
   {
    "duration": 0,
    "start_time": "2023-03-03T08:53:42.375Z"
   },
   {
    "duration": 0,
    "start_time": "2023-03-03T08:53:42.376Z"
   },
   {
    "duration": 0,
    "start_time": "2023-03-03T08:53:42.377Z"
   },
   {
    "duration": 0,
    "start_time": "2023-03-03T08:53:42.378Z"
   },
   {
    "duration": 0,
    "start_time": "2023-03-03T08:53:42.379Z"
   },
   {
    "duration": 0,
    "start_time": "2023-03-03T08:53:42.380Z"
   },
   {
    "duration": 0,
    "start_time": "2023-03-03T08:53:42.381Z"
   },
   {
    "duration": 0,
    "start_time": "2023-03-03T08:53:42.382Z"
   },
   {
    "duration": 0,
    "start_time": "2023-03-03T08:53:42.383Z"
   },
   {
    "duration": 0,
    "start_time": "2023-03-03T08:53:42.384Z"
   },
   {
    "duration": 0,
    "start_time": "2023-03-03T08:53:42.385Z"
   },
   {
    "duration": 0,
    "start_time": "2023-03-03T08:53:42.386Z"
   },
   {
    "duration": 0,
    "start_time": "2023-03-03T08:53:42.388Z"
   },
   {
    "duration": 0,
    "start_time": "2023-03-03T08:53:42.389Z"
   },
   {
    "duration": 0,
    "start_time": "2023-03-03T08:53:42.389Z"
   },
   {
    "duration": 0,
    "start_time": "2023-03-03T08:53:42.390Z"
   },
   {
    "duration": 0,
    "start_time": "2023-03-03T08:53:42.391Z"
   },
   {
    "duration": 0,
    "start_time": "2023-03-03T08:53:42.392Z"
   },
   {
    "duration": 0,
    "start_time": "2023-03-03T08:53:42.393Z"
   },
   {
    "duration": 0,
    "start_time": "2023-03-03T08:53:42.395Z"
   },
   {
    "duration": 0,
    "start_time": "2023-03-03T08:53:42.396Z"
   },
   {
    "duration": 0,
    "start_time": "2023-03-03T08:53:42.397Z"
   },
   {
    "duration": 0,
    "start_time": "2023-03-03T08:53:42.398Z"
   },
   {
    "duration": 0,
    "start_time": "2023-03-03T08:53:42.398Z"
   },
   {
    "duration": 0,
    "start_time": "2023-03-03T08:53:42.399Z"
   },
   {
    "duration": 0,
    "start_time": "2023-03-03T08:53:42.401Z"
   },
   {
    "duration": 298,
    "start_time": "2023-03-03T10:48:41.234Z"
   },
   {
    "duration": 276,
    "start_time": "2023-03-03T10:48:56.195Z"
   },
   {
    "duration": 348,
    "start_time": "2023-03-03T10:49:02.702Z"
   },
   {
    "duration": 77,
    "start_time": "2023-03-03T10:49:35.345Z"
   },
   {
    "duration": 5273,
    "start_time": "2023-03-03T11:26:51.088Z"
   },
   {
    "duration": 811,
    "start_time": "2023-03-03T11:26:56.363Z"
   },
   {
    "duration": 3,
    "start_time": "2023-03-03T11:26:57.176Z"
   },
   {
    "duration": 23,
    "start_time": "2023-03-03T11:26:57.181Z"
   },
   {
    "duration": 45,
    "start_time": "2023-03-03T11:26:57.205Z"
   },
   {
    "duration": 57,
    "start_time": "2023-03-03T11:26:57.251Z"
   },
   {
    "duration": 3,
    "start_time": "2023-03-03T11:26:57.310Z"
   },
   {
    "duration": 95,
    "start_time": "2023-03-03T11:26:57.314Z"
   },
   {
    "duration": 115,
    "start_time": "2023-03-03T11:26:57.410Z"
   },
   {
    "duration": 144,
    "start_time": "2023-03-03T11:26:57.527Z"
   },
   {
    "duration": 32,
    "start_time": "2023-03-03T11:26:57.673Z"
   },
   {
    "duration": 44,
    "start_time": "2023-03-03T11:26:57.707Z"
   },
   {
    "duration": 16,
    "start_time": "2023-03-03T11:26:57.752Z"
   },
   {
    "duration": 41,
    "start_time": "2023-03-03T11:26:57.769Z"
   },
   {
    "duration": 36,
    "start_time": "2023-03-03T11:26:57.812Z"
   },
   {
    "duration": 80,
    "start_time": "2023-03-03T11:26:57.850Z"
   },
   {
    "duration": 299,
    "start_time": "2023-03-03T11:26:57.932Z"
   },
   {
    "duration": 375,
    "start_time": "2023-03-03T11:26:58.233Z"
   },
   {
    "duration": 2,
    "start_time": "2023-03-03T11:26:58.609Z"
   },
   {
    "duration": 86,
    "start_time": "2023-03-03T11:26:58.613Z"
   },
   {
    "duration": 19,
    "start_time": "2023-03-03T11:26:58.700Z"
   },
   {
    "duration": 381,
    "start_time": "2023-03-03T11:26:58.720Z"
   },
   {
    "duration": 45,
    "start_time": "2023-03-03T11:26:59.103Z"
   },
   {
    "duration": 17,
    "start_time": "2023-03-03T11:26:59.150Z"
   },
   {
    "duration": 33,
    "start_time": "2023-03-03T11:26:59.168Z"
   },
   {
    "duration": 3,
    "start_time": "2023-03-03T11:26:59.202Z"
   },
   {
    "duration": 149,
    "start_time": "2023-03-03T11:26:59.206Z"
   },
   {
    "duration": 78,
    "start_time": "2023-03-03T11:26:59.358Z"
   },
   {
    "duration": 0,
    "start_time": "2023-03-03T11:26:59.437Z"
   },
   {
    "duration": 0,
    "start_time": "2023-03-03T11:26:59.438Z"
   },
   {
    "duration": 0,
    "start_time": "2023-03-03T11:26:59.440Z"
   },
   {
    "duration": 0,
    "start_time": "2023-03-03T11:26:59.441Z"
   },
   {
    "duration": 0,
    "start_time": "2023-03-03T11:26:59.442Z"
   },
   {
    "duration": 1,
    "start_time": "2023-03-03T11:26:59.442Z"
   },
   {
    "duration": 0,
    "start_time": "2023-03-03T11:26:59.444Z"
   },
   {
    "duration": 0,
    "start_time": "2023-03-03T11:26:59.445Z"
   },
   {
    "duration": 0,
    "start_time": "2023-03-03T11:26:59.446Z"
   },
   {
    "duration": 0,
    "start_time": "2023-03-03T11:26:59.447Z"
   },
   {
    "duration": 0,
    "start_time": "2023-03-03T11:26:59.448Z"
   },
   {
    "duration": 0,
    "start_time": "2023-03-03T11:26:59.449Z"
   },
   {
    "duration": 0,
    "start_time": "2023-03-03T11:26:59.450Z"
   },
   {
    "duration": 0,
    "start_time": "2023-03-03T11:26:59.451Z"
   },
   {
    "duration": 0,
    "start_time": "2023-03-03T11:26:59.452Z"
   },
   {
    "duration": 0,
    "start_time": "2023-03-03T11:26:59.453Z"
   },
   {
    "duration": 0,
    "start_time": "2023-03-03T11:26:59.454Z"
   },
   {
    "duration": 1,
    "start_time": "2023-03-03T11:26:59.454Z"
   },
   {
    "duration": 0,
    "start_time": "2023-03-03T11:26:59.455Z"
   },
   {
    "duration": 1,
    "start_time": "2023-03-03T11:26:59.456Z"
   },
   {
    "duration": 0,
    "start_time": "2023-03-03T11:26:59.457Z"
   },
   {
    "duration": 0,
    "start_time": "2023-03-03T11:26:59.458Z"
   },
   {
    "duration": 0,
    "start_time": "2023-03-03T11:26:59.459Z"
   },
   {
    "duration": 0,
    "start_time": "2023-03-03T11:26:59.460Z"
   },
   {
    "duration": 0,
    "start_time": "2023-03-03T11:26:59.461Z"
   },
   {
    "duration": 0,
    "start_time": "2023-03-03T11:26:59.462Z"
   },
   {
    "duration": 0,
    "start_time": "2023-03-03T11:26:59.463Z"
   },
   {
    "duration": 0,
    "start_time": "2023-03-03T11:26:59.465Z"
   },
   {
    "duration": 6176,
    "start_time": "2023-03-03T11:30:54.431Z"
   },
   {
    "duration": 910,
    "start_time": "2023-03-03T11:31:00.609Z"
   },
   {
    "duration": 4,
    "start_time": "2023-03-03T11:31:01.520Z"
   },
   {
    "duration": 93,
    "start_time": "2023-03-03T11:31:01.526Z"
   },
   {
    "duration": 68,
    "start_time": "2023-03-03T11:31:01.621Z"
   },
   {
    "duration": 58,
    "start_time": "2023-03-03T11:31:01.691Z"
   },
   {
    "duration": 24,
    "start_time": "2023-03-03T11:31:01.751Z"
   },
   {
    "duration": 187,
    "start_time": "2023-03-03T11:31:01.777Z"
   },
   {
    "duration": 239,
    "start_time": "2023-03-03T11:31:01.966Z"
   },
   {
    "duration": 155,
    "start_time": "2023-03-03T11:31:02.208Z"
   },
   {
    "duration": 31,
    "start_time": "2023-03-03T11:31:02.365Z"
   },
   {
    "duration": 52,
    "start_time": "2023-03-03T11:31:02.398Z"
   },
   {
    "duration": 17,
    "start_time": "2023-03-03T11:31:02.452Z"
   },
   {
    "duration": 52,
    "start_time": "2023-03-03T11:31:02.470Z"
   },
   {
    "duration": 38,
    "start_time": "2023-03-03T11:31:02.524Z"
   },
   {
    "duration": 101,
    "start_time": "2023-03-03T11:31:02.564Z"
   },
   {
    "duration": 307,
    "start_time": "2023-03-03T11:31:02.668Z"
   },
   {
    "duration": 398,
    "start_time": "2023-03-03T11:31:02.977Z"
   },
   {
    "duration": 2,
    "start_time": "2023-03-03T11:31:03.377Z"
   },
   {
    "duration": 104,
    "start_time": "2023-03-03T11:31:03.380Z"
   },
   {
    "duration": 18,
    "start_time": "2023-03-03T11:31:03.486Z"
   },
   {
    "duration": 404,
    "start_time": "2023-03-03T11:31:03.505Z"
   },
   {
    "duration": 46,
    "start_time": "2023-03-03T11:31:03.911Z"
   },
   {
    "duration": 16,
    "start_time": "2023-03-03T11:31:03.958Z"
   },
   {
    "duration": 43,
    "start_time": "2023-03-03T11:31:03.975Z"
   },
   {
    "duration": 3,
    "start_time": "2023-03-03T11:31:04.020Z"
   },
   {
    "duration": 147,
    "start_time": "2023-03-03T11:31:04.024Z"
   },
   {
    "duration": 3,
    "start_time": "2023-03-03T11:31:04.175Z"
   },
   {
    "duration": 98,
    "start_time": "2023-03-03T11:31:04.180Z"
   },
   {
    "duration": 3,
    "start_time": "2023-03-03T11:31:04.280Z"
   },
   {
    "duration": 23,
    "start_time": "2023-03-03T11:31:04.285Z"
   },
   {
    "duration": 453,
    "start_time": "2023-03-03T11:31:04.309Z"
   },
   {
    "duration": 340,
    "start_time": "2023-03-03T11:31:04.764Z"
   },
   {
    "duration": 15,
    "start_time": "2023-03-03T11:31:05.106Z"
   },
   {
    "duration": 98,
    "start_time": "2023-03-03T11:31:05.123Z"
   },
   {
    "duration": 4,
    "start_time": "2023-03-03T11:31:05.222Z"
   },
   {
    "duration": 23,
    "start_time": "2023-03-03T11:31:05.227Z"
   },
   {
    "duration": 1098,
    "start_time": "2023-03-03T11:31:05.252Z"
   },
   {
    "duration": 3,
    "start_time": "2023-03-03T11:31:06.351Z"
   },
   {
    "duration": 12,
    "start_time": "2023-03-03T11:31:06.355Z"
   },
   {
    "duration": 5,
    "start_time": "2023-03-03T11:31:06.369Z"
   },
   {
    "duration": 185,
    "start_time": "2023-03-03T11:31:06.376Z"
   },
   {
    "duration": 85,
    "start_time": "2023-03-03T11:31:06.562Z"
   },
   {
    "duration": 82,
    "start_time": "2023-03-03T11:31:06.649Z"
   },
   {
    "duration": 81,
    "start_time": "2023-03-03T11:31:06.732Z"
   },
   {
    "duration": 83,
    "start_time": "2023-03-03T11:31:06.815Z"
   },
   {
    "duration": 83,
    "start_time": "2023-03-03T11:31:06.900Z"
   },
   {
    "duration": 4,
    "start_time": "2023-03-03T11:31:06.984Z"
   },
   {
    "duration": 3899,
    "start_time": "2023-03-03T11:31:06.989Z"
   },
   {
    "duration": 6,
    "start_time": "2023-03-03T11:31:10.891Z"
   },
   {
    "duration": 14,
    "start_time": "2023-03-03T11:31:10.899Z"
   },
   {
    "duration": 0,
    "start_time": "2023-03-03T11:31:10.915Z"
   },
   {
    "duration": 0,
    "start_time": "2023-03-03T11:31:10.916Z"
   },
   {
    "duration": 0,
    "start_time": "2023-03-03T11:31:10.917Z"
   },
   {
    "duration": 0,
    "start_time": "2023-03-03T11:31:10.918Z"
   },
   {
    "duration": 5259,
    "start_time": "2023-03-03T11:33:05.986Z"
   },
   {
    "duration": 925,
    "start_time": "2023-03-03T11:33:11.247Z"
   },
   {
    "duration": 2,
    "start_time": "2023-03-03T11:33:12.174Z"
   },
   {
    "duration": 22,
    "start_time": "2023-03-03T11:33:12.178Z"
   },
   {
    "duration": 48,
    "start_time": "2023-03-03T11:33:12.202Z"
   },
   {
    "duration": 51,
    "start_time": "2023-03-03T11:33:12.252Z"
   },
   {
    "duration": 3,
    "start_time": "2023-03-03T11:33:12.305Z"
   },
   {
    "duration": 106,
    "start_time": "2023-03-03T11:33:12.310Z"
   },
   {
    "duration": 120,
    "start_time": "2023-03-03T11:33:12.418Z"
   },
   {
    "duration": 137,
    "start_time": "2023-03-03T11:33:12.548Z"
   },
   {
    "duration": 31,
    "start_time": "2023-03-03T11:33:12.686Z"
   },
   {
    "duration": 48,
    "start_time": "2023-03-03T11:33:12.719Z"
   },
   {
    "duration": 16,
    "start_time": "2023-03-03T11:33:12.769Z"
   },
   {
    "duration": 42,
    "start_time": "2023-03-03T11:33:12.786Z"
   },
   {
    "duration": 33,
    "start_time": "2023-03-03T11:33:12.830Z"
   },
   {
    "duration": 88,
    "start_time": "2023-03-03T11:33:12.865Z"
   },
   {
    "duration": 341,
    "start_time": "2023-03-03T11:33:12.954Z"
   },
   {
    "duration": 408,
    "start_time": "2023-03-03T11:33:13.297Z"
   },
   {
    "duration": 2,
    "start_time": "2023-03-03T11:33:13.707Z"
   },
   {
    "duration": 79,
    "start_time": "2023-03-03T11:33:13.711Z"
   },
   {
    "duration": 24,
    "start_time": "2023-03-03T11:33:13.792Z"
   },
   {
    "duration": 367,
    "start_time": "2023-03-03T11:33:13.817Z"
   },
   {
    "duration": 37,
    "start_time": "2023-03-03T11:33:14.186Z"
   },
   {
    "duration": 28,
    "start_time": "2023-03-03T11:33:14.225Z"
   },
   {
    "duration": 32,
    "start_time": "2023-03-03T11:33:14.254Z"
   },
   {
    "duration": 3,
    "start_time": "2023-03-03T11:33:14.288Z"
   },
   {
    "duration": 142,
    "start_time": "2023-03-03T11:33:14.292Z"
   },
   {
    "duration": 2,
    "start_time": "2023-03-03T11:33:14.438Z"
   },
   {
    "duration": 69,
    "start_time": "2023-03-03T11:33:14.447Z"
   },
   {
    "duration": 3,
    "start_time": "2023-03-03T11:33:14.517Z"
   },
   {
    "duration": 15,
    "start_time": "2023-03-03T11:33:14.521Z"
   },
   {
    "duration": 425,
    "start_time": "2023-03-03T11:33:14.538Z"
   },
   {
    "duration": 332,
    "start_time": "2023-03-03T11:33:14.965Z"
   },
   {
    "duration": 18,
    "start_time": "2023-03-03T11:33:15.299Z"
   },
   {
    "duration": 105,
    "start_time": "2023-03-03T11:33:15.319Z"
   },
   {
    "duration": 4,
    "start_time": "2023-03-03T11:33:15.426Z"
   },
   {
    "duration": 28,
    "start_time": "2023-03-03T11:33:15.431Z"
   },
   {
    "duration": 1039,
    "start_time": "2023-03-03T11:33:15.460Z"
   },
   {
    "duration": 3,
    "start_time": "2023-03-03T11:33:16.501Z"
   },
   {
    "duration": 6,
    "start_time": "2023-03-03T11:33:16.506Z"
   },
   {
    "duration": 6,
    "start_time": "2023-03-03T11:33:16.514Z"
   },
   {
    "duration": 6117639,
    "start_time": "2023-03-03T11:33:16.522Z"
   },
   {
    "duration": 307,
    "start_time": "2023-03-03T13:15:14.163Z"
   },
   {
    "duration": 2511153,
    "start_time": "2023-03-03T13:15:14.471Z"
   },
   {
    "duration": 75,
    "start_time": "2023-03-03T13:57:05.626Z"
   },
   {
    "duration": 10095,
    "start_time": "2023-03-03T13:57:05.703Z"
   },
   {
    "duration": 101,
    "start_time": "2023-03-03T13:57:15.799Z"
   },
   {
    "duration": 4,
    "start_time": "2023-03-03T13:57:15.902Z"
   },
   {
    "duration": 3892,
    "start_time": "2023-03-03T13:57:15.907Z"
   },
   {
    "duration": 6,
    "start_time": "2023-03-03T13:57:19.801Z"
   },
   {
    "duration": 17,
    "start_time": "2023-03-03T13:57:19.809Z"
   },
   {
    "duration": 0,
    "start_time": "2023-03-03T13:57:19.828Z"
   },
   {
    "duration": 0,
    "start_time": "2023-03-03T13:57:19.829Z"
   },
   {
    "duration": 0,
    "start_time": "2023-03-03T13:57:19.848Z"
   },
   {
    "duration": 0,
    "start_time": "2023-03-03T13:57:19.849Z"
   },
   {
    "duration": 116,
    "start_time": "2023-03-03T15:01:05.795Z"
   },
   {
    "duration": 86,
    "start_time": "2023-03-03T15:01:56.165Z"
   },
   {
    "duration": 5,
    "start_time": "2023-03-03T15:03:42.579Z"
   },
   {
    "duration": 4052,
    "start_time": "2023-03-03T15:04:08.601Z"
   },
   {
    "duration": 4,
    "start_time": "2023-03-03T15:04:40.014Z"
   },
   {
    "duration": 5,
    "start_time": "2023-03-03T15:04:42.271Z"
   },
   {
    "duration": 5,
    "start_time": "2023-03-03T15:04:47.955Z"
   },
   {
    "duration": 3,
    "start_time": "2023-03-03T15:04:49.766Z"
   },
   {
    "duration": 3961,
    "start_time": "2023-03-03T15:05:03.716Z"
   },
   {
    "duration": 3982,
    "start_time": "2023-03-03T15:05:14.587Z"
   },
   {
    "duration": 3998,
    "start_time": "2023-03-03T15:05:30.378Z"
   },
   {
    "duration": 564,
    "start_time": "2023-03-03T15:11:11.673Z"
   },
   {
    "duration": 81,
    "start_time": "2023-03-03T15:11:15.087Z"
   },
   {
    "duration": 8,
    "start_time": "2023-03-03T15:11:19.983Z"
   },
   {
    "duration": 16,
    "start_time": "2023-03-03T15:11:33.471Z"
   },
   {
    "duration": 82,
    "start_time": "2023-03-03T15:11:44.082Z"
   },
   {
    "duration": 7,
    "start_time": "2023-03-03T15:11:46.608Z"
   },
   {
    "duration": 47,
    "start_time": "2023-03-03T15:14:07.080Z"
   },
   {
    "duration": 8,
    "start_time": "2023-03-03T15:14:13.087Z"
   },
   {
    "duration": 68,
    "start_time": "2023-03-03T15:19:52.767Z"
   },
   {
    "duration": 3,
    "start_time": "2023-03-03T15:20:52.306Z"
   },
   {
    "duration": 862,
    "start_time": "2023-03-03T15:22:11.320Z"
   },
   {
    "duration": 87,
    "start_time": "2023-03-03T15:22:36.788Z"
   },
   {
    "duration": 86,
    "start_time": "2023-03-03T15:22:42.475Z"
   },
   {
    "duration": 1036,
    "start_time": "2023-03-03T15:22:47.722Z"
   },
   {
    "duration": 72,
    "start_time": "2023-03-03T15:22:55.694Z"
   },
   {
    "duration": 1298,
    "start_time": "2023-03-03T15:23:28.218Z"
   },
   {
    "duration": 5435,
    "start_time": "2023-03-03T15:47:28.483Z"
   },
   {
    "duration": 3,
    "start_time": "2023-03-03T15:47:33.920Z"
   },
   {
    "duration": 1156,
    "start_time": "2023-03-03T15:47:33.925Z"
   },
   {
    "duration": 4,
    "start_time": "2023-03-03T15:47:35.084Z"
   },
   {
    "duration": 30,
    "start_time": "2023-03-03T15:47:35.090Z"
   },
   {
    "duration": 37,
    "start_time": "2023-03-03T15:47:35.122Z"
   },
   {
    "duration": 43,
    "start_time": "2023-03-03T15:47:35.161Z"
   },
   {
    "duration": 4,
    "start_time": "2023-03-03T15:47:35.205Z"
   },
   {
    "duration": 92,
    "start_time": "2023-03-03T15:47:35.210Z"
   },
   {
    "duration": 117,
    "start_time": "2023-03-03T15:47:35.305Z"
   },
   {
    "duration": 148,
    "start_time": "2023-03-03T15:47:35.423Z"
   },
   {
    "duration": 35,
    "start_time": "2023-03-03T15:47:35.573Z"
   },
   {
    "duration": 41,
    "start_time": "2023-03-03T15:47:35.610Z"
   },
   {
    "duration": 17,
    "start_time": "2023-03-03T15:47:35.652Z"
   },
   {
    "duration": 43,
    "start_time": "2023-03-03T15:47:35.670Z"
   },
   {
    "duration": 40,
    "start_time": "2023-03-03T15:47:35.715Z"
   },
   {
    "duration": 93,
    "start_time": "2023-03-03T15:47:35.757Z"
   },
   {
    "duration": 288,
    "start_time": "2023-03-03T15:47:35.852Z"
   },
   {
    "duration": 288,
    "start_time": "2023-03-03T15:47:36.143Z"
   },
   {
    "duration": 3,
    "start_time": "2023-03-03T15:47:36.433Z"
   },
   {
    "duration": 70,
    "start_time": "2023-03-03T15:47:36.448Z"
   },
   {
    "duration": 18,
    "start_time": "2023-03-03T15:47:36.519Z"
   },
   {
    "duration": 310,
    "start_time": "2023-03-03T15:47:36.538Z"
   },
   {
    "duration": 36,
    "start_time": "2023-03-03T15:47:36.849Z"
   },
   {
    "duration": 19,
    "start_time": "2023-03-03T15:47:36.887Z"
   },
   {
    "duration": 47,
    "start_time": "2023-03-03T15:47:36.908Z"
   },
   {
    "duration": 3,
    "start_time": "2023-03-03T15:47:36.956Z"
   },
   {
    "duration": 65,
    "start_time": "2023-03-03T15:47:36.964Z"
   },
   {
    "duration": 18,
    "start_time": "2023-03-03T15:47:37.031Z"
   },
   {
    "duration": 73,
    "start_time": "2023-03-03T15:47:37.051Z"
   },
   {
    "duration": 28,
    "start_time": "2023-03-03T15:47:37.126Z"
   },
   {
    "duration": 208,
    "start_time": "2023-03-03T15:47:37.157Z"
   },
   {
    "duration": 4,
    "start_time": "2023-03-03T15:47:37.367Z"
   },
   {
    "duration": 6,
    "start_time": "2023-03-03T15:47:37.373Z"
   },
   {
    "duration": 455,
    "start_time": "2023-03-03T15:47:37.380Z"
   },
   {
    "duration": 392,
    "start_time": "2023-03-03T15:47:37.837Z"
   },
   {
    "duration": 24,
    "start_time": "2023-03-03T15:47:38.231Z"
   },
   {
    "duration": 81,
    "start_time": "2023-03-03T15:47:38.257Z"
   },
   {
    "duration": 44,
    "start_time": "2023-03-03T15:47:38.340Z"
   },
   {
    "duration": 115,
    "start_time": "2023-03-03T15:47:38.385Z"
   },
   {
    "duration": 1088,
    "start_time": "2023-03-03T15:47:38.501Z"
   },
   {
    "duration": 3,
    "start_time": "2023-03-03T15:47:39.591Z"
   },
   {
    "duration": 6,
    "start_time": "2023-03-03T15:47:39.596Z"
   },
   {
    "duration": 8,
    "start_time": "2023-03-03T15:47:39.603Z"
   },
   {
    "duration": 7568,
    "start_time": "2023-03-05T22:34:36.986Z"
   },
   {
    "duration": 2,
    "start_time": "2023-03-05T22:34:44.558Z"
   },
   {
    "duration": 1323,
    "start_time": "2023-03-05T22:34:44.562Z"
   },
   {
    "duration": 3,
    "start_time": "2023-03-05T22:34:45.887Z"
   },
   {
    "duration": 29,
    "start_time": "2023-03-05T22:34:45.892Z"
   },
   {
    "duration": 29,
    "start_time": "2023-03-05T22:34:45.923Z"
   },
   {
    "duration": 44,
    "start_time": "2023-03-05T22:34:45.955Z"
   },
   {
    "duration": 4,
    "start_time": "2023-03-05T22:34:46.001Z"
   },
   {
    "duration": 112,
    "start_time": "2023-03-05T22:34:46.007Z"
   },
   {
    "duration": 139,
    "start_time": "2023-03-05T22:34:46.122Z"
   },
   {
    "duration": 183,
    "start_time": "2023-03-05T22:34:46.262Z"
   },
   {
    "duration": 38,
    "start_time": "2023-03-05T22:34:46.447Z"
   },
   {
    "duration": 37,
    "start_time": "2023-03-05T22:34:46.487Z"
   },
   {
    "duration": 34,
    "start_time": "2023-03-05T22:34:46.526Z"
   },
   {
    "duration": 52,
    "start_time": "2023-03-05T22:34:46.562Z"
   },
   {
    "duration": 40,
    "start_time": "2023-03-05T22:34:46.616Z"
   },
   {
    "duration": 112,
    "start_time": "2023-03-05T22:34:46.658Z"
   },
   {
    "duration": 240,
    "start_time": "2023-03-05T22:34:46.772Z"
   },
   {
    "duration": 292,
    "start_time": "2023-03-05T22:34:47.014Z"
   },
   {
    "duration": 79,
    "start_time": "2023-03-05T22:34:47.308Z"
   },
   {
    "duration": 17,
    "start_time": "2023-03-05T22:34:47.389Z"
   },
   {
    "duration": 329,
    "start_time": "2023-03-05T22:34:47.408Z"
   },
   {
    "duration": 47,
    "start_time": "2023-03-05T22:34:47.739Z"
   },
   {
    "duration": 20,
    "start_time": "2023-03-05T22:34:47.791Z"
   },
   {
    "duration": 34,
    "start_time": "2023-03-05T22:34:47.813Z"
   },
   {
    "duration": 70,
    "start_time": "2023-03-05T22:34:47.849Z"
   },
   {
    "duration": 7,
    "start_time": "2023-03-05T22:34:47.921Z"
   },
   {
    "duration": 21,
    "start_time": "2023-03-05T22:34:47.948Z"
   },
   {
    "duration": 91,
    "start_time": "2023-03-05T22:34:47.971Z"
   },
   {
    "duration": 4,
    "start_time": "2023-03-05T22:34:48.064Z"
   },
   {
    "duration": 5,
    "start_time": "2023-03-05T22:34:48.070Z"
   },
   {
    "duration": 566,
    "start_time": "2023-03-05T22:34:48.077Z"
   },
   {
    "duration": 428,
    "start_time": "2023-03-05T22:34:48.646Z"
   },
   {
    "duration": 16,
    "start_time": "2023-03-05T22:34:49.076Z"
   },
   {
    "duration": 81,
    "start_time": "2023-03-05T22:34:49.094Z"
   },
   {
    "duration": 4,
    "start_time": "2023-03-05T22:34:49.177Z"
   },
   {
    "duration": 6,
    "start_time": "2023-03-05T22:34:49.183Z"
   },
   {
    "duration": 3,
    "start_time": "2023-03-05T22:34:50.834Z"
   },
   {
    "duration": 2,
    "start_time": "2023-03-05T22:34:51.690Z"
   },
   {
    "duration": 789,
    "start_time": "2023-03-05T22:35:02.839Z"
   },
   {
    "duration": 216,
    "start_time": "2023-03-05T22:35:08.815Z"
   },
   {
    "duration": 8,
    "start_time": "2023-03-05T22:35:18.897Z"
   },
   {
    "duration": 1188,
    "start_time": "2023-03-05T22:35:59.668Z"
   },
   {
    "duration": 493,
    "start_time": "2023-03-05T22:40:31.129Z"
   },
   {
    "duration": 23,
    "start_time": "2023-03-05T22:40:42.862Z"
   },
   {
    "duration": 37,
    "start_time": "2023-03-05T22:40:52.316Z"
   },
   {
    "duration": 4764,
    "start_time": "2023-03-05T22:49:33.369Z"
   },
   {
    "duration": 2,
    "start_time": "2023-03-05T22:49:38.136Z"
   },
   {
    "duration": 1057,
    "start_time": "2023-03-05T22:49:38.140Z"
   },
   {
    "duration": 3,
    "start_time": "2023-03-05T22:49:39.199Z"
   },
   {
    "duration": 18,
    "start_time": "2023-03-05T22:49:39.204Z"
   },
   {
    "duration": 34,
    "start_time": "2023-03-05T22:49:39.224Z"
   },
   {
    "duration": 35,
    "start_time": "2023-03-05T22:49:39.260Z"
   },
   {
    "duration": 4,
    "start_time": "2023-03-05T22:49:39.296Z"
   },
   {
    "duration": 115,
    "start_time": "2023-03-05T22:49:39.301Z"
   },
   {
    "duration": 112,
    "start_time": "2023-03-05T22:49:39.418Z"
   },
   {
    "duration": 178,
    "start_time": "2023-03-05T22:49:39.531Z"
   },
   {
    "duration": 47,
    "start_time": "2023-03-05T22:49:39.711Z"
   },
   {
    "duration": 38,
    "start_time": "2023-03-05T22:49:39.760Z"
   },
   {
    "duration": 20,
    "start_time": "2023-03-05T22:49:39.800Z"
   },
   {
    "duration": 73,
    "start_time": "2023-03-05T22:49:39.822Z"
   },
   {
    "duration": 21,
    "start_time": "2023-03-05T22:49:39.897Z"
   },
   {
    "duration": 113,
    "start_time": "2023-03-05T22:49:39.920Z"
   },
   {
    "duration": 201,
    "start_time": "2023-03-05T22:49:40.035Z"
   },
   {
    "duration": 289,
    "start_time": "2023-03-05T22:49:40.237Z"
   },
   {
    "duration": 87,
    "start_time": "2023-03-05T22:49:40.529Z"
   },
   {
    "duration": 28,
    "start_time": "2023-03-05T22:49:40.620Z"
   },
   {
    "duration": 292,
    "start_time": "2023-03-05T22:49:40.649Z"
   },
   {
    "duration": 28,
    "start_time": "2023-03-05T22:49:40.945Z"
   },
   {
    "duration": 18,
    "start_time": "2023-03-05T22:49:40.975Z"
   },
   {
    "duration": 50,
    "start_time": "2023-03-05T22:49:40.995Z"
   },
   {
    "duration": 55,
    "start_time": "2023-03-05T22:49:41.047Z"
   },
   {
    "duration": 6,
    "start_time": "2023-03-05T22:49:41.104Z"
   },
   {
    "duration": 40,
    "start_time": "2023-03-05T22:49:41.114Z"
   },
   {
    "duration": 58,
    "start_time": "2023-03-05T22:49:41.156Z"
   },
   {
    "duration": 4,
    "start_time": "2023-03-05T22:49:41.216Z"
   },
   {
    "duration": 25,
    "start_time": "2023-03-05T22:49:41.222Z"
   },
   {
    "duration": 388,
    "start_time": "2023-03-05T22:49:41.249Z"
   },
   {
    "duration": 379,
    "start_time": "2023-03-05T22:49:41.644Z"
   },
   {
    "duration": 28,
    "start_time": "2023-03-05T22:49:42.024Z"
   },
   {
    "duration": 66,
    "start_time": "2023-03-05T22:49:42.054Z"
   },
   {
    "duration": 3,
    "start_time": "2023-03-05T22:49:42.122Z"
   },
   {
    "duration": 20,
    "start_time": "2023-03-05T22:49:42.127Z"
   },
   {
    "duration": 4,
    "start_time": "2023-03-05T22:49:43.660Z"
   },
   {
    "duration": 2,
    "start_time": "2023-03-05T22:49:46.644Z"
   },
   {
    "duration": 784,
    "start_time": "2023-03-05T22:49:48.862Z"
   },
   {
    "duration": 221,
    "start_time": "2023-03-05T22:49:49.648Z"
   },
   {
    "duration": 140,
    "start_time": "2023-03-05T22:50:03.019Z"
   },
   {
    "duration": 99,
    "start_time": "2023-03-05T22:51:22.667Z"
   },
   {
    "duration": 27,
    "start_time": "2023-03-05T22:51:29.314Z"
   },
   {
    "duration": 22,
    "start_time": "2023-03-05T22:51:43.599Z"
   },
   {
    "duration": 9,
    "start_time": "2023-03-05T22:57:08.609Z"
   },
   {
    "duration": 6652,
    "start_time": "2023-03-05T22:57:23.967Z"
   },
   {
    "duration": 4,
    "start_time": "2023-03-05T22:57:30.622Z"
   },
   {
    "duration": 1096,
    "start_time": "2023-03-05T22:57:30.629Z"
   },
   {
    "duration": 3,
    "start_time": "2023-03-05T22:57:31.727Z"
   },
   {
    "duration": 43,
    "start_time": "2023-03-05T22:57:31.732Z"
   },
   {
    "duration": 32,
    "start_time": "2023-03-05T22:57:31.776Z"
   },
   {
    "duration": 43,
    "start_time": "2023-03-05T22:57:31.810Z"
   },
   {
    "duration": 3,
    "start_time": "2023-03-05T22:57:31.855Z"
   },
   {
    "duration": 111,
    "start_time": "2023-03-05T22:57:31.859Z"
   },
   {
    "duration": 136,
    "start_time": "2023-03-05T22:57:31.972Z"
   },
   {
    "duration": 187,
    "start_time": "2023-03-05T22:57:32.110Z"
   },
   {
    "duration": 50,
    "start_time": "2023-03-05T22:57:32.299Z"
   },
   {
    "duration": 36,
    "start_time": "2023-03-05T22:57:32.351Z"
   },
   {
    "duration": 20,
    "start_time": "2023-03-05T22:57:32.389Z"
   },
   {
    "duration": 75,
    "start_time": "2023-03-05T22:57:32.411Z"
   },
   {
    "duration": 23,
    "start_time": "2023-03-05T22:57:32.488Z"
   },
   {
    "duration": 110,
    "start_time": "2023-03-05T22:57:32.513Z"
   },
   {
    "duration": 238,
    "start_time": "2023-03-05T22:57:32.624Z"
   },
   {
    "duration": 284,
    "start_time": "2023-03-05T22:57:32.864Z"
   },
   {
    "duration": 71,
    "start_time": "2023-03-05T22:57:33.150Z"
   },
   {
    "duration": 35,
    "start_time": "2023-03-05T22:57:33.223Z"
   },
   {
    "duration": 320,
    "start_time": "2023-03-05T22:57:33.259Z"
   },
   {
    "duration": 30,
    "start_time": "2023-03-05T22:57:33.581Z"
   },
   {
    "duration": 34,
    "start_time": "2023-03-05T22:57:33.612Z"
   },
   {
    "duration": 19,
    "start_time": "2023-03-05T22:57:33.648Z"
   },
   {
    "duration": 57,
    "start_time": "2023-03-05T22:57:33.669Z"
   },
   {
    "duration": 20,
    "start_time": "2023-03-05T22:57:33.728Z"
   },
   {
    "duration": 17,
    "start_time": "2023-03-05T22:57:33.752Z"
   },
   {
    "duration": 81,
    "start_time": "2023-03-05T22:57:33.771Z"
   },
   {
    "duration": 3,
    "start_time": "2023-03-05T22:57:33.853Z"
   },
   {
    "duration": 8,
    "start_time": "2023-03-05T22:57:33.858Z"
   },
   {
    "duration": 569,
    "start_time": "2023-03-05T22:57:33.867Z"
   },
   {
    "duration": 413,
    "start_time": "2023-03-05T22:57:34.439Z"
   },
   {
    "duration": 14,
    "start_time": "2023-03-05T22:57:34.853Z"
   },
   {
    "duration": 76,
    "start_time": "2023-03-05T22:57:34.869Z"
   },
   {
    "duration": 5,
    "start_time": "2023-03-05T22:57:34.946Z"
   },
   {
    "duration": 6,
    "start_time": "2023-03-05T22:57:34.953Z"
   },
   {
    "duration": 14,
    "start_time": "2023-03-05T22:57:34.961Z"
   },
   {
    "duration": 5,
    "start_time": "2023-03-05T22:57:34.976Z"
   },
   {
    "duration": 810,
    "start_time": "2023-03-05T22:57:34.983Z"
   },
   {
    "duration": 231,
    "start_time": "2023-03-05T22:57:35.794Z"
   },
   {
    "duration": 3,
    "start_time": "2023-03-05T22:57:36.026Z"
   },
   {
    "duration": 14,
    "start_time": "2023-03-05T22:57:36.031Z"
   },
   {
    "duration": 171,
    "start_time": "2023-03-05T22:57:36.047Z"
   },
   {
    "duration": 18,
    "start_time": "2023-03-05T22:57:39.342Z"
   },
   {
    "duration": 154,
    "start_time": "2023-03-06T13:09:25.961Z"
   },
   {
    "duration": 88,
    "start_time": "2023-03-06T13:13:34.884Z"
   },
   {
    "duration": 6996,
    "start_time": "2023-03-06T13:13:46.405Z"
   },
   {
    "duration": 276,
    "start_time": "2023-03-06T13:14:20.023Z"
   },
   {
    "duration": 2,
    "start_time": "2023-03-06T13:15:24.970Z"
   },
   {
    "duration": 1345,
    "start_time": "2023-03-06T13:15:25.206Z"
   },
   {
    "duration": 4,
    "start_time": "2023-03-06T13:15:26.626Z"
   },
   {
    "duration": 20,
    "start_time": "2023-03-06T13:15:26.831Z"
   },
   {
    "duration": 40,
    "start_time": "2023-03-06T13:15:27.208Z"
   },
   {
    "duration": 50,
    "start_time": "2023-03-06T13:15:28.557Z"
   },
   {
    "duration": 3,
    "start_time": "2023-03-06T13:15:28.767Z"
   },
   {
    "duration": 106,
    "start_time": "2023-03-06T13:15:28.968Z"
   },
   {
    "duration": 136,
    "start_time": "2023-03-06T13:15:29.968Z"
   },
   {
    "duration": 174,
    "start_time": "2023-03-06T13:15:30.467Z"
   },
   {
    "duration": 38,
    "start_time": "2023-03-06T13:15:30.670Z"
   },
   {
    "duration": 39,
    "start_time": "2023-03-06T13:15:30.841Z"
   },
   {
    "duration": 24,
    "start_time": "2023-03-06T13:15:31.025Z"
   },
   {
    "duration": 82,
    "start_time": "2023-03-06T13:15:31.235Z"
   },
   {
    "duration": 23,
    "start_time": "2023-03-06T13:15:31.641Z"
   },
   {
    "duration": 91,
    "start_time": "2023-03-06T13:15:32.664Z"
   },
   {
    "duration": 239,
    "start_time": "2023-03-06T13:15:32.869Z"
   },
   {
    "duration": 296,
    "start_time": "2023-03-06T13:15:33.361Z"
   },
   {
    "duration": 83,
    "start_time": "2023-03-06T13:15:33.955Z"
   },
   {
    "duration": 19,
    "start_time": "2023-03-06T13:15:34.991Z"
   },
   {
    "duration": 449,
    "start_time": "2023-03-06T13:15:35.258Z"
   },
   {
    "duration": 32,
    "start_time": "2023-03-06T13:15:35.709Z"
   },
   {
    "duration": 19,
    "start_time": "2023-03-06T13:15:35.993Z"
   },
   {
    "duration": 20,
    "start_time": "2023-03-06T13:15:38.396Z"
   },
   {
    "duration": 59,
    "start_time": "2023-03-06T13:15:39.466Z"
   },
   {
    "duration": 7,
    "start_time": "2023-03-06T13:15:39.923Z"
   },
   {
    "duration": 19,
    "start_time": "2023-03-06T13:15:50.770Z"
   },
   {
    "duration": 61,
    "start_time": "2023-03-06T13:15:51.518Z"
   },
   {
    "duration": 4,
    "start_time": "2023-03-06T13:15:53.838Z"
   },
   {
    "duration": 5,
    "start_time": "2023-03-06T13:15:54.296Z"
   },
   {
    "duration": 446,
    "start_time": "2023-03-06T13:15:55.588Z"
   },
   {
    "duration": 380,
    "start_time": "2023-03-06T13:15:58.273Z"
   },
   {
    "duration": 15,
    "start_time": "2023-03-06T13:16:00.800Z"
   },
   {
    "duration": 81,
    "start_time": "2023-03-06T13:16:01.615Z"
   },
   {
    "duration": 2,
    "start_time": "2023-03-06T13:16:09.642Z"
   },
   {
    "duration": 3,
    "start_time": "2023-03-06T13:16:10.004Z"
   },
   {
    "duration": 899,
    "start_time": "2023-03-06T13:16:11.359Z"
   },
   {
    "duration": 235,
    "start_time": "2023-03-06T13:16:14.239Z"
   },
   {
    "duration": 3,
    "start_time": "2023-03-06T13:16:21.859Z"
   },
   {
    "duration": 3,
    "start_time": "2023-03-06T13:16:23.074Z"
   },
   {
    "duration": 166,
    "start_time": "2023-03-06T13:16:31.712Z"
   },
   {
    "duration": 90,
    "start_time": "2023-03-06T13:16:42.867Z"
   },
   {
    "duration": 132,
    "start_time": "2023-03-06T13:17:31.215Z"
   },
   {
    "duration": 95,
    "start_time": "2023-03-06T13:18:41.453Z"
   },
   {
    "duration": 4,
    "start_time": "2023-03-06T13:18:59.260Z"
   },
   {
    "duration": 92,
    "start_time": "2023-03-06T13:19:11.817Z"
   },
   {
    "duration": 113,
    "start_time": "2023-03-06T13:19:23.776Z"
   },
   {
    "duration": 9,
    "start_time": "2023-03-06T13:19:59.995Z"
   },
   {
    "duration": 21,
    "start_time": "2023-03-06T14:49:32.986Z"
   },
   {
    "duration": 358,
    "start_time": "2023-03-06T14:50:02.852Z"
   },
   {
    "duration": 1611,
    "start_time": "2023-03-06T14:50:09.987Z"
   },
   {
    "duration": 966,
    "start_time": "2023-03-06T15:02:45.676Z"
   },
   {
    "duration": 425,
    "start_time": "2023-03-06T15:02:53.803Z"
   },
   {
    "duration": 13,
    "start_time": "2023-03-06T15:03:32.322Z"
   },
   {
    "duration": 167,
    "start_time": "2023-03-06T15:04:19.458Z"
   },
   {
    "duration": 149,
    "start_time": "2023-03-06T15:06:22.689Z"
   },
   {
    "duration": 166,
    "start_time": "2023-03-06T15:06:34.541Z"
   },
   {
    "duration": 155,
    "start_time": "2023-03-06T15:06:54.573Z"
   },
   {
    "duration": 178,
    "start_time": "2023-03-06T15:06:58.554Z"
   },
   {
    "duration": 308,
    "start_time": "2023-03-06T15:07:02.582Z"
   },
   {
    "duration": 155,
    "start_time": "2023-03-06T15:07:06.219Z"
   },
   {
    "duration": 12,
    "start_time": "2023-03-06T15:09:19.708Z"
   },
   {
    "duration": 13,
    "start_time": "2023-03-06T15:09:32.517Z"
   },
   {
    "duration": 1156,
    "start_time": "2023-03-06T15:10:04.504Z"
   },
   {
    "duration": 27,
    "start_time": "2023-03-06T15:10:10.685Z"
   },
   {
    "duration": 41,
    "start_time": "2023-03-06T15:10:13.011Z"
   },
   {
    "duration": 3,
    "start_time": "2023-03-06T15:10:13.311Z"
   },
   {
    "duration": 92,
    "start_time": "2023-03-06T15:10:13.870Z"
   },
   {
    "duration": 37,
    "start_time": "2023-03-06T15:10:21.919Z"
   },
   {
    "duration": 39,
    "start_time": "2023-03-06T15:10:22.413Z"
   },
   {
    "duration": 20,
    "start_time": "2023-03-06T15:10:22.773Z"
   },
   {
    "duration": 51,
    "start_time": "2023-03-06T15:10:23.291Z"
   },
   {
    "duration": 22,
    "start_time": "2023-03-06T15:10:24.605Z"
   },
   {
    "duration": 99,
    "start_time": "2023-03-06T15:10:26.850Z"
   },
   {
    "duration": 275,
    "start_time": "2023-03-06T15:10:31.026Z"
   },
   {
    "duration": 19,
    "start_time": "2023-03-06T15:10:39.253Z"
   },
   {
    "duration": 174,
    "start_time": "2023-03-06T15:10:42.670Z"
   },
   {
    "duration": 13,
    "start_time": "2023-03-06T15:10:46.847Z"
   },
   {
    "duration": 14,
    "start_time": "2023-03-06T15:11:34.454Z"
   },
   {
    "duration": 409,
    "start_time": "2023-03-06T15:11:45.292Z"
   },
   {
    "duration": 14,
    "start_time": "2023-03-06T15:17:40.034Z"
   },
   {
    "duration": 23,
    "start_time": "2023-03-06T15:18:40.176Z"
   },
   {
    "duration": 29,
    "start_time": "2023-03-06T15:19:22.971Z"
   },
   {
    "duration": 147,
    "start_time": "2023-03-06T15:19:35.918Z"
   },
   {
    "duration": 16,
    "start_time": "2023-03-06T15:19:40.585Z"
   },
   {
    "duration": 101,
    "start_time": "2023-03-06T15:21:26.491Z"
   },
   {
    "duration": 8,
    "start_time": "2023-03-06T15:23:00.322Z"
   },
   {
    "duration": 20,
    "start_time": "2023-03-06T15:23:19.582Z"
   },
   {
    "duration": 55,
    "start_time": "2023-03-06T15:23:21.620Z"
   },
   {
    "duration": 6,
    "start_time": "2023-03-06T15:23:22.028Z"
   },
   {
    "duration": 69,
    "start_time": "2023-03-06T15:23:27.589Z"
   },
   {
    "duration": 1111,
    "start_time": "2023-03-06T15:23:38.352Z"
   },
   {
    "duration": 4,
    "start_time": "2023-03-06T15:23:40.243Z"
   },
   {
    "duration": 15,
    "start_time": "2023-03-06T15:23:40.397Z"
   },
   {
    "duration": 21,
    "start_time": "2023-03-06T15:23:40.538Z"
   },
   {
    "duration": 18,
    "start_time": "2023-03-06T15:23:41.367Z"
   },
   {
    "duration": 4,
    "start_time": "2023-03-06T15:23:41.527Z"
   },
   {
    "duration": 98,
    "start_time": "2023-03-06T15:23:41.701Z"
   },
   {
    "duration": 94,
    "start_time": "2023-03-06T15:23:42.067Z"
   },
   {
    "duration": 180,
    "start_time": "2023-03-06T15:23:42.384Z"
   },
   {
    "duration": 43,
    "start_time": "2023-03-06T15:23:42.581Z"
   },
   {
    "duration": 39,
    "start_time": "2023-03-06T15:23:42.749Z"
   },
   {
    "duration": 21,
    "start_time": "2023-03-06T15:23:42.924Z"
   },
   {
    "duration": 55,
    "start_time": "2023-03-06T15:23:43.106Z"
   },
   {
    "duration": 24,
    "start_time": "2023-03-06T15:23:43.308Z"
   },
   {
    "duration": 92,
    "start_time": "2023-03-06T15:23:45.438Z"
   },
   {
    "duration": 218,
    "start_time": "2023-03-06T15:23:45.643Z"
   },
   {
    "duration": 256,
    "start_time": "2023-03-06T15:23:45.984Z"
   },
   {
    "duration": 73,
    "start_time": "2023-03-06T15:23:46.379Z"
   },
   {
    "duration": 19,
    "start_time": "2023-03-06T15:23:47.370Z"
   },
   {
    "duration": 2,
    "start_time": "2023-03-06T15:23:47.869Z"
   },
   {
    "duration": 197,
    "start_time": "2023-03-06T15:23:50.448Z"
   },
   {
    "duration": 13,
    "start_time": "2023-03-06T15:23:53.198Z"
   },
   {
    "duration": 30,
    "start_time": "2023-03-06T15:23:56.750Z"
   },
   {
    "duration": 23,
    "start_time": "2023-03-06T15:23:57.935Z"
   },
   {
    "duration": 23,
    "start_time": "2023-03-06T15:24:06.543Z"
   },
   {
    "duration": 56,
    "start_time": "2023-03-06T15:24:09.891Z"
   },
   {
    "duration": 5,
    "start_time": "2023-03-06T15:24:12.179Z"
   },
   {
    "duration": 17,
    "start_time": "2023-03-06T15:24:15.673Z"
   },
   {
    "duration": 60,
    "start_time": "2023-03-06T15:24:16.293Z"
   },
   {
    "duration": 3,
    "start_time": "2023-03-06T15:25:05.586Z"
   },
   {
    "duration": 5,
    "start_time": "2023-03-06T15:25:06.377Z"
   },
   {
    "duration": 1577,
    "start_time": "2023-03-06T15:31:28.246Z"
   },
   {
    "duration": 1398,
    "start_time": "2023-03-06T15:31:35.585Z"
   },
   {
    "duration": 20,
    "start_time": "2023-03-06T15:32:40.101Z"
   },
   {
    "duration": 6,
    "start_time": "2023-03-06T15:32:40.965Z"
   },
   {
    "duration": 13,
    "start_time": "2023-03-06T15:32:43.115Z"
   },
   {
    "duration": 67,
    "start_time": "2023-03-06T15:32:46.081Z"
   },
   {
    "duration": 86,
    "start_time": "2023-03-06T15:33:06.634Z"
   },
   {
    "duration": 82,
    "start_time": "2023-03-06T15:41:39.743Z"
   },
   {
    "duration": 6485,
    "start_time": "2023-03-06T15:43:46.583Z"
   },
   {
    "duration": 2,
    "start_time": "2023-03-06T15:43:53.071Z"
   },
   {
    "duration": 1180,
    "start_time": "2023-03-06T15:43:53.075Z"
   },
   {
    "duration": 3,
    "start_time": "2023-03-06T15:43:54.257Z"
   },
   {
    "duration": 31,
    "start_time": "2023-03-06T15:43:54.262Z"
   },
   {
    "duration": 42,
    "start_time": "2023-03-06T15:43:54.295Z"
   },
   {
    "duration": 63,
    "start_time": "2023-03-06T15:43:54.339Z"
   },
   {
    "duration": 3,
    "start_time": "2023-03-06T15:43:54.404Z"
   },
   {
    "duration": 116,
    "start_time": "2023-03-06T15:43:54.409Z"
   },
   {
    "duration": 164,
    "start_time": "2023-03-06T15:43:54.529Z"
   },
   {
    "duration": 190,
    "start_time": "2023-03-06T15:43:54.696Z"
   },
   {
    "duration": 39,
    "start_time": "2023-03-06T15:43:54.888Z"
   },
   {
    "duration": 56,
    "start_time": "2023-03-06T15:43:54.929Z"
   },
   {
    "duration": 32,
    "start_time": "2023-03-06T15:43:54.987Z"
   },
   {
    "duration": 57,
    "start_time": "2023-03-06T15:43:55.021Z"
   },
   {
    "duration": 23,
    "start_time": "2023-03-06T15:43:55.080Z"
   },
   {
    "duration": 109,
    "start_time": "2023-03-06T15:43:55.105Z"
   },
   {
    "duration": 248,
    "start_time": "2023-03-06T15:43:55.216Z"
   },
   {
    "duration": 322,
    "start_time": "2023-03-06T15:43:55.465Z"
   },
   {
    "duration": 73,
    "start_time": "2023-03-06T15:43:55.789Z"
   },
   {
    "duration": 25,
    "start_time": "2023-03-06T15:43:55.863Z"
   },
   {
    "duration": 3,
    "start_time": "2023-03-06T15:43:55.890Z"
   },
   {
    "duration": 196,
    "start_time": "2023-03-06T15:43:55.894Z"
   },
   {
    "duration": 13,
    "start_time": "2023-03-06T15:43:56.092Z"
   },
   {
    "duration": 30,
    "start_time": "2023-03-06T15:43:56.107Z"
   },
   {
    "duration": 42,
    "start_time": "2023-03-06T15:43:56.139Z"
   },
   {
    "duration": 59,
    "start_time": "2023-03-06T15:43:56.182Z"
   },
   {
    "duration": 39,
    "start_time": "2023-03-06T15:43:56.244Z"
   },
   {
    "duration": 6,
    "start_time": "2023-03-06T15:43:56.284Z"
   },
   {
    "duration": 24,
    "start_time": "2023-03-06T15:43:56.292Z"
   },
   {
    "duration": 74,
    "start_time": "2023-03-06T15:43:56.318Z"
   },
   {
    "duration": 4,
    "start_time": "2023-03-06T15:43:56.394Z"
   },
   {
    "duration": 9,
    "start_time": "2023-03-06T15:43:56.399Z"
   },
   {
    "duration": 478,
    "start_time": "2023-03-06T15:43:56.409Z"
   },
   {
    "duration": 476,
    "start_time": "2023-03-06T15:43:56.888Z"
   },
   {
    "duration": 17,
    "start_time": "2023-03-06T15:43:57.366Z"
   },
   {
    "duration": 74,
    "start_time": "2023-03-06T15:43:57.384Z"
   },
   {
    "duration": 4,
    "start_time": "2023-03-06T15:43:57.473Z"
   },
   {
    "duration": 6,
    "start_time": "2023-03-06T15:43:57.479Z"
   },
   {
    "duration": 5,
    "start_time": "2023-03-06T15:43:57.486Z"
   },
   {
    "duration": 6,
    "start_time": "2023-03-06T15:43:57.493Z"
   },
   {
    "duration": 784,
    "start_time": "2023-03-06T15:43:57.501Z"
   },
   {
    "duration": 187,
    "start_time": "2023-03-06T15:43:58.286Z"
   },
   {
    "duration": 0,
    "start_time": "2023-03-06T15:43:58.474Z"
   },
   {
    "duration": 0,
    "start_time": "2023-03-06T15:43:58.475Z"
   },
   {
    "duration": 0,
    "start_time": "2023-03-06T15:43:58.477Z"
   },
   {
    "duration": 0,
    "start_time": "2023-03-06T15:43:58.478Z"
   },
   {
    "duration": 0,
    "start_time": "2023-03-06T15:43:58.479Z"
   },
   {
    "duration": 0,
    "start_time": "2023-03-06T15:43:58.480Z"
   },
   {
    "duration": 0,
    "start_time": "2023-03-06T15:43:58.481Z"
   },
   {
    "duration": 0,
    "start_time": "2023-03-06T15:43:58.482Z"
   },
   {
    "duration": 0,
    "start_time": "2023-03-06T15:43:58.483Z"
   },
   {
    "duration": 0,
    "start_time": "2023-03-06T15:43:58.483Z"
   },
   {
    "duration": 0,
    "start_time": "2023-03-06T15:43:58.484Z"
   },
   {
    "duration": 0,
    "start_time": "2023-03-06T15:43:58.486Z"
   },
   {
    "duration": 0,
    "start_time": "2023-03-06T15:43:58.487Z"
   },
   {
    "duration": 0,
    "start_time": "2023-03-06T15:43:58.488Z"
   },
   {
    "duration": 0,
    "start_time": "2023-03-06T15:43:58.489Z"
   },
   {
    "duration": 0,
    "start_time": "2023-03-06T15:43:58.490Z"
   },
   {
    "duration": 0,
    "start_time": "2023-03-06T15:43:58.491Z"
   },
   {
    "duration": 0,
    "start_time": "2023-03-06T15:43:58.492Z"
   },
   {
    "duration": 0,
    "start_time": "2023-03-06T15:43:58.493Z"
   },
   {
    "duration": 68,
    "start_time": "2023-03-06T15:45:28.217Z"
   },
   {
    "duration": 6,
    "start_time": "2023-03-06T15:46:14.055Z"
   },
   {
    "duration": 67,
    "start_time": "2023-03-06T15:46:18.590Z"
   },
   {
    "duration": 6540,
    "start_time": "2023-03-06T15:46:55.770Z"
   },
   {
    "duration": 3,
    "start_time": "2023-03-06T15:47:02.313Z"
   },
   {
    "duration": 2151,
    "start_time": "2023-03-06T15:47:02.319Z"
   },
   {
    "duration": 3,
    "start_time": "2023-03-06T15:47:04.472Z"
   },
   {
    "duration": 23,
    "start_time": "2023-03-06T15:47:04.477Z"
   },
   {
    "duration": 44,
    "start_time": "2023-03-06T15:47:04.501Z"
   },
   {
    "duration": 68,
    "start_time": "2023-03-06T15:47:04.547Z"
   },
   {
    "duration": 5,
    "start_time": "2023-03-06T15:47:04.617Z"
   },
   {
    "duration": 170,
    "start_time": "2023-03-06T15:47:04.623Z"
   },
   {
    "duration": 201,
    "start_time": "2023-03-06T15:47:04.795Z"
   },
   {
    "duration": 190,
    "start_time": "2023-03-06T15:47:04.997Z"
   },
   {
    "duration": 39,
    "start_time": "2023-03-06T15:47:05.189Z"
   },
   {
    "duration": 55,
    "start_time": "2023-03-06T15:47:05.230Z"
   },
   {
    "duration": 38,
    "start_time": "2023-03-06T15:47:05.289Z"
   },
   {
    "duration": 81,
    "start_time": "2023-03-06T15:47:05.329Z"
   },
   {
    "duration": 25,
    "start_time": "2023-03-06T15:47:05.412Z"
   },
   {
    "duration": 128,
    "start_time": "2023-03-06T15:47:05.439Z"
   },
   {
    "duration": 253,
    "start_time": "2023-03-06T15:47:05.569Z"
   },
   {
    "duration": 302,
    "start_time": "2023-03-06T15:47:05.824Z"
   },
   {
    "duration": 81,
    "start_time": "2023-03-06T15:47:06.128Z"
   },
   {
    "duration": 19,
    "start_time": "2023-03-06T15:47:06.211Z"
   },
   {
    "duration": 3,
    "start_time": "2023-03-06T15:47:06.232Z"
   },
   {
    "duration": 200,
    "start_time": "2023-03-06T15:47:06.236Z"
   },
   {
    "duration": 14,
    "start_time": "2023-03-06T15:47:06.438Z"
   },
   {
    "duration": 38,
    "start_time": "2023-03-06T15:47:06.453Z"
   },
   {
    "duration": 19,
    "start_time": "2023-03-06T15:47:06.493Z"
   },
   {
    "duration": 76,
    "start_time": "2023-03-06T15:47:06.514Z"
   },
   {
    "duration": 25,
    "start_time": "2023-03-06T15:47:06.592Z"
   },
   {
    "duration": 5,
    "start_time": "2023-03-06T15:47:06.619Z"
   },
   {
    "duration": 40,
    "start_time": "2023-03-06T15:47:06.626Z"
   },
   {
    "duration": 75,
    "start_time": "2023-03-06T15:47:06.668Z"
   },
   {
    "duration": 3,
    "start_time": "2023-03-06T15:47:06.745Z"
   },
   {
    "duration": 19,
    "start_time": "2023-03-06T15:47:06.749Z"
   },
   {
    "duration": 422,
    "start_time": "2023-03-06T15:47:06.770Z"
   },
   {
    "duration": 465,
    "start_time": "2023-03-06T15:47:07.193Z"
   },
   {
    "duration": 16,
    "start_time": "2023-03-06T15:47:07.661Z"
   },
   {
    "duration": 71,
    "start_time": "2023-03-06T15:47:07.679Z"
   },
   {
    "duration": 25,
    "start_time": "2023-03-06T15:47:07.752Z"
   },
   {
    "duration": 8,
    "start_time": "2023-03-06T15:47:07.778Z"
   },
   {
    "duration": 9,
    "start_time": "2023-03-06T15:47:07.788Z"
   },
   {
    "duration": 11,
    "start_time": "2023-03-06T15:47:07.802Z"
   },
   {
    "duration": 767,
    "start_time": "2023-03-06T15:47:07.815Z"
   },
   {
    "duration": 184,
    "start_time": "2023-03-06T15:47:08.584Z"
   },
   {
    "duration": 0,
    "start_time": "2023-03-06T15:47:08.772Z"
   },
   {
    "duration": 0,
    "start_time": "2023-03-06T15:47:08.774Z"
   },
   {
    "duration": 0,
    "start_time": "2023-03-06T15:47:08.775Z"
   },
   {
    "duration": 0,
    "start_time": "2023-03-06T15:47:08.776Z"
   },
   {
    "duration": 0,
    "start_time": "2023-03-06T15:47:08.778Z"
   },
   {
    "duration": 0,
    "start_time": "2023-03-06T15:47:08.780Z"
   },
   {
    "duration": 0,
    "start_time": "2023-03-06T15:47:08.781Z"
   },
   {
    "duration": 0,
    "start_time": "2023-03-06T15:47:08.782Z"
   },
   {
    "duration": 0,
    "start_time": "2023-03-06T15:47:08.784Z"
   },
   {
    "duration": 0,
    "start_time": "2023-03-06T15:47:08.785Z"
   },
   {
    "duration": 0,
    "start_time": "2023-03-06T15:47:08.787Z"
   },
   {
    "duration": 0,
    "start_time": "2023-03-06T15:47:08.788Z"
   },
   {
    "duration": 0,
    "start_time": "2023-03-06T15:47:08.790Z"
   },
   {
    "duration": 0,
    "start_time": "2023-03-06T15:47:08.791Z"
   },
   {
    "duration": 0,
    "start_time": "2023-03-06T15:47:08.793Z"
   },
   {
    "duration": 0,
    "start_time": "2023-03-06T15:47:08.795Z"
   },
   {
    "duration": 0,
    "start_time": "2023-03-06T15:47:08.796Z"
   },
   {
    "duration": 0,
    "start_time": "2023-03-06T15:47:08.798Z"
   },
   {
    "duration": 0,
    "start_time": "2023-03-06T15:47:08.799Z"
   },
   {
    "duration": 49,
    "start_time": "2023-03-07T15:46:11.583Z"
   },
   {
    "duration": 6539,
    "start_time": "2023-03-07T15:46:57.017Z"
   },
   {
    "duration": 2,
    "start_time": "2023-03-07T15:47:03.559Z"
   },
   {
    "duration": 1468,
    "start_time": "2023-03-07T15:47:03.562Z"
   },
   {
    "duration": 3,
    "start_time": "2023-03-07T15:47:05.032Z"
   },
   {
    "duration": 49,
    "start_time": "2023-03-07T15:47:05.037Z"
   },
   {
    "duration": 49,
    "start_time": "2023-03-07T15:47:05.088Z"
   },
   {
    "duration": 67,
    "start_time": "2023-03-07T15:47:05.139Z"
   },
   {
    "duration": 4,
    "start_time": "2023-03-07T15:47:05.208Z"
   },
   {
    "duration": 123,
    "start_time": "2023-03-07T15:47:05.214Z"
   },
   {
    "duration": 131,
    "start_time": "2023-03-07T15:47:05.339Z"
   },
   {
    "duration": 179,
    "start_time": "2023-03-07T15:47:05.471Z"
   },
   {
    "duration": 47,
    "start_time": "2023-03-07T15:47:05.652Z"
   },
   {
    "duration": 61,
    "start_time": "2023-03-07T15:47:05.701Z"
   },
   {
    "duration": 41,
    "start_time": "2023-03-07T15:47:05.764Z"
   },
   {
    "duration": 61,
    "start_time": "2023-03-07T15:47:05.807Z"
   },
   {
    "duration": 44,
    "start_time": "2023-03-07T15:47:05.870Z"
   },
   {
    "duration": 102,
    "start_time": "2023-03-07T15:47:05.916Z"
   },
   {
    "duration": 237,
    "start_time": "2023-03-07T15:47:06.020Z"
   },
   {
    "duration": 370,
    "start_time": "2023-03-07T15:47:06.258Z"
   },
   {
    "duration": 68,
    "start_time": "2023-03-07T15:47:06.629Z"
   },
   {
    "duration": 20,
    "start_time": "2023-03-07T15:47:06.699Z"
   },
   {
    "duration": 2,
    "start_time": "2023-03-07T15:47:06.722Z"
   },
   {
    "duration": 210,
    "start_time": "2023-03-07T15:47:06.726Z"
   },
   {
    "duration": 12,
    "start_time": "2023-03-07T15:47:06.939Z"
   },
   {
    "duration": 47,
    "start_time": "2023-03-07T15:47:06.953Z"
   },
   {
    "duration": 23,
    "start_time": "2023-03-07T15:47:07.912Z"
   },
   {
    "duration": 68,
    "start_time": "2023-03-07T15:47:08.456Z"
   },
   {
    "duration": 28,
    "start_time": "2023-03-07T15:47:08.862Z"
   },
   {
    "duration": 6,
    "start_time": "2023-03-07T15:47:09.089Z"
   },
   {
    "duration": 22,
    "start_time": "2023-03-07T15:47:12.617Z"
   },
   {
    "duration": 54,
    "start_time": "2023-03-07T15:47:13.400Z"
   },
   {
    "duration": 3,
    "start_time": "2023-03-07T15:47:15.761Z"
   },
   {
    "duration": 90,
    "start_time": "2023-03-07T15:47:39.667Z"
   },
   {
    "duration": 14,
    "start_time": "2023-03-07T15:47:53.674Z"
   },
   {
    "duration": 60,
    "start_time": "2023-03-07T15:47:54.135Z"
   },
   {
    "duration": 14,
    "start_time": "2023-03-07T15:48:07.000Z"
   },
   {
    "duration": 3,
    "start_time": "2023-03-07T15:48:15.364Z"
   },
   {
    "duration": 8,
    "start_time": "2023-03-07T15:48:25.251Z"
   },
   {
    "duration": 9,
    "start_time": "2023-03-07T15:50:54.119Z"
   },
   {
    "duration": 5,
    "start_time": "2023-03-07T15:50:56.974Z"
   },
   {
    "duration": 6009,
    "start_time": "2023-03-07T15:52:48.297Z"
   },
   {
    "duration": 3,
    "start_time": "2023-03-07T15:52:54.308Z"
   },
   {
    "duration": 1074,
    "start_time": "2023-03-07T15:52:54.313Z"
   },
   {
    "duration": 4,
    "start_time": "2023-03-07T15:52:55.389Z"
   },
   {
    "duration": 22,
    "start_time": "2023-03-07T15:52:55.395Z"
   },
   {
    "duration": 35,
    "start_time": "2023-03-07T15:52:55.419Z"
   },
   {
    "duration": 47,
    "start_time": "2023-03-07T15:52:55.456Z"
   },
   {
    "duration": 3,
    "start_time": "2023-03-07T15:52:55.505Z"
   },
   {
    "duration": 101,
    "start_time": "2023-03-07T15:52:55.509Z"
   },
   {
    "duration": 138,
    "start_time": "2023-03-07T15:52:55.612Z"
   },
   {
    "duration": 173,
    "start_time": "2023-03-07T15:52:55.752Z"
   },
   {
    "duration": 36,
    "start_time": "2023-03-07T15:52:55.927Z"
   },
   {
    "duration": 54,
    "start_time": "2023-03-07T15:52:55.965Z"
   },
   {
    "duration": 21,
    "start_time": "2023-03-07T15:52:56.023Z"
   },
   {
    "duration": 69,
    "start_time": "2023-03-07T15:52:56.046Z"
   },
   {
    "duration": 22,
    "start_time": "2023-03-07T15:52:56.117Z"
   },
   {
    "duration": 133,
    "start_time": "2023-03-07T15:52:56.141Z"
   },
   {
    "duration": 345,
    "start_time": "2023-03-07T15:52:56.276Z"
   },
   {
    "duration": 272,
    "start_time": "2023-03-07T15:52:56.622Z"
   },
   {
    "duration": 66,
    "start_time": "2023-03-07T15:52:56.896Z"
   },
   {
    "duration": 30,
    "start_time": "2023-03-07T15:52:56.963Z"
   },
   {
    "duration": 3,
    "start_time": "2023-03-07T15:52:56.995Z"
   },
   {
    "duration": 178,
    "start_time": "2023-03-07T15:52:56.999Z"
   },
   {
    "duration": 18,
    "start_time": "2023-03-07T15:52:57.179Z"
   },
   {
    "duration": 26,
    "start_time": "2023-03-07T15:52:57.199Z"
   },
   {
    "duration": 18,
    "start_time": "2023-03-07T15:52:57.227Z"
   },
   {
    "duration": 80,
    "start_time": "2023-03-07T15:52:57.246Z"
   },
   {
    "duration": 21,
    "start_time": "2023-03-07T15:52:57.327Z"
   },
   {
    "duration": 5,
    "start_time": "2023-03-07T15:52:57.349Z"
   },
   {
    "duration": 35,
    "start_time": "2023-03-07T15:52:57.356Z"
   },
   {
    "duration": 52,
    "start_time": "2023-03-07T15:52:57.393Z"
   },
   {
    "duration": 3,
    "start_time": "2023-03-07T15:52:57.447Z"
   },
   {
    "duration": 9,
    "start_time": "2023-03-07T15:52:57.451Z"
   },
   {
    "duration": 428,
    "start_time": "2023-03-07T15:52:57.463Z"
   },
   {
    "duration": 489,
    "start_time": "2023-03-07T15:52:57.894Z"
   },
   {
    "duration": 14,
    "start_time": "2023-03-07T15:52:58.385Z"
   },
   {
    "duration": 70,
    "start_time": "2023-03-07T15:52:58.403Z"
   },
   {
    "duration": 15,
    "start_time": "2023-03-07T15:52:58.476Z"
   },
   {
    "duration": 6,
    "start_time": "2023-03-07T15:52:58.494Z"
   },
   {
    "duration": 8,
    "start_time": "2023-03-07T15:52:58.502Z"
   },
   {
    "duration": 9,
    "start_time": "2023-03-07T15:52:58.515Z"
   },
   {
    "duration": 718,
    "start_time": "2023-03-07T15:52:58.526Z"
   },
   {
    "duration": 202,
    "start_time": "2023-03-07T15:52:59.246Z"
   },
   {
    "duration": 3,
    "start_time": "2023-03-07T15:52:59.450Z"
   },
   {
    "duration": 7,
    "start_time": "2023-03-07T15:52:59.455Z"
   },
   {
    "duration": 159,
    "start_time": "2023-03-07T15:52:59.464Z"
   },
   {
    "duration": 3,
    "start_time": "2023-03-07T15:52:59.625Z"
   }
  ],
  "kernelspec": {
   "display_name": "Python 3 (ipykernel)",
   "language": "python",
   "name": "python3"
  },
  "language_info": {
   "codemirror_mode": {
    "name": "ipython",
    "version": 3
   },
   "file_extension": ".py",
   "mimetype": "text/x-python",
   "name": "python",
   "nbconvert_exporter": "python",
   "pygments_lexer": "ipython3",
   "version": "3.9.12"
  },
  "toc": {
   "base_numbering": 1,
   "nav_menu": {},
   "number_sections": true,
   "sideBar": true,
   "skip_h1_title": true,
   "title_cell": "Table of Contents",
   "title_sidebar": "Contents",
   "toc_cell": false,
   "toc_position": {
    "height": "calc(100% - 180px)",
    "left": "10px",
    "top": "150px",
    "width": "357px"
   },
   "toc_section_display": true,
   "toc_window_display": true
  }
 },
 "nbformat": 4,
 "nbformat_minor": 5
}
