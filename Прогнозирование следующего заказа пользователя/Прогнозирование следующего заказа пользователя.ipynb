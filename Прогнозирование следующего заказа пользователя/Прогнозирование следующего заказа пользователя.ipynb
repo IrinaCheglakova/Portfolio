{
 "cells": [
  {
   "cell_type": "markdown",
   "id": "7cecb44f-d3c9-4399-91ba-407ec15f1264",
   "metadata": {},
   "source": [
    "# Прогнозирование следующего заказа пользователя"
   ]
  },
  {
   "cell_type": "markdown",
   "id": "bc342afa-2eb7-4c53-8804-77c5ce3deb6b",
   "metadata": {},
   "source": [
    "В данном проекте необходимо решить задачу предсказания следующего заказа пользователя в сервисе доставки (безотносительно конкретного момента времени, когда этот заказ произойдет). Заказ пользователя состоит из списка уникальных категорий товаров, вне зависимости от того, сколько продуктов каждой категории он взял.\n",
    "\n",
    "Для решения данной задачи выполним следующие этапы:\n",
    "\n",
    "1. Предобработка данных\n",
    "\n",
    "   1.1. Импорт библиотек\n",
    "   \n",
    "   1.2. Загрузка данных\n",
    "   \n",
    "   1.3. Предварительный анализ данных\n",
    "   \n",
    "   1.4. Обработка данных\n",
    "   \n",
    "   1.5. Разделение на выборки\n",
    "   \n",
    "2. Исследовательский анализ данных\n",
    "3. Обучение моделей\n",
    "\n",
    "   3.1. Light GBM\n",
    "   \n",
    "   3.2. Cat Boost\n",
    "   \n",
    "   3.3. Random Forest\n",
    "   \n",
    "   3.4. Logistic Regression\n",
    "   \n",
    "4. Тестирование модели\n",
    "5. Формирование предсказаний\n",
    "6. Вывод\n"
   ]
  },
  {
   "cell_type": "markdown",
   "id": "c0774527-5116-4a90-8ea8-d4d20f465598",
   "metadata": {},
   "source": [
    "### Предобработка данных"
   ]
  },
  {
   "cell_type": "markdown",
   "id": "42e7c304-9dd7-4a5f-8a4c-2b24bc498c0d",
   "metadata": {
    "tags": []
   },
   "source": [
    "#### Импорт библиотек"
   ]
  },
  {
   "cell_type": "code",
   "execution_count": 1,
   "id": "9fd52e23-bd27-4c6f-b15a-992fb1124b5b",
   "metadata": {
    "tags": []
   },
   "outputs": [],
   "source": [
    "import pandas as pd\n",
    "import matplotlib.pyplot as plt\n",
    "import numpy as np\n",
    "import seaborn as sns\n",
    "from sklearn.model_selection import train_test_split, GridSearchCV, RandomizedSearchCV, cross_val_score\n",
    "from sklearn.preprocessing import OrdinalEncoder, OneHotEncoder\n",
    "from sklearn.preprocessing import StandardScaler\n",
    "from sklearn.compose import make_column_transformer\n",
    "from sklearn.pipeline import make_pipeline\n",
    "from sklearn.metrics import f1_score\n",
    "from sklearn.ensemble import RandomForestClassifier\n",
    "from sklearn.linear_model import LogisticRegression\n",
    "import lightgbm as lgb\n",
    "from catboost import CatBoostClassifier\n",
    "import matplotlib.pyplot as plt\n",
    "import time\n",
    "import phik"
   ]
  },
  {
   "cell_type": "code",
   "execution_count": 2,
   "id": "6ba4382e-5486-43d2-b0ce-6fdfd063b9ab",
   "metadata": {
    "tags": []
   },
   "outputs": [],
   "source": [
    "RANDOM_STATE = 12345"
   ]
  },
  {
   "cell_type": "markdown",
   "id": "c618b8f9-e29d-4923-a8a8-f13268e98575",
   "metadata": {},
   "source": [
    "#### Загрузка данных"
   ]
  },
  {
   "cell_type": "code",
   "execution_count": 3,
   "id": "6969f0bb-b006-431b-953e-310ba6fc5967",
   "metadata": {
    "tags": []
   },
   "outputs": [],
   "source": [
    "train = pd.read_csv('train.csv', parse_dates = ['order_completed_at'])\n",
    "sub = pd.read_csv('sample_submission.csv')"
   ]
  },
  {
   "cell_type": "code",
   "execution_count": 4,
   "id": "11952833-d0e8-4859-b020-91e1d24da575",
   "metadata": {
    "tags": []
   },
   "outputs": [],
   "source": [
    "train_original = train.copy()"
   ]
  },
  {
   "cell_type": "markdown",
   "id": "bc8c48bb-bd94-41fd-9696-c806e50f0196",
   "metadata": {},
   "source": [
    "#### Предварительный анализ данных"
   ]
  },
  {
   "cell_type": "code",
   "execution_count": 5,
   "id": "33bce80c-6f1f-45f9-8649-4839152cee00",
   "metadata": {},
   "outputs": [],
   "source": [
    "df_list = [train, sub]\n",
    "df_names = ['train', 'sub']"
   ]
  },
  {
   "cell_type": "code",
   "execution_count": 6,
   "id": "0b7df235-e4d3-4a86-a7b8-5d09c9d5adb8",
   "metadata": {},
   "outputs": [
    {
     "name": "stdout",
     "output_type": "stream",
     "text": [
      "train\n",
      "\n",
      "Размер датафрейма:\n"
     ]
    },
    {
     "data": {
      "text/plain": [
       "(3123064, 3)"
      ]
     },
     "metadata": {},
     "output_type": "display_data"
    },
    {
     "name": "stdout",
     "output_type": "stream",
     "text": [
      "<class 'pandas.core.frame.DataFrame'>\n",
      "RangeIndex: 3123064 entries, 0 to 3123063\n",
      "Data columns (total 3 columns):\n",
      " #   Column              Dtype         \n",
      "---  ------              -----         \n",
      " 0   user_id             int64         \n",
      " 1   order_completed_at  datetime64[ns]\n",
      " 2   cart                int64         \n",
      "dtypes: datetime64[ns](1), int64(2)\n",
      "memory usage: 71.5 MB\n"
     ]
    },
    {
     "data": {
      "text/plain": [
       "None"
      ]
     },
     "metadata": {},
     "output_type": "display_data"
    },
    {
     "data": {
      "text/html": [
       "<div>\n",
       "<style scoped>\n",
       "    .dataframe tbody tr th:only-of-type {\n",
       "        vertical-align: middle;\n",
       "    }\n",
       "\n",
       "    .dataframe tbody tr th {\n",
       "        vertical-align: top;\n",
       "    }\n",
       "\n",
       "    .dataframe thead th {\n",
       "        text-align: right;\n",
       "    }\n",
       "</style>\n",
       "<table border=\"1\" class=\"dataframe\">\n",
       "  <thead>\n",
       "    <tr style=\"text-align: right;\">\n",
       "      <th></th>\n",
       "      <th>user_id</th>\n",
       "      <th>order_completed_at</th>\n",
       "      <th>cart</th>\n",
       "    </tr>\n",
       "  </thead>\n",
       "  <tbody>\n",
       "    <tr>\n",
       "      <th>0</th>\n",
       "      <td>2</td>\n",
       "      <td>2015-03-22 09:25:46</td>\n",
       "      <td>399</td>\n",
       "    </tr>\n",
       "    <tr>\n",
       "      <th>1</th>\n",
       "      <td>2</td>\n",
       "      <td>2015-03-22 09:25:46</td>\n",
       "      <td>14</td>\n",
       "    </tr>\n",
       "    <tr>\n",
       "      <th>2</th>\n",
       "      <td>2</td>\n",
       "      <td>2015-03-22 09:25:46</td>\n",
       "      <td>198</td>\n",
       "    </tr>\n",
       "    <tr>\n",
       "      <th>3</th>\n",
       "      <td>2</td>\n",
       "      <td>2015-03-22 09:25:46</td>\n",
       "      <td>88</td>\n",
       "    </tr>\n",
       "    <tr>\n",
       "      <th>4</th>\n",
       "      <td>2</td>\n",
       "      <td>2015-03-22 09:25:46</td>\n",
       "      <td>157</td>\n",
       "    </tr>\n",
       "  </tbody>\n",
       "</table>\n",
       "</div>"
      ],
      "text/plain": [
       "   user_id  order_completed_at  cart\n",
       "0        2 2015-03-22 09:25:46   399\n",
       "1        2 2015-03-22 09:25:46    14\n",
       "2        2 2015-03-22 09:25:46   198\n",
       "3        2 2015-03-22 09:25:46    88\n",
       "4        2 2015-03-22 09:25:46   157"
      ]
     },
     "metadata": {},
     "output_type": "display_data"
    },
    {
     "name": "stdout",
     "output_type": "stream",
     "text": [
      "Количество пропусков:\n",
      "user_id               0\n",
      "order_completed_at    0\n",
      "cart                  0\n",
      "dtype: int64\n",
      "Количество дубликатов: 0\n",
      "\n",
      "sub\n",
      "\n",
      "Размер датафрейма:\n"
     ]
    },
    {
     "data": {
      "text/plain": [
       "(790449, 2)"
      ]
     },
     "metadata": {},
     "output_type": "display_data"
    },
    {
     "name": "stdout",
     "output_type": "stream",
     "text": [
      "<class 'pandas.core.frame.DataFrame'>\n",
      "RangeIndex: 790449 entries, 0 to 790448\n",
      "Data columns (total 2 columns):\n",
      " #   Column  Non-Null Count   Dtype \n",
      "---  ------  --------------   ----- \n",
      " 0   id      790449 non-null  object\n",
      " 1   target  790449 non-null  int64 \n",
      "dtypes: int64(1), object(1)\n",
      "memory usage: 12.1+ MB\n"
     ]
    },
    {
     "data": {
      "text/plain": [
       "None"
      ]
     },
     "metadata": {},
     "output_type": "display_data"
    },
    {
     "data": {
      "text/html": [
       "<div>\n",
       "<style scoped>\n",
       "    .dataframe tbody tr th:only-of-type {\n",
       "        vertical-align: middle;\n",
       "    }\n",
       "\n",
       "    .dataframe tbody tr th {\n",
       "        vertical-align: top;\n",
       "    }\n",
       "\n",
       "    .dataframe thead th {\n",
       "        text-align: right;\n",
       "    }\n",
       "</style>\n",
       "<table border=\"1\" class=\"dataframe\">\n",
       "  <thead>\n",
       "    <tr style=\"text-align: right;\">\n",
       "      <th></th>\n",
       "      <th>id</th>\n",
       "      <th>target</th>\n",
       "    </tr>\n",
       "  </thead>\n",
       "  <tbody>\n",
       "    <tr>\n",
       "      <th>0</th>\n",
       "      <td>0;133</td>\n",
       "      <td>0</td>\n",
       "    </tr>\n",
       "    <tr>\n",
       "      <th>1</th>\n",
       "      <td>0;5</td>\n",
       "      <td>1</td>\n",
       "    </tr>\n",
       "    <tr>\n",
       "      <th>2</th>\n",
       "      <td>0;10</td>\n",
       "      <td>0</td>\n",
       "    </tr>\n",
       "    <tr>\n",
       "      <th>3</th>\n",
       "      <td>0;396</td>\n",
       "      <td>1</td>\n",
       "    </tr>\n",
       "    <tr>\n",
       "      <th>4</th>\n",
       "      <td>0;14</td>\n",
       "      <td>0</td>\n",
       "    </tr>\n",
       "  </tbody>\n",
       "</table>\n",
       "</div>"
      ],
      "text/plain": [
       "      id  target\n",
       "0  0;133       0\n",
       "1    0;5       1\n",
       "2   0;10       0\n",
       "3  0;396       1\n",
       "4   0;14       0"
      ]
     },
     "metadata": {},
     "output_type": "display_data"
    },
    {
     "name": "stdout",
     "output_type": "stream",
     "text": [
      "Количество пропусков:\n",
      "id        0\n",
      "target    0\n",
      "dtype: int64\n",
      "Количество дубликатов: 0\n",
      "\n"
     ]
    }
   ],
   "source": [
    "for i, df in enumerate(df_list):\n",
    "    print(df_names[i])\n",
    "    print()    \n",
    "    print('Размер датафрейма:')\n",
    "    display(df.shape)\n",
    "    display(df.info())\n",
    "    display(df.head())\n",
    "    print('Количество пропусков:')\n",
    "    print(df.isna().sum())\n",
    "    print('Количество дубликатов:', df.duplicated().sum())\n",
    "    print()"
   ]
  },
  {
   "cell_type": "markdown",
   "id": "1e52df2d-c62f-4fa1-82f7-9f4e614dc460",
   "metadata": {},
   "source": [
    "Добавим столбец с целевым признаком и дополнительные признаки: ordered(количество покупок пользователя по каждой категории), orders_total(общее количество покупок пользователя), rating(доля каждой категории в заказах клиента)."
   ]
  },
  {
   "cell_type": "code",
   "execution_count": 7,
   "id": "838be9a1-520b-483f-9463-13e662854607",
   "metadata": {
    "tags": []
   },
   "outputs": [
    {
     "name": "stdout",
     "output_type": "stream",
     "text": [
      "True\n",
      "CPU times: total: 1min 5s\n",
      "Wall time: 1min 7s\n"
     ]
    },
    {
     "data": {
      "text/html": [
       "<div>\n",
       "<style scoped>\n",
       "    .dataframe tbody tr th:only-of-type {\n",
       "        vertical-align: middle;\n",
       "    }\n",
       "\n",
       "    .dataframe tbody tr th {\n",
       "        vertical-align: top;\n",
       "    }\n",
       "\n",
       "    .dataframe thead th {\n",
       "        text-align: right;\n",
       "    }\n",
       "</style>\n",
       "<table border=\"1\" class=\"dataframe\">\n",
       "  <thead>\n",
       "    <tr style=\"text-align: right;\">\n",
       "      <th></th>\n",
       "      <th>user_id</th>\n",
       "      <th>category</th>\n",
       "      <th>ordered</th>\n",
       "      <th>orders_total</th>\n",
       "      <th>rating</th>\n",
       "      <th>id</th>\n",
       "      <th>target</th>\n",
       "      <th>total_ordered</th>\n",
       "    </tr>\n",
       "  </thead>\n",
       "  <tbody>\n",
       "    <tr>\n",
       "      <th>0</th>\n",
       "      <td>7</td>\n",
       "      <td>0</td>\n",
       "      <td>0</td>\n",
       "      <td>10</td>\n",
       "      <td>0.000000</td>\n",
       "      <td>7;0</td>\n",
       "      <td>1</td>\n",
       "      <td>12922</td>\n",
       "    </tr>\n",
       "    <tr>\n",
       "      <th>1</th>\n",
       "      <td>8</td>\n",
       "      <td>0</td>\n",
       "      <td>1</td>\n",
       "      <td>7</td>\n",
       "      <td>0.142857</td>\n",
       "      <td>8;0</td>\n",
       "      <td>0</td>\n",
       "      <td>12922</td>\n",
       "    </tr>\n",
       "    <tr>\n",
       "      <th>2</th>\n",
       "      <td>9</td>\n",
       "      <td>0</td>\n",
       "      <td>1</td>\n",
       "      <td>45</td>\n",
       "      <td>0.022222</td>\n",
       "      <td>9;0</td>\n",
       "      <td>0</td>\n",
       "      <td>12922</td>\n",
       "    </tr>\n",
       "    <tr>\n",
       "      <th>3</th>\n",
       "      <td>12</td>\n",
       "      <td>0</td>\n",
       "      <td>1</td>\n",
       "      <td>20</td>\n",
       "      <td>0.050000</td>\n",
       "      <td>12;0</td>\n",
       "      <td>1</td>\n",
       "      <td>12922</td>\n",
       "    </tr>\n",
       "    <tr>\n",
       "      <th>4</th>\n",
       "      <td>13</td>\n",
       "      <td>0</td>\n",
       "      <td>3</td>\n",
       "      <td>16</td>\n",
       "      <td>0.187500</td>\n",
       "      <td>13;0</td>\n",
       "      <td>0</td>\n",
       "      <td>12922</td>\n",
       "    </tr>\n",
       "  </tbody>\n",
       "</table>\n",
       "</div>"
      ],
      "text/plain": [
       "   user_id category  ordered  orders_total    rating    id  target  \\\n",
       "0        7        0        0            10  0.000000   7;0       1   \n",
       "1        8        0        1             7  0.142857   8;0       0   \n",
       "2        9        0        1            45  0.022222   9;0       0   \n",
       "3       12        0        1            20  0.050000  12;0       1   \n",
       "4       13        0        3            16  0.187500  13;0       0   \n",
       "\n",
       "   total_ordered  \n",
       "0          12922  \n",
       "1          12922  \n",
       "2          12922  \n",
       "3          12922  \n",
       "4          12922  "
      ]
     },
     "execution_count": 7,
     "metadata": {},
     "output_type": "execute_result"
    }
   ],
   "source": [
    "%%time\n",
    "\n",
    "train_raw = pd.get_dummies(train, columns = ['cart'], prefix='', prefix_sep='', dtype='bool')\n",
    "train_raw = train_raw.groupby(['user_id', 'order_completed_at']).any().reset_index()\n",
    "\n",
    "# Создаем столбец 'order_number', содержащий порядковый номер заказа для каждого пользователя\n",
    "train_raw['order_number'] = train_raw.groupby(['user_id']).cumcount() \n",
    "train_raw = train_raw.drop('order_completed_at', axis=1)\n",
    "\n",
    "# Разделение наборов данных по последнему заказу\n",
    "last_order = train_raw.groupby(['user_id'])['order_number'].transform(max) == train_raw['order_number']\n",
    "train = train_raw[~last_order].groupby('user_id').sum().reset_index()\n",
    "valid = train_raw[last_order].reset_index(drop=True)\n",
    "\n",
    "# Подсчет числа покупок для каждой категории для каждого пользователя\n",
    "train_melt = pd.melt(train, id_vars=['user_id'], var_name='category', value_name='ordered')\n",
    "valid_melt = pd.melt(valid, id_vars=['user_id'], var_name='category', value_name='target')\n",
    "\n",
    "df = train_melt.copy()\n",
    "\n",
    "# Общее количество покупок для каждого пользователя\n",
    "order_number = valid[['user_id', 'order_number']].set_index('user_id').squeeze()\n",
    "df['orders_total']= df['user_id'].map(order_number)\n",
    "\n",
    "# Доля каждой категории в заказах клиента\n",
    "df['rating'] = df['ordered'] / df['orders_total']\n",
    "\n",
    "df['id'] = df['user_id'].astype(str) + ';' + df['category']\n",
    "\n",
    "df['target'] = valid_melt['target'].astype(int)\n",
    "\n",
    "# Удаление данных с id, которых нет в submission\n",
    "df = df[df.id.isin(sub.id.unique())].reset_index(drop=True)\n",
    "\n",
    "print((df.sort_values('id')['id'].values == df.sort_values('id')['id'].values).all())\n",
    "\n",
    "# Общее количество покупок пользователя\n",
    "total_ordered = df.groupby('category')['ordered'].sum()\n",
    "df['total_ordered'] = df['category'].map(total_ordered)\n",
    "\n",
    "df.head()"
   ]
  },
  {
   "cell_type": "code",
   "execution_count": 8,
   "id": "3055cac7-acc8-43c3-92ed-5e05b5dcbb44",
   "metadata": {
    "tags": []
   },
   "outputs": [
    {
     "data": {
      "text/html": [
       "<div>\n",
       "<style scoped>\n",
       "    .dataframe tbody tr th:only-of-type {\n",
       "        vertical-align: middle;\n",
       "    }\n",
       "\n",
       "    .dataframe tbody tr th {\n",
       "        vertical-align: top;\n",
       "    }\n",
       "\n",
       "    .dataframe thead th {\n",
       "        text-align: right;\n",
       "    }\n",
       "</style>\n",
       "<table border=\"1\" class=\"dataframe\">\n",
       "  <thead>\n",
       "    <tr style=\"text-align: right;\">\n",
       "      <th></th>\n",
       "      <th>user_id</th>\n",
       "      <th>ordered</th>\n",
       "      <th>orders_total</th>\n",
       "      <th>rating</th>\n",
       "      <th>target</th>\n",
       "      <th>total_ordered</th>\n",
       "    </tr>\n",
       "  </thead>\n",
       "  <tbody>\n",
       "    <tr>\n",
       "      <th>count</th>\n",
       "      <td>790449.000000</td>\n",
       "      <td>790449.000000</td>\n",
       "      <td>790449.000000</td>\n",
       "      <td>790449.000000</td>\n",
       "      <td>790449.000000</td>\n",
       "      <td>790449.000000</td>\n",
       "    </tr>\n",
       "    <tr>\n",
       "      <th>mean</th>\n",
       "      <td>8772.236142</td>\n",
       "      <td>2.794790</td>\n",
       "      <td>16.392377</td>\n",
       "      <td>0.240382</td>\n",
       "      <td>0.235965</td>\n",
       "      <td>17688.961333</td>\n",
       "    </tr>\n",
       "    <tr>\n",
       "      <th>std</th>\n",
       "      <td>5695.199690</td>\n",
       "      <td>4.182902</td>\n",
       "      <td>17.236483</td>\n",
       "      <td>0.225124</td>\n",
       "      <td>0.424600</td>\n",
       "      <td>17161.220472</td>\n",
       "    </tr>\n",
       "    <tr>\n",
       "      <th>min</th>\n",
       "      <td>0.000000</td>\n",
       "      <td>0.000000</td>\n",
       "      <td>2.000000</td>\n",
       "      <td>0.000000</td>\n",
       "      <td>0.000000</td>\n",
       "      <td>0.000000</td>\n",
       "    </tr>\n",
       "    <tr>\n",
       "      <th>25%</th>\n",
       "      <td>3840.000000</td>\n",
       "      <td>1.000000</td>\n",
       "      <td>5.000000</td>\n",
       "      <td>0.071429</td>\n",
       "      <td>0.000000</td>\n",
       "      <td>4992.000000</td>\n",
       "    </tr>\n",
       "    <tr>\n",
       "      <th>50%</th>\n",
       "      <td>8110.000000</td>\n",
       "      <td>1.000000</td>\n",
       "      <td>11.000000</td>\n",
       "      <td>0.166667</td>\n",
       "      <td>0.000000</td>\n",
       "      <td>12505.000000</td>\n",
       "    </tr>\n",
       "    <tr>\n",
       "      <th>75%</th>\n",
       "      <td>13478.000000</td>\n",
       "      <td>3.000000</td>\n",
       "      <td>21.000000</td>\n",
       "      <td>0.333333</td>\n",
       "      <td>0.000000</td>\n",
       "      <td>23073.000000</td>\n",
       "    </tr>\n",
       "    <tr>\n",
       "      <th>max</th>\n",
       "      <td>19998.000000</td>\n",
       "      <td>136.000000</td>\n",
       "      <td>186.000000</td>\n",
       "      <td>1.000000</td>\n",
       "      <td>1.000000</td>\n",
       "      <td>77000.000000</td>\n",
       "    </tr>\n",
       "  </tbody>\n",
       "</table>\n",
       "</div>"
      ],
      "text/plain": [
       "             user_id        ordered   orders_total         rating  \\\n",
       "count  790449.000000  790449.000000  790449.000000  790449.000000   \n",
       "mean     8772.236142       2.794790      16.392377       0.240382   \n",
       "std      5695.199690       4.182902      17.236483       0.225124   \n",
       "min         0.000000       0.000000       2.000000       0.000000   \n",
       "25%      3840.000000       1.000000       5.000000       0.071429   \n",
       "50%      8110.000000       1.000000      11.000000       0.166667   \n",
       "75%     13478.000000       3.000000      21.000000       0.333333   \n",
       "max     19998.000000     136.000000     186.000000       1.000000   \n",
       "\n",
       "              target  total_ordered  \n",
       "count  790449.000000  790449.000000  \n",
       "mean        0.235965   17688.961333  \n",
       "std         0.424600   17161.220472  \n",
       "min         0.000000       0.000000  \n",
       "25%         0.000000    4992.000000  \n",
       "50%         0.000000   12505.000000  \n",
       "75%         0.000000   23073.000000  \n",
       "max         1.000000   77000.000000  "
      ]
     },
     "execution_count": 8,
     "metadata": {},
     "output_type": "execute_result"
    }
   ],
   "source": [
    "df.describe()"
   ]
  },
  {
   "cell_type": "code",
   "execution_count": 9,
   "id": "fd285b97-6615-40b9-a129-807627f0dc9c",
   "metadata": {},
   "outputs": [
    {
     "name": "stdout",
     "output_type": "stream",
     "text": [
      "<class 'pandas.core.frame.DataFrame'>\n",
      "RangeIndex: 790449 entries, 0 to 790448\n",
      "Data columns (total 8 columns):\n",
      " #   Column         Non-Null Count   Dtype  \n",
      "---  ------         --------------   -----  \n",
      " 0   user_id        790449 non-null  int64  \n",
      " 1   category       790449 non-null  object \n",
      " 2   ordered        790449 non-null  int64  \n",
      " 3   orders_total   790449 non-null  int64  \n",
      " 4   rating         790449 non-null  float64\n",
      " 5   id             790449 non-null  object \n",
      " 6   target         790449 non-null  int32  \n",
      " 7   total_ordered  790449 non-null  int64  \n",
      "dtypes: float64(1), int32(1), int64(4), object(2)\n",
      "memory usage: 45.2+ MB\n"
     ]
    }
   ],
   "source": [
    "df.info()"
   ]
  },
  {
   "cell_type": "markdown",
   "id": "7f8009fa-0755-4435-9502-20bc86a3be89",
   "metadata": {},
   "source": [
    "Изменим тип данных признака category и удалим столбец id."
   ]
  },
  {
   "cell_type": "code",
   "execution_count": 10,
   "id": "554b4385-afa9-42cf-af6a-705605b13dc7",
   "metadata": {
    "tags": []
   },
   "outputs": [],
   "source": [
    "df['category'] = df['category'].astype('int64')"
   ]
  },
  {
   "cell_type": "code",
   "execution_count": 11,
   "id": "240d2f54-1a25-48f0-85fc-e269f388898b",
   "metadata": {
    "tags": []
   },
   "outputs": [],
   "source": [
    "df = df.drop(['id'], axis=1)"
   ]
  },
  {
   "cell_type": "markdown",
   "id": "958e63d1-23fd-4a93-8fad-145c6cb23e10",
   "metadata": {
    "tags": []
   },
   "source": [
    "#### Разделение на выборки"
   ]
  },
  {
   "cell_type": "code",
   "execution_count": 12,
   "id": "74948073-775a-400c-994a-3538974468cf",
   "metadata": {
    "tags": []
   },
   "outputs": [],
   "source": [
    "y = df['target'] #извлечем целевой признак\n",
    "X = df.drop(['target'], axis=1) #извлечем признаки"
   ]
  },
  {
   "cell_type": "code",
   "execution_count": 13,
   "id": "f90eb4e3-4480-4b4b-b16f-06d5ada6d1f5",
   "metadata": {
    "tags": []
   },
   "outputs": [],
   "source": [
    "X_train, X_test, y_train, y_test = train_test_split(X, y, shuffle=False, \n",
    "                                                    test_size = 0.2, \n",
    "                                                    random_state=RANDOM_STATE)"
   ]
  },
  {
   "cell_type": "code",
   "execution_count": 14,
   "id": "4dd807eb-0aff-40c2-973d-c3ed929c2e20",
   "metadata": {
    "tags": []
   },
   "outputs": [
    {
     "data": {
      "text/html": [
       "<div>\n",
       "<style scoped>\n",
       "    .dataframe tbody tr th:only-of-type {\n",
       "        vertical-align: middle;\n",
       "    }\n",
       "\n",
       "    .dataframe tbody tr th {\n",
       "        vertical-align: top;\n",
       "    }\n",
       "\n",
       "    .dataframe thead th {\n",
       "        text-align: right;\n",
       "    }\n",
       "</style>\n",
       "<table border=\"1\" class=\"dataframe\">\n",
       "  <thead>\n",
       "    <tr style=\"text-align: right;\">\n",
       "      <th></th>\n",
       "      <th>user_id</th>\n",
       "      <th>category</th>\n",
       "      <th>ordered</th>\n",
       "      <th>orders_total</th>\n",
       "      <th>rating</th>\n",
       "      <th>total_ordered</th>\n",
       "    </tr>\n",
       "  </thead>\n",
       "  <tbody>\n",
       "    <tr>\n",
       "      <th>0</th>\n",
       "      <td>7</td>\n",
       "      <td>0</td>\n",
       "      <td>0</td>\n",
       "      <td>10</td>\n",
       "      <td>0.000000</td>\n",
       "      <td>12922</td>\n",
       "    </tr>\n",
       "    <tr>\n",
       "      <th>1</th>\n",
       "      <td>8</td>\n",
       "      <td>0</td>\n",
       "      <td>1</td>\n",
       "      <td>7</td>\n",
       "      <td>0.142857</td>\n",
       "      <td>12922</td>\n",
       "    </tr>\n",
       "  </tbody>\n",
       "</table>\n",
       "</div>"
      ],
      "text/plain": [
       "   user_id  category  ordered  orders_total    rating  total_ordered\n",
       "0        7         0        0            10  0.000000          12922\n",
       "1        8         0        1             7  0.142857          12922"
      ]
     },
     "execution_count": 14,
     "metadata": {},
     "output_type": "execute_result"
    }
   ],
   "source": [
    "X_train.head(2)"
   ]
  },
  {
   "cell_type": "code",
   "execution_count": 15,
   "id": "07305307-753c-4b9c-a442-034701306aeb",
   "metadata": {
    "tags": []
   },
   "outputs": [
    {
     "name": "stdout",
     "output_type": "stream",
     "text": [
      "Строк в тренировочной выборке: 632359 строк в тестовой выборке: 158090\n"
     ]
    }
   ],
   "source": [
    "print('Строк в тренировочной выборке:', X_train.shape[0],\n",
    "    'строк в тестовой выборке:', X_test.shape[0])"
   ]
  },
  {
   "cell_type": "markdown",
   "id": "171d3dc8-6a9c-4d1d-8821-04c82182fdd5",
   "metadata": {},
   "source": [
    "#### Стандартизация численных признаков"
   ]
  },
  {
   "cell_type": "code",
   "execution_count": 16,
   "id": "5b6085bc-d4a8-417e-91c7-0d7fabf6ab1e",
   "metadata": {
    "tags": []
   },
   "outputs": [],
   "source": [
    "#произведем масштабирование данных для линейной регрессии\n",
    "X_train_lr = X_train.copy()\n",
    "X_test_lr = X_test.copy()\n",
    "\n",
    "scaler = StandardScaler()\n",
    "scaler.fit(X_train)\n",
    "X_train_lr = scaler.transform(X_train)\n",
    "X_test_lr = scaler.transform(X_test)"
   ]
  },
  {
   "cell_type": "markdown",
   "id": "97b4b3b6-08f7-4ed7-987f-58ccd77107d8",
   "metadata": {},
   "source": [
    "<b>ВЫВОД.</b> \n",
    "Датасеты размерами (3123064, 3), (790449, 2) были исследованы, данные подготовлены для дальнейшего обучения:рассчитаны целевой и дополнительные признаки, удалены неинформативные столбцы. Размер преобразованного датафрейма для обучения: (790449, 8).\n",
    "Произведено разделение на выборки, произведено масштабирование численных признаков."
   ]
  },
  {
   "cell_type": "markdown",
   "id": "830e245b-550a-456a-af07-5996bc799799",
   "metadata": {},
   "source": [
    "### Исследовательский анализ данных"
   ]
  },
  {
   "cell_type": "markdown",
   "id": "d2ba1e80-8273-48a6-829b-ba9437f80e02",
   "metadata": {},
   "source": [
    "Проверим баланс классов целевого признака."
   ]
  },
  {
   "cell_type": "code",
   "execution_count": 17,
   "id": "0b31a3b9-498f-4618-8d88-eca888e20575",
   "metadata": {
    "tags": []
   },
   "outputs": [
    {
     "data": {
      "text/plain": [
       "target\n",
       "0    0.764035\n",
       "1    0.235965\n",
       "Name: proportion, dtype: float64"
      ]
     },
     "metadata": {},
     "output_type": "display_data"
    },
    {
     "data": {
      "image/png": "[encoded data removed]",
      "text/plain": [
       "<Figure size 640x480 with 1 Axes>"
      ]
     },
     "metadata": {},
     "output_type": "display_data"
    }
   ],
   "source": [
    "class_frequency = df['target'].value_counts(normalize=True)\n",
    "display(class_frequency)\n",
    "class_frequency.plot(kind='bar', title='Распределение классов целевого признака');"
   ]
  },
  {
   "cell_type": "markdown",
   "id": "03db83c6-94e6-4e3d-a43d-dc6fe414bced",
   "metadata": {},
   "source": [
    "Классы не сбалансированы."
   ]
  },
  {
   "cell_type": "code",
   "execution_count": 18,
   "id": "6f139d39-cd8e-4471-b059-5463fb6a1964",
   "metadata": {
    "tags": []
   },
   "outputs": [
    {
     "name": "stdout",
     "output_type": "stream",
     "text": [
      "Количество уникальных категорий:\n"
     ]
    },
    {
     "data": {
      "text/plain": [
       "858"
      ]
     },
     "execution_count": 18,
     "metadata": {},
     "output_type": "execute_result"
    }
   ],
   "source": [
    "print('Количество уникальных категорий:')\n",
    "df['category'].nunique()"
   ]
  },
  {
   "cell_type": "code",
   "execution_count": 19,
   "id": "4296910a-c4e4-4441-8d77-473aac14f612",
   "metadata": {
    "tags": []
   },
   "outputs": [
    {
     "data": {
      "image/png": "[encoded data removed]",
      "text/plain": [
       "<Figure size 1200x400 with 1 Axes>"
      ]
     },
     "metadata": {},
     "output_type": "display_data"
    }
   ],
   "source": [
    "plt.rcParams['figure.figsize'] = (12, 4)\n",
    "sns.histplot(train_original, x='cart', multiple='stack')\n",
    "plt.title('Распределение признака Category')\n",
    "plt.xlabel('Category')\n",
    "plt.ylabel('Count')\n",
    "plt.show()"
   ]
  },
  {
   "cell_type": "code",
   "execution_count": 20,
   "id": "0516a43b-e7ce-4bab-95de-e6e3aa06948e",
   "metadata": {
    "tags": []
   },
   "outputs": [
    {
     "data": {
      "image/png": "[encoded data removed]",
      "text/plain": [
       "<Figure size 1200x400 with 1 Axes>"
      ]
     },
     "metadata": {},
     "output_type": "display_data"
    }
   ],
   "source": [
    "plt.rcParams['figure.figsize'] = (12, 4)\n",
    "category_orders = train_original.groupby('cart')['user_id'].count().sort_values(ascending=False)\n",
    "top_categories = pd.DataFrame({'orders_total': category_orders.values, 'category': category_orders.index})\n",
    "top_15_categories = top_categories.head(15)\n",
    "top_categories = top_categories.sort_values('orders_total', ascending=False)\n",
    "\n",
    "top_categories_barplot = sns.barplot(y= 'orders_total', x = 'category', data = top_15_categories, order=top_15_categories['category'])\n",
    "top_categories_barplot.set_title('Топ-10 категорий по числу заказов');"
   ]
  },
  {
   "cell_type": "markdown",
   "id": "8553e6d2",
   "metadata": {},
   "source": [
    "Исследуем корреляцию признаков"
   ]
  },
  {
   "cell_type": "code",
   "execution_count": 21,
   "id": "1efd1d45-2d48-4d54-a040-6f0217da4246",
   "metadata": {},
   "outputs": [
    {
     "name": "stdout",
     "output_type": "stream",
     "text": [
      "interval columns not set, guessing: ['user_id', 'category', 'ordered', 'orders_total', 'rating', 'target', 'total_ordered']\n"
     ]
    }
   ],
   "source": [
    "phik_overview = df.phik_matrix().round(2)"
   ]
  },
  {
   "cell_type": "code",
   "execution_count": 22,
   "id": "76da1c68-18ea-468d-a354-f0545666bfc3",
   "metadata": {},
   "outputs": [
    {
     "data": {
      "image/png": "[encoded data removed]",
      "text/plain": [
       "<Figure size 800x600 with 2 Axes>"
      ]
     },
     "metadata": {},
     "output_type": "display_data"
    }
   ],
   "source": [
    "plt.figure(figsize=(8, 6))\n",
    "sns.heatmap(phik_overview, annot=True,cmap='Blues')\n",
    "plt.title('Корреляция признаков')\n",
    "plt.show()"
   ]
  },
  {
   "cell_type": "markdown",
   "id": "d8acfc34-38bc-440d-a156-38c141c753f6",
   "metadata": {},
   "source": [
    "<b>ВЫВОД.</b> Проведен исследовательских анализ данных. Классы целевого признака не сбалансированы. Исследована корреляция между признаками, мультиколлинеарности не обнаружено. Наибольшая зависимость между признаками category и total_ordered. Некоторые категории пользуются значительно большей популярностью. Самая популярная категория - 57."
   ]
  },
  {
   "cell_type": "markdown",
   "id": "0b94eac2-6de1-49c7-9f62-c3e2833a26a9",
   "metadata": {},
   "source": [
    "### Обучение моделей"
   ]
  },
  {
   "cell_type": "markdown",
   "id": "19046377-8216-428d-90e2-1ca0aa06a320",
   "metadata": {},
   "source": [
    "#### Light GBM"
   ]
  },
  {
   "cell_type": "code",
   "execution_count": 23,
   "id": "3eed71fb-7494-4297-8954-e9b14cd81098",
   "metadata": {
    "tags": []
   },
   "outputs": [
    {
     "name": "stdout",
     "output_type": "stream",
     "text": [
      "Fitting 5 folds for each of 324 candidates, totalling 1620 fits\n",
      "[LightGBM] [Info] Number of positive: 155056, number of negative: 477303\n",
      "[LightGBM] [Info] Auto-choosing row-wise multi-threading, the overhead of testing was 0.010049 seconds.\n",
      "You can set `force_row_wise=true` to remove the overhead.\n",
      "And if memory is not enough, you can set `force_col_wise=true`.\n",
      "[LightGBM] [Info] Total Bins 1112\n",
      "[LightGBM] [Info] Number of data points in the train set: 632359, number of used features: 6\n",
      "[LightGBM] [Info] [binary:BoostFromScore]: pavg=0.245202 -> initscore=-1.124365\n",
      "[LightGBM] [Info] Start training from score -1.124365\n",
      "[LightGBM] [Warning] No further splits with positive gain, best gain: -inf\n",
      "[LightGBM] [Warning] No further splits with positive gain, best gain: -inf\n",
      "[LightGBM] [Warning] No further splits with positive gain, best gain: -inf\n",
      "[LightGBM] [Warning] No further splits with positive gain, best gain: -inf\n",
      "[LightGBM] [Warning] No further splits with positive gain, best gain: -inf\n",
      "[LightGBM] [Warning] No further splits with positive gain, best gain: -inf\n",
      "[LightGBM] [Warning] No further splits with positive gain, best gain: -inf\n",
      "[LightGBM] [Warning] No further splits with positive gain, best gain: -inf\n",
      "[LightGBM] [Warning] No further splits with positive gain, best gain: -inf\n",
      "[LightGBM] [Warning] No further splits with positive gain, best gain: -inf\n",
      "[LightGBM] [Warning] No further splits with positive gain, best gain: -inf\n",
      "[LightGBM] [Warning] No further splits with positive gain, best gain: -inf\n",
      "[LightGBM] [Warning] No further splits with positive gain, best gain: -inf\n",
      "[LightGBM] [Warning] No further splits with positive gain, best gain: -inf\n",
      "[LightGBM] [Warning] No further splits with positive gain, best gain: -inf\n",
      "[LightGBM] [Warning] No further splits with positive gain, best gain: -inf\n",
      "[LightGBM] [Warning] No further splits with positive gain, best gain: -inf\n",
      "[LightGBM] [Warning] No further splits with positive gain, best gain: -inf\n",
      "[LightGBM] [Warning] No further splits with positive gain, best gain: -inf\n",
      "Время обучения LightGBM: 6310\n",
      "CPU times: total: 37.1 s\n",
      "Wall time: 1h 45min 10s\n"
     ]
    }
   ],
   "source": [
    "%%time\n",
    "\n",
    "gbm = lgb.LGBMClassifier(random_state=RANDOM_STATE)\n",
    "\n",
    "gbm_parametrs = {'learning_rate': [0.01, 0.05, 0.1],\n",
    "               'max_depth': range(2, 11),\n",
    "               'num_leaves': [30, 40, 50],\n",
    "               'n_estimators': [100, 200, 300, 400]\n",
    "             }\n",
    "\n",
    "gbm_grid = GridSearchCV(gbm, gbm_parametrs, scoring='f1', cv=5, n_jobs=-1, verbose=10)\n",
    "begin = time.time()\n",
    "gbm_grid.fit(X_train, y_train)\n",
    "end = time.time()\n",
    "time_gbm = round(end - begin)\n",
    "print('Время обучения LightGBM:', time_gbm)"
   ]
  },
  {
   "cell_type": "code",
   "execution_count": 24,
   "id": "e83cc7d3-a6b1-4c91-be82-b2a6e0937bd7",
   "metadata": {
    "tags": []
   },
   "outputs": [
    {
     "name": "stdout",
     "output_type": "stream",
     "text": [
      "{'learning_rate': 0.01, 'max_depth': 2, 'n_estimators': 300, 'num_leaves': 30}\n"
     ]
    }
   ],
   "source": [
    "gbm_params = gbm_grid.best_params_\n",
    "print(gbm_params)"
   ]
  },
  {
   "cell_type": "code",
   "execution_count": 25,
   "id": "e9871597-ccaa-4443-ba19-58dd5f3dfced",
   "metadata": {
    "tags": []
   },
   "outputs": [
    {
     "name": "stdout",
     "output_type": "stream",
     "text": [
      "F1 LightGBM: 0.5147\n"
     ]
    }
   ],
   "source": [
    "gbm_scores = gbm_grid.best_score_.round(4)\n",
    "print('F1 LightGBM:', gbm_scores)"
   ]
  },
  {
   "cell_type": "markdown",
   "id": "1ab993bf-a907-4ecf-8621-fa1076d1f698",
   "metadata": {},
   "source": [
    "#### Cat Boost"
   ]
  },
  {
   "cell_type": "code",
   "execution_count": 26,
   "id": "8c71d032-fdc5-47e4-b3d0-ae4f19294207",
   "metadata": {
    "scrolled": true,
    "tags": []
   },
   "outputs": [
    {
     "name": "stdout",
     "output_type": "stream",
     "text": [
      "Fitting 5 folds for each of 45 candidates, totalling 225 fits\n",
      "0:\tlearn: 0.6312380\ttotal: 191ms\tremaining: 1m 35s\n",
      "1:\tlearn: 0.5899750\ttotal: 250ms\tremaining: 1m 2s\n",
      "2:\tlearn: 0.5618013\ttotal: 300ms\tremaining: 49.7s\n",
      "3:\tlearn: 0.5393885\ttotal: 347ms\tremaining: 43.1s\n",
      "4:\tlearn: 0.5204894\ttotal: 397ms\tremaining: 39.3s\n",
      "5:\tlearn: 0.4996718\ttotal: 467ms\tremaining: 38.5s\n",
      "6:\tlearn: 0.4846488\ttotal: 516ms\tremaining: 36.4s\n",
      "7:\tlearn: 0.4734797\ttotal: 564ms\tremaining: 34.7s\n",
      "8:\tlearn: 0.4635896\ttotal: 608ms\tremaining: 33.2s\n",
      "9:\tlearn: 0.4549344\ttotal: 660ms\tremaining: 32.3s\n",
      "10:\tlearn: 0.4484944\ttotal: 708ms\tremaining: 31.5s\n",
      "11:\tlearn: 0.4433624\ttotal: 755ms\tremaining: 30.7s\n",
      "12:\tlearn: 0.4383217\ttotal: 798ms\tremaining: 29.9s\n",
      "13:\tlearn: 0.4340760\ttotal: 849ms\tremaining: 29.5s\n",
      "14:\tlearn: 0.4311730\ttotal: 896ms\tremaining: 29s\n",
      "15:\tlearn: 0.4231999\ttotal: 953ms\tremaining: 28.8s\n",
      "16:\tlearn: 0.4195766\ttotal: 1s\tremaining: 28.4s\n",
      "17:\tlearn: 0.4163253\ttotal: 1.04s\tremaining: 27.9s\n",
      "18:\tlearn: 0.4139082\ttotal: 1.09s\tremaining: 27.7s\n",
      "19:\tlearn: 0.4123088\ttotal: 1.14s\tremaining: 27.5s\n",
      "20:\tlearn: 0.4099632\ttotal: 1.19s\tremaining: 27.1s\n",
      "21:\tlearn: 0.4085517\ttotal: 1.23s\tremaining: 26.8s\n",
      "22:\tlearn: 0.4072867\ttotal: 1.28s\tremaining: 26.5s\n",
      "23:\tlearn: 0.4056833\ttotal: 1.32s\tremaining: 26.2s\n",
      "24:\tlearn: 0.4043496\ttotal: 1.36s\tremaining: 26s\n",
      "25:\tlearn: 0.4035824\ttotal: 1.41s\tremaining: 25.7s\n",
      "26:\tlearn: 0.4024043\ttotal: 1.45s\tremaining: 25.4s\n",
      "27:\tlearn: 0.4014317\ttotal: 1.49s\tremaining: 25.1s\n",
      "28:\tlearn: 0.4009189\ttotal: 1.53s\tremaining: 24.8s\n",
      "29:\tlearn: 0.3965151\ttotal: 1.58s\tremaining: 24.8s\n",
      "30:\tlearn: 0.3953780\ttotal: 1.63s\tremaining: 24.6s\n",
      "31:\tlearn: 0.3946121\ttotal: 1.67s\tremaining: 24.4s\n",
      "32:\tlearn: 0.3937002\ttotal: 1.7s\tremaining: 24.1s\n",
      "33:\tlearn: 0.3928231\ttotal: 1.75s\tremaining: 23.9s\n",
      "34:\tlearn: 0.3923473\ttotal: 1.78s\tremaining: 23.7s\n",
      "35:\tlearn: 0.3919212\ttotal: 1.82s\tremaining: 23.5s\n",
      "36:\tlearn: 0.3915645\ttotal: 1.86s\tremaining: 23.3s\n",
      "37:\tlearn: 0.3907870\ttotal: 1.9s\tremaining: 23.1s\n",
      "38:\tlearn: 0.3902482\ttotal: 1.94s\tremaining: 22.9s\n",
      "39:\tlearn: 0.3899838\ttotal: 1.98s\tremaining: 22.7s\n",
      "40:\tlearn: 0.3897407\ttotal: 2.02s\tremaining: 22.6s\n",
      "41:\tlearn: 0.3892316\ttotal: 2.06s\tremaining: 22.5s\n",
      "42:\tlearn: 0.3888518\ttotal: 2.1s\tremaining: 22.3s\n",
      "43:\tlearn: 0.3883817\ttotal: 2.14s\tremaining: 22.2s\n",
      "44:\tlearn: 0.3882002\ttotal: 2.18s\tremaining: 22.1s\n",
      "45:\tlearn: 0.3880249\ttotal: 2.22s\tremaining: 21.9s\n",
      "46:\tlearn: 0.3870888\ttotal: 2.25s\tremaining: 21.7s\n",
      "47:\tlearn: 0.3868600\ttotal: 2.29s\tremaining: 21.6s\n",
      "48:\tlearn: 0.3865149\ttotal: 2.33s\tremaining: 21.5s\n",
      "49:\tlearn: 0.3863820\ttotal: 2.37s\tremaining: 21.3s\n",
      "50:\tlearn: 0.3860545\ttotal: 2.41s\tremaining: 21.2s\n",
      "51:\tlearn: 0.3859227\ttotal: 2.44s\tremaining: 21s\n",
      "52:\tlearn: 0.3858218\ttotal: 2.48s\tremaining: 20.9s\n",
      "53:\tlearn: 0.3838806\ttotal: 2.52s\tremaining: 20.9s\n",
      "54:\tlearn: 0.3834741\ttotal: 2.56s\tremaining: 20.7s\n",
      "55:\tlearn: 0.3833168\ttotal: 2.6s\tremaining: 20.6s\n",
      "56:\tlearn: 0.3830255\ttotal: 2.64s\tremaining: 20.5s\n",
      "57:\tlearn: 0.3829335\ttotal: 2.67s\tremaining: 20.4s\n",
      "58:\tlearn: 0.3826431\ttotal: 2.71s\tremaining: 20.3s\n",
      "59:\tlearn: 0.3825759\ttotal: 2.75s\tremaining: 20.2s\n",
      "60:\tlearn: 0.3823571\ttotal: 2.79s\tremaining: 20.1s\n",
      "61:\tlearn: 0.3821921\ttotal: 2.83s\tremaining: 20s\n",
      "62:\tlearn: 0.3821339\ttotal: 2.87s\tremaining: 19.9s\n",
      "63:\tlearn: 0.3820653\ttotal: 2.9s\tremaining: 19.8s\n",
      "64:\tlearn: 0.3820091\ttotal: 2.94s\tremaining: 19.7s\n",
      "65:\tlearn: 0.3818469\ttotal: 2.98s\tremaining: 19.6s\n",
      "66:\tlearn: 0.3816983\ttotal: 3.02s\tremaining: 19.5s\n",
      "67:\tlearn: 0.3816323\ttotal: 3.06s\tremaining: 19.4s\n",
      "68:\tlearn: 0.3815055\ttotal: 3.1s\tremaining: 19.4s\n",
      "69:\tlearn: 0.3801923\ttotal: 3.15s\tremaining: 19.3s\n",
      "70:\tlearn: 0.3801117\ttotal: 3.19s\tremaining: 19.3s\n",
      "71:\tlearn: 0.3799339\ttotal: 3.23s\tremaining: 19.2s\n",
      "72:\tlearn: 0.3798271\ttotal: 3.27s\tremaining: 19.1s\n",
      "73:\tlearn: 0.3796549\ttotal: 3.31s\tremaining: 19.1s\n",
      "74:\tlearn: 0.3796170\ttotal: 3.35s\tremaining: 19s\n",
      "75:\tlearn: 0.3795722\ttotal: 3.38s\tremaining: 18.9s\n",
      "76:\tlearn: 0.3795108\ttotal: 3.43s\tremaining: 18.8s\n",
      "77:\tlearn: 0.3794733\ttotal: 3.46s\tremaining: 18.7s\n",
      "78:\tlearn: 0.3794270\ttotal: 3.51s\tremaining: 18.7s\n",
      "79:\tlearn: 0.3793911\ttotal: 3.55s\tremaining: 18.7s\n",
      "80:\tlearn: 0.3793413\ttotal: 3.6s\tremaining: 18.6s\n",
      "81:\tlearn: 0.3792328\ttotal: 3.64s\tremaining: 18.5s\n",
      "82:\tlearn: 0.3791818\ttotal: 3.68s\tremaining: 18.5s\n",
      "83:\tlearn: 0.3791591\ttotal: 3.73s\tremaining: 18.5s\n",
      "84:\tlearn: 0.3791390\ttotal: 3.76s\tremaining: 18.4s\n",
      "85:\tlearn: 0.3790245\ttotal: 3.81s\tremaining: 18.3s\n",
      "86:\tlearn: 0.3790053\ttotal: 3.85s\tremaining: 18.3s\n",
      "87:\tlearn: 0.3789556\ttotal: 3.9s\tremaining: 18.2s\n",
      "88:\tlearn: 0.3788797\ttotal: 3.94s\tremaining: 18.2s\n",
      "89:\tlearn: 0.3788554\ttotal: 3.98s\tremaining: 18.1s\n",
      "90:\tlearn: 0.3788226\ttotal: 4.02s\tremaining: 18.1s\n",
      "91:\tlearn: 0.3787778\ttotal: 4.06s\tremaining: 18s\n",
      "92:\tlearn: 0.3787600\ttotal: 4.11s\tremaining: 18s\n",
      "93:\tlearn: 0.3787389\ttotal: 4.15s\tremaining: 17.9s\n",
      "94:\tlearn: 0.3786640\ttotal: 4.19s\tremaining: 17.9s\n",
      "95:\tlearn: 0.3786222\ttotal: 4.24s\tremaining: 17.8s\n",
      "96:\tlearn: 0.3785973\ttotal: 4.28s\tremaining: 17.8s\n",
      "97:\tlearn: 0.3785810\ttotal: 4.32s\tremaining: 17.7s\n",
      "98:\tlearn: 0.3785602\ttotal: 4.36s\tremaining: 17.7s\n",
      "99:\tlearn: 0.3785171\ttotal: 4.4s\tremaining: 17.6s\n",
      "100:\tlearn: 0.3778941\ttotal: 4.45s\tremaining: 17.6s\n",
      "101:\tlearn: 0.3778178\ttotal: 4.5s\tremaining: 17.5s\n",
      "102:\tlearn: 0.3777676\ttotal: 4.54s\tremaining: 17.5s\n",
      "103:\tlearn: 0.3776908\ttotal: 4.58s\tremaining: 17.4s\n",
      "104:\tlearn: 0.3776606\ttotal: 4.62s\tremaining: 17.4s\n",
      "105:\tlearn: 0.3776468\ttotal: 4.67s\tremaining: 17.3s\n",
      "106:\tlearn: 0.3776308\ttotal: 4.71s\tremaining: 17.3s\n",
      "107:\tlearn: 0.3776189\ttotal: 4.75s\tremaining: 17.3s\n",
      "108:\tlearn: 0.3776036\ttotal: 4.8s\tremaining: 17.2s\n",
      "109:\tlearn: 0.3775627\ttotal: 4.84s\tremaining: 17.2s\n",
      "110:\tlearn: 0.3775428\ttotal: 4.88s\tremaining: 17.1s\n",
      "111:\tlearn: 0.3775286\ttotal: 4.92s\tremaining: 17.1s\n",
      "112:\tlearn: 0.3774812\ttotal: 4.97s\tremaining: 17s\n",
      "113:\tlearn: 0.3774755\ttotal: 5.01s\tremaining: 17s\n",
      "114:\tlearn: 0.3774535\ttotal: 5.05s\tremaining: 16.9s\n",
      "115:\tlearn: 0.3774367\ttotal: 5.09s\tremaining: 16.9s\n",
      "116:\tlearn: 0.3774182\ttotal: 5.13s\tremaining: 16.8s\n",
      "117:\tlearn: 0.3774106\ttotal: 5.18s\tremaining: 16.8s\n",
      "118:\tlearn: 0.3773515\ttotal: 5.22s\tremaining: 16.7s\n",
      "119:\tlearn: 0.3773291\ttotal: 5.26s\tremaining: 16.7s\n",
      "120:\tlearn: 0.3773157\ttotal: 5.3s\tremaining: 16.6s\n",
      "121:\tlearn: 0.3773032\ttotal: 5.34s\tremaining: 16.6s\n",
      "122:\tlearn: 0.3772700\ttotal: 5.39s\tremaining: 16.5s\n",
      "123:\tlearn: 0.3772622\ttotal: 5.43s\tremaining: 16.5s\n",
      "124:\tlearn: 0.3772479\ttotal: 5.47s\tremaining: 16.4s\n",
      "125:\tlearn: 0.3772317\ttotal: 5.51s\tremaining: 16.3s\n",
      "126:\tlearn: 0.3772249\ttotal: 5.55s\tremaining: 16.3s\n",
      "127:\tlearn: 0.3772185\ttotal: 5.6s\tremaining: 16.3s\n",
      "128:\tlearn: 0.3772130\ttotal: 5.64s\tremaining: 16.2s\n",
      "129:\tlearn: 0.3771986\ttotal: 5.69s\tremaining: 16.2s\n",
      "130:\tlearn: 0.3771768\ttotal: 5.73s\tremaining: 16.1s\n",
      "131:\tlearn: 0.3771703\ttotal: 5.77s\tremaining: 16.1s\n",
      "132:\tlearn: 0.3771600\ttotal: 5.82s\tremaining: 16.1s\n",
      "133:\tlearn: 0.3771525\ttotal: 5.86s\tremaining: 16s\n",
      "134:\tlearn: 0.3771443\ttotal: 5.91s\tremaining: 16s\n",
      "135:\tlearn: 0.3771295\ttotal: 5.95s\tremaining: 15.9s\n",
      "136:\tlearn: 0.3771148\ttotal: 5.99s\tremaining: 15.9s\n",
      "137:\tlearn: 0.3771062\ttotal: 6.03s\tremaining: 15.8s\n",
      "138:\tlearn: 0.3770959\ttotal: 6.07s\tremaining: 15.8s\n",
      "139:\tlearn: 0.3770922\ttotal: 6.11s\tremaining: 15.7s\n",
      "140:\tlearn: 0.3766800\ttotal: 6.16s\tremaining: 15.7s\n",
      "141:\tlearn: 0.3766643\ttotal: 6.2s\tremaining: 15.6s\n",
      "142:\tlearn: 0.3766309\ttotal: 6.24s\tremaining: 15.6s\n",
      "143:\tlearn: 0.3766209\ttotal: 6.29s\tremaining: 15.5s\n",
      "144:\tlearn: 0.3766161\ttotal: 6.33s\tremaining: 15.5s\n",
      "145:\tlearn: 0.3765845\ttotal: 6.37s\tremaining: 15.5s\n",
      "146:\tlearn: 0.3765571\ttotal: 6.42s\tremaining: 15.4s\n",
      "147:\tlearn: 0.3765214\ttotal: 6.47s\tremaining: 15.4s\n",
      "148:\tlearn: 0.3765046\ttotal: 6.51s\tremaining: 15.3s\n",
      "149:\tlearn: 0.3765002\ttotal: 6.55s\tremaining: 15.3s\n",
      "150:\tlearn: 0.3764956\ttotal: 6.59s\tremaining: 15.2s\n",
      "151:\tlearn: 0.3764835\ttotal: 6.64s\tremaining: 15.2s\n",
      "152:\tlearn: 0.3764766\ttotal: 6.68s\tremaining: 15.2s\n",
      "153:\tlearn: 0.3764660\ttotal: 6.72s\tremaining: 15.1s\n",
      "154:\tlearn: 0.3764608\ttotal: 6.77s\tremaining: 15.1s\n",
      "155:\tlearn: 0.3764568\ttotal: 6.81s\tremaining: 15s\n",
      "156:\tlearn: 0.3764356\ttotal: 6.85s\tremaining: 15s\n",
      "157:\tlearn: 0.3764306\ttotal: 6.9s\tremaining: 14.9s\n",
      "158:\tlearn: 0.3764262\ttotal: 6.94s\tremaining: 14.9s\n",
      "159:\tlearn: 0.3764136\ttotal: 6.99s\tremaining: 14.9s\n",
      "160:\tlearn: 0.3764110\ttotal: 7.03s\tremaining: 14.8s\n",
      "161:\tlearn: 0.3764013\ttotal: 7.08s\tremaining: 14.8s\n",
      "162:\tlearn: 0.3763985\ttotal: 7.12s\tremaining: 14.7s\n",
      "163:\tlearn: 0.3763938\ttotal: 7.15s\tremaining: 14.7s\n",
      "164:\tlearn: 0.3763662\ttotal: 7.2s\tremaining: 14.6s\n",
      "165:\tlearn: 0.3763573\ttotal: 7.24s\tremaining: 14.6s\n",
      "166:\tlearn: 0.3763493\ttotal: 7.28s\tremaining: 14.5s\n",
      "167:\tlearn: 0.3763429\ttotal: 7.32s\tremaining: 14.5s\n",
      "168:\tlearn: 0.3763400\ttotal: 7.36s\tremaining: 14.4s\n",
      "169:\tlearn: 0.3763346\ttotal: 7.4s\tremaining: 14.4s\n",
      "170:\tlearn: 0.3763304\ttotal: 7.45s\tremaining: 14.3s\n",
      "171:\tlearn: 0.3763272\ttotal: 7.49s\tremaining: 14.3s\n",
      "172:\tlearn: 0.3763231\ttotal: 7.53s\tremaining: 14.2s\n",
      "173:\tlearn: 0.3763150\ttotal: 7.57s\tremaining: 14.2s\n",
      "174:\tlearn: 0.3763115\ttotal: 7.61s\tremaining: 14.1s\n",
      "175:\tlearn: 0.3763075\ttotal: 7.65s\tremaining: 14.1s\n",
      "176:\tlearn: 0.3763041\ttotal: 7.7s\tremaining: 14.1s\n",
      "177:\tlearn: 0.3763009\ttotal: 7.75s\tremaining: 14s\n",
      "178:\tlearn: 0.3762916\ttotal: 7.79s\tremaining: 14s\n",
      "179:\tlearn: 0.3762834\ttotal: 7.84s\tremaining: 13.9s\n",
      "180:\tlearn: 0.3762761\ttotal: 7.88s\tremaining: 13.9s\n",
      "181:\tlearn: 0.3762745\ttotal: 7.92s\tremaining: 13.8s\n",
      "182:\tlearn: 0.3762703\ttotal: 7.97s\tremaining: 13.8s\n",
      "183:\tlearn: 0.3762660\ttotal: 8.01s\tremaining: 13.8s\n",
      "184:\tlearn: 0.3762446\ttotal: 8.06s\tremaining: 13.7s\n",
      "185:\tlearn: 0.3762444\ttotal: 8.1s\tremaining: 13.7s\n",
      "186:\tlearn: 0.3762355\ttotal: 8.14s\tremaining: 13.6s\n",
      "187:\tlearn: 0.3762328\ttotal: 8.19s\tremaining: 13.6s\n",
      "188:\tlearn: 0.3762222\ttotal: 8.22s\tremaining: 13.5s\n",
      "189:\tlearn: 0.3762187\ttotal: 8.27s\tremaining: 13.5s\n",
      "190:\tlearn: 0.3762141\ttotal: 8.31s\tremaining: 13.4s\n",
      "191:\tlearn: 0.3762120\ttotal: 8.35s\tremaining: 13.4s\n",
      "192:\tlearn: 0.3762055\ttotal: 8.4s\tremaining: 13.4s\n",
      "193:\tlearn: 0.3762014\ttotal: 8.44s\tremaining: 13.3s\n",
      "194:\tlearn: 0.3762009\ttotal: 8.48s\tremaining: 13.3s\n",
      "195:\tlearn: 0.3761958\ttotal: 8.51s\tremaining: 13.2s\n",
      "196:\tlearn: 0.3761941\ttotal: 8.55s\tremaining: 13.1s\n",
      "197:\tlearn: 0.3761878\ttotal: 8.59s\tremaining: 13.1s\n",
      "198:\tlearn: 0.3761817\ttotal: 8.62s\tremaining: 13s\n",
      "199:\tlearn: 0.3761790\ttotal: 8.66s\tremaining: 13s\n",
      "200:\tlearn: 0.3761737\ttotal: 8.7s\tremaining: 12.9s\n",
      "201:\tlearn: 0.3761694\ttotal: 8.73s\tremaining: 12.9s\n",
      "202:\tlearn: 0.3761662\ttotal: 8.77s\tremaining: 12.8s\n",
      "203:\tlearn: 0.3761618\ttotal: 8.8s\tremaining: 12.8s\n",
      "204:\tlearn: 0.3761582\ttotal: 8.85s\tremaining: 12.7s\n",
      "205:\tlearn: 0.3761558\ttotal: 8.89s\tremaining: 12.7s\n",
      "206:\tlearn: 0.3761508\ttotal: 8.92s\tremaining: 12.6s\n",
      "207:\tlearn: 0.3761493\ttotal: 8.96s\tremaining: 12.6s\n",
      "208:\tlearn: 0.3761457\ttotal: 8.99s\tremaining: 12.5s\n",
      "209:\tlearn: 0.3761434\ttotal: 9.03s\tremaining: 12.5s\n",
      "210:\tlearn: 0.3761398\ttotal: 9.06s\tremaining: 12.4s\n",
      "211:\tlearn: 0.3761358\ttotal: 9.1s\tremaining: 12.4s\n",
      "212:\tlearn: 0.3761319\ttotal: 9.13s\tremaining: 12.3s\n",
      "213:\tlearn: 0.3761299\ttotal: 9.17s\tremaining: 12.3s\n",
      "214:\tlearn: 0.3761204\ttotal: 9.2s\tremaining: 12.2s\n",
      "215:\tlearn: 0.3761163\ttotal: 9.25s\tremaining: 12.2s\n",
      "216:\tlearn: 0.3761135\ttotal: 9.29s\tremaining: 12.1s\n",
      "217:\tlearn: 0.3761121\ttotal: 9.33s\tremaining: 12.1s\n",
      "218:\tlearn: 0.3761078\ttotal: 9.37s\tremaining: 12s\n",
      "219:\tlearn: 0.3760982\ttotal: 9.4s\tremaining: 12s\n",
      "220:\tlearn: 0.3760958\ttotal: 9.44s\tremaining: 11.9s\n",
      "221:\tlearn: 0.3760918\ttotal: 9.47s\tremaining: 11.9s\n",
      "222:\tlearn: 0.3760901\ttotal: 9.51s\tremaining: 11.8s\n",
      "223:\tlearn: 0.3760826\ttotal: 9.55s\tremaining: 11.8s\n",
      "224:\tlearn: 0.3760793\ttotal: 9.59s\tremaining: 11.7s\n",
      "225:\tlearn: 0.3760785\ttotal: 9.62s\tremaining: 11.7s\n",
      "226:\tlearn: 0.3760731\ttotal: 9.65s\tremaining: 11.6s\n",
      "227:\tlearn: 0.3760685\ttotal: 9.69s\tremaining: 11.6s\n",
      "228:\tlearn: 0.3760650\ttotal: 9.72s\tremaining: 11.5s\n",
      "229:\tlearn: 0.3760626\ttotal: 9.76s\tremaining: 11.5s\n",
      "230:\tlearn: 0.3760591\ttotal: 9.8s\tremaining: 11.4s\n",
      "231:\tlearn: 0.3760537\ttotal: 9.84s\tremaining: 11.4s\n",
      "232:\tlearn: 0.3760535\ttotal: 9.87s\tremaining: 11.3s\n",
      "233:\tlearn: 0.3760529\ttotal: 9.91s\tremaining: 11.3s\n",
      "234:\tlearn: 0.3758116\ttotal: 9.95s\tremaining: 11.2s\n",
      "235:\tlearn: 0.3757887\ttotal: 9.99s\tremaining: 11.2s\n",
      "236:\tlearn: 0.3757702\ttotal: 10s\tremaining: 11.1s\n",
      "237:\tlearn: 0.3757687\ttotal: 10.1s\tremaining: 11.1s\n",
      "238:\tlearn: 0.3757671\ttotal: 10.1s\tremaining: 11s\n",
      "239:\tlearn: 0.3757499\ttotal: 10.1s\tremaining: 11s\n",
      "240:\tlearn: 0.3757485\ttotal: 10.2s\tremaining: 10.9s\n",
      "241:\tlearn: 0.3757453\ttotal: 10.2s\tremaining: 10.9s\n",
      "242:\tlearn: 0.3757423\ttotal: 10.3s\tremaining: 10.9s\n",
      "243:\tlearn: 0.3757244\ttotal: 10.4s\tremaining: 10.9s\n",
      "244:\tlearn: 0.3757244\ttotal: 10.5s\tremaining: 10.9s\n",
      "245:\tlearn: 0.3757238\ttotal: 10.5s\tremaining: 10.8s\n",
      "246:\tlearn: 0.3757198\ttotal: 10.5s\tremaining: 10.8s\n",
      "247:\tlearn: 0.3757173\ttotal: 10.6s\tremaining: 10.7s\n",
      "248:\tlearn: 0.3757168\ttotal: 10.6s\tremaining: 10.7s\n",
      "249:\tlearn: 0.3757150\ttotal: 10.6s\tremaining: 10.6s\n",
      "250:\tlearn: 0.3757114\ttotal: 10.7s\tremaining: 10.6s\n",
      "251:\tlearn: 0.3757090\ttotal: 10.7s\tremaining: 10.5s\n",
      "252:\tlearn: 0.3757069\ttotal: 10.7s\tremaining: 10.5s\n",
      "253:\tlearn: 0.3757018\ttotal: 10.8s\tremaining: 10.4s\n",
      "254:\tlearn: 0.3756999\ttotal: 10.8s\tremaining: 10.4s\n",
      "255:\tlearn: 0.3756965\ttotal: 10.8s\tremaining: 10.3s\n",
      "256:\tlearn: 0.3756956\ttotal: 10.9s\tremaining: 10.3s\n",
      "257:\tlearn: 0.3756940\ttotal: 10.9s\tremaining: 10.2s\n",
      "258:\tlearn: 0.3756917\ttotal: 11s\tremaining: 10.2s\n",
      "259:\tlearn: 0.3756870\ttotal: 11s\tremaining: 10.1s\n",
      "260:\tlearn: 0.3756856\ttotal: 11s\tremaining: 10.1s\n",
      "261:\tlearn: 0.3756816\ttotal: 11.1s\tremaining: 10.1s\n",
      "262:\tlearn: 0.3756780\ttotal: 11.1s\tremaining: 10s\n",
      "263:\tlearn: 0.3756762\ttotal: 11.1s\tremaining: 9.96s\n",
      "264:\tlearn: 0.3756727\ttotal: 11.2s\tremaining: 9.91s\n",
      "265:\tlearn: 0.3756719\ttotal: 11.2s\tremaining: 9.86s\n",
      "266:\tlearn: 0.3756636\ttotal: 11.2s\tremaining: 9.81s\n",
      "267:\tlearn: 0.3756583\ttotal: 11.3s\tremaining: 9.76s\n",
      "268:\tlearn: 0.3756585\ttotal: 11.3s\tremaining: 9.71s\n",
      "269:\tlearn: 0.3756561\ttotal: 11.4s\tremaining: 9.67s\n",
      "270:\tlearn: 0.3756554\ttotal: 11.4s\tremaining: 9.63s\n",
      "271:\tlearn: 0.3756511\ttotal: 11.4s\tremaining: 9.58s\n",
      "272:\tlearn: 0.3756515\ttotal: 11.5s\tremaining: 9.53s\n",
      "273:\tlearn: 0.3756487\ttotal: 11.5s\tremaining: 9.48s\n",
      "274:\tlearn: 0.3756484\ttotal: 11.5s\tremaining: 9.44s\n",
      "275:\tlearn: 0.3756428\ttotal: 11.6s\tremaining: 9.39s\n",
      "276:\tlearn: 0.3756433\ttotal: 11.6s\tremaining: 9.35s\n",
      "277:\tlearn: 0.3756400\ttotal: 11.6s\tremaining: 9.3s\n",
      "278:\tlearn: 0.3756382\ttotal: 11.7s\tremaining: 9.25s\n",
      "279:\tlearn: 0.3756374\ttotal: 11.7s\tremaining: 9.2s\n",
      "280:\tlearn: 0.3756357\ttotal: 11.7s\tremaining: 9.15s\n",
      "281:\tlearn: 0.3756322\ttotal: 11.8s\tremaining: 9.11s\n",
      "282:\tlearn: 0.3756222\ttotal: 11.8s\tremaining: 9.06s\n",
      "283:\tlearn: 0.3756208\ttotal: 11.9s\tremaining: 9.02s\n",
      "284:\tlearn: 0.3756174\ttotal: 11.9s\tremaining: 8.97s\n",
      "285:\tlearn: 0.3756151\ttotal: 11.9s\tremaining: 8.92s\n",
      "286:\tlearn: 0.3756025\ttotal: 12s\tremaining: 8.87s\n",
      "287:\tlearn: 0.3756009\ttotal: 12s\tremaining: 8.83s\n",
      "288:\tlearn: 0.3755983\ttotal: 12s\tremaining: 8.79s\n",
      "289:\tlearn: 0.3756000\ttotal: 12.1s\tremaining: 8.74s\n",
      "290:\tlearn: 0.3755946\ttotal: 12.1s\tremaining: 8.69s\n",
      "291:\tlearn: 0.3755937\ttotal: 12.1s\tremaining: 8.64s\n",
      "292:\tlearn: 0.3755944\ttotal: 12.2s\tremaining: 8.6s\n",
      "293:\tlearn: 0.3755903\ttotal: 12.2s\tremaining: 8.56s\n",
      "294:\tlearn: 0.3755891\ttotal: 12.2s\tremaining: 8.51s\n",
      "295:\tlearn: 0.3755836\ttotal: 12.3s\tremaining: 8.46s\n",
      "296:\tlearn: 0.3755828\ttotal: 12.3s\tremaining: 8.42s\n",
      "297:\tlearn: 0.3755813\ttotal: 12.3s\tremaining: 8.37s\n",
      "298:\tlearn: 0.3755806\ttotal: 12.4s\tremaining: 8.32s\n",
      "299:\tlearn: 0.3755782\ttotal: 12.4s\tremaining: 8.28s\n",
      "300:\tlearn: 0.3755751\ttotal: 12.5s\tremaining: 8.24s\n",
      "301:\tlearn: 0.3755749\ttotal: 12.5s\tremaining: 8.19s\n",
      "302:\tlearn: 0.3755731\ttotal: 12.5s\tremaining: 8.15s\n",
      "303:\tlearn: 0.3755729\ttotal: 12.6s\tremaining: 8.1s\n",
      "304:\tlearn: 0.3755671\ttotal: 12.6s\tremaining: 8.06s\n",
      "305:\tlearn: 0.3755682\ttotal: 12.6s\tremaining: 8.02s\n",
      "306:\tlearn: 0.3755681\ttotal: 12.7s\tremaining: 7.97s\n",
      "307:\tlearn: 0.3755650\ttotal: 12.7s\tremaining: 7.92s\n",
      "308:\tlearn: 0.3755636\ttotal: 12.7s\tremaining: 7.88s\n",
      "309:\tlearn: 0.3755624\ttotal: 12.8s\tremaining: 7.83s\n",
      "310:\tlearn: 0.3755600\ttotal: 12.8s\tremaining: 7.79s\n",
      "311:\tlearn: 0.3755572\ttotal: 12.9s\tremaining: 7.75s\n",
      "312:\tlearn: 0.3755557\ttotal: 12.9s\tremaining: 7.7s\n",
      "313:\tlearn: 0.3755557\ttotal: 12.9s\tremaining: 7.66s\n",
      "314:\tlearn: 0.3755512\ttotal: 13s\tremaining: 7.61s\n",
      "315:\tlearn: 0.3755493\ttotal: 13s\tremaining: 7.57s\n",
      "316:\tlearn: 0.3755468\ttotal: 13s\tremaining: 7.53s\n",
      "317:\tlearn: 0.3755464\ttotal: 13.1s\tremaining: 7.48s\n",
      "318:\tlearn: 0.3755454\ttotal: 13.1s\tremaining: 7.44s\n",
      "319:\tlearn: 0.3755441\ttotal: 13.1s\tremaining: 7.39s\n",
      "320:\tlearn: 0.3755327\ttotal: 13.2s\tremaining: 7.35s\n",
      "321:\tlearn: 0.3755316\ttotal: 13.2s\tremaining: 7.3s\n",
      "322:\tlearn: 0.3755285\ttotal: 13.3s\tremaining: 7.26s\n",
      "323:\tlearn: 0.3755255\ttotal: 13.3s\tremaining: 7.22s\n",
      "324:\tlearn: 0.3755240\ttotal: 13.3s\tremaining: 7.17s\n",
      "325:\tlearn: 0.3755232\ttotal: 13.4s\tremaining: 7.13s\n",
      "326:\tlearn: 0.3755214\ttotal: 13.4s\tremaining: 7.09s\n",
      "327:\tlearn: 0.3755194\ttotal: 13.4s\tremaining: 7.04s\n",
      "328:\tlearn: 0.3755183\ttotal: 13.5s\tremaining: 7s\n",
      "329:\tlearn: 0.3755172\ttotal: 13.5s\tremaining: 6.96s\n",
      "330:\tlearn: 0.3755163\ttotal: 13.5s\tremaining: 6.91s\n",
      "331:\tlearn: 0.3755158\ttotal: 13.6s\tremaining: 6.87s\n",
      "332:\tlearn: 0.3755149\ttotal: 13.6s\tremaining: 6.83s\n",
      "333:\tlearn: 0.3755118\ttotal: 13.6s\tremaining: 6.78s\n",
      "334:\tlearn: 0.3755102\ttotal: 13.7s\tremaining: 6.74s\n",
      "335:\tlearn: 0.3755081\ttotal: 13.7s\tremaining: 6.7s\n",
      "336:\tlearn: 0.3755062\ttotal: 13.8s\tremaining: 6.65s\n",
      "337:\tlearn: 0.3755056\ttotal: 13.8s\tremaining: 6.61s\n",
      "338:\tlearn: 0.3755037\ttotal: 13.8s\tremaining: 6.57s\n",
      "339:\tlearn: 0.3755000\ttotal: 13.9s\tremaining: 6.52s\n",
      "340:\tlearn: 0.3754996\ttotal: 13.9s\tremaining: 6.48s\n",
      "341:\tlearn: 0.3754973\ttotal: 13.9s\tremaining: 6.44s\n",
      "342:\tlearn: 0.3754933\ttotal: 14s\tremaining: 6.39s\n",
      "343:\tlearn: 0.3754926\ttotal: 14s\tremaining: 6.35s\n",
      "344:\tlearn: 0.3754909\ttotal: 14.1s\tremaining: 6.31s\n",
      "345:\tlearn: 0.3754899\ttotal: 14.1s\tremaining: 6.27s\n",
      "346:\tlearn: 0.3754877\ttotal: 14.1s\tremaining: 6.23s\n",
      "347:\tlearn: 0.3754865\ttotal: 14.2s\tremaining: 6.19s\n",
      "348:\tlearn: 0.3754839\ttotal: 14.2s\tremaining: 6.15s\n",
      "349:\tlearn: 0.3754833\ttotal: 14.2s\tremaining: 6.1s\n",
      "350:\tlearn: 0.3754817\ttotal: 14.3s\tremaining: 6.06s\n",
      "351:\tlearn: 0.3754804\ttotal: 14.3s\tremaining: 6.01s\n",
      "352:\tlearn: 0.3754794\ttotal: 14.3s\tremaining: 5.97s\n",
      "353:\tlearn: 0.3754776\ttotal: 14.4s\tremaining: 5.93s\n",
      "354:\tlearn: 0.3754748\ttotal: 14.4s\tremaining: 5.89s\n",
      "355:\tlearn: 0.3754732\ttotal: 14.5s\tremaining: 5.84s\n",
      "356:\tlearn: 0.3754716\ttotal: 14.5s\tremaining: 5.8s\n",
      "357:\tlearn: 0.3754701\ttotal: 14.5s\tremaining: 5.76s\n",
      "358:\tlearn: 0.3754676\ttotal: 14.6s\tremaining: 5.72s\n",
      "359:\tlearn: 0.3754664\ttotal: 14.6s\tremaining: 5.67s\n",
      "360:\tlearn: 0.3754651\ttotal: 14.6s\tremaining: 5.63s\n",
      "361:\tlearn: 0.3754641\ttotal: 14.7s\tremaining: 5.59s\n",
      "362:\tlearn: 0.3754636\ttotal: 14.7s\tremaining: 5.55s\n",
      "363:\tlearn: 0.3754615\ttotal: 14.7s\tremaining: 5.5s\n",
      "364:\tlearn: 0.3754605\ttotal: 14.8s\tremaining: 5.46s\n",
      "365:\tlearn: 0.3754577\ttotal: 14.8s\tremaining: 5.42s\n",
      "366:\tlearn: 0.3754569\ttotal: 14.8s\tremaining: 5.38s\n",
      "367:\tlearn: 0.3754563\ttotal: 14.9s\tremaining: 5.34s\n",
      "368:\tlearn: 0.3754527\ttotal: 14.9s\tremaining: 5.29s\n",
      "369:\tlearn: 0.3754510\ttotal: 14.9s\tremaining: 5.25s\n",
      "370:\tlearn: 0.3754509\ttotal: 15s\tremaining: 5.21s\n",
      "371:\tlearn: 0.3754476\ttotal: 15s\tremaining: 5.17s\n",
      "372:\tlearn: 0.3754410\ttotal: 15.1s\tremaining: 5.13s\n",
      "373:\tlearn: 0.3754410\ttotal: 15.1s\tremaining: 5.08s\n",
      "374:\tlearn: 0.3754391\ttotal: 15.1s\tremaining: 5.04s\n",
      "375:\tlearn: 0.3754362\ttotal: 15.2s\tremaining: 5s\n",
      "376:\tlearn: 0.3754353\ttotal: 15.2s\tremaining: 4.96s\n",
      "377:\tlearn: 0.3754339\ttotal: 15.2s\tremaining: 4.92s\n",
      "378:\tlearn: 0.3754343\ttotal: 15.3s\tremaining: 4.88s\n",
      "379:\tlearn: 0.3754318\ttotal: 15.3s\tremaining: 4.83s\n",
      "380:\tlearn: 0.3754300\ttotal: 15.3s\tremaining: 4.79s\n",
      "381:\tlearn: 0.3754300\ttotal: 15.4s\tremaining: 4.75s\n",
      "382:\tlearn: 0.3754289\ttotal: 15.4s\tremaining: 4.71s\n",
      "383:\tlearn: 0.3754279\ttotal: 15.5s\tremaining: 4.67s\n",
      "384:\tlearn: 0.3754269\ttotal: 15.5s\tremaining: 4.63s\n",
      "385:\tlearn: 0.3754259\ttotal: 15.5s\tremaining: 4.59s\n",
      "386:\tlearn: 0.3754236\ttotal: 15.6s\tremaining: 4.55s\n",
      "387:\tlearn: 0.3754223\ttotal: 15.6s\tremaining: 4.5s\n",
      "388:\tlearn: 0.3754216\ttotal: 15.6s\tremaining: 4.46s\n",
      "389:\tlearn: 0.3754204\ttotal: 15.7s\tremaining: 4.42s\n",
      "390:\tlearn: 0.3754187\ttotal: 15.7s\tremaining: 4.38s\n",
      "391:\tlearn: 0.3754184\ttotal: 15.8s\tremaining: 4.34s\n",
      "392:\tlearn: 0.3752704\ttotal: 15.8s\tremaining: 4.3s\n",
      "393:\tlearn: 0.3752709\ttotal: 15.8s\tremaining: 4.26s\n",
      "394:\tlearn: 0.3752701\ttotal: 15.9s\tremaining: 4.22s\n",
      "395:\tlearn: 0.3752587\ttotal: 15.9s\tremaining: 4.18s\n",
      "396:\tlearn: 0.3752575\ttotal: 15.9s\tremaining: 4.14s\n",
      "397:\tlearn: 0.3752491\ttotal: 16s\tremaining: 4.1s\n",
      "398:\tlearn: 0.3752475\ttotal: 16s\tremaining: 4.05s\n",
      "399:\tlearn: 0.3752480\ttotal: 16.1s\tremaining: 4.01s\n",
      "400:\tlearn: 0.3752451\ttotal: 16.1s\tremaining: 3.97s\n",
      "401:\tlearn: 0.3752451\ttotal: 16.1s\tremaining: 3.93s\n",
      "402:\tlearn: 0.3752436\ttotal: 16.2s\tremaining: 3.89s\n",
      "403:\tlearn: 0.3752425\ttotal: 16.2s\tremaining: 3.85s\n",
      "404:\tlearn: 0.3752403\ttotal: 16.2s\tremaining: 3.81s\n",
      "405:\tlearn: 0.3752400\ttotal: 16.3s\tremaining: 3.77s\n",
      "406:\tlearn: 0.3752398\ttotal: 16.3s\tremaining: 3.72s\n",
      "407:\tlearn: 0.3752386\ttotal: 16.3s\tremaining: 3.68s\n",
      "408:\tlearn: 0.3752363\ttotal: 16.4s\tremaining: 3.64s\n",
      "409:\tlearn: 0.3752359\ttotal: 16.4s\tremaining: 3.6s\n",
      "410:\tlearn: 0.3752354\ttotal: 16.4s\tremaining: 3.56s\n",
      "411:\tlearn: 0.3752335\ttotal: 16.5s\tremaining: 3.52s\n",
      "412:\tlearn: 0.3752328\ttotal: 16.5s\tremaining: 3.48s\n",
      "413:\tlearn: 0.3752312\ttotal: 16.6s\tremaining: 3.44s\n",
      "414:\tlearn: 0.3752302\ttotal: 16.6s\tremaining: 3.4s\n",
      "415:\tlearn: 0.3752302\ttotal: 16.6s\tremaining: 3.36s\n",
      "416:\tlearn: 0.3752277\ttotal: 16.7s\tremaining: 3.32s\n",
      "417:\tlearn: 0.3752188\ttotal: 16.7s\tremaining: 3.28s\n",
      "418:\tlearn: 0.3752136\ttotal: 16.8s\tremaining: 3.24s\n",
      "419:\tlearn: 0.3752125\ttotal: 16.8s\tremaining: 3.2s\n",
      "420:\tlearn: 0.3752113\ttotal: 16.8s\tremaining: 3.16s\n",
      "421:\tlearn: 0.3752099\ttotal: 16.9s\tremaining: 3.12s\n",
      "422:\tlearn: 0.3752095\ttotal: 16.9s\tremaining: 3.08s\n",
      "423:\tlearn: 0.3752078\ttotal: 16.9s\tremaining: 3.04s\n",
      "424:\tlearn: 0.3752068\ttotal: 17s\tremaining: 2.99s\n",
      "425:\tlearn: 0.3752060\ttotal: 17s\tremaining: 2.95s\n",
      "426:\tlearn: 0.3752063\ttotal: 17s\tremaining: 2.91s\n",
      "427:\tlearn: 0.3752041\ttotal: 17.1s\tremaining: 2.87s\n",
      "428:\tlearn: 0.3752030\ttotal: 17.1s\tremaining: 2.83s\n",
      "429:\tlearn: 0.3752026\ttotal: 17.1s\tremaining: 2.79s\n",
      "430:\tlearn: 0.3752017\ttotal: 17.2s\tremaining: 2.75s\n",
      "431:\tlearn: 0.3752005\ttotal: 17.2s\tremaining: 2.71s\n",
      "432:\tlearn: 0.3751998\ttotal: 17.2s\tremaining: 2.67s\n",
      "433:\tlearn: 0.3751994\ttotal: 17.3s\tremaining: 2.63s\n",
      "434:\tlearn: 0.3751975\ttotal: 17.3s\tremaining: 2.59s\n",
      "435:\tlearn: 0.3751973\ttotal: 17.4s\tremaining: 2.55s\n",
      "436:\tlearn: 0.3751955\ttotal: 17.4s\tremaining: 2.51s\n",
      "437:\tlearn: 0.3751945\ttotal: 17.4s\tremaining: 2.47s\n",
      "438:\tlearn: 0.3751937\ttotal: 17.5s\tremaining: 2.43s\n",
      "439:\tlearn: 0.3751928\ttotal: 17.5s\tremaining: 2.39s\n",
      "440:\tlearn: 0.3751914\ttotal: 17.5s\tremaining: 2.35s\n",
      "441:\tlearn: 0.3751914\ttotal: 17.6s\tremaining: 2.31s\n",
      "442:\tlearn: 0.3751903\ttotal: 17.6s\tremaining: 2.27s\n",
      "443:\tlearn: 0.3751896\ttotal: 17.6s\tremaining: 2.23s\n",
      "444:\tlearn: 0.3751879\ttotal: 17.7s\tremaining: 2.19s\n",
      "445:\tlearn: 0.3751872\ttotal: 17.7s\tremaining: 2.15s\n",
      "446:\tlearn: 0.3751866\ttotal: 17.8s\tremaining: 2.11s\n",
      "447:\tlearn: 0.3751848\ttotal: 17.8s\tremaining: 2.07s\n",
      "448:\tlearn: 0.3751839\ttotal: 17.8s\tremaining: 2.03s\n",
      "449:\tlearn: 0.3751825\ttotal: 17.9s\tremaining: 1.99s\n",
      "450:\tlearn: 0.3751824\ttotal: 17.9s\tremaining: 1.95s\n",
      "451:\tlearn: 0.3751807\ttotal: 17.9s\tremaining: 1.91s\n",
      "452:\tlearn: 0.3751796\ttotal: 18s\tremaining: 1.86s\n",
      "453:\tlearn: 0.3751798\ttotal: 18s\tremaining: 1.83s\n",
      "454:\tlearn: 0.3751737\ttotal: 18.1s\tremaining: 1.79s\n",
      "455:\tlearn: 0.3751712\ttotal: 18.1s\tremaining: 1.75s\n",
      "456:\tlearn: 0.3751699\ttotal: 18.1s\tremaining: 1.71s\n",
      "457:\tlearn: 0.3751687\ttotal: 18.2s\tremaining: 1.67s\n",
      "458:\tlearn: 0.3751682\ttotal: 18.2s\tremaining: 1.63s\n",
      "459:\tlearn: 0.3751678\ttotal: 18.2s\tremaining: 1.59s\n",
      "460:\tlearn: 0.3751672\ttotal: 18.3s\tremaining: 1.55s\n",
      "461:\tlearn: 0.3751661\ttotal: 18.3s\tremaining: 1.51s\n",
      "462:\tlearn: 0.3751649\ttotal: 18.4s\tremaining: 1.47s\n",
      "463:\tlearn: 0.3751646\ttotal: 18.4s\tremaining: 1.43s\n",
      "464:\tlearn: 0.3751632\ttotal: 18.5s\tremaining: 1.39s\n",
      "465:\tlearn: 0.3751629\ttotal: 18.5s\tremaining: 1.35s\n",
      "466:\tlearn: 0.3751613\ttotal: 18.5s\tremaining: 1.31s\n",
      "467:\tlearn: 0.3751599\ttotal: 18.6s\tremaining: 1.27s\n",
      "468:\tlearn: 0.3751588\ttotal: 18.6s\tremaining: 1.23s\n",
      "469:\tlearn: 0.3751578\ttotal: 18.6s\tremaining: 1.19s\n",
      "470:\tlearn: 0.3751562\ttotal: 18.7s\tremaining: 1.15s\n",
      "471:\tlearn: 0.3751557\ttotal: 18.7s\tremaining: 1.11s\n",
      "472:\tlearn: 0.3751533\ttotal: 18.8s\tremaining: 1.07s\n",
      "473:\tlearn: 0.3751531\ttotal: 18.8s\tremaining: 1.03s\n",
      "474:\tlearn: 0.3751523\ttotal: 18.8s\tremaining: 991ms\n",
      "475:\tlearn: 0.3751511\ttotal: 18.9s\tremaining: 951ms\n",
      "476:\tlearn: 0.3751504\ttotal: 18.9s\tremaining: 912ms\n",
      "477:\tlearn: 0.3751497\ttotal: 18.9s\tremaining: 872ms\n",
      "478:\tlearn: 0.3751474\ttotal: 19s\tremaining: 832ms\n",
      "479:\tlearn: 0.3751465\ttotal: 19s\tremaining: 792ms\n",
      "480:\tlearn: 0.3751466\ttotal: 19s\tremaining: 752ms\n",
      "481:\tlearn: 0.3751454\ttotal: 19.1s\tremaining: 712ms\n",
      "482:\tlearn: 0.3751441\ttotal: 19.1s\tremaining: 673ms\n",
      "483:\tlearn: 0.3751437\ttotal: 19.2s\tremaining: 633ms\n",
      "484:\tlearn: 0.3751433\ttotal: 19.2s\tremaining: 593ms\n",
      "485:\tlearn: 0.3751423\ttotal: 19.2s\tremaining: 554ms\n",
      "486:\tlearn: 0.3751412\ttotal: 19.3s\tremaining: 514ms\n",
      "487:\tlearn: 0.3751404\ttotal: 19.3s\tremaining: 474ms\n",
      "488:\tlearn: 0.3751395\ttotal: 19.3s\tremaining: 435ms\n",
      "489:\tlearn: 0.3751390\ttotal: 19.4s\tremaining: 395ms\n",
      "490:\tlearn: 0.3751386\ttotal: 19.4s\tremaining: 356ms\n",
      "491:\tlearn: 0.3751372\ttotal: 19.4s\tremaining: 316ms\n",
      "492:\tlearn: 0.3751359\ttotal: 19.5s\tremaining: 277ms\n",
      "493:\tlearn: 0.3751355\ttotal: 19.5s\tremaining: 237ms\n",
      "494:\tlearn: 0.3751346\ttotal: 19.6s\tremaining: 198ms\n",
      "495:\tlearn: 0.3751342\ttotal: 19.6s\tremaining: 158ms\n",
      "496:\tlearn: 0.3751327\ttotal: 19.7s\tremaining: 119ms\n",
      "497:\tlearn: 0.3751321\ttotal: 19.7s\tremaining: 79.1ms\n",
      "498:\tlearn: 0.3751316\ttotal: 19.7s\tremaining: 39.6ms\n",
      "499:\tlearn: 0.3751311\ttotal: 19.8s\tremaining: 0us\n",
      "Время обучения CatBoost: 4176\n",
      "CPU times: total: 27.9 s\n",
      "Wall time: 1h 9min 36s\n"
     ]
    }
   ],
   "source": [
    "%%time\n",
    "\n",
    "cb = CatBoostClassifier(random_state=RANDOM_STATE)\n",
    "\n",
    "cb_parametrs = {'learning_rate': [0.1, 0.2, 0.3],\n",
    "                'max_depth': range(1, 6),\n",
    "                'iterations': [500, 600, 700],\n",
    "                }\n",
    "\n",
    "cb_grid = GridSearchCV(cb, cb_parametrs, scoring='f1', cv=5, n_jobs=-1, verbose=10)\n",
    "begin = time.time()\n",
    "cb_grid.fit(X_train, y_train)\n",
    "end = time.time()\n",
    "time_cb = round(end-begin)\n",
    "print('Время обучения CatBoost:', time_cb)"
   ]
  },
  {
   "cell_type": "code",
   "execution_count": 27,
   "id": "2a3da28e-fd03-4854-a49f-7257c0de4159",
   "metadata": {
    "tags": []
   },
   "outputs": [
    {
     "name": "stdout",
     "output_type": "stream",
     "text": [
      "{'iterations': 500, 'learning_rate': 0.1, 'max_depth': 1}\n"
     ]
    }
   ],
   "source": [
    "cb_params = cb_grid.best_params_\n",
    "print(cb_params)"
   ]
  },
  {
   "cell_type": "code",
   "execution_count": 28,
   "id": "1d3b489e-9fac-4faa-9a78-08d9fa3137ff",
   "metadata": {
    "tags": []
   },
   "outputs": [
    {
     "name": "stdout",
     "output_type": "stream",
     "text": [
      "F1 CatBoost: 0.4153\n"
     ]
    }
   ],
   "source": [
    "cb_scores = cb_grid.best_score_.round(4)\n",
    "print('F1 CatBoost:', cb_scores)"
   ]
  },
  {
   "cell_type": "markdown",
   "id": "c3107d57-21dc-407a-ac56-a4c4fa547749",
   "metadata": {},
   "source": [
    "#### Random Forest"
   ]
  },
  {
   "cell_type": "code",
   "execution_count": 29,
   "id": "37e5cf28-f182-49be-be63-0c1554888dc5",
   "metadata": {
    "tags": []
   },
   "outputs": [
    {
     "name": "stdout",
     "output_type": "stream",
     "text": [
      "Fitting 5 folds for each of 64 candidates, totalling 320 fits\n",
      "1334.1248071193695\n",
      "CPU times: total: 12.6 s\n",
      "Wall time: 22min 14s\n"
     ]
    }
   ],
   "source": [
    "%%time\n",
    "\n",
    "rf = RandomForestClassifier(random_state=RANDOM_STATE)\n",
    "rf_parametrs = {'n_estimators': range(5, 100, 30),\n",
    "                'max_depth': range(2, 10),\n",
    "                'class_weight' : ['balanced', None]\n",
    "                }\n",
    "\n",
    "rf_grid = GridSearchCV(rf, rf_parametrs, scoring='f1', cv=5, n_jobs=-1, verbose=10)\n",
    "begin = time.time()\n",
    "rf_grid.fit(X_train, y_train)\n",
    "end = time.time()\n",
    "time_rf = end-begin\n",
    "print(time_rf)"
   ]
  },
  {
   "cell_type": "code",
   "execution_count": 30,
   "id": "9f1c830e-1328-4a4a-b51e-37883f46d3f8",
   "metadata": {
    "tags": []
   },
   "outputs": [
    {
     "name": "stdout",
     "output_type": "stream",
     "text": [
      "{'class_weight': 'balanced', 'max_depth': 3, 'n_estimators': 35}\n"
     ]
    }
   ],
   "source": [
    "rf_params = rf_grid.best_params_\n",
    "print(rf_params)"
   ]
  },
  {
   "cell_type": "code",
   "execution_count": 31,
   "id": "567f71f2-8cfa-4620-8666-cf97426626a3",
   "metadata": {
    "tags": []
   },
   "outputs": [
    {
     "name": "stdout",
     "output_type": "stream",
     "text": [
      "F1 RandomForest: 0.5616\n"
     ]
    }
   ],
   "source": [
    "rf_scores = rf_grid.best_score_.round(4)\n",
    "print('F1 RandomForest:', rf_scores)"
   ]
  },
  {
   "cell_type": "markdown",
   "id": "3dbfaf99-2b8d-4467-8704-2d147e24a188",
   "metadata": {},
   "source": [
    "#### Logistic Regression"
   ]
  },
  {
   "cell_type": "code",
   "execution_count": 32,
   "id": "fc2bf706-a286-4c17-a975-c4fba6f47c5e",
   "metadata": {},
   "outputs": [
    {
     "name": "stdout",
     "output_type": "stream",
     "text": [
      "Fitting 5 folds for each of 6 candidates, totalling 30 fits\n"
     ]
    },
    {
     "name": "stderr",
     "output_type": "stream",
     "text": [
      "C:\\Users\\Iren\\anaconda3\\Lib\\site-packages\\sklearn\\model_selection\\_search.py:307: UserWarning: The total space of parameters 6 is smaller than n_iter=10. Running 6 iterations. For exhaustive searches, use GridSearchCV.\n",
      "  warnings.warn(\n"
     ]
    },
    {
     "name": "stdout",
     "output_type": "stream",
     "text": [
      "5.405986070632935\n",
      "CPU times: total: 2.3 s\n",
      "Wall time: 5.41 s\n"
     ]
    }
   ],
   "source": [
    "%%time\n",
    "\n",
    "lr = LogisticRegression(random_state=RANDOM_STATE)\n",
    "\n",
    "pipe = make_pipeline(lr)\n",
    "parameters = {\n",
    "    'logisticregression__C': [1, 2, 6],\n",
    "    'logisticregression__class_weight': ['balanced', None],\n",
    "}\n",
    "\n",
    "lr_grid = RandomizedSearchCV(pipe, parameters, cv=5, n_jobs=-1, scoring='f1', verbose=3)\n",
    "begin = time.time()\n",
    "lr_grid.fit(X_train_lr, y_train)\n",
    "end = time.time()\n",
    "time_lr = end-begin\n",
    "print(time_lr)"
   ]
  },
  {
   "cell_type": "code",
   "execution_count": 33,
   "id": "dfed8746-0765-4c42-8664-94df5b3fe4ca",
   "metadata": {
    "tags": []
   },
   "outputs": [
    {
     "name": "stdout",
     "output_type": "stream",
     "text": [
      "{'logisticregression__class_weight': 'balanced', 'logisticregression__C': 2}\n"
     ]
    }
   ],
   "source": [
    "lr_params = lr_grid.best_params_\n",
    "print(lr_params)"
   ]
  },
  {
   "cell_type": "code",
   "execution_count": 34,
   "id": "3b489eae-c9ab-40e9-b42e-89e18099dfbc",
   "metadata": {
    "tags": []
   },
   "outputs": [
    {
     "name": "stdout",
     "output_type": "stream",
     "text": [
      "F1 LinearRegression: 0.4871\n"
     ]
    }
   ],
   "source": [
    "lr_scores = lr_grid.best_score_.round(4)\n",
    "print('F1 LinearRegression:', lr_scores)"
   ]
  },
  {
   "cell_type": "code",
   "execution_count": 35,
   "id": "d6719092-e5c3-4293-b591-a1f8c66cfe8f",
   "metadata": {
    "tags": []
   },
   "outputs": [
    {
     "data": {
      "text/html": [
       "<div>\n",
       "<style scoped>\n",
       "    .dataframe tbody tr th:only-of-type {\n",
       "        vertical-align: middle;\n",
       "    }\n",
       "\n",
       "    .dataframe tbody tr th {\n",
       "        vertical-align: top;\n",
       "    }\n",
       "\n",
       "    .dataframe thead th {\n",
       "        text-align: right;\n",
       "    }\n",
       "</style>\n",
       "<table border=\"1\" class=\"dataframe\">\n",
       "  <thead>\n",
       "    <tr style=\"text-align: right;\">\n",
       "      <th></th>\n",
       "      <th>Модель</th>\n",
       "      <th>Время обучения модели</th>\n",
       "      <th>F1</th>\n",
       "    </tr>\n",
       "  </thead>\n",
       "  <tbody>\n",
       "    <tr>\n",
       "      <th>0</th>\n",
       "      <td>LightGBM</td>\n",
       "      <td>6310.000000</td>\n",
       "      <td>0.5147</td>\n",
       "    </tr>\n",
       "    <tr>\n",
       "      <th>1</th>\n",
       "      <td>CatBoost</td>\n",
       "      <td>4176.000000</td>\n",
       "      <td>0.4153</td>\n",
       "    </tr>\n",
       "    <tr>\n",
       "      <th>2</th>\n",
       "      <td>RandomForest</td>\n",
       "      <td>1334.124807</td>\n",
       "      <td>0.5616</td>\n",
       "    </tr>\n",
       "    <tr>\n",
       "      <th>3</th>\n",
       "      <td>LogisticRegression</td>\n",
       "      <td>5.405986</td>\n",
       "      <td>0.4871</td>\n",
       "    </tr>\n",
       "  </tbody>\n",
       "</table>\n",
       "</div>"
      ],
      "text/plain": [
       "               Модель  Время обучения модели      F1\n",
       "0            LightGBM            6310.000000  0.5147\n",
       "1            CatBoost            4176.000000  0.4153\n",
       "2        RandomForest            1334.124807  0.5616\n",
       "3  LogisticRegression               5.405986  0.4871"
      ]
     },
     "metadata": {},
     "output_type": "display_data"
    }
   ],
   "source": [
    "columns = ['Модель', 'Время обучения модели', 'F1']\n",
    "gbm = ['LightGBM', time_gbm, gbm_scores]\n",
    "cb = ['CatBoost', time_cb, cb_scores]\n",
    "rf = ['RandomForest', time_rf, rf_scores]\n",
    "lr = ['LogisticRegression', time_lr, lr_scores]\n",
    "\n",
    "table = pd.DataFrame([gbm, cb, rf, lr], columns = columns)\n",
    "display(table)"
   ]
  },
  {
   "cell_type": "markdown",
   "id": "aa6c1fd3-89ed-4e6b-ab94-90892f453ea0",
   "metadata": {},
   "source": [
    "<b>ВЫВОД.</b> Исследованы модели LightGBM, CatBoost, RandomForest и LogisticRegression. \n",
    "В моделях рассмотрены варианты в том числе с балансировкой классов. Лучшей по метрике F1 является модель RandomForest с параметрами: {'class_weight': 'balanced', 'max_depth': 3, 'n_estimators': 35}. F1 на кросс-валидации составляет 0.5616. Т.к. доступа к истинным меткам тестовой выборки (submit) нет, продолжим работу и с другими моделями."
   ]
  },
  {
   "cell_type": "markdown",
   "id": "79fd153f-b3e8-4bb9-a17c-10aced41a5cc",
   "metadata": {},
   "source": [
    "### Тестирование модели"
   ]
  },
  {
   "cell_type": "code",
   "execution_count": 36,
   "id": "d31ffd39-f5da-4468-8243-14cea82bd664",
   "metadata": {
    "tags": []
   },
   "outputs": [
    {
     "name": "stdout",
     "output_type": "stream",
     "text": [
      "F1 LightGBM на тестовой выборке: 0.5327\n"
     ]
    }
   ],
   "source": [
    "#LightGBM\n",
    "test_proba_gbm = gbm_grid.predict_proba(X_test)\n",
    "\n",
    "y_pred_gbm = gbm_grid.predict(X_test)\n",
    "print(\"F1 LightGBM на тестовой выборке:\", round(f1_score(y_test, y_pred_gbm), 4))"
   ]
  },
  {
   "cell_type": "code",
   "execution_count": 37,
   "id": "c28675cd-c0a4-4382-9a7a-6630ab290fac",
   "metadata": {
    "tags": []
   },
   "outputs": [
    {
     "name": "stdout",
     "output_type": "stream",
     "text": [
      "F1 CatBoost на тестовой выборке: 0.5621\n"
     ]
    }
   ],
   "source": [
    "#CatBoost\n",
    "test_proba_cb = cb_grid.predict_proba(X_test)\n",
    "\n",
    "y_pred_cb = cb_grid.predict(X_test)\n",
    "print(\"F1 CatBoost на тестовой выборке:\", round(f1_score(y_test, y_pred_cb), 4))"
   ]
  },
  {
   "cell_type": "code",
   "execution_count": 38,
   "id": "fe97fdf8-abdb-43a1-8807-afa11be1e5b4",
   "metadata": {
    "tags": []
   },
   "outputs": [
    {
     "name": "stdout",
     "output_type": "stream",
     "text": [
      "F1 RandomForest на тестовой выборке: 0.591\n"
     ]
    }
   ],
   "source": [
    "#RandomForest\n",
    "test_proba_rf = rf_grid.predict_proba(X_test)\n",
    "\n",
    "y_pred_rf = rf_grid.predict(X_test)\n",
    "print(\"F1 RandomForest на тестовой выборке:\", round(f1_score(y_test, y_pred_rf), 4))"
   ]
  },
  {
   "cell_type": "code",
   "execution_count": 39,
   "id": "7ac58c7f-0e21-4640-a26b-96e4b275d781",
   "metadata": {
    "tags": []
   },
   "outputs": [
    {
     "name": "stdout",
     "output_type": "stream",
     "text": [
      "F1 LogisticRegression на тестовой выборке: 0.4097\n"
     ]
    }
   ],
   "source": [
    "#LogisticRegression\n",
    "test_proba_lr = lr_grid.predict_proba(X_test_lr)\n",
    "\n",
    "y_pred_lr = lr_grid.predict(X_test_lr)\n",
    "print(\"F1 LogisticRegression на тестовой выборке:\", round(f1_score(y_test, y_pred_lr), 4))"
   ]
  },
  {
   "cell_type": "markdown",
   "id": "ba40a54a-80ac-47f9-832f-6b02ecb26e9b",
   "metadata": {},
   "source": [
    "Наилучшую метрику F1 на выделенной тестовой выборке показали CatBoost И RandomForest."
   ]
  },
  {
   "cell_type": "markdown",
   "id": "1f2c39a6-dfbd-42c2-8f43-83f6a29c6c5d",
   "metadata": {},
   "source": [
    "### Формирование предсказаний"
   ]
  },
  {
   "cell_type": "code",
   "execution_count": 40,
   "id": "33a9abc1-6327-47a2-bb02-ec78f8579c28",
   "metadata": {
    "tags": []
   },
   "outputs": [
    {
     "data": {
      "text/html": [
       "<div>\n",
       "<style scoped>\n",
       "    .dataframe tbody tr th:only-of-type {\n",
       "        vertical-align: middle;\n",
       "    }\n",
       "\n",
       "    .dataframe tbody tr th {\n",
       "        vertical-align: top;\n",
       "    }\n",
       "\n",
       "    .dataframe thead th {\n",
       "        text-align: right;\n",
       "    }\n",
       "</style>\n",
       "<table border=\"1\" class=\"dataframe\">\n",
       "  <thead>\n",
       "    <tr style=\"text-align: right;\">\n",
       "      <th></th>\n",
       "      <th>user_id</th>\n",
       "      <th>category</th>\n",
       "      <th>ordered</th>\n",
       "      <th>orders_total</th>\n",
       "      <th>rating</th>\n",
       "      <th>total_ordered</th>\n",
       "    </tr>\n",
       "  </thead>\n",
       "  <tbody>\n",
       "    <tr>\n",
       "      <th>0</th>\n",
       "      <td>7</td>\n",
       "      <td>0</td>\n",
       "      <td>1</td>\n",
       "      <td>11</td>\n",
       "      <td>0.090909</td>\n",
       "      <td>14190</td>\n",
       "    </tr>\n",
       "    <tr>\n",
       "      <th>1</th>\n",
       "      <td>8</td>\n",
       "      <td>0</td>\n",
       "      <td>1</td>\n",
       "      <td>8</td>\n",
       "      <td>0.125000</td>\n",
       "      <td>14190</td>\n",
       "    </tr>\n",
       "    <tr>\n",
       "      <th>2</th>\n",
       "      <td>9</td>\n",
       "      <td>0</td>\n",
       "      <td>1</td>\n",
       "      <td>46</td>\n",
       "      <td>0.021739</td>\n",
       "      <td>14190</td>\n",
       "    </tr>\n",
       "  </tbody>\n",
       "</table>\n",
       "</div>"
      ],
      "text/plain": [
       "   user_id  category  ordered  orders_total    rating  total_ordered\n",
       "0        7         0        1            11  0.090909          14190\n",
       "1        8         0        1             8  0.125000          14190\n",
       "2        9         0        1            46  0.021739          14190"
      ]
     },
     "execution_count": 40,
     "metadata": {},
     "output_type": "execute_result"
    }
   ],
   "source": [
    "test = df.copy()\n",
    "\n",
    "test['orders_total'] += 1 \n",
    "\n",
    "test['ordered'] = test['ordered'] + test['target']\n",
    "\n",
    "test_total_ordered = test.groupby('category')['ordered'].sum()\n",
    "test['total_ordered'] = test['category'].map(test_total_ordered)\n",
    "\n",
    "test['rating'] = test['ordered'] / test['orders_total']\n",
    "\n",
    "test = test.drop('target', axis=1)\n",
    "test.head(3)"
   ]
  },
  {
   "cell_type": "code",
   "execution_count": 41,
   "id": "fd3483a3-5335-4db1-a76d-bfacf439e046",
   "metadata": {
    "collapsed": true,
    "jupyter": {
     "outputs_hidden": true
    },
    "tags": []
   },
   "outputs": [
    {
     "name": "stdout",
     "output_type": "stream",
     "text": [
      "[LightGBM] [Info] Number of positive: 186518, number of negative: 603931\n",
      "[LightGBM] [Info] Auto-choosing col-wise multi-threading, the overhead of testing was 0.028228 seconds.\n",
      "You can set `force_col_wise=true` to remove the overhead.\n",
      "[LightGBM] [Info] Total Bins 1178\n",
      "[LightGBM] [Info] Number of data points in the train set: 790449, number of used features: 6\n",
      "[LightGBM] [Info] [binary:BoostFromScore]: pavg=0.235965 -> initscore=-1.174932\n",
      "[LightGBM] [Info] Start training from score -1.174932\n",
      "[LightGBM] [Warning] No further splits with positive gain, best gain: -inf\n",
      "[LightGBM] [Warning] No further splits with positive gain, best gain: -inf\n",
      "[LightGBM] [Warning] No further splits with positive gain, best gain: -inf\n",
      "[LightGBM] [Warning] No further splits with positive gain, best gain: -inf\n",
      "[LightGBM] [Warning] No further splits with positive gain, best gain: -inf\n",
      "[LightGBM] [Warning] No further splits with positive gain, best gain: -inf\n",
      "[LightGBM] [Warning] No further splits with positive gain, best gain: -inf\n",
      "[LightGBM] [Warning] No further splits with positive gain, best gain: -inf\n",
      "[LightGBM] [Warning] No further splits with positive gain, best gain: -inf\n",
      "[LightGBM] [Warning] No further splits with positive gain, best gain: -inf\n",
      "[LightGBM] [Warning] No further splits with positive gain, best gain: -inf\n",
      "[LightGBM] [Warning] No further splits with positive gain, best gain: -inf\n",
      "[LightGBM] [Warning] No further splits with positive gain, best gain: -inf\n",
      "[LightGBM] [Warning] No further splits with positive gain, best gain: -inf\n",
      "[LightGBM] [Warning] No further splits with positive gain, best gain: -inf\n",
      "[LightGBM] [Warning] No further splits with positive gain, best gain: -inf\n",
      "[LightGBM] [Warning] No further splits with positive gain, best gain: -inf\n",
      "[LightGBM] [Warning] No further splits with positive gain, best gain: -inf\n",
      "[LightGBM] [Warning] No further splits with positive gain, best gain: -inf\n",
      "[LightGBM] [Warning] No further splits with positive gain, best gain: -inf\n",
      "[LightGBM] [Warning] No further splits with positive gain, best gain: -inf\n",
      "[LightGBM] [Warning] No further splits with positive gain, best gain: -inf\n",
      "df target mean: 0.23596\n",
      "Test target mean: 0.03451\n",
      "Threshold: 0.2350\n",
      "df mean: 0.23596\n",
      "New Test mean: 0.24203\n"
     ]
    }
   ],
   "source": [
    "#LightGBM\n",
    "gbm_final = lgb.LGBMClassifier(**gbm_params)\n",
    "gbm_final.fit(X, y)\n",
    "\n",
    "predictions = gbm_final.predict_proba(test)[:, 1]\n",
    "print('df target mean:', \"%.5f\" % df.target.mean())\n",
    "print('Test target mean:', \"%.5f\" % (predictions > 0.5).astype(int).mean())\n",
    "\n",
    "th = 0.5\n",
    "train_mean = df.target.mean()\n",
    "test_mean = (predictions > th).astype(int).mean()\n",
    "\n",
    "while test_mean < train_mean:\n",
    "    th -= 0.005\n",
    "    test_mean = (predictions > th).astype(int).mean()\n",
    "    \n",
    "print('Threshold:', \"%.4f\" % th)\n",
    "print('df mean:', \"%.5f\" % train_mean)\n",
    "print('New Test mean:', \"%.5f\" % test_mean)\n",
    "\n",
    "test['id'] = test['user_id'].astype(str) + ';' + test['category'].astype(str)\n",
    "\n",
    "test['target'] = (predictions> th).astype(int)\n",
    "submit = pd.merge(sub['id'], test[['id', 'target']], on='id')\n",
    "submit.to_csv('submission_gbm_new.csv', index = False)\n",
    "#Score: 0.48616"
   ]
  },
  {
   "cell_type": "code",
   "execution_count": 42,
   "id": "df3a7ea5-9a37-4a37-9137-b6eb75b6c96a",
   "metadata": {
    "collapsed": true,
    "jupyter": {
     "outputs_hidden": true
    },
    "tags": []
   },
   "outputs": [
    {
     "name": "stdout",
     "output_type": "stream",
     "text": [
      "0:\tlearn: 0.6275346\ttotal: 47.4ms\tremaining: 23.6s\n",
      "1:\tlearn: 0.5827600\ttotal: 105ms\tremaining: 26.1s\n",
      "2:\tlearn: 0.5531180\ttotal: 154ms\tremaining: 25.5s\n",
      "3:\tlearn: 0.5295716\ttotal: 204ms\tremaining: 25.2s\n",
      "4:\tlearn: 0.5099101\ttotal: 261ms\tremaining: 25.8s\n",
      "5:\tlearn: 0.4888255\ttotal: 323ms\tremaining: 26.6s\n",
      "6:\tlearn: 0.4733993\ttotal: 375ms\tremaining: 26.4s\n",
      "7:\tlearn: 0.4619611\ttotal: 429ms\tremaining: 26.4s\n",
      "8:\tlearn: 0.4519388\ttotal: 483ms\tremaining: 26.4s\n",
      "9:\tlearn: 0.4432654\ttotal: 534ms\tremaining: 26.2s\n",
      "10:\tlearn: 0.4368442\ttotal: 585ms\tremaining: 26s\n",
      "11:\tlearn: 0.4317232\ttotal: 636ms\tremaining: 25.9s\n",
      "12:\tlearn: 0.4265709\ttotal: 690ms\tremaining: 25.9s\n",
      "13:\tlearn: 0.4222729\ttotal: 742ms\tremaining: 25.7s\n",
      "14:\tlearn: 0.4195059\ttotal: 792ms\tremaining: 25.6s\n",
      "15:\tlearn: 0.4162026\ttotal: 847ms\tremaining: 25.6s\n",
      "16:\tlearn: 0.4085393\ttotal: 909ms\tremaining: 25.8s\n",
      "17:\tlearn: 0.4053585\ttotal: 961ms\tremaining: 25.7s\n",
      "18:\tlearn: 0.4025706\ttotal: 1.01s\tremaining: 25.7s\n",
      "19:\tlearn: 0.4007305\ttotal: 1.07s\tremaining: 25.6s\n",
      "20:\tlearn: 0.3985281\ttotal: 1.12s\tremaining: 25.5s\n",
      "21:\tlearn: 0.3973434\ttotal: 1.17s\tremaining: 25.5s\n",
      "22:\tlearn: 0.3957173\ttotal: 1.23s\tremaining: 25.4s\n",
      "23:\tlearn: 0.3945228\ttotal: 1.28s\tremaining: 25.3s\n",
      "24:\tlearn: 0.3934817\ttotal: 1.33s\tremaining: 25.2s\n",
      "25:\tlearn: 0.3926879\ttotal: 1.38s\tremaining: 25.1s\n",
      "26:\tlearn: 0.3915141\ttotal: 1.43s\tremaining: 25.1s\n",
      "27:\tlearn: 0.3903349\ttotal: 1.48s\tremaining: 25s\n",
      "28:\tlearn: 0.3898248\ttotal: 1.53s\tremaining: 24.9s\n",
      "29:\tlearn: 0.3892057\ttotal: 1.58s\tremaining: 24.7s\n",
      "30:\tlearn: 0.3884762\ttotal: 1.63s\tremaining: 24.6s\n",
      "31:\tlearn: 0.3864533\ttotal: 1.68s\tremaining: 24.6s\n",
      "32:\tlearn: 0.3855041\ttotal: 1.74s\tremaining: 24.6s\n",
      "33:\tlearn: 0.3850082\ttotal: 1.78s\tremaining: 24.4s\n",
      "34:\tlearn: 0.3844970\ttotal: 1.83s\tremaining: 24.4s\n",
      "35:\tlearn: 0.3838901\ttotal: 1.88s\tremaining: 24.3s\n",
      "36:\tlearn: 0.3833185\ttotal: 1.94s\tremaining: 24.2s\n",
      "37:\tlearn: 0.3799345\ttotal: 2s\tremaining: 24.3s\n",
      "38:\tlearn: 0.3792042\ttotal: 2.04s\tremaining: 24.2s\n",
      "39:\tlearn: 0.3789292\ttotal: 2.09s\tremaining: 24.1s\n",
      "40:\tlearn: 0.3786583\ttotal: 2.14s\tremaining: 24s\n",
      "41:\tlearn: 0.3780696\ttotal: 2.19s\tremaining: 23.9s\n",
      "42:\tlearn: 0.3777251\ttotal: 2.24s\tremaining: 23.9s\n",
      "43:\tlearn: 0.3771986\ttotal: 2.29s\tremaining: 23.8s\n",
      "44:\tlearn: 0.3770170\ttotal: 2.34s\tremaining: 23.7s\n",
      "45:\tlearn: 0.3768302\ttotal: 2.4s\tremaining: 23.7s\n",
      "46:\tlearn: 0.3764457\ttotal: 2.45s\tremaining: 23.6s\n",
      "47:\tlearn: 0.3762755\ttotal: 2.49s\tremaining: 23.5s\n",
      "48:\tlearn: 0.3758103\ttotal: 2.54s\tremaining: 23.4s\n",
      "49:\tlearn: 0.3756790\ttotal: 2.59s\tremaining: 23.3s\n",
      "50:\tlearn: 0.3755001\ttotal: 2.65s\tremaining: 23.3s\n",
      "51:\tlearn: 0.3751629\ttotal: 2.69s\tremaining: 23.2s\n",
      "52:\tlearn: 0.3750543\ttotal: 2.74s\tremaining: 23.1s\n",
      "53:\tlearn: 0.3748026\ttotal: 2.79s\tremaining: 23.1s\n",
      "54:\tlearn: 0.3747009\ttotal: 2.84s\tremaining: 23s\n",
      "55:\tlearn: 0.3745753\ttotal: 2.9s\tremaining: 23s\n",
      "56:\tlearn: 0.3743809\ttotal: 2.95s\tremaining: 22.9s\n",
      "57:\tlearn: 0.3726396\ttotal: 3.01s\tremaining: 22.9s\n",
      "58:\tlearn: 0.3724200\ttotal: 3.06s\tremaining: 22.9s\n",
      "59:\tlearn: 0.3723260\ttotal: 3.11s\tremaining: 22.8s\n",
      "60:\tlearn: 0.3722113\ttotal: 3.16s\tremaining: 22.8s\n",
      "61:\tlearn: 0.3720153\ttotal: 3.21s\tremaining: 22.7s\n",
      "62:\tlearn: 0.3719506\ttotal: 3.26s\tremaining: 22.6s\n",
      "63:\tlearn: 0.3718813\ttotal: 3.32s\tremaining: 22.6s\n",
      "64:\tlearn: 0.3716464\ttotal: 3.37s\tremaining: 22.6s\n",
      "65:\tlearn: 0.3714785\ttotal: 3.42s\tremaining: 22.5s\n",
      "66:\tlearn: 0.3713083\ttotal: 3.47s\tremaining: 22.4s\n",
      "67:\tlearn: 0.3712584\ttotal: 3.52s\tremaining: 22.4s\n",
      "68:\tlearn: 0.3712147\ttotal: 3.57s\tremaining: 22.3s\n",
      "69:\tlearn: 0.3710419\ttotal: 3.63s\tremaining: 22.3s\n",
      "70:\tlearn: 0.3709184\ttotal: 3.68s\tremaining: 22.2s\n",
      "71:\tlearn: 0.3708747\ttotal: 3.72s\tremaining: 22.1s\n",
      "72:\tlearn: 0.3707622\ttotal: 3.78s\tremaining: 22.1s\n",
      "73:\tlearn: 0.3706935\ttotal: 3.83s\tremaining: 22.1s\n",
      "74:\tlearn: 0.3706322\ttotal: 3.88s\tremaining: 22s\n",
      "75:\tlearn: 0.3705937\ttotal: 3.93s\tremaining: 21.9s\n",
      "76:\tlearn: 0.3705557\ttotal: 3.98s\tremaining: 21.9s\n",
      "77:\tlearn: 0.3705218\ttotal: 4.03s\tremaining: 21.8s\n",
      "78:\tlearn: 0.3693857\ttotal: 4.09s\tremaining: 21.8s\n",
      "79:\tlearn: 0.3692345\ttotal: 4.14s\tremaining: 21.8s\n",
      "80:\tlearn: 0.3691136\ttotal: 4.2s\tremaining: 21.7s\n",
      "81:\tlearn: 0.3690875\ttotal: 4.24s\tremaining: 21.6s\n",
      "82:\tlearn: 0.3690301\ttotal: 4.3s\tremaining: 21.6s\n",
      "83:\tlearn: 0.3689996\ttotal: 4.35s\tremaining: 21.5s\n",
      "84:\tlearn: 0.3689767\ttotal: 4.4s\tremaining: 21.5s\n",
      "85:\tlearn: 0.3688975\ttotal: 4.45s\tremaining: 21.4s\n",
      "86:\tlearn: 0.3688521\ttotal: 4.5s\tremaining: 21.4s\n",
      "87:\tlearn: 0.3688270\ttotal: 4.55s\tremaining: 21.3s\n",
      "88:\tlearn: 0.3687259\ttotal: 4.6s\tremaining: 21.3s\n",
      "89:\tlearn: 0.3687009\ttotal: 4.65s\tremaining: 21.2s\n",
      "90:\tlearn: 0.3686800\ttotal: 4.7s\tremaining: 21.1s\n",
      "91:\tlearn: 0.3686669\ttotal: 4.75s\tremaining: 21.1s\n",
      "92:\tlearn: 0.3686275\ttotal: 4.8s\tremaining: 21s\n",
      "93:\tlearn: 0.3685579\ttotal: 4.86s\tremaining: 21s\n",
      "94:\tlearn: 0.3685483\ttotal: 4.9s\tremaining: 20.9s\n",
      "95:\tlearn: 0.3684617\ttotal: 4.96s\tremaining: 20.9s\n",
      "96:\tlearn: 0.3684265\ttotal: 5s\tremaining: 20.8s\n",
      "97:\tlearn: 0.3684059\ttotal: 5.06s\tremaining: 20.7s\n",
      "98:\tlearn: 0.3683705\ttotal: 5.11s\tremaining: 20.7s\n",
      "99:\tlearn: 0.3683517\ttotal: 5.16s\tremaining: 20.6s\n",
      "100:\tlearn: 0.3683316\ttotal: 5.2s\tremaining: 20.6s\n",
      "101:\tlearn: 0.3683211\ttotal: 5.25s\tremaining: 20.5s\n",
      "102:\tlearn: 0.3682583\ttotal: 5.31s\tremaining: 20.5s\n",
      "103:\tlearn: 0.3682487\ttotal: 5.36s\tremaining: 20.4s\n",
      "104:\tlearn: 0.3682151\ttotal: 5.41s\tremaining: 20.3s\n",
      "105:\tlearn: 0.3681598\ttotal: 5.46s\tremaining: 20.3s\n",
      "106:\tlearn: 0.3681473\ttotal: 5.5s\tremaining: 20.2s\n",
      "107:\tlearn: 0.3681278\ttotal: 5.56s\tremaining: 20.2s\n",
      "108:\tlearn: 0.3680990\ttotal: 5.61s\tremaining: 20.1s\n",
      "109:\tlearn: 0.3680567\ttotal: 5.66s\tremaining: 20.1s\n",
      "110:\tlearn: 0.3678848\ttotal: 5.72s\tremaining: 20s\n",
      "111:\tlearn: 0.3678678\ttotal: 5.77s\tremaining: 20s\n",
      "112:\tlearn: 0.3678422\ttotal: 5.82s\tremaining: 19.9s\n",
      "113:\tlearn: 0.3678327\ttotal: 5.87s\tremaining: 19.9s\n",
      "114:\tlearn: 0.3678240\ttotal: 5.92s\tremaining: 19.8s\n",
      "115:\tlearn: 0.3678130\ttotal: 5.96s\tremaining: 19.7s\n",
      "116:\tlearn: 0.3677910\ttotal: 6.02s\tremaining: 19.7s\n",
      "117:\tlearn: 0.3677675\ttotal: 6.07s\tremaining: 19.6s\n",
      "118:\tlearn: 0.3677552\ttotal: 6.11s\tremaining: 19.6s\n",
      "119:\tlearn: 0.3677464\ttotal: 6.16s\tremaining: 19.5s\n",
      "120:\tlearn: 0.3677371\ttotal: 6.21s\tremaining: 19.5s\n",
      "121:\tlearn: 0.3677194\ttotal: 6.27s\tremaining: 19.4s\n",
      "122:\tlearn: 0.3677057\ttotal: 6.32s\tremaining: 19.4s\n",
      "123:\tlearn: 0.3676961\ttotal: 6.37s\tremaining: 19.3s\n",
      "124:\tlearn: 0.3676806\ttotal: 6.42s\tremaining: 19.3s\n",
      "125:\tlearn: 0.3671629\ttotal: 6.48s\tremaining: 19.2s\n",
      "126:\tlearn: 0.3671042\ttotal: 6.53s\tremaining: 19.2s\n",
      "127:\tlearn: 0.3670903\ttotal: 6.58s\tremaining: 19.1s\n",
      "128:\tlearn: 0.3670559\ttotal: 6.63s\tremaining: 19.1s\n",
      "129:\tlearn: 0.3670354\ttotal: 6.68s\tremaining: 19s\n",
      "130:\tlearn: 0.3670222\ttotal: 6.74s\tremaining: 19s\n",
      "131:\tlearn: 0.3669840\ttotal: 6.79s\tremaining: 18.9s\n",
      "132:\tlearn: 0.3669773\ttotal: 6.83s\tremaining: 18.9s\n",
      "133:\tlearn: 0.3669651\ttotal: 6.88s\tremaining: 18.8s\n",
      "134:\tlearn: 0.3669573\ttotal: 6.93s\tremaining: 18.7s\n",
      "135:\tlearn: 0.3669457\ttotal: 6.99s\tremaining: 18.7s\n",
      "136:\tlearn: 0.3669134\ttotal: 7.04s\tremaining: 18.7s\n",
      "137:\tlearn: 0.3669048\ttotal: 7.09s\tremaining: 18.6s\n",
      "138:\tlearn: 0.3668993\ttotal: 7.13s\tremaining: 18.5s\n",
      "139:\tlearn: 0.3668590\ttotal: 7.18s\tremaining: 18.5s\n",
      "140:\tlearn: 0.3668438\ttotal: 7.24s\tremaining: 18.4s\n",
      "141:\tlearn: 0.3668139\ttotal: 7.29s\tremaining: 18.4s\n",
      "142:\tlearn: 0.3668044\ttotal: 7.34s\tremaining: 18.3s\n",
      "143:\tlearn: 0.3667950\ttotal: 7.39s\tremaining: 18.3s\n",
      "144:\tlearn: 0.3667675\ttotal: 7.45s\tremaining: 18.2s\n",
      "145:\tlearn: 0.3667651\ttotal: 7.5s\tremaining: 18.2s\n",
      "146:\tlearn: 0.3667605\ttotal: 7.55s\tremaining: 18.1s\n",
      "147:\tlearn: 0.3667470\ttotal: 7.6s\tremaining: 18.1s\n",
      "148:\tlearn: 0.3667381\ttotal: 7.65s\tremaining: 18s\n",
      "149:\tlearn: 0.3667329\ttotal: 7.7s\tremaining: 18s\n",
      "150:\tlearn: 0.3667054\ttotal: 7.75s\tremaining: 17.9s\n",
      "151:\tlearn: 0.3666994\ttotal: 7.8s\tremaining: 17.9s\n",
      "152:\tlearn: 0.3666949\ttotal: 7.86s\tremaining: 17.8s\n",
      "153:\tlearn: 0.3666839\ttotal: 7.92s\tremaining: 17.8s\n",
      "154:\tlearn: 0.3666770\ttotal: 7.98s\tremaining: 17.8s\n",
      "155:\tlearn: 0.3666740\ttotal: 8.03s\tremaining: 17.7s\n",
      "156:\tlearn: 0.3666700\ttotal: 8.08s\tremaining: 17.7s\n",
      "157:\tlearn: 0.3666669\ttotal: 8.14s\tremaining: 17.6s\n",
      "158:\tlearn: 0.3666590\ttotal: 8.19s\tremaining: 17.6s\n",
      "159:\tlearn: 0.3666508\ttotal: 8.24s\tremaining: 17.5s\n",
      "160:\tlearn: 0.3666405\ttotal: 8.3s\tremaining: 17.5s\n",
      "161:\tlearn: 0.3666348\ttotal: 8.35s\tremaining: 17.4s\n",
      "162:\tlearn: 0.3666282\ttotal: 8.51s\tremaining: 17.6s\n",
      "163:\tlearn: 0.3666241\ttotal: 8.59s\tremaining: 17.6s\n",
      "164:\tlearn: 0.3666214\ttotal: 8.64s\tremaining: 17.5s\n",
      "165:\tlearn: 0.3666129\ttotal: 8.7s\tremaining: 17.5s\n",
      "166:\tlearn: 0.3666089\ttotal: 8.76s\tremaining: 17.5s\n",
      "167:\tlearn: 0.3665865\ttotal: 8.82s\tremaining: 17.4s\n",
      "168:\tlearn: 0.3665799\ttotal: 8.87s\tremaining: 17.4s\n",
      "169:\tlearn: 0.3665774\ttotal: 8.93s\tremaining: 17.3s\n",
      "170:\tlearn: 0.3665737\ttotal: 8.97s\tremaining: 17.3s\n",
      "171:\tlearn: 0.3665704\ttotal: 9.03s\tremaining: 17.2s\n",
      "172:\tlearn: 0.3665624\ttotal: 9.08s\tremaining: 17.2s\n",
      "173:\tlearn: 0.3665598\ttotal: 9.13s\tremaining: 17.1s\n",
      "174:\tlearn: 0.3665568\ttotal: 9.19s\tremaining: 17.1s\n",
      "175:\tlearn: 0.3665507\ttotal: 9.24s\tremaining: 17s\n",
      "176:\tlearn: 0.3665500\ttotal: 9.3s\tremaining: 17s\n",
      "177:\tlearn: 0.3665327\ttotal: 9.35s\tremaining: 16.9s\n",
      "178:\tlearn: 0.3662292\ttotal: 9.42s\tremaining: 16.9s\n",
      "179:\tlearn: 0.3662047\ttotal: 9.48s\tremaining: 16.8s\n",
      "180:\tlearn: 0.3661979\ttotal: 9.53s\tremaining: 16.8s\n",
      "181:\tlearn: 0.3661738\ttotal: 9.59s\tremaining: 16.8s\n",
      "182:\tlearn: 0.3661701\ttotal: 9.65s\tremaining: 16.7s\n",
      "183:\tlearn: 0.3661676\ttotal: 9.71s\tremaining: 16.7s\n",
      "184:\tlearn: 0.3661627\ttotal: 9.76s\tremaining: 16.6s\n",
      "185:\tlearn: 0.3661582\ttotal: 9.81s\tremaining: 16.6s\n",
      "186:\tlearn: 0.3661522\ttotal: 9.86s\tremaining: 16.5s\n",
      "187:\tlearn: 0.3661445\ttotal: 9.92s\tremaining: 16.5s\n",
      "188:\tlearn: 0.3661239\ttotal: 9.97s\tremaining: 16.4s\n",
      "189:\tlearn: 0.3661208\ttotal: 10s\tremaining: 16.4s\n",
      "190:\tlearn: 0.3661197\ttotal: 10.1s\tremaining: 16.3s\n",
      "191:\tlearn: 0.3661129\ttotal: 10.1s\tremaining: 16.3s\n",
      "192:\tlearn: 0.3661093\ttotal: 10.2s\tremaining: 16.2s\n",
      "193:\tlearn: 0.3661050\ttotal: 10.2s\tremaining: 16.2s\n",
      "194:\tlearn: 0.3661018\ttotal: 10.3s\tremaining: 16.1s\n",
      "195:\tlearn: 0.3660999\ttotal: 10.4s\tremaining: 16.1s\n",
      "196:\tlearn: 0.3660990\ttotal: 10.4s\tremaining: 16s\n",
      "197:\tlearn: 0.3660910\ttotal: 10.5s\tremaining: 16s\n",
      "198:\tlearn: 0.3660874\ttotal: 10.5s\tremaining: 15.9s\n",
      "199:\tlearn: 0.3660847\ttotal: 10.6s\tremaining: 15.9s\n",
      "200:\tlearn: 0.3660692\ttotal: 10.6s\tremaining: 15.8s\n",
      "201:\tlearn: 0.3660622\ttotal: 10.7s\tremaining: 15.8s\n",
      "202:\tlearn: 0.3660584\ttotal: 10.7s\tremaining: 15.7s\n",
      "203:\tlearn: 0.3660514\ttotal: 10.8s\tremaining: 15.7s\n",
      "204:\tlearn: 0.3660464\ttotal: 10.8s\tremaining: 15.6s\n",
      "205:\tlearn: 0.3660392\ttotal: 10.9s\tremaining: 15.6s\n",
      "206:\tlearn: 0.3660217\ttotal: 11s\tremaining: 15.5s\n",
      "207:\tlearn: 0.3660193\ttotal: 11s\tremaining: 15.5s\n",
      "208:\tlearn: 0.3660173\ttotal: 11.1s\tremaining: 15.4s\n",
      "209:\tlearn: 0.3660121\ttotal: 11.1s\tremaining: 15.4s\n",
      "210:\tlearn: 0.3660087\ttotal: 11.2s\tremaining: 15.3s\n",
      "211:\tlearn: 0.3660057\ttotal: 11.2s\tremaining: 15.3s\n",
      "212:\tlearn: 0.3659996\ttotal: 11.3s\tremaining: 15.2s\n",
      "213:\tlearn: 0.3659955\ttotal: 11.3s\tremaining: 15.1s\n",
      "214:\tlearn: 0.3659921\ttotal: 11.4s\tremaining: 15.1s\n",
      "215:\tlearn: 0.3659888\ttotal: 11.4s\tremaining: 15s\n",
      "216:\tlearn: 0.3659866\ttotal: 11.5s\tremaining: 15s\n",
      "217:\tlearn: 0.3659855\ttotal: 11.5s\tremaining: 14.9s\n",
      "218:\tlearn: 0.3659845\ttotal: 11.6s\tremaining: 14.9s\n",
      "219:\tlearn: 0.3659781\ttotal: 11.7s\tremaining: 14.8s\n",
      "220:\tlearn: 0.3659730\ttotal: 11.7s\tremaining: 14.8s\n",
      "221:\tlearn: 0.3659708\ttotal: 11.8s\tremaining: 14.7s\n",
      "222:\tlearn: 0.3659681\ttotal: 11.8s\tremaining: 14.7s\n",
      "223:\tlearn: 0.3659655\ttotal: 11.9s\tremaining: 14.6s\n",
      "224:\tlearn: 0.3659588\ttotal: 11.9s\tremaining: 14.6s\n",
      "225:\tlearn: 0.3659511\ttotal: 12s\tremaining: 14.5s\n",
      "226:\tlearn: 0.3659452\ttotal: 12s\tremaining: 14.5s\n",
      "227:\tlearn: 0.3659404\ttotal: 12.1s\tremaining: 14.4s\n",
      "228:\tlearn: 0.3659378\ttotal: 12.1s\tremaining: 14.4s\n",
      "229:\tlearn: 0.3659345\ttotal: 12.2s\tremaining: 14.3s\n",
      "230:\tlearn: 0.3659333\ttotal: 12.3s\tremaining: 14.3s\n",
      "231:\tlearn: 0.3659288\ttotal: 12.3s\tremaining: 14.2s\n",
      "232:\tlearn: 0.3659275\ttotal: 12.4s\tremaining: 14.2s\n",
      "233:\tlearn: 0.3659167\ttotal: 12.4s\tremaining: 14.1s\n",
      "234:\tlearn: 0.3659140\ttotal: 12.5s\tremaining: 14.1s\n",
      "235:\tlearn: 0.3659097\ttotal: 12.5s\tremaining: 14s\n",
      "236:\tlearn: 0.3659080\ttotal: 12.6s\tremaining: 14s\n",
      "237:\tlearn: 0.3659069\ttotal: 12.7s\tremaining: 13.9s\n",
      "238:\tlearn: 0.3659012\ttotal: 12.7s\tremaining: 13.9s\n",
      "239:\tlearn: 0.3659013\ttotal: 12.8s\tremaining: 13.8s\n",
      "240:\tlearn: 0.3658956\ttotal: 12.8s\tremaining: 13.8s\n",
      "241:\tlearn: 0.3658919\ttotal: 12.9s\tremaining: 13.7s\n",
      "242:\tlearn: 0.3658873\ttotal: 12.9s\tremaining: 13.7s\n",
      "243:\tlearn: 0.3658849\ttotal: 13s\tremaining: 13.6s\n",
      "244:\tlearn: 0.3658830\ttotal: 13s\tremaining: 13.5s\n",
      "245:\tlearn: 0.3658668\ttotal: 13.1s\tremaining: 13.5s\n",
      "246:\tlearn: 0.3658623\ttotal: 13.1s\tremaining: 13.4s\n",
      "247:\tlearn: 0.3658593\ttotal: 13.2s\tremaining: 13.4s\n",
      "248:\tlearn: 0.3658563\ttotal: 13.2s\tremaining: 13.3s\n",
      "249:\tlearn: 0.3658515\ttotal: 13.3s\tremaining: 13.3s\n",
      "250:\tlearn: 0.3658486\ttotal: 13.3s\tremaining: 13.2s\n",
      "251:\tlearn: 0.3658466\ttotal: 13.4s\tremaining: 13.2s\n",
      "252:\tlearn: 0.3658436\ttotal: 13.4s\tremaining: 13.1s\n",
      "253:\tlearn: 0.3658426\ttotal: 13.5s\tremaining: 13s\n",
      "254:\tlearn: 0.3658407\ttotal: 13.5s\tremaining: 13s\n",
      "255:\tlearn: 0.3658354\ttotal: 13.6s\tremaining: 12.9s\n",
      "256:\tlearn: 0.3658337\ttotal: 13.6s\tremaining: 12.9s\n",
      "257:\tlearn: 0.3658313\ttotal: 13.7s\tremaining: 12.8s\n",
      "258:\tlearn: 0.3658294\ttotal: 13.7s\tremaining: 12.8s\n",
      "259:\tlearn: 0.3658285\ttotal: 13.8s\tremaining: 12.7s\n",
      "260:\tlearn: 0.3658250\ttotal: 13.8s\tremaining: 12.6s\n",
      "261:\tlearn: 0.3658225\ttotal: 13.9s\tremaining: 12.6s\n",
      "262:\tlearn: 0.3658213\ttotal: 13.9s\tremaining: 12.5s\n",
      "263:\tlearn: 0.3658198\ttotal: 14s\tremaining: 12.5s\n",
      "264:\tlearn: 0.3658167\ttotal: 14s\tremaining: 12.4s\n",
      "265:\tlearn: 0.3658119\ttotal: 14.1s\tremaining: 12.4s\n",
      "266:\tlearn: 0.3658115\ttotal: 14.1s\tremaining: 12.3s\n",
      "267:\tlearn: 0.3658073\ttotal: 14.1s\tremaining: 12.2s\n",
      "268:\tlearn: 0.3658055\ttotal: 14.2s\tremaining: 12.2s\n",
      "269:\tlearn: 0.3658024\ttotal: 14.2s\tremaining: 12.1s\n",
      "270:\tlearn: 0.3658011\ttotal: 14.3s\tremaining: 12.1s\n",
      "271:\tlearn: 0.3658000\ttotal: 14.3s\tremaining: 12s\n",
      "272:\tlearn: 0.3657973\ttotal: 14.4s\tremaining: 12s\n",
      "273:\tlearn: 0.3657966\ttotal: 14.4s\tremaining: 11.9s\n",
      "274:\tlearn: 0.3657926\ttotal: 14.5s\tremaining: 11.9s\n",
      "275:\tlearn: 0.3657918\ttotal: 14.5s\tremaining: 11.8s\n",
      "276:\tlearn: 0.3657898\ttotal: 14.6s\tremaining: 11.7s\n",
      "277:\tlearn: 0.3657856\ttotal: 14.6s\tremaining: 11.7s\n",
      "278:\tlearn: 0.3657870\ttotal: 14.7s\tremaining: 11.6s\n",
      "279:\tlearn: 0.3657802\ttotal: 14.7s\tremaining: 11.6s\n",
      "280:\tlearn: 0.3657787\ttotal: 14.8s\tremaining: 11.5s\n",
      "281:\tlearn: 0.3657761\ttotal: 14.8s\tremaining: 11.4s\n",
      "282:\tlearn: 0.3657725\ttotal: 14.8s\tremaining: 11.4s\n",
      "283:\tlearn: 0.3657713\ttotal: 14.9s\tremaining: 11.3s\n",
      "284:\tlearn: 0.3657660\ttotal: 14.9s\tremaining: 11.3s\n",
      "285:\tlearn: 0.3657628\ttotal: 15s\tremaining: 11.2s\n",
      "286:\tlearn: 0.3657621\ttotal: 15s\tremaining: 11.1s\n",
      "287:\tlearn: 0.3657581\ttotal: 15s\tremaining: 11.1s\n",
      "288:\tlearn: 0.3657561\ttotal: 15.1s\tremaining: 11s\n",
      "289:\tlearn: 0.3657447\ttotal: 15.1s\tremaining: 11s\n",
      "290:\tlearn: 0.3657433\ttotal: 15.2s\tremaining: 10.9s\n",
      "291:\tlearn: 0.3657417\ttotal: 15.2s\tremaining: 10.9s\n",
      "292:\tlearn: 0.3657381\ttotal: 15.3s\tremaining: 10.8s\n",
      "293:\tlearn: 0.3657346\ttotal: 15.3s\tremaining: 10.7s\n",
      "294:\tlearn: 0.3657311\ttotal: 15.4s\tremaining: 10.7s\n",
      "295:\tlearn: 0.3657287\ttotal: 15.4s\tremaining: 10.6s\n",
      "296:\tlearn: 0.3657285\ttotal: 15.5s\tremaining: 10.6s\n",
      "297:\tlearn: 0.3657254\ttotal: 15.5s\tremaining: 10.5s\n",
      "298:\tlearn: 0.3657241\ttotal: 15.6s\tremaining: 10.5s\n",
      "299:\tlearn: 0.3657215\ttotal: 15.6s\tremaining: 10.4s\n",
      "300:\tlearn: 0.3657195\ttotal: 15.6s\tremaining: 10.3s\n",
      "301:\tlearn: 0.3657193\ttotal: 15.7s\tremaining: 10.3s\n",
      "302:\tlearn: 0.3657168\ttotal: 15.7s\tremaining: 10.2s\n",
      "303:\tlearn: 0.3657137\ttotal: 15.8s\tremaining: 10.2s\n",
      "304:\tlearn: 0.3657126\ttotal: 15.8s\tremaining: 10.1s\n",
      "305:\tlearn: 0.3657088\ttotal: 15.9s\tremaining: 10.1s\n",
      "306:\tlearn: 0.3657070\ttotal: 15.9s\tremaining: 10s\n",
      "307:\tlearn: 0.3657073\ttotal: 15.9s\tremaining: 9.94s\n",
      "308:\tlearn: 0.3657055\ttotal: 16s\tremaining: 9.88s\n",
      "309:\tlearn: 0.3657043\ttotal: 16s\tremaining: 9.82s\n",
      "310:\tlearn: 0.3657029\ttotal: 16.1s\tremaining: 9.77s\n",
      "311:\tlearn: 0.3657017\ttotal: 16.1s\tremaining: 9.71s\n",
      "312:\tlearn: 0.3656992\ttotal: 16.2s\tremaining: 9.65s\n",
      "313:\tlearn: 0.3656996\ttotal: 16.2s\tremaining: 9.6s\n",
      "314:\tlearn: 0.3656967\ttotal: 16.2s\tremaining: 9.54s\n",
      "315:\tlearn: 0.3656885\ttotal: 16.3s\tremaining: 9.48s\n",
      "316:\tlearn: 0.3656894\ttotal: 16.3s\tremaining: 9.43s\n",
      "317:\tlearn: 0.3656836\ttotal: 16.4s\tremaining: 9.37s\n",
      "318:\tlearn: 0.3656854\ttotal: 16.4s\tremaining: 9.32s\n",
      "319:\tlearn: 0.3656820\ttotal: 16.5s\tremaining: 9.26s\n",
      "320:\tlearn: 0.3656815\ttotal: 16.5s\tremaining: 9.2s\n",
      "321:\tlearn: 0.3656794\ttotal: 16.6s\tremaining: 9.15s\n",
      "322:\tlearn: 0.3656805\ttotal: 16.6s\tremaining: 9.09s\n",
      "323:\tlearn: 0.3655165\ttotal: 16.6s\tremaining: 9.04s\n",
      "324:\tlearn: 0.3655033\ttotal: 16.7s\tremaining: 8.98s\n",
      "325:\tlearn: 0.3655011\ttotal: 16.7s\tremaining: 8.93s\n",
      "326:\tlearn: 0.3654909\ttotal: 16.8s\tremaining: 8.87s\n",
      "327:\tlearn: 0.3654881\ttotal: 16.8s\tremaining: 8.82s\n",
      "328:\tlearn: 0.3654866\ttotal: 16.9s\tremaining: 8.76s\n",
      "329:\tlearn: 0.3654863\ttotal: 16.9s\tremaining: 8.71s\n",
      "330:\tlearn: 0.3654776\ttotal: 16.9s\tremaining: 8.65s\n",
      "331:\tlearn: 0.3654758\ttotal: 17s\tremaining: 8.6s\n",
      "332:\tlearn: 0.3654723\ttotal: 17s\tremaining: 8.54s\n",
      "333:\tlearn: 0.3654708\ttotal: 17.1s\tremaining: 8.49s\n",
      "334:\tlearn: 0.3654702\ttotal: 17.1s\tremaining: 8.43s\n",
      "335:\tlearn: 0.3654662\ttotal: 17.2s\tremaining: 8.38s\n",
      "336:\tlearn: 0.3654633\ttotal: 17.2s\tremaining: 8.32s\n",
      "337:\tlearn: 0.3654620\ttotal: 17.2s\tremaining: 8.27s\n",
      "338:\tlearn: 0.3654622\ttotal: 17.3s\tremaining: 8.21s\n",
      "339:\tlearn: 0.3654602\ttotal: 17.3s\tremaining: 8.16s\n",
      "340:\tlearn: 0.3654605\ttotal: 17.4s\tremaining: 8.1s\n",
      "341:\tlearn: 0.3654581\ttotal: 17.4s\tremaining: 8.05s\n",
      "342:\tlearn: 0.3654572\ttotal: 17.5s\tremaining: 8s\n",
      "343:\tlearn: 0.3654571\ttotal: 17.5s\tremaining: 7.94s\n",
      "344:\tlearn: 0.3654535\ttotal: 17.6s\tremaining: 7.89s\n",
      "345:\tlearn: 0.3654521\ttotal: 17.6s\tremaining: 7.83s\n",
      "346:\tlearn: 0.3654531\ttotal: 17.7s\tremaining: 7.78s\n",
      "347:\tlearn: 0.3654507\ttotal: 17.7s\tremaining: 7.73s\n",
      "348:\tlearn: 0.3654501\ttotal: 17.7s\tremaining: 7.67s\n",
      "349:\tlearn: 0.3654448\ttotal: 17.8s\tremaining: 7.62s\n",
      "350:\tlearn: 0.3654421\ttotal: 17.8s\tremaining: 7.57s\n",
      "351:\tlearn: 0.3654415\ttotal: 17.9s\tremaining: 7.52s\n",
      "352:\tlearn: 0.3654407\ttotal: 17.9s\tremaining: 7.46s\n",
      "353:\tlearn: 0.3654356\ttotal: 18s\tremaining: 7.41s\n",
      "354:\tlearn: 0.3654375\ttotal: 18s\tremaining: 7.36s\n",
      "355:\tlearn: 0.3654344\ttotal: 18.1s\tremaining: 7.3s\n",
      "356:\tlearn: 0.3654338\ttotal: 18.1s\tremaining: 7.25s\n",
      "357:\tlearn: 0.3654314\ttotal: 18.1s\tremaining: 7.2s\n",
      "358:\tlearn: 0.3654305\ttotal: 18.2s\tremaining: 7.14s\n",
      "359:\tlearn: 0.3654289\ttotal: 18.2s\tremaining: 7.09s\n",
      "360:\tlearn: 0.3654290\ttotal: 18.3s\tremaining: 7.04s\n",
      "361:\tlearn: 0.3654272\ttotal: 18.3s\tremaining: 6.98s\n",
      "362:\tlearn: 0.3654269\ttotal: 18.4s\tremaining: 6.93s\n",
      "363:\tlearn: 0.3654233\ttotal: 18.4s\tremaining: 6.88s\n",
      "364:\tlearn: 0.3654222\ttotal: 18.4s\tremaining: 6.82s\n",
      "365:\tlearn: 0.3654212\ttotal: 18.5s\tremaining: 6.77s\n",
      "366:\tlearn: 0.3654207\ttotal: 18.5s\tremaining: 6.72s\n",
      "367:\tlearn: 0.3654206\ttotal: 18.6s\tremaining: 6.66s\n",
      "368:\tlearn: 0.3654183\ttotal: 18.6s\tremaining: 6.61s\n",
      "369:\tlearn: 0.3654103\ttotal: 18.7s\tremaining: 6.56s\n",
      "370:\tlearn: 0.3654083\ttotal: 18.7s\tremaining: 6.51s\n",
      "371:\tlearn: 0.3654077\ttotal: 18.8s\tremaining: 6.46s\n",
      "372:\tlearn: 0.3654014\ttotal: 18.8s\tremaining: 6.4s\n",
      "373:\tlearn: 0.3653975\ttotal: 18.9s\tremaining: 6.35s\n",
      "374:\tlearn: 0.3653971\ttotal: 18.9s\tremaining: 6.3s\n",
      "375:\tlearn: 0.3653947\ttotal: 18.9s\tremaining: 6.25s\n",
      "376:\tlearn: 0.3653952\ttotal: 19s\tremaining: 6.2s\n",
      "377:\tlearn: 0.3653933\ttotal: 19s\tremaining: 6.14s\n",
      "378:\tlearn: 0.3653912\ttotal: 19.1s\tremaining: 6.09s\n",
      "379:\tlearn: 0.3653898\ttotal: 19.1s\tremaining: 6.04s\n",
      "380:\tlearn: 0.3653891\ttotal: 19.2s\tremaining: 5.98s\n",
      "381:\tlearn: 0.3653882\ttotal: 19.2s\tremaining: 5.93s\n",
      "382:\tlearn: 0.3653861\ttotal: 19.2s\tremaining: 5.88s\n",
      "383:\tlearn: 0.3653860\ttotal: 19.3s\tremaining: 5.83s\n",
      "384:\tlearn: 0.3653856\ttotal: 19.3s\tremaining: 5.77s\n",
      "385:\tlearn: 0.3653839\ttotal: 19.4s\tremaining: 5.72s\n",
      "386:\tlearn: 0.3653831\ttotal: 19.4s\tremaining: 5.67s\n",
      "387:\tlearn: 0.3653807\ttotal: 19.5s\tremaining: 5.62s\n",
      "388:\tlearn: 0.3653780\ttotal: 19.5s\tremaining: 5.57s\n",
      "389:\tlearn: 0.3653791\ttotal: 19.5s\tremaining: 5.51s\n",
      "390:\tlearn: 0.3653758\ttotal: 19.6s\tremaining: 5.46s\n",
      "391:\tlearn: 0.3653776\ttotal: 19.6s\tremaining: 5.41s\n",
      "392:\tlearn: 0.3653753\ttotal: 19.7s\tremaining: 5.36s\n",
      "393:\tlearn: 0.3653741\ttotal: 19.7s\tremaining: 5.31s\n",
      "394:\tlearn: 0.3653724\ttotal: 19.8s\tremaining: 5.25s\n",
      "395:\tlearn: 0.3653732\ttotal: 19.8s\tremaining: 5.2s\n",
      "396:\tlearn: 0.3653714\ttotal: 19.9s\tremaining: 5.15s\n",
      "397:\tlearn: 0.3653688\ttotal: 19.9s\tremaining: 5.1s\n",
      "398:\tlearn: 0.3653687\ttotal: 19.9s\tremaining: 5.05s\n",
      "399:\tlearn: 0.3653670\ttotal: 20s\tremaining: 5s\n",
      "400:\tlearn: 0.3653645\ttotal: 20s\tremaining: 4.94s\n",
      "401:\tlearn: 0.3653637\ttotal: 20.1s\tremaining: 4.89s\n",
      "402:\tlearn: 0.3653635\ttotal: 20.1s\tremaining: 4.84s\n",
      "403:\tlearn: 0.3653626\ttotal: 20.2s\tremaining: 4.79s\n",
      "404:\tlearn: 0.3653628\ttotal: 20.2s\tremaining: 4.74s\n",
      "405:\tlearn: 0.3653613\ttotal: 20.2s\tremaining: 4.68s\n",
      "406:\tlearn: 0.3653607\ttotal: 20.3s\tremaining: 4.63s\n",
      "407:\tlearn: 0.3653585\ttotal: 20.3s\tremaining: 4.58s\n",
      "408:\tlearn: 0.3653576\ttotal: 20.4s\tremaining: 4.53s\n",
      "409:\tlearn: 0.3653555\ttotal: 20.4s\tremaining: 4.48s\n",
      "410:\tlearn: 0.3653549\ttotal: 20.5s\tremaining: 4.43s\n",
      "411:\tlearn: 0.3653524\ttotal: 20.5s\tremaining: 4.38s\n",
      "412:\tlearn: 0.3653464\ttotal: 20.5s\tremaining: 4.33s\n",
      "413:\tlearn: 0.3653471\ttotal: 20.6s\tremaining: 4.28s\n",
      "414:\tlearn: 0.3653451\ttotal: 20.6s\tremaining: 4.22s\n",
      "415:\tlearn: 0.3653454\ttotal: 20.7s\tremaining: 4.17s\n",
      "416:\tlearn: 0.3653424\ttotal: 20.7s\tremaining: 4.12s\n",
      "417:\tlearn: 0.3653417\ttotal: 20.8s\tremaining: 4.07s\n",
      "418:\tlearn: 0.3653399\ttotal: 20.8s\tremaining: 4.02s\n",
      "419:\tlearn: 0.3653386\ttotal: 20.8s\tremaining: 3.97s\n",
      "420:\tlearn: 0.3653404\ttotal: 20.9s\tremaining: 3.92s\n",
      "421:\tlearn: 0.3653379\ttotal: 20.9s\tremaining: 3.87s\n",
      "422:\tlearn: 0.3653362\ttotal: 21s\tremaining: 3.82s\n",
      "423:\tlearn: 0.3653337\ttotal: 21s\tremaining: 3.77s\n",
      "424:\tlearn: 0.3653334\ttotal: 21.1s\tremaining: 3.71s\n",
      "425:\tlearn: 0.3653332\ttotal: 21.1s\tremaining: 3.66s\n",
      "426:\tlearn: 0.3653324\ttotal: 21.1s\tremaining: 3.61s\n",
      "427:\tlearn: 0.3653315\ttotal: 21.2s\tremaining: 3.56s\n",
      "428:\tlearn: 0.3653308\ttotal: 21.2s\tremaining: 3.51s\n",
      "429:\tlearn: 0.3653302\ttotal: 21.3s\tremaining: 3.46s\n",
      "430:\tlearn: 0.3653277\ttotal: 21.3s\tremaining: 3.41s\n",
      "431:\tlearn: 0.3653273\ttotal: 21.4s\tremaining: 3.36s\n",
      "432:\tlearn: 0.3653267\ttotal: 21.4s\tremaining: 3.31s\n",
      "433:\tlearn: 0.3653249\ttotal: 21.4s\tremaining: 3.26s\n",
      "434:\tlearn: 0.3653253\ttotal: 21.5s\tremaining: 3.21s\n",
      "435:\tlearn: 0.3653248\ttotal: 21.5s\tremaining: 3.16s\n",
      "436:\tlearn: 0.3653234\ttotal: 21.6s\tremaining: 3.12s\n",
      "437:\tlearn: 0.3653230\ttotal: 21.7s\tremaining: 3.08s\n",
      "438:\tlearn: 0.3653209\ttotal: 21.8s\tremaining: 3.03s\n",
      "439:\tlearn: 0.3653201\ttotal: 21.9s\tremaining: 2.98s\n",
      "440:\tlearn: 0.3653183\ttotal: 21.9s\tremaining: 2.93s\n",
      "441:\tlearn: 0.3653182\ttotal: 21.9s\tremaining: 2.88s\n",
      "442:\tlearn: 0.3653180\ttotal: 22s\tremaining: 2.83s\n",
      "443:\tlearn: 0.3653170\ttotal: 22s\tremaining: 2.78s\n",
      "444:\tlearn: 0.3653166\ttotal: 22.1s\tremaining: 2.73s\n",
      "445:\tlearn: 0.3653142\ttotal: 22.1s\tremaining: 2.68s\n",
      "446:\tlearn: 0.3653140\ttotal: 22.2s\tremaining: 2.63s\n",
      "447:\tlearn: 0.3653126\ttotal: 22.2s\tremaining: 2.58s\n",
      "448:\tlearn: 0.3653134\ttotal: 22.3s\tremaining: 2.53s\n",
      "449:\tlearn: 0.3653116\ttotal: 22.3s\tremaining: 2.48s\n",
      "450:\tlearn: 0.3653107\ttotal: 22.3s\tremaining: 2.43s\n",
      "451:\tlearn: 0.3653099\ttotal: 22.4s\tremaining: 2.38s\n",
      "452:\tlearn: 0.3653078\ttotal: 22.4s\tremaining: 2.33s\n",
      "453:\tlearn: 0.3653077\ttotal: 22.5s\tremaining: 2.28s\n",
      "454:\tlearn: 0.3653072\ttotal: 22.5s\tremaining: 2.23s\n",
      "455:\tlearn: 0.3653064\ttotal: 22.6s\tremaining: 2.18s\n",
      "456:\tlearn: 0.3653065\ttotal: 22.6s\tremaining: 2.13s\n",
      "457:\tlearn: 0.3653014\ttotal: 22.7s\tremaining: 2.08s\n",
      "458:\tlearn: 0.3653000\ttotal: 22.7s\tremaining: 2.03s\n",
      "459:\tlearn: 0.3653005\ttotal: 22.7s\tremaining: 1.98s\n",
      "460:\tlearn: 0.3653000\ttotal: 22.8s\tremaining: 1.93s\n",
      "461:\tlearn: 0.3652979\ttotal: 22.8s\tremaining: 1.88s\n",
      "462:\tlearn: 0.3652970\ttotal: 22.9s\tremaining: 1.83s\n",
      "463:\tlearn: 0.3652949\ttotal: 22.9s\tremaining: 1.78s\n",
      "464:\tlearn: 0.3652942\ttotal: 23s\tremaining: 1.73s\n",
      "465:\tlearn: 0.3652945\ttotal: 23s\tremaining: 1.68s\n",
      "466:\tlearn: 0.3652935\ttotal: 23s\tremaining: 1.63s\n",
      "467:\tlearn: 0.3652910\ttotal: 23.1s\tremaining: 1.58s\n",
      "468:\tlearn: 0.3652913\ttotal: 23.1s\tremaining: 1.53s\n",
      "469:\tlearn: 0.3652910\ttotal: 23.2s\tremaining: 1.48s\n",
      "470:\tlearn: 0.3652890\ttotal: 23.2s\tremaining: 1.43s\n",
      "471:\tlearn: 0.3652888\ttotal: 23.3s\tremaining: 1.38s\n",
      "472:\tlearn: 0.3652882\ttotal: 23.3s\tremaining: 1.33s\n",
      "473:\tlearn: 0.3652862\ttotal: 23.4s\tremaining: 1.28s\n",
      "474:\tlearn: 0.3652853\ttotal: 23.4s\tremaining: 1.23s\n",
      "475:\tlearn: 0.3652856\ttotal: 23.4s\tremaining: 1.18s\n",
      "476:\tlearn: 0.3652848\ttotal: 23.5s\tremaining: 1.13s\n",
      "477:\tlearn: 0.3652824\ttotal: 23.5s\tremaining: 1.08s\n",
      "478:\tlearn: 0.3652820\ttotal: 23.6s\tremaining: 1.03s\n",
      "479:\tlearn: 0.3652846\ttotal: 23.6s\tremaining: 984ms\n",
      "480:\tlearn: 0.3652814\ttotal: 23.7s\tremaining: 935ms\n",
      "481:\tlearn: 0.3652821\ttotal: 23.7s\tremaining: 885ms\n",
      "482:\tlearn: 0.3652800\ttotal: 23.8s\tremaining: 836ms\n",
      "483:\tlearn: 0.3652786\ttotal: 23.8s\tremaining: 787ms\n",
      "484:\tlearn: 0.3652784\ttotal: 23.9s\tremaining: 738ms\n",
      "485:\tlearn: 0.3652777\ttotal: 23.9s\tremaining: 689ms\n",
      "486:\tlearn: 0.3652779\ttotal: 24s\tremaining: 640ms\n",
      "487:\tlearn: 0.3652759\ttotal: 24s\tremaining: 591ms\n",
      "488:\tlearn: 0.3652739\ttotal: 24.1s\tremaining: 541ms\n",
      "489:\tlearn: 0.3652742\ttotal: 24.1s\tremaining: 492ms\n",
      "490:\tlearn: 0.3652745\ttotal: 24.2s\tremaining: 443ms\n",
      "491:\tlearn: 0.3652682\ttotal: 24.2s\tremaining: 394ms\n",
      "492:\tlearn: 0.3652662\ttotal: 24.3s\tremaining: 345ms\n",
      "493:\tlearn: 0.3652657\ttotal: 24.3s\tremaining: 295ms\n",
      "494:\tlearn: 0.3652656\ttotal: 24.4s\tremaining: 246ms\n",
      "495:\tlearn: 0.3652653\ttotal: 24.4s\tremaining: 197ms\n",
      "496:\tlearn: 0.3652647\ttotal: 24.5s\tremaining: 148ms\n",
      "497:\tlearn: 0.3652634\ttotal: 24.5s\tremaining: 98.5ms\n",
      "498:\tlearn: 0.3652626\ttotal: 24.6s\tremaining: 49.3ms\n",
      "499:\tlearn: 0.3652624\ttotal: 24.6s\tremaining: 0us\n",
      "df target mean: 0.23596\n",
      "Test target mean: 0.07318\n",
      "Threshold: 0.2500\n",
      "df mean: 0.23596\n",
      "New Test mean: 0.24002\n"
     ]
    }
   ],
   "source": [
    "#CatBoost\n",
    "cb_final = CatBoostClassifier(**cb_params)\n",
    "cb_final.fit(X, y)\n",
    "\n",
    "test = test.drop('id', axis=1)\n",
    "predictions = cb_final.predict_proba(test)[:, 1]\n",
    "\n",
    "print('df target mean:', \"%.5f\" % df.target.mean())\n",
    "print('Test target mean:', \"%.5f\" % (predictions > 0.5).astype(int).mean())\n",
    "\n",
    "th = 0.5\n",
    "train_mean = df.target.mean()\n",
    "test_mean = (predictions > th).astype(int).mean()\n",
    "\n",
    "while test_mean < train_mean:\n",
    "    th -= 0.005\n",
    "    test_mean = (predictions > th).astype(int).mean()\n",
    "    \n",
    "print('Threshold:', \"%.4f\" % th)\n",
    "print('df mean:', \"%.5f\" % train_mean)\n",
    "print('New Test mean:', \"%.5f\" % test_mean)\n",
    "\n",
    "test['id'] = test['user_id'].astype(str) + ';' + test['category'].astype(str)\n",
    "\n",
    "test['target'] = (predictions> th).astype(int)\n",
    "submit = pd.merge(sub['id'], test[['id', 'target']], on='id')\n",
    "submit.to_csv('submission_cb_new.csv', index = False)\n",
    "#Score: 0.48804"
   ]
  },
  {
   "cell_type": "code",
   "execution_count": 44,
   "id": "58bb0e98-de4a-441c-9eb1-4999a50b46e9",
   "metadata": {},
   "outputs": [
    {
     "name": "stdout",
     "output_type": "stream",
     "text": [
      "df target mean: 0.23596\n",
      "Test target mean: 0.24132\n",
      "Threshold: 0.5000\n",
      "df mean: 0.23596\n",
      "New Test mean: 0.24132\n"
     ]
    }
   ],
   "source": [
    "#RandomForest\n",
    "rf_final = RandomForestClassifier(**rf_params)\n",
    "rf_final.fit(X, y)\n",
    "\n",
    "test = test.drop('id', axis=1)\n",
    "predictions = rf_final.predict_proba(test)[:, 1]\n",
    "\n",
    "print('df target mean:', \"%.5f\" % df.target.mean())\n",
    "print('Test target mean:', \"%.5f\" % (predictions > 0.5).astype(int).mean())\n",
    "\n",
    "th = 0.5\n",
    "train_mean = df.target.mean()\n",
    "test_mean = (predictions > th).astype(int).mean()\n",
    "\n",
    "while test_mean < train_mean:\n",
    "    th -= 0.005\n",
    "    test_mean = (predictions > th).astype(int).mean()\n",
    "    \n",
    "print('Threshold:', \"%.4f\" % th)\n",
    "print('df mean:', \"%.5f\" % train_mean)\n",
    "print('New Test mean:', \"%.5f\" % test_mean)\n",
    "\n",
    "test['id'] = test['user_id'].astype(str) + ';' + test['category'].astype(str)\n",
    "\n",
    "test['target'] = (predictions> th).astype(int)\n",
    "submit = pd.merge(sub['id'], test[['id', 'target']], on='id')\n",
    "submit.to_csv('submission_rf_new.csv', index = False)\n",
    "#Score: 0.47579"
   ]
  },
  {
   "cell_type": "markdown",
   "id": "0c810189-6add-46f2-b650-d11d15edf9f1",
   "metadata": {},
   "source": [
    "Исследуем важность признаков CatBoost с подобранными параметрами."
   ]
  },
  {
   "cell_type": "code",
   "execution_count": 45,
   "id": "784b4fb4-7896-4f4b-bfba-4366cb471f24",
   "metadata": {
    "tags": []
   },
   "outputs": [
    {
     "name": "stdout",
     "output_type": "stream",
     "text": [
      "         feature  importance\n",
      "4         rating   53.583524\n",
      "2        ordered   42.831182\n",
      "5  total_ordered    3.375344\n",
      "3   orders_total    0.148373\n",
      "1       category    0.054932\n",
      "0        user_id    0.006645\n"
     ]
    }
   ],
   "source": [
    "model_cb = CatBoostClassifier(\n",
    "    iterations=500,\n",
    "    learning_rate=0.1,\n",
    "    max_depth=1,\n",
    "    random_state=RANDOM_STATE,\n",
    "    verbose=False\n",
    ")\n",
    "model_cb.fit(X, y)\n",
    "\n",
    "#получим важность признаков\n",
    "importances = model_cb.feature_importances_\n",
    "feature_importances = pd.DataFrame({'feature': X.columns, 'importance': importances})\n",
    "feature_importances = feature_importances.sort_values('importance', ascending=False)\n",
    "\n",
    "print(feature_importances)"
   ]
  },
  {
   "cell_type": "code",
   "execution_count": 46,
   "id": "417645ce-a387-40df-ab85-9be4b8454d61",
   "metadata": {
    "tags": []
   },
   "outputs": [
    {
     "data": {
      "image/png": "[encoded data removed]",
      "text/plain": [
       "<Figure size 800x400 with 1 Axes>"
      ]
     },
     "metadata": {},
     "output_type": "display_data"
    }
   ],
   "source": [
    "plt.rcParams['figure.figsize']=(8,4)\n",
    "feature_importances_barplot = sns.barplot(y= 'feature', x = 'importance', data = feature_importances)\n",
    "feature_importances_barplot.set_title('Важность признаков');"
   ]
  },
  {
   "cell_type": "markdown",
   "id": "eb491a20-8291-45d1-a9f5-70812ef58adf",
   "metadata": {},
   "source": [
    "Наилучший скор показала модель CatBoost со значением 0.48804. Если имеет значение скорость обучения, то более оптимальной могла бы быть модель LightGBM. Наиболее важными признаками для модели являются raiting и ordered."
   ]
  },
  {
   "cell_type": "markdown",
   "id": "0bba6c0e-e699-4159-8c99-dee8bd101caa",
   "metadata": {},
   "source": [
    "### Вывод"
   ]
  },
  {
   "cell_type": "markdown",
   "id": "75a84bf5-d2af-4e92-8fb3-489ea6a234c5",
   "metadata": {},
   "source": [
    "Для решения задачи предсказания категорий в следующем заказе клиента сервиса доставки были исследованы датасеты размерами (3123064, 3), (790449, 2). Они были подготовлены для дальнейшего обучения: рассчитаны целевой и дополнительные признаки, удалены неинформативные столбцы. Размер преобразованного датафрейма для обучения: (790449, 8). Произведено разделение на выборки, произведено масштабирование численных признаков.\n",
    "\n",
    "Проведен исследовательских анализ данных, который показал, что классы целевого признака не сбалансированы. Исследована корреляция между признаками, мультиколлинеарности не обнаружено. Наибольшая зависимость между признаками category и total_ordered. Некоторые категории пользуются значительно большей популярностью. Самые популярные категории - 57, 14 и 61.\n",
    "\n",
    "Исследованы модели LightGBM, CatBoost, RandomForest и LogisticRegression. В моделях рассмотрены варианты в том числе с балансировкой классов. \n",
    "\n",
    "Наилучший скор показала модель CatBoost со значением 0.48804 и параметрами {'iterations': 500, 'learning_rate': 0.1, 'max_depth': 1}, но её обучение этой модели занимает в 7 раз больше времени, чем, например, LightGBM. Если имеет значение скорость обучения, то более оптимальной могла бы быть модель LightGBM со скором 0.48616. По условию задачи критерий оценки - метрика F1, поэтому итоговый выбор - CatBoost. Наиболее важными признаками для этой модели являются raiting и ordered."
   ]
  },
  {
   "cell_type": "code",
   "execution_count": null,
   "id": "eb573ebf-36e9-4811-bc98-53aa72c03767",
   "metadata": {},
   "outputs": [],
   "source": []
  }
 ],
 "metadata": {
  "kernelspec": {
   "display_name": "Python 3 (ipykernel)",
   "language": "python",
   "name": "python3"
  },
  "language_info": {
   "codemirror_mode": {
    "name": "ipython",
    "version": 3
   },
   "file_extension": ".py",
   "mimetype": "text/x-python",
   "name": "python",
   "nbconvert_exporter": "python",
   "pygments_lexer": "ipython3",
   "version": "3.11.5"
  }
 },
 "nbformat": 4,
 "nbformat_minor": 5
}
